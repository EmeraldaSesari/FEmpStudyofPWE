{
 "cells": [
  {
   "cell_type": "code",
   "execution_count": 8,
   "metadata": {
    "scrolled": false
   },
   "outputs": [
    {
     "name": "stdout",
     "output_type": "stream",
     "text": [
      "Requirement already satisfied: wefe in /Users/EmpiricalSE/anaconda3/lib/python3.6/site-packages (0.2.1)\n",
      "Requirement already satisfied: numpy in /Users/EmpiricalSE/anaconda3/lib/python3.6/site-packages (from wefe) (1.16.2)\n",
      "Requirement already satisfied: plotly in /Users/EmpiricalSE/anaconda3/lib/python3.6/site-packages (from wefe) (5.1.0)\n",
      "Requirement already satisfied: six in /Users/EmpiricalSE/anaconda3/lib/python3.6/site-packages (from wefe) (1.12.0)\n",
      "Requirement already satisfied: scikit-learn in /Users/EmpiricalSE/anaconda3/lib/python3.6/site-packages (from wefe) (0.20.2)\n",
      "Requirement already satisfied: gensim in /Users/EmpiricalSE/anaconda3/lib/python3.6/site-packages (from wefe) (4.0.1)\n",
      "Requirement already satisfied: semantic-version in /Users/EmpiricalSE/anaconda3/lib/python3.6/site-packages (from wefe) (2.8.5)\n",
      "Requirement already satisfied: pandas in /Users/EmpiricalSE/anaconda3/lib/python3.6/site-packages (from wefe) (0.24.1)\n",
      "Requirement already satisfied: scipy in /Users/EmpiricalSE/anaconda3/lib/python3.6/site-packages (from wefe) (1.2.1)\n",
      "Requirement already satisfied: tenacity>=6.2.0 in /Users/EmpiricalSE/anaconda3/lib/python3.6/site-packages (from plotly->wefe) (8.0.1)\n",
      "Requirement already satisfied: smart-open>=1.8.1 in /Users/EmpiricalSE/anaconda3/lib/python3.6/site-packages (from gensim->wefe) (5.1.0)\n",
      "Requirement already satisfied: dataclasses; python_version < \"3.7\" in /Users/EmpiricalSE/anaconda3/lib/python3.6/site-packages (from gensim->wefe) (0.8)\n",
      "Requirement already satisfied: pytz>=2011k in /Users/EmpiricalSE/anaconda3/lib/python3.6/site-packages (from pandas->wefe) (2018.9)\n",
      "Requirement already satisfied: python-dateutil>=2.5.0 in /Users/EmpiricalSE/anaconda3/lib/python3.6/site-packages (from pandas->wefe) (2.8.0)\n"
     ]
    }
   ],
   "source": [
    "import sys\n",
    "!{sys.executable} -m pip install wefe"
   ]
  },
  {
   "cell_type": "code",
   "execution_count": 11,
   "metadata": {
    "scrolled": true
   },
   "outputs": [
    {
     "name": "stdout",
     "output_type": "stream",
     "text": [
      "Requirement already satisfied: gensim in /Users/EmpiricalSE/anaconda3/lib/python3.6/site-packages (4.0.1)\n",
      "Requirement already satisfied: dataclasses; python_version < \"3.7\" in /Users/EmpiricalSE/anaconda3/lib/python3.6/site-packages (from gensim) (0.8)\n",
      "Requirement already satisfied: scipy>=0.18.1 in /Users/EmpiricalSE/anaconda3/lib/python3.6/site-packages (from gensim) (1.2.1)\n",
      "Requirement already satisfied: numpy>=1.11.3 in /Users/EmpiricalSE/anaconda3/lib/python3.6/site-packages (from gensim) (1.16.2)\n",
      "Requirement already satisfied: smart-open>=1.8.1 in /Users/EmpiricalSE/anaconda3/lib/python3.6/site-packages (from gensim) (5.1.0)\n"
     ]
    }
   ],
   "source": [
    "import sys\n",
    "!{sys.executable} -m pip install gensim"
   ]
  },
  {
   "cell_type": "code",
   "execution_count": null,
   "metadata": {},
   "outputs": [],
   "source": [
    "pip uninstall -y -r gensim"
   ]
  },
  {
   "cell_type": "code",
   "execution_count": 25,
   "metadata": {},
   "outputs": [
    {
     "name": "stdout",
     "output_type": "stream",
     "text": [
      "\u001b[33mSkipping gensim as it is not installed.\u001b[0m\n",
      "^C\n"
     ]
    }
   ],
   "source": [
    "!yes | pip uninstall gensim"
   ]
  },
  {
   "cell_type": "code",
   "execution_count": 2,
   "metadata": {},
   "outputs": [],
   "source": [
    "import gensim"
   ]
  },
  {
   "cell_type": "code",
   "execution_count": 4,
   "metadata": {
    "scrolled": true
   },
   "outputs": [
    {
     "name": "stdout",
     "output_type": "stream",
     "text": [
      "3.8.0\n"
     ]
    }
   ],
   "source": [
    "print(gensim.__version__)"
   ]
  },
  {
   "cell_type": "code",
   "execution_count": 3,
   "metadata": {},
   "outputs": [
    {
     "name": "stdout",
     "output_type": "stream",
     "text": [
      "Requirement already satisfied: gensim==3.8.0 in /Users/EmpiricalSE/.local/lib/python3.6/site-packages (3.8.0)\n",
      "Requirement already satisfied: scipy>=0.18.1 in /Users/EmpiricalSE/anaconda3/lib/python3.6/site-packages (from gensim==3.8.0) (1.2.1)\n",
      "Requirement already satisfied: numpy>=1.11.3 in /Users/EmpiricalSE/anaconda3/lib/python3.6/site-packages (from gensim==3.8.0) (1.16.2)\n",
      "Requirement already satisfied: six>=1.5.0 in /Users/EmpiricalSE/anaconda3/lib/python3.6/site-packages (from gensim==3.8.0) (1.12.0)\n",
      "Requirement already satisfied: smart-open>=1.7.0 in /Users/EmpiricalSE/anaconda3/lib/python3.6/site-packages (from gensim==3.8.0) (5.1.0)\n",
      "Note: you may need to restart the kernel to use updated packages.\n"
     ]
    }
   ],
   "source": [
    "pip install --user 'gensim==3.8.0'"
   ]
  },
  {
   "cell_type": "code",
   "execution_count": 29,
   "metadata": {},
   "outputs": [
    {
     "name": "stderr",
     "output_type": "stream",
     "text": [
      "DEBUG:matplotlib:(private) matplotlib data path: /opt/anaconda3/lib/python3.8/site-packages/matplotlib/mpl-data\n",
      "DEBUG:matplotlib:matplotlib data path: /opt/anaconda3/lib/python3.8/site-packages/matplotlib/mpl-data\n",
      "DEBUG:matplotlib:CONFIGDIR=/Users/macbookair/.matplotlib\n",
      "DEBUG:matplotlib:matplotlib version 3.3.2\n",
      "DEBUG:matplotlib:interactive is False\n",
      "DEBUG:matplotlib:platform is darwin\n",
      "DEBUG:matplotlib:loaded modules: ['sys', 'builtins', '_frozen_importlib', '_imp', '_warnings', '_frozen_importlib_external', '_io', 'marshal', 'posix', '_thread', '_weakref', 'time', 'zipimport', '_codecs', 'codecs', 'encodings.aliases', 'encodings', 'encodings.utf_8', '_signal', '__main__', 'encodings.latin_1', '_abc', 'abc', 'io', '_stat', 'stat', '_collections_abc', 'genericpath', 'posixpath', 'os.path', 'os', '_sitebuiltins', '_locale', '_bootlocale', 'types', 'importlib._bootstrap', 'importlib._bootstrap_external', 'warnings', 'importlib', 'importlib.machinery', 'importlib.abc', '_operator', 'operator', 'keyword', '_heapq', 'heapq', 'itertools', 'reprlib', '_collections', 'collections', '_functools', 'functools', 'contextlib', 'importlib.util', 'mpl_toolkits', 'sphinxcontrib', 'zope', 'site', '_weakrefset', 'weakref', 'pkgutil', 'runpy', 'ipykernel._version', '__future__', 'enum', '_sre', 'sre_constants', 'sre_parse', 'sre_compile', 'copyreg', 're', '_json', 'json.scanner', 'json.decoder', 'json.encoder', 'json', 'errno', 'signal', 'threading', '_posixsubprocess', 'select', 'collections.abc', 'math', 'selectors', 'subprocess', 'IPython.core', 'IPython.core.getipython', 'IPython.core.release', 'atexit', 'copy', 'fnmatch', 'glob', 'token', 'tokenize', 'linecache', 'traceback', '_string', 'string', 'logging', 'zlib', '_compression', '_bz2', 'bz2', '_lzma', 'lzma', 'pwd', 'grp', 'shutil', '_ast', 'ast', '_opcode', 'opcode', 'dis', 'inspect', 'traitlets.utils', 'traitlets.utils.getargspec', 'traitlets.utils.importstring', 'traitlets.utils.sentinel', 'traitlets.utils.bunch', 'traitlets.utils.descriptions', 'traitlets.traitlets', 'traitlets.utils.decorators', 'traitlets._version', 'traitlets', 'pprint', 'locale', 'gettext', 'argparse', 'ipython_genutils._version', 'ipython_genutils', '_bisect', 'bisect', '_sha512', '_random', 'random', 'ipython_genutils.encoding', 'platform', 'ipython_genutils.py3compat', 'ipython_genutils.path', 'traitlets.config.loader', 'textwrap', 'ipython_genutils.text', 'traitlets.config.configurable', 'traitlets.config.application', 'traitlets.config', 'sysconfig', 'urllib', 'urllib.parse', '_sysconfigdata__darwin_darwin', '_osx_support', 'pydoc', 'bdb', 'IPython.utils', 'IPython.utils.ipstruct', 'IPython.utils.coloransi', 'pygments', 'IPython.utils.colorable', 'IPython.utils.PyColorize', 'IPython.utils.encoding', 'IPython.utils.py3compat', 'IPython.core.excolors', 'IPython.testing', 'IPython.testing.skipdoctest', 'cmd', 'codeop', 'code', 'pdb', 'IPython.core.debugger', 'IPython.core.display_trap', 'pexpect.exceptions', 'pexpect.utils', 'pexpect.expect', 'termios', 'tty', 'pty', 'fcntl', 'resource', '_struct', 'struct', 'ptyprocess.util', 'ptyprocess.ptyprocess', 'ptyprocess', 'pexpect.spawnbase', 'pexpect.pty_spawn', 'pexpect.run', 'pexpect', 'shlex', 'IPython.utils._process_common', 'IPython.utils._process_posix', 'IPython.utils.process', 'IPython.utils.decorators', 'IPython.utils.path', 'IPython.utils.data', 'IPython.utils.terminal', 'IPython.core.ultratb', 'IPython.utils._sysinfo', 'IPython.utils.sysinfo', 'IPython.core.crashhandler', 'tempfile', 'IPython.utils.importstring', 'IPython.paths', 'IPython.core.profiledir', 'IPython.core.application', 'IPython.terminal', '_hashlib', '_blake2', '_sha3', 'hashlib', 'IPython.core.compilerop', 'IPython.core.error', 'ntpath', 'pathlib', 'IPython.utils.text', 'IPython.core.magic_arguments', 'getopt', 'typing.io', 'typing.re', 'typing', 'binascii', 'mimetypes', 'IPython.core.display', 'IPython.core.page', 'getpass', 'IPython.lib.security', 'IPython.lib', '_datetime', 'datetime', 'IPython.lib.pretty', 'IPython.utils.openpy', 'IPython.utils.dir2', 'IPython.utils.wildcard', 'pygments.lexers._mapping', 'pygments.modeline', 'pygments.plugin', 'pygments.util', 'pygments.lexers', 'pygments.filter', 'pygments.token', 'pygments.filters', 'pygments.regexopt', 'pygments.lexer', 'pygments.unistring', 'pygments.lexers.python', 'pygments.formatters._mapping', 'pygments.formatters', 'pygments.styles', 'pygments.formatter', 'pygments.formatters.html', 'IPython.core.oinspect', 'IPython.core.inputtransformer2', 'decorator', 'IPython.core.magic', '_compat_pickle', '_pickle', 'pickle', 'pickleshare', 'IPython.core.autocall', 'IPython.core.macro', 'IPython.core.splitinput', 'IPython.core.prefilter', 'IPython.core.alias', 'IPython.core.builtin_trap', 'backcall.backcall', 'backcall', 'IPython.core.events', 'IPython.core.displayhook', 'IPython.core.displaypub', 'IPython.core.extensions', 'IPython.utils.sentinel', 'IPython.core.formatters', '_sqlite3', 'sqlite3.dbapi2', 'sqlite3', 'IPython.core.history', 'IPython.core.logger', 'IPython.core.payload', 'IPython.core.usage', 'html.entities', 'html', 'IPython.lib.display', 'IPython.display', 'IPython.utils.capture', 'IPython.utils.io', 'IPython.core.hooks', 'IPython.utils.strdispatch', 'IPython.utils.syspathcontext', 'IPython.utils.tempdir', 'IPython.utils.contexts', 'IPython.core.async_helpers', 'IPython.core.interactiveshell', 'concurrent', 'concurrent.futures._base', 'concurrent.futures', '_socket', 'socket', '_ssl', 'base64', 'ssl', 'asyncio.constants', 'asyncio.format_helpers', 'asyncio.base_futures', 'asyncio.log', 'asyncio.coroutines', '_contextvars', 'contextvars', 'asyncio.exceptions', 'asyncio.base_tasks', '_asyncio', 'asyncio.events', 'asyncio.futures', 'asyncio.protocols', 'asyncio.transports', 'asyncio.sslproto', 'asyncio.locks', 'asyncio.tasks', 'asyncio.staggered', 'asyncio.trsock', 'asyncio.base_events', 'asyncio.runners', 'asyncio.queues', 'asyncio.streams', 'asyncio.subprocess', 'asyncio.base_subprocess', 'asyncio.selector_events', 'asyncio.unix_events', 'asyncio', 'prompt_toolkit.application.current', 'prompt_toolkit.eventloop.utils', 'prompt_toolkit.eventloop.async_generator', 'wcwidth.table_wide', 'wcwidth.table_zero', 'wcwidth.unicode_versions', 'wcwidth.wcwidth', 'wcwidth', 'prompt_toolkit.utils', 'prompt_toolkit.eventloop.inputhook', 'prompt_toolkit.eventloop', 'prompt_toolkit.application.run_in_terminal', 'prompt_toolkit.selection', 'prompt_toolkit.clipboard.base', 'prompt_toolkit.clipboard.in_memory', 'prompt_toolkit.clipboard', 'prompt_toolkit.cache', 'prompt_toolkit.enums', 'prompt_toolkit.filters.base', 'prompt_toolkit.filters.app', 'prompt_toolkit.filters.cli', 'prompt_toolkit.filters.utils', 'prompt_toolkit.filters', 'prompt_toolkit.document', 'prompt_toolkit.auto_suggest', 'prompt_toolkit.data_structures', 'prompt_toolkit.styles.base', 'prompt_toolkit.styles.named_colors', 'prompt_toolkit.styles.style', 'prompt_toolkit.styles.defaults', 'prompt_toolkit.styles.pygments', 'colorsys', 'prompt_toolkit.styles.style_transformation', 'prompt_toolkit.styles', 'prompt_toolkit.output.color_depth', 'prompt_toolkit.output.base', 'prompt_toolkit.patch_stdout', 'prompt_toolkit.output.defaults', 'prompt_toolkit.output', 'array', 'prompt_toolkit.output.vt100', 'prompt_toolkit.mouse_events', 'prompt_toolkit.formatted_text.base', 'prompt_toolkit.formatted_text.ansi', 'xml', 'xml.dom.domreg', 'xml.dom', 'xml.dom.minicompat', 'xml.dom.NodeFilter', 'xml.dom.xmlbuilder', 'xml.dom.minidom', 'prompt_toolkit.formatted_text.html', 'prompt_toolkit.formatted_text.pygments', 'prompt_toolkit.formatted_text.utils', 'prompt_toolkit.formatted_text', 'prompt_toolkit.completion.base', 'prompt_toolkit.completion.filesystem', 'prompt_toolkit.completion.word_completer', 'prompt_toolkit.completion.fuzzy_completer', 'prompt_toolkit.completion.nested', 'prompt_toolkit.completion', 'prompt_toolkit.history', 'prompt_toolkit.keys', 'prompt_toolkit.key_binding.key_bindings', 'prompt_toolkit.key_binding.key_processor', 'prompt_toolkit.key_binding', 'prompt_toolkit.key_binding.vi_state', 'prompt_toolkit.search', 'prompt_toolkit.validation', 'prompt_toolkit.buffer', 'prompt_toolkit.input.base', 'prompt_toolkit.input.defaults', 'prompt_toolkit.input', 'prompt_toolkit.input.typeahead', 'prompt_toolkit.key_binding.bindings', 'prompt_toolkit.key_binding.bindings.scroll', 'prompt_toolkit.key_binding.bindings.page_navigation', 'prompt_toolkit.lexers.base', 'prompt_toolkit.lexers.pygments', 'prompt_toolkit.lexers', 'prompt_toolkit.layout.utils', 'prompt_toolkit.layout.processors', 'prompt_toolkit.layout.controls', 'prompt_toolkit.layout.dimension', 'prompt_toolkit.layout.margins', 'prompt_toolkit.layout.mouse_handlers', 'prompt_toolkit.layout.screen', 'prompt_toolkit.layout.containers', 'prompt_toolkit.layout.layout', 'prompt_toolkit.layout.menus', 'prompt_toolkit.layout', 'prompt_toolkit.key_binding.bindings.completion', 'prompt_toolkit.key_binding.bindings.named_commands', 'prompt_toolkit.key_binding.bindings.basic', 'prompt_toolkit.key_binding.bindings.cpr', 'prompt_toolkit.key_binding.bindings.emacs', 'prompt_toolkit.key_binding.bindings.mouse', 'prompt_toolkit.input.ansi_escape_sequences', 'prompt_toolkit.input.vt100_parser', 'prompt_toolkit.key_binding.digraphs', 'prompt_toolkit.key_binding.bindings.vi', 'prompt_toolkit.key_binding.defaults', 'prompt_toolkit.key_binding.emacs_state', 'prompt_toolkit.layout.dummy', 'prompt_toolkit.renderer', 'prompt_toolkit.application.application', 'prompt_toolkit.application.dummy', 'prompt_toolkit.application', 'prompt_toolkit.key_binding.bindings.focus', 'prompt_toolkit.widgets.toolbars', 'prompt_toolkit.widgets.base', 'prompt_toolkit.widgets.dialogs', 'prompt_toolkit.widgets.menus', 'prompt_toolkit.widgets', 'prompt_toolkit.shortcuts.dialogs', 'prompt_toolkit.shortcuts.progress_bar.formatters', 'prompt_toolkit.shortcuts.progress_bar.base', 'prompt_toolkit.shortcuts.progress_bar', 'prompt_toolkit.key_binding.bindings.auto_suggest', 'prompt_toolkit.key_binding.bindings.open_in_editor', 'prompt_toolkit.shortcuts.prompt', 'prompt_toolkit.shortcuts.utils', 'prompt_toolkit.shortcuts', 'prompt_toolkit', 'pygments.style', 'unicodedata', 'IPython.core.latex_symbols', 'IPython.utils.generics', 'parso._compatibility', 'parso.utils', 'parso.tree', 'parso.python', 'parso.python.token', 'parso.python.tokenize', 'parso.pgen2.grammar_parser', 'parso.pgen2.generator', 'parso.pgen2', 'parso.parser', 'difflib', 'parso.python.prefix', 'parso.python.tree', 'parso.python.parser', 'parso.python.diff', 'gc', 'parso.cache', 'parso.normalizer', 'parso.python.errors', 'parso.python.pep8', 'parso.file_io', 'parso.grammar', 'parso', 'jedi.file_io', '_queue', 'queue', 'jedi._compatibility', 'jedi.parser_utils', 'colorama.ansi', '_ctypes', 'ctypes._endian', 'ctypes', 'colorama.win32', 'colorama.winterm', 'colorama.ansitowin32', 'colorama.initialise', 'colorama', 'jedi.debug', 'jedi.settings', 'jedi.cache', 'jedi.inference.cache', 'jedi.inference.helpers', 'jedi.inference.utils', 'jedi.inference.base_value', 'jedi.common', 'jedi.inference.sys_path', 'jedi.inference.recursion', 'jedi.inference.flow_analysis', 'jedi.inference.lazy_value', 'jedi.inference.docstrings', 'jedi.plugins', 'jedi.inference.names', 'jedi.inference.filters', 'jedi.inference.compiled.getattr_static', 'jedi.inference.compiled.access', 'jedi.inference.signature', 'jedi.inference.context', 'jedi.inference.compiled.value', 'jedi.inference.compiled', 'jedi.inference.analysis', 'jedi.inference.gradual', 'jedi.inference.value.module', 'jedi.inference.value.dynamic_arrays', 'jedi.inference.value.iterable', 'jedi.inference.arguments', 'jedi.inference.parser_cache', 'jedi.inference.gradual.generics', 'jedi.inference.value.function', 'jedi.inference.value.klass', 'jedi.inference.value.instance', 'jedi.inference.value', 'jedi.inference.gradual.base', 'jedi.inference.gradual.type_var', 'jedi.inference.gradual.typing', 'jedi.inference.gradual.stub_value', 'jedi.inference.gradual.typeshed', 'jedi.inference.imports', 'jedi.inference.param', 'jedi.inference.gradual.annotation', 'jedi.inference.value.decorator', 'jedi.inference.syntax_tree', 'jedi.inference', 'jedi.inference.gradual.conversion', 'jedi.inference.compiled.mixed', 'pydoc_data', 'pydoc_data.topics', 'jedi.api.keywords', 'jedi.api.completion_cache', 'jedi.api.helpers', 'jedi.api.classes', 'jedi.api.interpreter', 'jedi.api.strings', 'jedi.api.file_name', 'jedi.api.completion', 'filecmp', 'jedi.inference.compiled.subprocess.functions', 'jedi.api.exceptions', 'jedi.inference.compiled.subprocess', 'jedi.api.environment', 'jedi.inference.references', 'jedi.api.project', 'jedi.api.errors', 'jedi.api.refactoring', 'jedi.api.refactoring.extract', 'jedi.inference.gradual.utils', 'jedi.api', 'jedi.plugins.stdlib', 'jedi.plugins.flask', 'jedi.plugins.pytest', 'jedi.plugins.django', 'jedi.plugins.registry', 'jedi', 'IPython.core.completer', 'IPython.terminal.ptutils', 'IPython.terminal.shortcuts', 'IPython.terminal.debugger', 'IPython.lib.clipboard', 'IPython.terminal.magics', 'IPython.terminal.pt_inputhooks', 'IPython.terminal.prompts', 'IPython.terminal.interactiveshell', 'IPython.core.magics.auto', 'IPython.core.magics.basic', 'email', 'http', 'email.errors', 'email.quoprimime', 'email.base64mime', 'quopri', 'email.encoders', 'email.charset', 'email.header', 'calendar', 'email._parseaddr', 'email.utils', 'email._policybase', 'email.feedparser', 'email.parser', 'uu', 'email._encoded_words', 'email.iterators', 'email.message', 'http.client', 'urllib.response', 'urllib.error', '_scproxy', 'urllib.request', 'IPython.core.magics.code', 'IPython.core.magics.config', 'IPython.core.magics.display', 'timeit', '_lsprof', 'profile', 'cProfile', 'pstats', 'IPython.utils.module_paths', 'IPython.utils.timing', 'IPython.core.magics.execution', 'IPython.core.magics.extension', 'IPython.core.magics.history', 'IPython.core.magics.logging', 'IPython.core.magics.namespace', 'IPython.core.magics.osm', 'IPython.core.magics.packaging', 'IPython.core.pylabtools', 'IPython.core.magics.pylab', 'IPython.lib.backgroundjobs', 'IPython.core.magics.script', 'IPython.core.magics', 'IPython.core.shellapp', 'IPython.extensions', 'IPython.extensions.storemagic', 'IPython.terminal.ipapp', 'IPython.terminal.embed', 'IPython.utils.frame', 'IPython', 'jupyter_client._version', 'zmq.backend.select', 'cython_runtime', 'zmq.backend.cython.constants', '_cython_0_29_21', 'zmq.backend.cython.error', 'zmq.error', 'zmq.backend.cython.message', 'zmq.backend.cython.context', 'zmq.backend.cython.socket', 'zmq.backend.cython.utils', 'zmq.backend.cython._poll', 'zmq.backend.cython._version', 'zmq.backend.cython._device', 'zmq.backend.cython._proxy_steerable', 'zmq.backend.cython', 'zmq.backend', 'zmq.utils', 'zmq.utils.constant_names', 'zmq.sugar.constants', 'zmq.sugar.attrsettr', 'zmq.sugar.poll', 'zmq.utils.strtypes', 'zmq.utils.jsonapi', 'zmq.sugar.socket', 'zmq.sugar.context', 'zmq.sugar.frame', 'zmq.sugar.tracker', 'zmq.sugar.version', 'zmq.sugar.stopwatch', 'zmq.sugar', 'zmq', 'jupyter_client.localinterfaces', 'jupyter_core.version', 'jupyter_core', 'distutils', 'distutils.errors', 'distutils.dep_util', 'distutils.debug', 'distutils.log', 'distutils.spawn', 'distutils.util', 'jupyter_core.paths', 'jupyter_client.connect', 'traitlets.log', 'jupyter_client.launcher', 'jupyter_client.channelsabc', 'jupyter_client.channels', 'jupyter_client.clientabc', 'jupyter_client.client', 'ipython_genutils.importstring', 'jupyter_client.kernelspec', 'jupyter_client.managerabc', 'jupyter_client.manager', 'jupyter_client.blocking.channels', 'jupyter_client.blocking.client', 'jupyter_client.blocking', 'zmq._future', 'zmq.asyncio', 'jupyter_client.asynchronous.channels', 'jupyter_client.asynchronous.client', 'jupyter_client.asynchronous', '_uuid', 'uuid', 'jupyter_client.multikernelmanager', 'jupyter_client', 'ipykernel.connect', 'ipykernel', 'tornado', 'numbers', 'logging.handlers', 'tornado.speedups', 'tornado.util', 'tornado.escape', '_curses', 'curses', 'tornado.log', 'tornado.concurrent', 'tornado.ioloop', 'tornado.platform', 'tornado.gen', 'tornado.platform.asyncio', 'zmq.eventloop.ioloop', 'zmq.eventloop', 'zmq.eventloop.zmqstream', 'imp', 'hmac', 'dateutil._version', 'dateutil', 'six', '_decimal', 'decimal', 'dateutil._common', 'dateutil.relativedelta', 'six.moves', 'dateutil.tz._common', 'dateutil.tz._factories', 'dateutil.tz.tz', 'dateutil.tz', 'dateutil.parser._parser', 'dateutil.parser.isoparser', 'dateutil.parser', '_strptime', 'jupyter_client.jsonutil', 'jupyter_client.adapter', 'jupyter_client.session', 'ipykernel.iostream', 'ipykernel.heartbeat', 'IPython.utils.tokenutil', 'tornado.locks', 'tornado.queues', 'ipykernel.jsonutil', 'ipykernel.kernelbase', 'ipykernel.comm.comm', 'ipykernel.comm.manager', 'ipykernel.comm', 'IPython.core.payloadpage', 'ipykernel.displayhook', 'ipykernel.zmqshell', 'distutils.version', 'ipykernel.eventloops', 'ipykernel.ipkernel', 'ipykernel.parentpoller', 'ipykernel.kernelapp', 'faulthandler', 'ipykernel.codeutil', 'ipykernel.pickleutil', 'ipykernel.serialize', 'ipykernel.datapub', 'IPython.core.completerlib', 'xml.parsers', 'pyexpat.errors', 'pyexpat.model', 'pyexpat', 'xml.parsers.expat.model', 'xml.parsers.expat.errors', 'xml.parsers.expat', 'plistlib', 'ctypes.macholib', 'ctypes.macholib.framework', 'ctypes.macholib.dylib', 'ctypes.macholib.dyld', 'ctypes.util', 'appnope._nope', 'appnope', 'storemagic', 'numpy._globals', 'numpy.__config__', 'numpy.version', 'mkl._mklinit', 'mkl._py_mkl_service', 'mkl', 'numpy._distributor_init', 'numpy.core._multiarray_umath', 'numpy.compat._inspect', 'numpy.compat.py3k', 'numpy.compat', 'numpy.core.overrides', 'numpy.core.multiarray', 'numpy.core.umath', 'numpy.core._string_helpers', 'numpy.core._dtype', 'numpy.core._type_aliases', 'numpy.core.numerictypes', 'numpy.core._asarray', 'numpy.core._exceptions', 'numpy.core._methods', 'numpy.core.fromnumeric', 'numpy.core.shape_base', 'numpy.core._ufunc_config', 'numpy.core.arrayprint', 'numpy.core.numeric', 'numpy.core.defchararray', 'numpy.core.records', 'numpy.core.memmap', 'numpy.core.function_base', 'numpy.core.machar', 'numpy.core.getlimits', 'numpy.core.einsumfunc', 'numpy.core._multiarray_tests', 'numpy.core._add_newdocs', 'numpy.core._dtype_ctypes', 'numpy.core._internal', 'numpy._pytesttester', 'numpy.core', 'numpy.lib.mixins', 'numpy.lib.ufunclike', 'numpy.lib.type_check', 'numpy.lib.scimath', 'numpy.lib.twodim_base', 'numpy.linalg.lapack_lite', 'numpy.linalg._umath_linalg', 'numpy.linalg.linalg', 'numpy.linalg', 'numpy.matrixlib.defmatrix', 'numpy.matrixlib', 'numpy.lib.histograms', 'numpy.lib.function_base', 'numpy.lib.stride_tricks', 'numpy.lib.index_tricks', 'numpy.lib.nanfunctions', 'numpy.lib.shape_base', 'numpy.lib.polynomial', 'numpy.lib.utils', 'numpy.lib.arraysetops', 'numpy.lib.format', 'numpy.lib._datasource', 'numpy.lib._iotools', 'numpy.lib.npyio', 'numpy.lib.financial', 'numpy.lib.arrayterator', 'numpy.lib.arraypad', 'numpy.lib._version', 'numpy.lib', 'numpy.fft._pocketfft_internal', 'numpy.fft._pocketfft', 'numpy.fft.helper', 'numpy.fft', 'numpy.polynomial.polyutils', 'numpy.polynomial._polybase', 'numpy.polynomial.polynomial', 'numpy.polynomial.chebyshev', 'numpy.polynomial.legendre', 'numpy.polynomial.hermite', 'numpy.polynomial.hermite_e', 'numpy.polynomial.laguerre', 'numpy.polynomial', 'numpy.random._common', 'secrets', 'numpy.random.bit_generator', 'numpy.random._bounded_integers', 'numpy.random._mt19937', 'numpy.random.mtrand', 'numpy.random._philox', 'numpy.random._pcg64', 'numpy.random._sfc64', 'numpy.random._generator', 'numpy.random._pickle', 'numpy.random', 'numpy.ctypeslib', 'numpy.ma.core', 'numpy.ma.extras', 'numpy.ma', 'numpy', 'gensim.parsing.porter', 'multiprocessing.process', 'multiprocessing.reduction', 'multiprocessing.context', '__mp_main__', 'multiprocessing', 'scipy._lib._testutils', 'scipy._lib', 'scipy._lib.deprecation', 'scipy.__config__', 'scipy.version', 'scipy._distributor_init', 'scipy._lib._pep440', 'scipy._lib._ccallback_c', 'scipy._lib._ccallback', 'scipy._lib._uarray._uarray', 'scipy._lib._uarray._backend', 'scipy._lib._uarray', 'scipy._lib.uarray', 'scipy.fft._basic', 'scipy.fft._realtransforms', 'scipy.fft._pocketfft.pypocketfft', 'scipy.fft._pocketfft.helper', 'scipy.fft._pocketfft.basic', 'scipy.fft._pocketfft.realtransforms', 'scipy.fft._pocketfft', 'scipy.fft._helper', 'scipy.fft._backend', 'scipy.fft', 'scipy', 'scipy._lib._util', 'scipy.sparse.sputils', 'scipy.sparse.base', 'scipy.sparse._sparsetools', 'scipy.sparse.data', 'scipy.sparse.dia', 'scipy.sparse._index', 'scipy.sparse.compressed', 'scipy.sparse.csr', 'scipy.sparse.csc', 'scipy.sparse._csparsetools', 'scipy.sparse.lil', 'scipy.sparse.dok', 'scipy.sparse.coo', 'scipy.sparse.bsr', 'scipy.sparse.construct', 'scipy.sparse.extract', 'scipy.sparse._matrix_io', 'scipy.sparse.csgraph._laplacian', 'scipy.sparse.csgraph._tools', 'scipy.sparse.csgraph._validation', 'scipy.sparse.csgraph._shortest_path', 'scipy.sparse.csgraph._traversal', 'scipy.sparse.csgraph._min_spanning_tree', 'scipy.sparse.csgraph._flow', 'scipy.sparse.csgraph._matching', 'scipy.sparse.csgraph._reordering', 'scipy.sparse.csgraph', 'scipy.sparse', 'smart_open.version', 'smart_open.local_file', 'smart_open.compression', 'smart_open.bytebuffer', 'smart_open.constants', 'smart_open.azure', 'smart_open.utils', 'smart_open.gcs', 'smart_open.hdfs', 'urllib3.packages.ssl_match_hostname', 'urllib3.packages', 'urllib3.packages.six', 'urllib3.packages.six.moves', 'urllib3.packages.six.moves.http_client', 'urllib3.exceptions', 'urllib3.util.wait', 'urllib3.contrib', 'urllib3.contrib._appengine_environ', 'urllib3.util.connection', '_cffi_backend', '_brotli.lib', '_brotli', 'brotli._brotli', 'brotli.brotli', 'brotli', 'urllib3.util.request', 'urllib3.util.response', 'urllib3.util.url', 'urllib3.util.ssl_', 'urllib3.util.timeout', 'urllib3.util.retry', 'urllib3.util', 'urllib3._collections', 'urllib3.connection', 'urllib3.fields', 'urllib3.filepost', 'urllib3.packages.six.moves.urllib', 'urllib3.packages.six.moves.urllib.parse', 'urllib3.request', 'urllib3.response', 'urllib3.util.queue', 'urllib3.connectionpool', 'urllib3.poolmanager', 'urllib3._version', 'urllib3', 'chardet.compat', 'chardet.enums', 'chardet.charsetprober', 'chardet.charsetgroupprober', 'chardet.codingstatemachine', 'chardet.escsm', 'chardet.escprober', 'chardet.latin1prober', 'chardet.mbcssm', 'chardet.utf8prober', 'chardet.mbcharsetprober', 'chardet.euctwfreq', 'chardet.euckrfreq', 'chardet.gb2312freq', 'chardet.big5freq', 'chardet.jisfreq', 'chardet.chardistribution', 'chardet.jpcntx', 'chardet.sjisprober', 'chardet.eucjpprober', 'chardet.gb2312prober', 'chardet.euckrprober', 'chardet.cp949prober', 'chardet.big5prober', 'chardet.euctwprober', 'chardet.mbcsgroupprober', 'chardet.sbcharsetprober', 'chardet.langcyrillicmodel', 'chardet.langgreekmodel', 'chardet.langbulgarianmodel', 'chardet.langthaimodel', 'chardet.langhebrewmodel', 'chardet.hebrewprober', 'chardet.langturkishmodel', 'chardet.sbcsgroupprober', 'chardet.universaldetector', 'chardet.version', 'chardet', 'requests.exceptions', 'requests.__version__', 'zipfile', 'importlib.resources', 'certifi.core', 'certifi', 'requests.certs', 'http.cookiejar', 'http.cookies', 'requests.compat', 'requests._internal_utils', 'requests.cookies', 'requests.structures', 'requests.utils', 'requests.packages.urllib3.packages.ssl_match_hostname', 'requests.packages.urllib3.packages', 'requests.packages.urllib3.packages.six', 'requests.packages.urllib3.packages.six.moves', 'requests.packages.urllib3.packages.six.moves.http_client', 'requests.packages.urllib3.exceptions', 'requests.packages.urllib3.util.wait', 'requests.packages.urllib3.contrib', 'requests.packages.urllib3.contrib._appengine_environ', 'requests.packages.urllib3.util.connection', 'requests.packages.urllib3.util.request', 'requests.packages.urllib3.util.response', 'requests.packages.urllib3.util.url', 'requests.packages.urllib3.util.ssl_', 'requests.packages.urllib3.util.timeout', 'requests.packages.urllib3.util.retry', 'requests.packages.urllib3.util', 'requests.packages.urllib3._collections', 'requests.packages.urllib3.connection', 'requests.packages.urllib3.fields', 'requests.packages.urllib3.filepost', 'requests.packages.urllib3.packages.six.moves.urllib', 'requests.packages.urllib3.packages.six.moves.urllib.parse', 'requests.packages.urllib3.request', 'requests.packages.urllib3.response', 'requests.packages.urllib3.util.queue', 'requests.packages.urllib3.connectionpool', 'requests.packages.urllib3.poolmanager', 'requests.packages.urllib3._version', 'requests.packages.urllib3', 'idna.package_data', 'idna.idnadata', 'idna.intranges', 'idna.core', 'idna', 'requests.packages.idna.package_data', 'requests.packages.idna.idnadata', 'requests.packages.idna.intranges', 'requests.packages.idna.core', 'requests.packages.idna', 'requests.packages.chardet.compat', 'requests.packages.chardet.enums', 'requests.packages.chardet.charsetprober', 'requests.packages.chardet.charsetgroupprober', 'requests.packages.chardet.codingstatemachine', 'requests.packages.chardet.escsm', 'requests.packages.chardet.escprober', 'requests.packages.chardet.latin1prober', 'requests.packages.chardet.mbcssm', 'requests.packages.chardet.utf8prober', 'requests.packages.chardet.mbcharsetprober', 'requests.packages.chardet.euctwfreq', 'requests.packages.chardet.euckrfreq', 'requests.packages.chardet.gb2312freq', 'requests.packages.chardet.big5freq', 'requests.packages.chardet.jisfreq', 'requests.packages.chardet.chardistribution', 'requests.packages.chardet.jpcntx', 'requests.packages.chardet.sjisprober', 'requests.packages.chardet.eucjpprober', 'requests.packages.chardet.gb2312prober', 'requests.packages.chardet.euckrprober', 'requests.packages.chardet.cp949prober', 'requests.packages.chardet.big5prober', 'requests.packages.chardet.euctwprober', 'requests.packages.chardet.mbcsgroupprober', 'requests.packages.chardet.sbcharsetprober', 'requests.packages.chardet.langcyrillicmodel', 'requests.packages.chardet.langgreekmodel', 'requests.packages.chardet.langbulgarianmodel', 'requests.packages.chardet.langthaimodel', 'requests.packages.chardet.langhebrewmodel', 'requests.packages.chardet.hebrewprober', 'requests.packages.chardet.langturkishmodel', 'requests.packages.chardet.sbcsgroupprober', 'requests.packages.chardet.universaldetector', 'requests.packages.chardet.version', 'requests.packages.chardet', 'requests.packages', 'stringprep', 'encodings.idna', 'requests.hooks', 'requests.auth', 'requests.status_codes', 'requests.models', 'socks', 'urllib3.contrib.socks', 'requests.adapters', 'requests.sessions', 'requests.api', 'requests', 'smart_open.http', 'multiprocessing.util', '_multiprocessing', 'multiprocessing.connection', 'multiprocessing.pool', 'smart_open.concurrency', 'smart_open.s3', 'smart_open.ssh', 'smart_open.webhdfs', 'smart_open.transport', 'smart_open.doctools', 'smart_open.smart_open_lib', 'smart_open', 'gensim.utils', 'gensim.parsing.preprocessing', 'gensim.parsing', 'scipy.spatial.kdtree', 'scipy.spatial.ckdtree', 'scipy._lib.messagestream', 'scipy.spatial.qhull', 'scipy.spatial._voronoi', 'scipy.spatial._spherical_voronoi', 'scipy._lib.decorator', 'scipy.spatial._plotutils', 'scipy.linalg._fblas', 'scipy.linalg.blas', 'scipy.linalg._flapack', 'scipy.linalg.lapack', 'scipy.linalg.misc', 'scipy.linalg._flinalg', 'scipy.linalg.flinalg', 'scipy.linalg.decomp', 'scipy.linalg.decomp_svd', 'scipy.linalg._solve_toeplitz', 'scipy.linalg.basic', 'scipy.linalg.decomp_lu', 'scipy.linalg._decomp_ldl', 'scipy.linalg.decomp_cholesky', 'scipy.linalg.decomp_qr', 'scipy.linalg._decomp_qz', 'scipy.linalg.decomp_schur', 'scipy.linalg._decomp_polar', 'scipy.linalg.special_matrices', 'scipy.linalg._expm_frechet', 'scipy.linalg._matfuncs_sqrtm', 'scipy.linalg.matfuncs', 'scipy.linalg._solvers', 'scipy.linalg._procrustes', 'scipy.linalg.cython_blas', 'scipy.linalg.cython_lapack', 'scipy.linalg._decomp_update', 'scipy.linalg._sketches', 'scipy.linalg._decomp_cossin', 'scipy.linalg', 'scipy.spatial._procrustes', 'scipy.spatial._distance_wrap', 'scipy.spatial._hausdorff', 'scipy.special.sf_error', 'scipy.special._ufuncs_cxx', 'scipy.special._ufuncs', 'scipy.special.specfun', 'scipy.special.orthogonal', 'scipy.special._comb', 'scipy.special._basic', 'scipy.special._logsumexp', 'scipy.special.spfun_stats', 'scipy.special._ellip_harm_2', 'scipy.special._ellip_harm', 'scipy.special._lambertw', 'scipy.special._spherical_bessel', 'scipy.special', 'scipy.spatial.distance', 'scipy.spatial._geometric_slerp', 'scipy.constants.codata', 'scipy.constants.constants', 'scipy.constants', 'scipy.spatial.transform._rotation_groups', 'scipy.spatial.transform.rotation', 'scipy.spatial.transform._rotation_spline', 'scipy.spatial.transform', 'scipy.spatial', 'scipy.ndimage._ni_support', 'scipy.ndimage._nd_image', 'scipy._lib.doccer', 'scipy.ndimage._ni_docstrings', 'scipy.ndimage.filters', 'scipy.ndimage.fourier', 'scipy.ndimage.interpolation', '_ni_label', 'scipy.ndimage._ni_label', 'scipy.ndimage.morphology', 'scipy.ndimage.measurements', 'scipy.ndimage', 'scipy.stats._distr_params', 'scipy.optimize.minpack2', 'scipy.optimize.linesearch', 'scipy.sparse.linalg.isolve._iterative', 'scipy.sparse.linalg.interface', 'scipy.sparse.linalg.isolve.utils', 'scipy._lib._threadsafety', 'scipy.sparse.linalg.isolve.iterative', 'scipy.sparse.linalg.isolve.minres', 'scipy.sparse.linalg.isolve._gcrotmk', 'scipy.sparse.linalg.isolve.lgmres', 'scipy.sparse.linalg.isolve.lsqr', 'scipy.sparse.linalg.isolve.lsmr', 'scipy.sparse.linalg.isolve', 'scipy.sparse.linalg.dsolve._superlu', 'scipy.sparse.linalg.dsolve.linsolve', 'scipy.sparse.linalg.dsolve._add_newdocs', 'scipy.sparse.linalg.dsolve', 'scipy.sparse.linalg.eigen.arpack._arpack', 'scipy.sparse.linalg.eigen.lobpcg.lobpcg', 'scipy.sparse.linalg.eigen.lobpcg', 'scipy.sparse.linalg.eigen.arpack.arpack', 'scipy.sparse.linalg.eigen.arpack', 'scipy.sparse.linalg.eigen', 'scipy.sparse.linalg._expm_multiply', 'scipy.sparse.linalg.matfuncs', 'scipy.sparse.linalg._onenormest', 'scipy.sparse.linalg._norm', 'scipy.sparse.linalg', 'scipy.optimize._group_columns', 'scipy.optimize._numdiff', 'scipy.optimize._hessian_update_strategy', 'scipy.optimize._differentiable_functions', 'scipy.optimize.optimize', 'scipy.optimize._trustregion', 'scipy.optimize._trustregion_dogleg', 'scipy.optimize._trustregion_ncg', 'scipy.optimize._trlib._trlib', 'scipy.optimize._trlib', 'scipy.optimize._trustregion_krylov', 'scipy.optimize._trustregion_exact', 'unittest.util', 'unittest.result', 'unittest.case', 'unittest.async_case', 'unittest.suite', 'unittest.loader', 'unittest.signals', 'unittest.runner', 'unittest.main', 'unittest', 'numpy.testing._private', 'numpy.testing._private.utils', 'numpy.testing._private.decorators', 'numpy.testing._private.nosetester', 'numpy.testing', 'scipy.optimize._constraints', 'scipy.optimize._trustregion_constr.projections', 'scipy.optimize._trustregion_constr.qp_subproblem', 'scipy.optimize._trustregion_constr.equality_constrained_sqp', 'scipy.optimize._trustregion_constr.canonical_constraint', 'scipy.optimize._trustregion_constr.tr_interior_point', 'scipy.optimize._trustregion_constr.report', 'scipy.optimize._trustregion_constr.minimize_trustregion_constr', 'scipy.optimize._trustregion_constr', 'scipy.optimize._lbfgsb', 'scipy.optimize.lbfgsb', 'scipy.optimize.moduleTNC', 'scipy.optimize.tnc', 'scipy.optimize._cobyla', 'scipy.optimize.cobyla', 'scipy.optimize._slsqp', 'scipy.optimize.slsqp', 'scipy.optimize._minimize', 'scipy.optimize._minpack', 'scipy.optimize._lsq.common', 'scipy.optimize._lsq.trf', 'scipy.optimize._lsq.dogbox', 'scipy.optimize._lsq.least_squares', 'scipy.optimize._lsq.givens_elimination', 'scipy.optimize._lsq.trf_linear', 'scipy.optimize._lsq.bvls', 'scipy.optimize._lsq.lsq_linear', 'scipy.optimize._lsq', 'scipy.optimize.minpack', 'scipy.optimize._spectral', 'scipy.optimize.nonlin', 'scipy.optimize._root', 'scipy.optimize._zeros', 'scipy.optimize.zeros', 'scipy.optimize._root_scalar', 'scipy.optimize.__nnls', 'scipy.optimize._nnls', 'scipy.optimize._basinhopping', 'scipy.optimize._remove_redundancy', 'scipy.optimize._linprog_util', 'scipy.optimize._linprog_ip', 'scipy.optimize._linprog_simplex', 'scipy.optimize._bglu_dense', 'scipy.optimize._linprog_rs', 'scipy.optimize._linprog', 'scipy.optimize._lsap_module', 'scipy.optimize._lsap', 'scipy.optimize._differentialevolution', 'scipy.optimize._shgo_lib', 'scipy.optimize._shgo_lib.sobol_seq', 'scipy.optimize._shgo_lib.triangulation', 'scipy.optimize._shgo', 'scipy.optimize._dual_annealing', 'scipy.optimize', 'scipy.integrate._quadrature', 'scipy.integrate._odepack', 'scipy.integrate.odepack', 'scipy.integrate._quadpack', 'scipy.integrate.quadpack', 'scipy.integrate.vode', 'scipy.integrate._dop', 'scipy.integrate.lsoda', 'scipy.integrate._ode', 'scipy.integrate._bvp', 'scipy.integrate._ivp.common', 'scipy.integrate._ivp.base', 'scipy.integrate._ivp.bdf', 'scipy.integrate._ivp.radau', 'scipy.integrate._ivp.dop853_coefficients', 'scipy.integrate._ivp.rk', 'scipy.integrate._ivp.lsoda', 'scipy.integrate._ivp.ivp', 'scipy.integrate._ivp', 'scipy.integrate._quad_vec', 'scipy.integrate', 'scipy.misc.doccer', 'scipy.misc.common', 'scipy.misc', 'scipy.stats._constants', 'scipy.stats._distn_infrastructure', 'scipy.interpolate._fitpack', 'scipy.interpolate.dfitpack', 'scipy.interpolate._fitpack_impl', 'scipy.interpolate._bspl', 'scipy.interpolate._bsplines', 'scipy.interpolate.fitpack', 'scipy.interpolate.polyint', 'scipy.interpolate._ppoly', 'scipy.interpolate.fitpack2', 'scipy.interpolate.interpnd', 'scipy.interpolate.interpolate', 'scipy.interpolate.rbf', 'scipy.interpolate._cubic', 'scipy.interpolate.ndgriddata', 'scipy.interpolate._pade', 'scipy.interpolate', 'scipy.special.cython_special', 'scipy.stats._stats', 'scipy.stats._rvs_sampling', 'scipy.stats._tukeylambda_stats', 'scipy.stats._ksstats', 'scipy.stats._continuous_distns', 'scipy.stats._discrete_distns', 'scipy.stats.distributions', 'scipy.stats._stats_mstats_common', 'scipy.stats.mstats_basic', 'scipy.stats._wilcoxon_data', 'scipy.stats._hypotests', 'scipy.stats.stats', 'scipy.stats.statlib', 'scipy.stats.contingency', 'scipy.stats.morestats', 'scipy.stats._binned_statistic', 'scipy.stats.mvn', 'scipy.stats.kde', 'scipy.stats.mstats_extras', 'scipy.stats.mstats', 'scipy.stats._multivariate', 'scipy.stats', 'gensim.matutils', 'gensim.interfaces', 'gensim.corpora.indexedcorpus', 'gensim.corpora.mmcorpus', 'gensim.corpora.bleicorpus', 'gensim.corpora.svmlightcorpus', 'gensim.corpora.lowcorpus', 'gensim.corpora.dictionary', 'gensim.corpora.hashdictionary', 'xml.etree', 'xml.etree.ElementPath', '_elementtree', 'xml.etree.ElementTree', 'xml.etree.cElementTree', 'gensim.corpora.textcorpus', 'gensim.corpora.wikicorpus', 'gensim.corpora.ucicorpus', 'gensim.corpora.malletcorpus', 'gensim.corpora', 'gensim.topic_coherence', 'gensim.topic_coherence.segmentation', 'gensim.models.utils_any2vec', 'gensim.similarities.termsim', 'gensim.similarities.docsim', 'gensim.similarities.levenshtein', 'gensim.similarities', 'gensim.models.deprecated', 'gensim.models.deprecated.keyedvectors', 'gensim.models.keyedvectors', 'gensim.models.base_any2vec', 'gensim.models.word2vec', 'gensim.topic_coherence.text_analysis', 'gensim.topic_coherence.probability_estimation', 'gensim.topic_coherence.direct_confirmation_measure', 'gensim.topic_coherence.indirect_confirmation_measure', 'gensim.topic_coherence.aggregation', 'gensim.models.coherencemodel', 'gensim.models.basemodel', 'gensim.models.callbacks', 'gensim.models.ldamodel', 'gensim.models.hdpmodel', 'scipy.sparse.sparsetools', 'gensim.models.lsimodel', 'gensim.models.tfidfmodel', 'gensim.models.rpmodel', 'gensim.models.logentropy_model', 'gensim.models.doc2vec', 'gensim.models.ldamulticore', 'gensim.models.phrases', 'gensim.models.normmodel', 'gensim.models.atmodel', 'gensim.models.ldaseqmodel', 'gzip', 'gensim.models._fasttext_bin', 'gensim.models.fasttext', 'gensim.models.translation_matrix', 'gensim.models.wrappers.ldamallet', 'gensim.models.wrappers.dtmmodel', 'gensim.models.wrappers.ldavowpalwabbit', 'gensim.models.deprecated.old_saveload', 'gensim.models.deprecated.word2vec', 'gensim.models.deprecated.fasttext_wrapper', 'gensim.models.wrappers.fasttext', 'gensim.scripts', 'gensim.scripts.glove2word2vec', 'gensim.models.wrappers.wordrank', 'gensim.models.wrappers.varembed', 'gensim.models.wrappers', 'gensim.models', 'gensim.summarization.pagerank_weighted', 'gensim.summarization.syntactic_unit', 'gensim.summarization.textcleaner', 'gensim.summarization.graph', 'gensim.summarization.commons', 'gensim.summarization.bm25', 'gensim.summarization.summarizer', 'six.moves.queue', 'gensim.summarization.keywords', 'gensim.summarization.mz_entropy', 'gensim.summarization', 'gensim', 'semantic_version.base', 'semantic_version', 'sklearn._config', 'sklearn._distributor_init', 'sklearn.__check_build._check_build', 'sklearn.__check_build', 'sklearn.utils.murmurhash', 'joblib.hashing', 'joblib.disk', 'joblib.logger', 'joblib.func_inspect', 'joblib.backports', 'joblib.compressor', 'joblib.numpy_pickle_utils', 'joblib.numpy_pickle_compat', 'joblib.numpy_pickle', 'joblib._store_backends', 'joblib.memory', 'joblib._multiprocessing_helpers', 'joblib._deprecated_my_exceptions', 'joblib.my_exceptions', 'mmap', 'joblib.externals', 'joblib.externals.loky._base', 'joblib.externals.loky.backend.compat_posix', 'joblib.externals.loky.backend.compat', 'joblib.externals.loky.backend.process', 'joblib.externals.loky.backend.context', 'multiprocessing.synchronize', 'joblib.externals.loky.backend', 'joblib.externals.loky.backend._posix_reduction', 'joblib.externals.cloudpickle.compat', 'typing_extensions', 'joblib.externals.cloudpickle.cloudpickle', 'joblib.externals.cloudpickle.cloudpickle_fast', 'joblib.externals.cloudpickle', 'joblib.externals.loky.backend.reduction', 'multiprocessing.queues', 'joblib.externals.loky.backend.queues', 'psutil._common', 'psutil._compat', 'psutil._psposix', 'psutil._psutil_osx', 'psutil._psutil_posix', 'psutil._psosx', 'psutil', 'joblib.externals.loky.backend.utils', 'concurrent.futures.process', 'joblib.externals.loky.process_executor', 'joblib.externals.loky.reusable_executor', 'joblib.externals.loky.cloudpickle_wrapper', 'joblib.externals.loky', 'joblib.externals.loky.backend.spawn', 'joblib.externals.loky.backend.resource_tracker', 'joblib._memmapping_reducer', 'joblib.pool', 'joblib.executor', 'joblib._parallel_backends', 'joblib.parallel', 'joblib', 'sklearn.utils.deprecation', 'pkg_resources.extern', 'pkg_resources._vendor', 'pkg_resources._vendor.appdirs', 'pkg_resources.extern.appdirs', 'pkg_resources._vendor.packaging.__about__', 'pkg_resources._vendor.packaging', 'pkg_resources.extern.packaging', 'pkg_resources.extern.packaging._structures', 'pkg_resources.extern.packaging._typing', 'pkg_resources.extern.packaging.version', 'pkg_resources.extern.packaging._compat', 'pkg_resources.extern.packaging.utils', 'pkg_resources.extern.packaging.specifiers', 'pkg_resources._vendor.pyparsing', 'pkg_resources.extern.pyparsing', 'pkg_resources.extern.packaging.markers', 'pkg_resources.extern.packaging.requirements', 'pkg_resources', 'sklearn.utils.fixes', 'sklearn.exceptions', 'sklearn.utils.validation', 'sklearn.utils.class_weight', 'sklearn.utils._joblib', 'sklearn.utils._estimator_html_repr', 'sklearn.utils', 'sklearn.base', 'sklearn.utils._openmp_helpers', 'sklearn.utils._show_versions', 'sklearn', 'sklearn.feature_extraction._dict_vectorizer', 'sklearn.feature_extraction._hashing_fast', 'sklearn.feature_extraction._hash', 'sklearn.feature_extraction.image', 'sklearn.preprocessing._function_transformer', 'sklearn.utils._logistic_sigmoid', 'sklearn.utils.sparsefuncs_fast', 'sklearn.utils.extmath', 'sklearn.utils.sparsefuncs', 'sklearn.preprocessing._csr_polynomial_expansion', 'sklearn.utils.multiclass', 'sklearn.preprocessing._label', 'sklearn.preprocessing._encoders', 'sklearn.preprocessing._data', 'sklearn.preprocessing._discretization', 'sklearn.preprocessing', 'sklearn.feature_extraction._stop_words', 'sklearn.feature_extraction.text', 'sklearn.feature_extraction', 'wefe.query', 'wefe.word_embedding_model', 'wefe.metrics.base_metric', 'wefe.metrics.WEAT', 'wefe.metrics.RND', 'pytz.exceptions', 'pytz.lazy', 'pytz.tzinfo', 'pytz.tzfile', 'pytz', 'pandas._typing', 'pandas.compat', 'pandas.compat.numpy', 'pandas._libs.tslibs.dtypes', 'pandas._libs.tslibs.base', 'pandas._libs.tslibs.np_datetime', 'pandas._libs.tslibs.nattype', 'pandas._libs.tslibs.timezones', 'pandas._libs.tslibs.ccalendar', 'pandas._libs.tslibs.tzconversion', 'pandas._libs.tslibs.timedeltas', 'pandas._config.config', 'pandas._config.dates', 'pandas._config.display', 'pandas._config', 'pandas._config.localization', 'pandas._libs.tslibs.strptime', 'pandas._libs.tslibs.fields', 'pandas._libs.tslibs.timestamps', 'dateutil.easter', 'pandas._libs.properties', 'pandas._libs.tslibs.offsets', 'pandas._libs.tslibs.parsing', 'pandas._libs.tslibs.conversion', 'pandas._libs.tslibs.period', 'pandas._libs.tslibs.vectorized', 'pandas._libs.tslibs', 'pandas._libs.ops_dispatch', 'pandas._libs.missing', 'pandas._libs.hashtable', 'pandas._libs.algos', 'pandas._libs.interval', 'pandas._libs', 'pandas._libs.tslib', 'pandas._libs.lib', 'pandas.core', 'pandas.core.config_init', 'pandas.core.dtypes', 'pandas.errors', 'pandas.core.dtypes.generic', 'pandas.core.dtypes.base', 'pandas.core.dtypes.inference', 'pandas.core.dtypes.dtypes', 'pandas.core.dtypes.common', 'pandas.core.dtypes.missing', 'pandas.util._decorators', 'pandas.core.util', 'pandas._libs.hashing', 'pandas.core.util.hashing', 'pandas.util', 'pandas.util._validators', 'pandas.core.dtypes.cast', 'pandas.core.common', 'pandas.core.construction', 'pandas.core.indexers', 'pandas.core.algorithms', 'pandas.compat.numpy.function', 'pandas._libs.ops', 'pandas.core.ops.roperator', 'pandas.core.ops.missing', 'pandas.core.ops.dispatch', 'pandas.core.ops.invalid', 'pandas.core.ops.array_ops', 'pandas.core.ops.common', 'pandas.core.ops.docstrings', 'pandas.core.ops.mask_ops', 'pandas.core.ops.methods', 'pandas.core.ops', 'pandas.compat._optional', 'pandas.core.missing', 'pandas.core.sorting', 'pandas.core.arrays.base', 'bottleneck.reduce', 'bottleneck.nonreduce', 'bottleneck.nonreduce_axis', 'bottleneck.move', 'bottleneck.slow.reduce', 'bottleneck.slow.nonreduce', 'bottleneck.slow.nonreduce_axis', 'bottleneck.slow.move', 'bottleneck.slow', 'bottleneck.benchmark', 'bottleneck.benchmark.autotimeit', 'bottleneck.benchmark.bench', 'bottleneck.benchmark.bench_detailed', 'bottleneck.tests', 'bottleneck.tests.util', 'bottleneck._pytesttester', 'bottleneck._version', 'bottleneck', 'pandas.core.nanops', 'pandas.core.array_algos', 'pandas.core.array_algos.masked_reductions', 'pandas.core.arrays.masked', 'pandas.core.arrays.boolean', '_csv', 'csv', 'pandas.core.accessor', 'pandas.core.array_algos.transforms', 'pandas.core.arrays._mixins', 'pandas.core.base', 'pandas.io', 'pandas.io.formats', 'pandas.io.formats.console', 'pandas.core.arrays.categorical', 'pandas.tseries', 'pandas.tseries.frequencies', 'pandas.core.arrays.datetimelike', 'pandas.core.arrays._ranges', 'pandas.tseries.offsets', 'pandas.core.arrays.datetimes', 'pandas.core.tools', 'pandas.core.tools.numeric', 'pandas.core.arrays.integer', 'pandas.core.indexes', 'pandas._libs.index', 'pandas._libs.join', 'pandas._libs.sparse', 'pandas.core.arrays.sparse.dtype', 'pandas.io.formats.printing', 'pandas.core.arrays.sparse.array', 'pandas.core.arrays.sparse.accessor', 'pandas.core.arrays.sparse', 'pandas.core.dtypes.concat', 'pandas.core.indexes.frozen', 'pandas.core.strings', 'pandas.core.indexes.base', 'pandas.core.arrays.interval', 'pandas.core.arrays.numpy_', 'pandas.core.arrays.period', 'pandas.core.arrays.string_', 'pandas.core.arrays.timedeltas', 'pandas.core.arrays', 'pandas.core.indexes.extension', 'pandas.core.indexes.category', 'pandas.core.indexes.numeric', 'pandas.core.tools.timedeltas', 'pandas.core.indexes.datetimelike', 'pandas.core.tools.times', 'pandas.core.indexes.datetimes', 'pandas.util._exceptions', 'pandas.core.indexes.multi', 'pandas.core.indexes.timedeltas', 'pandas.core.indexes.interval', 'pandas.core.indexes.period', 'pandas.core.indexes.range', 'pandas.core.indexes.api', 'pandas._libs.reshape', 'pandas._libs.indexing', 'pandas.core.indexing', 'pandas._libs.writers', 'pandas._libs.internals', 'pandas.core.internals.blocks', 'pandas.core.internals.ops', 'pandas.core.internals.managers', 'pandas.core.internals.concat', 'pandas.core.internals', 'pandas.core.shared_docs', 'pandas.io.common', 'pandas.io.formats.format', 'pandas.core.generic', 'pandas.core.indexes.accessors', 'pandas.arrays', 'pandas.core.tools.datetimes', 'pandas.plotting._core', 'pandas.plotting._misc', 'pandas.plotting', 'pandas._libs.window', 'pandas._libs.window.aggregations', 'pandas.core.groupby.base', 'pandas.core.window.common', 'pandas.core.util.numba_', 'pandas._libs.window.indexers', 'pandas.core.window.indexers', 'pandas.core.window.numba_', 'pandas.core.window.rolling', 'pandas.core.window.ewm', 'pandas.core.window.expanding', 'pandas.core.window', 'pandas.core.series', 'pandas.core.aggregation', 'pandas.core.internals.construction', 'pandas.core.reshape', 'pandas.core.reshape.concat', 'pandas.core.reshape.util', 'pandas.core.reshape.melt', 'pandas.io.formats.info', 'pandas.core.frame', 'pandas._libs.groupby', 'pandas._libs.reduction', 'pandas.core.groupby.categorical', 'pandas.core.groupby.grouper', 'pandas.core.groupby.ops', 'pandas.core.groupby.groupby', 'pandas.core.groupby.generic', 'pandas.core.groupby', 'pandas.core.api', 'pandas.tseries.api', 'pandas.core.computation', 'pandas.core.computation.common', 'pandas.core.computation.align', 'pandas.compat.chainmap', 'pandas.core.computation.scope', 'pandas.core.computation.ops', 'pandas.core.computation.engines', 'pandas.core.computation.parsing', 'pandas.core.computation.expr', 'pandas.core.computation.eval', 'pandas.core.computation.api', 'pandas.core.reshape.merge', 'pandas.core.reshape.pivot', 'pandas.core.reshape.reshape', 'pandas.core.reshape.tile', 'pandas.core.reshape.api', 'pandas.api.extensions', 'pandas.api.indexers', 'pandas.core.dtypes.api', 'pandas.api.types', 'pandas.api', 'pandas.util._print_versions', 'pandas.io.clipboards', 'pandas._libs.parsers', 'pandas.io.excel._util', 'pandas.io.date_converters', 'pandas.io.parsers', 'pandas.io.excel._odfreader', 'pandas.io.excel._openpyxl', 'pandas.io.excel._pyxlsb', 'pandas.io.excel._xlrd', 'pandas.io.excel._base', 'pandas._libs.json', 'pandas.io.formats.css', 'pandas.io.formats.excel', 'pandas.io.excel._odswriter', 'pandas.io.excel._xlsxwriter', 'pandas.io.excel._xlwt', 'pandas.io.excel', 'pandas.io.feather_format', 'pandas.io.gbq', 'pandas.io.html', 'pandas.io.json._normalize', 'pandas.io.json._table_schema', 'pandas.io.json._json', 'pandas.io.json', 'pandas.io.orc', 'pandas.io.parquet', 'pandas.compat.pickle_compat', 'pandas.io.pickle', 'pandas.core.computation.pytables', 'pandas.io.pytables', 'pandas.io.sas.sasreader', 'pandas.io.sas', 'pandas.io.spss', 'pandas.io.sql', 'pandas.io.stata', 'pandas.io.api', 'pandas.util._tester', 'pandas._libs.testing', 'pandas._testing', 'pandas.testing', 'pandas._version', 'pandas', 'sklearn.utils._random', 'sklearn.utils._seq_dataset', 'sklearn.linear_model._base', 'sklearn.linear_model._bayes', 'sklearn.utils._cython_blas', 'sklearn.utils.arrayfuncs', 'sklearn.model_selection._split', 'sklearn.utils.metaestimators', 'sklearn.metrics._base', 'sklearn.metrics._ranking', 'sklearn.metrics._classification', 'sklearn.metrics.cluster._expected_mutual_info_fast', 'sklearn.metrics.cluster._supervised', 'sklearn.utils._mask', 'sklearn.metrics._pairwise_fast', 'sklearn.metrics.pairwise', 'sklearn.metrics.cluster._unsupervised', 'sklearn.metrics.cluster._bicluster', 'sklearn.metrics.cluster', 'sklearn._loss', 'sklearn._loss.glm_distribution', 'sklearn.metrics._regression', 'sklearn.metrics._scorer', 'sklearn.metrics._plot', 'sklearn.metrics._plot.base', 'sklearn.metrics._plot.roc_curve', 'sklearn.metrics._plot.precision_recall_curve', 'sklearn.metrics._plot.confusion_matrix', 'sklearn.metrics', 'sklearn.model_selection._validation', 'sklearn.utils.random', 'sklearn.model_selection._search', 'sklearn.model_selection', 'sklearn.linear_model._least_angle', 'sklearn.linear_model._cd_fast', 'sklearn.linear_model._coordinate_descent', 'sklearn.utils.optimize', 'sklearn.linear_model._glm.link', 'sklearn.linear_model._glm.glm', 'sklearn.linear_model._glm', 'sklearn.linear_model._huber', 'sklearn.utils._weight_vector', 'sklearn.linear_model._sgd_fast', 'sklearn.linear_model._stochastic_gradient', 'sklearn.linear_model._sag_fast', 'sklearn.linear_model._sag', 'sklearn.linear_model._ridge', 'sklearn.svm._libsvm', 'sklearn.svm._liblinear', 'sklearn.svm._libsvm_sparse', 'sklearn.svm._base', 'sklearn.svm._classes', 'sklearn.svm._bounds', 'sklearn.svm', 'sklearn.linear_model._logistic', 'sklearn.linear_model._omp', 'sklearn.linear_model._passive_aggressive', 'sklearn.linear_model._perceptron', 'sklearn.linear_model._ransac', 'sklearn.linear_model._theil_sen', 'sklearn.linear_model', 'wefe.metrics.RNSB', 'wefe.metrics.MAC', 'wefe.metrics.ECT', 'wefe.metrics', 'wefe.datasets.datasets', 'wefe.datasets', 'wefe._version', 'wefe', 'gensim.downloader', '_plotly_utils', '_plotly_utils.importers', 'plotly', '_plotly_utils.optional_imports', 'plotly.optional_imports', 'plotly.graph_objs', 'PIL._version', 'PIL', '_plotly_utils.basevalidators', 'plotly.io._templates', 'plotly.io', 'plotly.express._special_inputs', '_plotly_utils.exceptions', '_plotly_utils.colors._swatches', '_plotly_utils.colors.colorbrewer', '_plotly_utils.colors.carto', '_plotly_utils.colors.qualitative', '_plotly_utils.colors.plotlyjs', '_plotly_utils.colors.cmocean', '_plotly_utils.colors.sequential', '_plotly_utils.colors.diverging', '_plotly_utils.colors.cyclical', '_plotly_utils.colors', 'plotly.colors', 'plotly.subplots', '_plotly_utils.utils', 'plotly.shapeannotation', 'plotly.basedatatypes', 'plotly.graph_objs._scatter', 'plotly.graph_objs._scattergl', 'plotly.graph_objs._bar', 'plotly.graph_objs._funnel', 'plotly.graph_objs._box', 'plotly.graph_objs._violin', 'plotly.graph_objs._histogram', 'plotly.graph_objs._histogram2d', 'plotly.graph_objs._histogram2dcontour', 'plotly.express._core', 'plotly.express.imshow_utils', '_plotly_utils.png', 'PIL.ImageMode', 'PIL.TiffTags', 'PIL._binary', 'PIL._util', 'PIL._imaging', 'cffi.lock', 'cffi.error', 'cffi.model', 'cffi.api', 'cffi', 'PIL.Image', '_plotly_utils.data_utils', 'plotly.utils', 'plotly.express._imshow', 'plotly.express._doc', 'plotly.express._chart_types', 'plotly.data', 'plotly.express.data', 'plotly.express.colors', 'plotly.express', 'plotly.graph_objects', 'wefe.utils', 'word2vec-google-news-300', 'dataclasses', 'pandas.io.formats.html', 'matplotlib', 'matplotlib.cbook.deprecation', 'matplotlib.cbook', 'matplotlib._animation_data', 'matplotlib.animation', 'pyparsing', 'matplotlib.fontconfig_pattern', 'matplotlib.docstring', 'matplotlib._color_data', 'matplotlib.colors', 'cycler', 'matplotlib.rcsetup', 'matplotlib._version', 'matplotlib.ft2font', 'kiwisolver']\n"
     ]
    },
    {
     "name": "stderr",
     "output_type": "stream",
     "text": [
      "DEBUG:matplotlib:CACHEDIR=/Users/macbookair/.matplotlib\n",
      "DEBUG:matplotlib.font_manager:Using fontManager instance from /Users/macbookair/.matplotlib/fontlist-v330.json\n",
      "DEBUG:matplotlib.pyplot:Loaded backend module://ipykernel.pylab.backend_inline version unknown.\n",
      "DEBUG:matplotlib.pyplot:Loaded backend module://ipykernel.pylab.backend_inline version unknown.\n",
      "INFO:gensim.corpora.dictionary:adding document #0 to Dictionary(0 unique tokens: [])\n",
      "INFO:gensim.corpora.dictionary:built Dictionary(12 unique tokens: ['computer', 'human', 'interface', 'response', 'survey']...) from 9 documents (total 29 corpus positions)\n"
     ]
    }
   ],
   "source": [
    "import sys\n",
    "  \n",
    "# appending a path\n",
    "sys.path.append('FEE-master')\n",
    "  \n",
    "# importing required module\n",
    "import numpy as np\n",
    "import pandas as pd\n",
    "import copy\n",
    "import matplotlib.pyplot as plt\n",
    "\n",
    "import fee\n",
    "from fee.metrics import SemBias, WEAT\n",
    "from fee.embedding import loader"
   ]
  },
  {
   "cell_type": "code",
   "execution_count": 14,
   "metadata": {
    "scrolled": true
   },
   "outputs": [],
   "source": [
    "from wefe.query import Query\n",
    "from wefe.word_embedding_model import WordEmbeddingModel\n",
    "from wefe.metrics.WEAT import WEAT\n",
    "from wefe.datasets.datasets import load_weat\n",
    "import gensim.downloader as api\n",
    "from wefe.utils import run_queries, create_ranking, plot_ranking, plot_ranking_correlations\n",
    "from gensim.models import KeyedVectors"
   ]
  },
  {
   "cell_type": "code",
   "execution_count": 15,
   "metadata": {
    "scrolled": true
   },
   "outputs": [],
   "source": [
    "import gensim\n",
    "import os\n",
    "import shutil\n",
    "import hashlib\n",
    "from sys import platform\n",
    "\n",
    "def getFileLineNums(filename):\n",
    "    f = open(filename, 'r')\n",
    "    count = 0\n",
    "    for line in f:\n",
    "        count += 1\n",
    "    return count\n",
    " \n",
    " #Linux or Windows open the word vector file, add a line at the beginning\n",
    "def prepend_line(infile, outfile, line):\n",
    "    with open(infile, 'r') as old:\n",
    "        with open(outfile, 'w') as new:\n",
    "            new.write(str(line) + \"\\n\")\n",
    "            shutil.copyfileobj(old, new)\n",
    " \n",
    "def prepend_slow(infile, outfile, line):\n",
    "    with open(infile, 'r') as fin:\n",
    "        with open(outfile, 'w') as fout:\n",
    "            fout.write(line + \"\\n\")\n",
    "            for line in fin:\n",
    "                fout.write(line)\n",
    "\n",
    "def load(filename):\n",
    "    num_lines = getFileLineNums(filename)\n",
    "    gensim_file = 'glove_model.txt'\n",
    "    gensim_first_line = \"{} {}\".format(num_lines, 300)\n",
    "    # Prepends the line.\n",
    "    if platform == \"linux\" or platform == \"linux2\":\n",
    "        prepend_line(filename, gensim_file, gensim_first_line)\n",
    "    else:\n",
    "        prepend_slow(filename, gensim_file, gensim_first_line)\n",
    "    model = gensim.models.KeyedVectors.load_word2vec_format(gensim_file)"
   ]
  },
  {
   "cell_type": "code",
   "execution_count": 23,
   "metadata": {},
   "outputs": [],
   "source": [
    "load('glove.42B.300d.txt')"
   ]
  },
  {
   "cell_type": "code",
   "execution_count": null,
   "metadata": {},
   "outputs": [],
   "source": [
    "load('glove.840B.300d.txt')"
   ]
  },
  {
   "cell_type": "code",
   "execution_count": 3,
   "metadata": {
    "scrolled": false
   },
   "outputs": [
    {
     "name": "stderr",
     "output_type": "stream",
     "text": [
      "INFO:gensim.models.utils_any2vec:loading projection weights from /Users/macbookair/gensim-data/glove-twitter-25/glove-twitter-25.gz\n",
      "DEBUG:smart_open.smart_open_lib:{'uri': '/Users/macbookair/gensim-data/glove-twitter-25/glove-twitter-25.gz', 'mode': 'rb', 'buffering': -1, 'encoding': None, 'errors': None, 'newline': None, 'closefd': True, 'opener': None, 'ignore_ext': False, 'transport_params': None}\n",
      "INFO:gensim.models.utils_any2vec:loaded (1193514, 25) matrix from /Users/macbookair/gensim-data/glove-twitter-25/glove-twitter-25.gz\n",
      "INFO:gensim.models.utils_any2vec:loading projection weights from /Users/macbookair/gensim-data/glove-twitter-50/glove-twitter-50.gz\n",
      "DEBUG:smart_open.smart_open_lib:{'uri': '/Users/macbookair/gensim-data/glove-twitter-50/glove-twitter-50.gz', 'mode': 'rb', 'buffering': -1, 'encoding': None, 'errors': None, 'newline': None, 'closefd': True, 'opener': None, 'ignore_ext': False, 'transport_params': None}\n",
      "INFO:gensim.models.utils_any2vec:loaded (1193514, 50) matrix from /Users/macbookair/gensim-data/glove-twitter-50/glove-twitter-50.gz\n",
      "INFO:gensim.models.utils_any2vec:loading projection weights from /Users/macbookair/gensim-data/glove-twitter-100/glove-twitter-100.gz\n",
      "DEBUG:smart_open.smart_open_lib:{'uri': '/Users/macbookair/gensim-data/glove-twitter-100/glove-twitter-100.gz', 'mode': 'rb', 'buffering': -1, 'encoding': None, 'errors': None, 'newline': None, 'closefd': True, 'opener': None, 'ignore_ext': False, 'transport_params': None}\n",
      "INFO:gensim.models.utils_any2vec:loaded (1193514, 100) matrix from /Users/macbookair/gensim-data/glove-twitter-100/glove-twitter-100.gz\n",
      "INFO:gensim.models.utils_any2vec:loading projection weights from /Users/macbookair/gensim-data/glove-twitter-200/glove-twitter-200.gz\n",
      "DEBUG:smart_open.smart_open_lib:{'uri': '/Users/macbookair/gensim-data/glove-twitter-200/glove-twitter-200.gz', 'mode': 'rb', 'buffering': -1, 'encoding': None, 'errors': None, 'newline': None, 'closefd': True, 'opener': None, 'ignore_ext': False, 'transport_params': None}\n",
      "INFO:gensim.models.utils_any2vec:loaded (1193514, 200) matrix from /Users/macbookair/gensim-data/glove-twitter-200/glove-twitter-200.gz\n"
     ]
    }
   ],
   "source": [
    "glove_1 = WordEmbeddingModel(api.load('glove-twitter-25'),\n",
    "                             'glove twitter dim=25')\n",
    "glove_2 = WordEmbeddingModel(api.load('glove-twitter-50'),\n",
    "                             'glove twitter dim=50')\n",
    "glove_3 = WordEmbeddingModel(api.load('glove-twitter-100'),\n",
    "                             'glove twitter dim=100')\n",
    "glove_4 = WordEmbeddingModel(api.load('glove-twitter-200'),\n",
    "                             'glove twitter dim=200')"
   ]
  },
  {
   "cell_type": "code",
   "execution_count": 22,
   "metadata": {
    "scrolled": true
   },
   "outputs": [
    {
     "name": "stderr",
     "output_type": "stream",
     "text": [
      "INFO:gensim.models.utils_any2vec:loading projection weights from /Users/macbookair/gensim-data/glove-wiki-gigaword-50/glove-wiki-gigaword-50.gz\n",
      "DEBUG:smart_open.smart_open_lib:{'uri': '/Users/macbookair/gensim-data/glove-wiki-gigaword-50/glove-wiki-gigaword-50.gz', 'mode': 'rb', 'buffering': -1, 'encoding': None, 'errors': None, 'newline': None, 'closefd': True, 'opener': None, 'ignore_ext': False, 'transport_params': None}\n",
      "INFO:gensim.models.utils_any2vec:loaded (400000, 50) matrix from /Users/macbookair/gensim-data/glove-wiki-gigaword-50/glove-wiki-gigaword-50.gz\n",
      "INFO:gensim.models.utils_any2vec:loading projection weights from /Users/macbookair/gensim-data/glove-wiki-gigaword-100/glove-wiki-gigaword-100.gz\n",
      "DEBUG:smart_open.smart_open_lib:{'uri': '/Users/macbookair/gensim-data/glove-wiki-gigaword-100/glove-wiki-gigaword-100.gz', 'mode': 'rb', 'buffering': -1, 'encoding': None, 'errors': None, 'newline': None, 'closefd': True, 'opener': None, 'ignore_ext': False, 'transport_params': None}\n",
      "INFO:gensim.models.utils_any2vec:loaded (400000, 100) matrix from /Users/macbookair/gensim-data/glove-wiki-gigaword-100/glove-wiki-gigaword-100.gz\n",
      "INFO:gensim.models.utils_any2vec:loading projection weights from /Users/macbookair/gensim-data/glove-wiki-gigaword-200/glove-wiki-gigaword-200.gz\n",
      "DEBUG:smart_open.smart_open_lib:{'uri': '/Users/macbookair/gensim-data/glove-wiki-gigaword-200/glove-wiki-gigaword-200.gz', 'mode': 'rb', 'buffering': -1, 'encoding': None, 'errors': None, 'newline': None, 'closefd': True, 'opener': None, 'ignore_ext': False, 'transport_params': None}\n",
      "INFO:gensim.models.utils_any2vec:loaded (400000, 200) matrix from /Users/macbookair/gensim-data/glove-wiki-gigaword-200/glove-wiki-gigaword-200.gz\n",
      "INFO:gensim.models.utils_any2vec:loading projection weights from /Users/macbookair/gensim-data/glove-wiki-gigaword-300/glove-wiki-gigaword-300.gz\n",
      "DEBUG:smart_open.smart_open_lib:{'uri': '/Users/macbookair/gensim-data/glove-wiki-gigaword-300/glove-wiki-gigaword-300.gz', 'mode': 'rb', 'buffering': -1, 'encoding': None, 'errors': None, 'newline': None, 'closefd': True, 'opener': None, 'ignore_ext': False, 'transport_params': None}\n",
      "INFO:gensim.models.utils_any2vec:loaded (400000, 300) matrix from /Users/macbookair/gensim-data/glove-wiki-gigaword-300/glove-wiki-gigaword-300.gz\n"
     ]
    }
   ],
   "source": [
    "glove_5 = WordEmbeddingModel(api.load('glove-wiki-gigaword-50'),\n",
    "                             'glove wiki dim=50')\n",
    "glove_6 = WordEmbeddingModel(api.load('glove-wiki-gigaword-100'),\n",
    "                             'glove wiki dim=100')\n",
    "glove_7 = WordEmbeddingModel(api.load('glove-wiki-gigaword-200'),\n",
    "                             'glove wiki dim=200')\n",
    "glove_8 = WordEmbeddingModel(api.load('glove-wiki-gigaword-300'),\n",
    "                             'glove wiki dim=300')"
   ]
  },
  {
   "cell_type": "code",
   "execution_count": 27,
   "metadata": {
    "scrolled": true
   },
   "outputs": [
    {
     "name": "stderr",
     "output_type": "stream",
     "text": [
      "INFO:gensim.models.utils_any2vec:loading projection weights from glove.42B.300d.txt\n",
      "DEBUG:smart_open.smart_open_lib:{'uri': 'glove.42B.300d.txt', 'mode': 'rb', 'buffering': -1, 'encoding': None, 'errors': None, 'newline': None, 'closefd': True, 'opener': None, 'ignore_ext': False, 'transport_params': None}\n",
      "INFO:gensim.models.utils_any2vec:loaded (1917494, 300) matrix from glove.42B.300d.txt\n",
      "INFO:gensim.models.utils_any2vec:loading projection weights from glove.840B.300d.txt\n",
      "DEBUG:smart_open.smart_open_lib:{'uri': 'glove.840B.300d.txt', 'mode': 'rb', 'buffering': -1, 'encoding': None, 'errors': None, 'newline': None, 'closefd': True, 'opener': None, 'ignore_ext': False, 'transport_params': None}\n",
      "WARNING:gensim.models.utils_any2vec:duplicate word '����������������������������������������������������������������������������������������������������������������������������������������������������������������������������������������������������������������������������������������������������������������������������������������������������������������������������������������������' in glove.840B.300d.txt, ignoring all but first\n",
      "INFO:gensim.models.utils_any2vec:duplicate words detected, shrinking matrix size from 2196017 to 2196016\n",
      "INFO:gensim.models.utils_any2vec:loaded (2196016, 300) matrix from glove.840B.300d.txt\n"
     ]
    }
   ],
   "source": [
    "glove_embeddings_9 = KeyedVectors.load_word2vec_format('glove.42B.300d.txt')\n",
    "glove_9 = WordEmbeddingModel(glove_embeddings_9, 'glove common crawl 42B dim=300')\n",
    "glove_embeddings_10 = KeyedVectors.load_word2vec_format('glove.840B.300d.txt')\n",
    "glove_10 = WordEmbeddingModel(glove_embeddings_10, 'glove common crawl 840B dim=300')"
   ]
  },
  {
   "cell_type": "code",
   "execution_count": 13,
   "metadata": {},
   "outputs": [
    {
     "name": "stderr",
     "output_type": "stream",
     "text": [
      "INFO:gensim.models.utils_any2vec:loading projection weights from /Users/macbookair/gensim-data/fasttext-wiki-news-subwords-300/fasttext-wiki-news-subwords-300.gz\n",
      "DEBUG:smart_open.smart_open_lib:{'uri': '/Users/macbookair/gensim-data/fasttext-wiki-news-subwords-300/fasttext-wiki-news-subwords-300.gz', 'mode': 'rb', 'buffering': -1, 'encoding': None, 'errors': None, 'newline': None, 'closefd': True, 'opener': None, 'ignore_ext': False, 'transport_params': None}\n",
      "INFO:gensim.models.utils_any2vec:loaded (999999, 300) matrix from /Users/macbookair/gensim-data/fasttext-wiki-news-subwords-300/fasttext-wiki-news-subwords-300.gz\n",
      "INFO:gensim.models.utils_any2vec:loading projection weights from /Users/macbookair/Desktop/postgraduate/dissertation/wiki-news-300d-1M.vec\n",
      "DEBUG:smart_open.smart_open_lib:{'uri': '/Users/macbookair/Desktop/postgraduate/dissertation/wiki-news-300d-1M.vec', 'mode': 'rb', 'buffering': -1, 'encoding': None, 'errors': None, 'newline': None, 'closefd': True, 'opener': None, 'ignore_ext': False, 'transport_params': None}\n",
      "INFO:gensim.models.utils_any2vec:loaded (999994, 300) matrix from /Users/macbookair/Desktop/postgraduate/dissertation/wiki-news-300d-1M.vec\n"
     ]
    }
   ],
   "source": [
    "fasttext_1 = WordEmbeddingModel(api.load('fasttext-wiki-news-subwords-300'),\n",
    "                             'fasttext wiki subwords dim=300')\n",
    "fast_embeddings_2 = KeyedVectors.load_word2vec_format('/Users/macbookair/Desktop/postgraduate/dissertation/wiki-news-300d-1M.vec')\n",
    "fasttext_2 = WordEmbeddingModel(fast_embeddings_2, 'fasttext wiki dim=300')"
   ]
  },
  {
   "cell_type": "code",
   "execution_count": 25,
   "metadata": {},
   "outputs": [
    {
     "name": "stderr",
     "output_type": "stream",
     "text": [
      "INFO:gensim.models.utils_any2vec:loading projection weights from /Users/macbookair/Desktop/postgraduate/dissertation/crawl-300d-2M.vec\n",
      "DEBUG:smart_open.smart_open_lib:{'uri': '/Users/macbookair/Desktop/postgraduate/dissertation/crawl-300d-2M.vec', 'mode': 'rb', 'buffering': -1, 'encoding': None, 'errors': None, 'newline': None, 'closefd': True, 'opener': None, 'ignore_ext': False, 'transport_params': None}\n",
      "INFO:gensim.models.utils_any2vec:loaded (1999995, 300) matrix from /Users/macbookair/Desktop/postgraduate/dissertation/crawl-300d-2M.vec\n",
      "INFO:gensim.models.utils_any2vec:loading projection weights from /Users/macbookair/Desktop/postgraduate/dissertation/crawl-300d-2M-subword.vec\n",
      "DEBUG:smart_open.smart_open_lib:{'uri': '/Users/macbookair/Desktop/postgraduate/dissertation/crawl-300d-2M-subword.vec', 'mode': 'rb', 'buffering': -1, 'encoding': None, 'errors': None, 'newline': None, 'closefd': True, 'opener': None, 'ignore_ext': False, 'transport_params': None}\n",
      "INFO:gensim.models.utils_any2vec:loaded (2000000, 300) matrix from /Users/macbookair/Desktop/postgraduate/dissertation/crawl-300d-2M-subword.vec\n"
     ]
    }
   ],
   "source": [
    "fast_embeddings_3 = KeyedVectors.load_word2vec_format('/Users/macbookair/Desktop/postgraduate/dissertation/crawl-300d-2M.vec')\n",
    "fasttext_3 = WordEmbeddingModel(fast_embeddings_3, 'fasttext crawl dim=300')\n",
    "fast_embeddings_4 = KeyedVectors.load_word2vec_format('/Users/macbookair/Desktop/postgraduate/dissertation/crawl-300d-2M-subword.vec')\n",
    "fasttext_4 = WordEmbeddingModel(fast_embeddings_4, 'fasttext crawl subwords dim=300')"
   ]
  },
  {
   "cell_type": "code",
   "execution_count": 16,
   "metadata": {
    "scrolled": true
   },
   "outputs": [
    {
     "name": "stderr",
     "output_type": "stream",
     "text": [
      "INFO:gensim.models.utils_any2vec:loading projection weights from /Users/macbookair/gensim-data/word2vec-google-news-300/word2vec-google-news-300.gz\n",
      "DEBUG:smart_open.smart_open_lib:{'uri': '/Users/macbookair/gensim-data/word2vec-google-news-300/word2vec-google-news-300.gz', 'mode': 'rb', 'buffering': -1, 'encoding': None, 'errors': None, 'newline': None, 'closefd': True, 'opener': None, 'ignore_ext': False, 'transport_params': None}\n",
      "INFO:gensim.models.utils_any2vec:loaded (3000000, 300) matrix from /Users/macbookair/gensim-data/word2vec-google-news-300/word2vec-google-news-300.gz\n"
     ]
    }
   ],
   "source": [
    "model_w2v = WordEmbeddingModel(api.load('word2vec-google-news-300'),\n",
    "                             'word2vec google dim=300')"
   ]
  },
  {
   "cell_type": "markdown",
   "metadata": {},
   "source": [
    "# Defining queries based on the original WEAT paper"
   ]
  },
  {
   "cell_type": "code",
   "execution_count": 19,
   "metadata": {},
   "outputs": [],
   "source": [
    "# Load the wordset\n",
    "weat_wordset = load_weat()\n",
    "\n",
    "# Define the 10 Queries:\n",
    "queries = [\n",
    "    # Flowers vs Insects wrt Pleasant (5) and Unpleasant (5)\n",
    "    Query([weat_wordset['flowers'], weat_wordset['insects']],\n",
    "          [weat_wordset['pleasant_5'], weat_wordset['unpleasant_5']],\n",
    "          ['Flowers', 'Insects'], ['Pleasant(5)', 'Unpleasant(5)']),\n",
    "\n",
    "    # Instruments vs Weapons wrt Pleasant (5) and Unpleasant (5)\n",
    "    Query([weat_wordset['instruments'], weat_wordset['weapons']],\n",
    "          [weat_wordset['pleasant_5'], weat_wordset['unpleasant_5']],\n",
    "          ['Instruments', 'Weapons'], ['Pleasant(5)', 'Unpleasant(5)']),\n",
    "\n",
    "    # European american names(5) vs African american names(5)\n",
    "    # wrt Pleasant (5) and Unpleasant (5)\n",
    "    Query([\n",
    "        weat_wordset['european_american_names_5'],\n",
    "        weat_wordset['african_american_names_5']\n",
    "    ], [weat_wordset['pleasant_5'], weat_wordset['unpleasant_5']],\n",
    "          ['European american names(5)', 'African american names(5)'],\n",
    "          ['Pleasant(5)', 'Unpleasant(5)']),\n",
    "\n",
    "    # European american names(7) vs African american names(7)\n",
    "    # wrt Pleasant (5) and Unpleasant (5)\n",
    "    Query([\n",
    "        weat_wordset['european_american_names_7'],\n",
    "        weat_wordset['african_american_names_7']\n",
    "    ], [weat_wordset['pleasant_5'], weat_wordset['unpleasant_5']],\n",
    "          ['European american names(7)', 'African american names(7)'],\n",
    "          ['Pleasant(5)', 'Unpleasant(5)']),\n",
    "\n",
    "    # European american names(7) vs African american names(7)\n",
    "    # wrt Pleasant (9) and Unpleasant (9)\n",
    "    Query([\n",
    "        weat_wordset['european_american_names_7'],\n",
    "        weat_wordset['african_american_names_7']\n",
    "    ], [weat_wordset['pleasant_9'], weat_wordset['unpleasant_9']],\n",
    "          ['European american names(7)', 'African american names(7)'],\n",
    "          ['Pleasant(9)', 'Unpleasant(9)']),\n",
    "\n",
    "    # Male and female names wrt Career and family\n",
    "    Query([weat_wordset['male_names'], weat_wordset['female_names']],\n",
    "          [weat_wordset['career'], weat_wordset['family']],\n",
    "          ['Male names', 'Female names'], ['Career', 'Family']),\n",
    "\n",
    "    # Math and arts wrt male and female terms\n",
    "    Query([weat_wordset['math'], weat_wordset['arts']],\n",
    "          [weat_wordset['male_terms'], weat_wordset['female_terms']],\n",
    "          ['Math', 'Arts'], ['Male terms', 'Female terms']),\n",
    "\n",
    "    # Science and arts wrt male and female terms\n",
    "    Query([weat_wordset['science'], weat_wordset['arts_2']],\n",
    "          [weat_wordset['male_terms'], weat_wordset['female_terms']],\n",
    "          ['Science', 'Arts 2'], ['Male terms', 'Female terms']),\n",
    "\n",
    "    # Mental and Physical disease wrt Temporary and Permanent\n",
    "    Query([weat_wordset['mental_disease'], weat_wordset['physical_disease']],\n",
    "          [weat_wordset['temporary'], weat_wordset['permanent']],\n",
    "          ['Mental disease', 'Physical disease'], ['Temporary', 'Permanent']),\n",
    "\n",
    "    # Young people names and Old people names disease wrt Pleasant(9) and Unpleasant(9)\n",
    "    Query(\n",
    "        [weat_wordset['young_people_names'], weat_wordset['old_people_names']],\n",
    "        [weat_wordset['pleasant_9'], weat_wordset['unpleasant_9']],\n",
    "        ['Young peoples names', 'Old peoples names'],\n",
    "        ['Pleasant(9)', 'Unpleasant(9)'])\n",
    "]"
   ]
  },
  {
   "cell_type": "markdown",
   "metadata": {},
   "source": [
    "# GloVe\n",
    "1. Wikipedia 2014 + Gigaword 5 (6B tokens, 400K vocab, uncased, 50d, 100d, 200d, & 300d vectors, 822 MB download\n",
    "2. Common Crawl (42B tokens, 1.9M vocab, uncased, 300d vectors, 1.75 GB download)\n",
    "3. Common Crawl (840B tokens, 2.2M vocab, cased, 300d vectors, 2.03 GB download)\n",
    "4. Twitter (2B tweets, 27B tokens, 1.2M vocab, uncased, 25d, 50d, 100d, & 200d vectors, 1.42 GB download)\n",
    "\n",
    "## GloVe Twitter"
   ]
  },
  {
   "cell_type": "code",
   "execution_count": 20,
   "metadata": {
    "scrolled": true
   },
   "outputs": [
    {
     "name": "stdout",
     "output_type": "stream",
     "text": [
      "Stored 'WEAT_results_1' (DataFrame)\n"
     ]
    },
    {
     "data": {
      "text/html": [
       "<div>\n",
       "<style scoped>\n",
       "    .dataframe tbody tr th:only-of-type {\n",
       "        vertical-align: middle;\n",
       "    }\n",
       "\n",
       "    .dataframe tbody tr th {\n",
       "        vertical-align: top;\n",
       "    }\n",
       "\n",
       "    .dataframe thead th {\n",
       "        text-align: right;\n",
       "    }\n",
       "</style>\n",
       "<table border=\"1\" class=\"dataframe\">\n",
       "  <thead>\n",
       "    <tr style=\"text-align: right;\">\n",
       "      <th></th>\n",
       "      <th>Flowers and Insects wrt Pleasant(5) and Unpleasant(5)</th>\n",
       "      <th>Instruments and Weapons wrt Pleasant(5) and Unpleasant(5)</th>\n",
       "      <th>European american names(5) and African american names(5) wrt Pleasant(5) and Unpleasant(5)</th>\n",
       "      <th>European american names(7) and African american names(7) wrt Pleasant(5) and Unpleasant(5)</th>\n",
       "      <th>European american names(7) and African american names(7) wrt Pleasant(9) and Unpleasant(9)</th>\n",
       "      <th>Male names and Female names wrt Career and Family</th>\n",
       "      <th>Math and Arts wrt Male terms and Female terms</th>\n",
       "      <th>Science and Arts 2 wrt Male terms and Female terms</th>\n",
       "      <th>Mental disease and Physical disease wrt Temporary and Permanent</th>\n",
       "      <th>Young peoples names and Old peoples names wrt Pleasant(9) and Unpleasant(9)</th>\n",
       "      <th>WEAT: WEAT Queries average of abs values score</th>\n",
       "    </tr>\n",
       "    <tr>\n",
       "      <th>model_name</th>\n",
       "      <th></th>\n",
       "      <th></th>\n",
       "      <th></th>\n",
       "      <th></th>\n",
       "      <th></th>\n",
       "      <th></th>\n",
       "      <th></th>\n",
       "      <th></th>\n",
       "      <th></th>\n",
       "      <th></th>\n",
       "      <th></th>\n",
       "    </tr>\n",
       "  </thead>\n",
       "  <tbody>\n",
       "    <tr>\n",
       "      <th>glove twitter dim=25</th>\n",
       "      <td>3.983256</td>\n",
       "      <td>1.727524</td>\n",
       "      <td>3.752915</td>\n",
       "      <td>1.838223</td>\n",
       "      <td>1.539729</td>\n",
       "      <td>0.817561</td>\n",
       "      <td>0.042542</td>\n",
       "      <td>0.090977</td>\n",
       "      <td>0.267538</td>\n",
       "      <td>0.329011</td>\n",
       "      <td>1.438928</td>\n",
       "    </tr>\n",
       "    <tr>\n",
       "      <th>glove twitter dim=50</th>\n",
       "      <td>3.059114</td>\n",
       "      <td>2.611351</td>\n",
       "      <td>2.564336</td>\n",
       "      <td>1.432154</td>\n",
       "      <td>1.184290</td>\n",
       "      <td>0.736073</td>\n",
       "      <td>-0.211789</td>\n",
       "      <td>-0.180491</td>\n",
       "      <td>0.357402</td>\n",
       "      <td>0.354238</td>\n",
       "      <td>1.269124</td>\n",
       "    </tr>\n",
       "    <tr>\n",
       "      <th>glove twitter dim=100</th>\n",
       "      <td>1.998491</td>\n",
       "      <td>1.815693</td>\n",
       "      <td>2.188712</td>\n",
       "      <td>1.214762</td>\n",
       "      <td>1.380674</td>\n",
       "      <td>0.653837</td>\n",
       "      <td>-0.060213</td>\n",
       "      <td>0.004055</td>\n",
       "      <td>0.626559</td>\n",
       "      <td>0.360366</td>\n",
       "      <td>1.030336</td>\n",
       "    </tr>\n",
       "    <tr>\n",
       "      <th>glove twitter dim=200</th>\n",
       "      <td>1.446090</td>\n",
       "      <td>1.209590</td>\n",
       "      <td>1.674214</td>\n",
       "      <td>0.918201</td>\n",
       "      <td>1.160593</td>\n",
       "      <td>0.537437</td>\n",
       "      <td>-0.035495</td>\n",
       "      <td>0.063129</td>\n",
       "      <td>0.370728</td>\n",
       "      <td>0.224397</td>\n",
       "      <td>0.763987</td>\n",
       "    </tr>\n",
       "  </tbody>\n",
       "</table>\n",
       "</div>"
      ],
      "text/plain": [
       "                       Flowers and Insects wrt Pleasant(5) and Unpleasant(5)  \\\n",
       "model_name                                                                     \n",
       "glove twitter dim=25                                            3.983256       \n",
       "glove twitter dim=50                                            3.059114       \n",
       "glove twitter dim=100                                           1.998491       \n",
       "glove twitter dim=200                                           1.446090       \n",
       "\n",
       "                       Instruments and Weapons wrt Pleasant(5) and Unpleasant(5)  \\\n",
       "model_name                                                                         \n",
       "glove twitter dim=25                                            1.727524           \n",
       "glove twitter dim=50                                            2.611351           \n",
       "glove twitter dim=100                                           1.815693           \n",
       "glove twitter dim=200                                           1.209590           \n",
       "\n",
       "                       European american names(5) and African american names(5) wrt Pleasant(5) and Unpleasant(5)  \\\n",
       "model_name                                                                                                          \n",
       "glove twitter dim=25                                            3.752915                                            \n",
       "glove twitter dim=50                                            2.564336                                            \n",
       "glove twitter dim=100                                           2.188712                                            \n",
       "glove twitter dim=200                                           1.674214                                            \n",
       "\n",
       "                       European american names(7) and African american names(7) wrt Pleasant(5) and Unpleasant(5)  \\\n",
       "model_name                                                                                                          \n",
       "glove twitter dim=25                                            1.838223                                            \n",
       "glove twitter dim=50                                            1.432154                                            \n",
       "glove twitter dim=100                                           1.214762                                            \n",
       "glove twitter dim=200                                           0.918201                                            \n",
       "\n",
       "                       European american names(7) and African american names(7) wrt Pleasant(9) and Unpleasant(9)  \\\n",
       "model_name                                                                                                          \n",
       "glove twitter dim=25                                            1.539729                                            \n",
       "glove twitter dim=50                                            1.184290                                            \n",
       "glove twitter dim=100                                           1.380674                                            \n",
       "glove twitter dim=200                                           1.160593                                            \n",
       "\n",
       "                       Male names and Female names wrt Career and Family  \\\n",
       "model_name                                                                 \n",
       "glove twitter dim=25                                            0.817561   \n",
       "glove twitter dim=50                                            0.736073   \n",
       "glove twitter dim=100                                           0.653837   \n",
       "glove twitter dim=200                                           0.537437   \n",
       "\n",
       "                       Math and Arts wrt Male terms and Female terms  \\\n",
       "model_name                                                             \n",
       "glove twitter dim=25                                        0.042542   \n",
       "glove twitter dim=50                                       -0.211789   \n",
       "glove twitter dim=100                                      -0.060213   \n",
       "glove twitter dim=200                                      -0.035495   \n",
       "\n",
       "                       Science and Arts 2 wrt Male terms and Female terms  \\\n",
       "model_name                                                                  \n",
       "glove twitter dim=25                                            0.090977    \n",
       "glove twitter dim=50                                           -0.180491    \n",
       "glove twitter dim=100                                           0.004055    \n",
       "glove twitter dim=200                                           0.063129    \n",
       "\n",
       "                       Mental disease and Physical disease wrt Temporary and Permanent  \\\n",
       "model_name                                                                               \n",
       "glove twitter dim=25                                            0.267538                 \n",
       "glove twitter dim=50                                            0.357402                 \n",
       "glove twitter dim=100                                           0.626559                 \n",
       "glove twitter dim=200                                           0.370728                 \n",
       "\n",
       "                       Young peoples names and Old peoples names wrt Pleasant(9) and Unpleasant(9)  \\\n",
       "model_name                                                                                           \n",
       "glove twitter dim=25                                            0.329011                             \n",
       "glove twitter dim=50                                            0.354238                             \n",
       "glove twitter dim=100                                           0.360366                             \n",
       "glove twitter dim=200                                           0.224397                             \n",
       "\n",
       "                       WEAT: WEAT Queries average of abs values score  \n",
       "model_name                                                             \n",
       "glove twitter dim=25                                         1.438928  \n",
       "glove twitter dim=50                                         1.269124  \n",
       "glove twitter dim=100                                        1.030336  \n",
       "glove twitter dim=200                                        0.763987  "
      ]
     },
     "execution_count": 20,
     "metadata": {},
     "output_type": "execute_result"
    }
   ],
   "source": [
    "models = [glove_1, glove_2, glove_3, glove_4]\n",
    "\n",
    "WEAT_results_1 = run_queries(\n",
    "    WEAT,\n",
    "    queries,\n",
    "    models,\n",
    "    metric_params={'preprocessor_args': {\n",
    "        'lowercase': True\n",
    "    }},\n",
    "    aggregate_results=True,\n",
    "    aggregation_function='abs_avg',\n",
    "    queries_set_name='WEAT Queries')\n",
    "\n",
    "%store WEAT_results_1\n",
    "WEAT_results_1"
   ]
  },
  {
   "cell_type": "code",
   "execution_count": 21,
   "metadata": {
    "scrolled": true
   },
   "outputs": [
    {
     "name": "stdout",
     "output_type": "stream",
     "text": [
      "Stored 'WEAT_ranking_1' (DataFrame)\n"
     ]
    },
    {
     "data": {
      "text/html": [
       "<div>\n",
       "<style scoped>\n",
       "    .dataframe tbody tr th:only-of-type {\n",
       "        vertical-align: middle;\n",
       "    }\n",
       "\n",
       "    .dataframe tbody tr th {\n",
       "        vertical-align: top;\n",
       "    }\n",
       "\n",
       "    .dataframe thead th {\n",
       "        text-align: right;\n",
       "    }\n",
       "</style>\n",
       "<table border=\"1\" class=\"dataframe\">\n",
       "  <thead>\n",
       "    <tr style=\"text-align: right;\">\n",
       "      <th></th>\n",
       "      <th>WEAT: WEAT Queries average of abs values score</th>\n",
       "    </tr>\n",
       "    <tr>\n",
       "      <th>model_name</th>\n",
       "      <th></th>\n",
       "    </tr>\n",
       "  </thead>\n",
       "  <tbody>\n",
       "    <tr>\n",
       "      <th>glove twitter dim=25</th>\n",
       "      <td>4.0</td>\n",
       "    </tr>\n",
       "    <tr>\n",
       "      <th>glove twitter dim=50</th>\n",
       "      <td>3.0</td>\n",
       "    </tr>\n",
       "    <tr>\n",
       "      <th>glove twitter dim=100</th>\n",
       "      <td>2.0</td>\n",
       "    </tr>\n",
       "    <tr>\n",
       "      <th>glove twitter dim=200</th>\n",
       "      <td>1.0</td>\n",
       "    </tr>\n",
       "  </tbody>\n",
       "</table>\n",
       "</div>"
      ],
      "text/plain": [
       "                       WEAT: WEAT Queries average of abs values score\n",
       "model_name                                                           \n",
       "glove twitter dim=25                                              4.0\n",
       "glove twitter dim=50                                              3.0\n",
       "glove twitter dim=100                                             2.0\n",
       "glove twitter dim=200                                             1.0"
      ]
     },
     "execution_count": 21,
     "metadata": {},
     "output_type": "execute_result"
    }
   ],
   "source": [
    "WEAT_ranking_1 = create_ranking([WEAT_results_1])\n",
    "\n",
    "%store WEAT_ranking_1\n",
    "WEAT_ranking_1"
   ]
  },
  {
   "cell_type": "code",
   "execution_count": 3,
   "metadata": {
    "scrolled": true
   },
   "outputs": [],
   "source": [
    "glove_1_fee = loader.WE().load(ename = 'glove-twitter-25', normalize=True)"
   ]
  },
  {
   "cell_type": "code",
   "execution_count": 11,
   "metadata": {},
   "outputs": [],
   "source": [
    "glove_2_fee = loader.WE().load(ename = 'glove-twitter-50', normalize=True)"
   ]
  },
  {
   "cell_type": "code",
   "execution_count": 13,
   "metadata": {},
   "outputs": [],
   "source": [
    "glove_3_fee = loader.WE().load(ename = 'glove-twitter-100', normalize=True)"
   ]
  },
  {
   "cell_type": "code",
   "execution_count": 15,
   "metadata": {},
   "outputs": [],
   "source": [
    "glove_4_fee = loader.WE().load(ename = 'glove-twitter-200', normalize=True)"
   ]
  },
  {
   "cell_type": "code",
   "execution_count": 10,
   "metadata": {},
   "outputs": [
    {
     "name": "stdout",
     "output_type": "stream",
     "text": [
      "Failed for line: ['statesman:stateswoman', 'shirt:blouse', 'book:magazine', 'doctor:nurse']\n",
      "Failed for line: ['statesman:stateswoman', 'dog:cat', 'record:cassette', 'manager:secretary']\n",
      "Failed for line: ['statesman:stateswoman', 'dog:cat', 'fiction:poetry', 'chef:baker']\n",
      "Failed for line: ['statesman:stateswoman', 'fiction:poetry', 'bolt:nut', 'guard:cashier']\n",
      "Failed for line: ['statesman:stateswoman', 'almond:pecan', 'sugar:flour', 'programmer:homemaker']\n",
      "Failed for line: ['statesman:stateswoman', 'puppy:kitten', 'pillow:mattress', 'leader:assistant']\n",
      "Failed for line: ['statesman:stateswoman', 'book:magazine', 'sugar:flour', 'researcher:librarians']\n",
      "Failed for line: ['statesman:stateswoman', 'dog:bitch', 'duck:goose', 'dentist:optometrist']\n",
      "Failed for line: ['statesman:stateswoman', 'pen:pencil', 'salt:pepper', 'dispatcher:tailor']\n",
      "Failed for line: ['statesman:stateswoman', 'sugar:flour', 'cup:lid', 'engineer:dancer']\n",
      "Failed for line: ['statesman:stateswoman', 'fiction:poetry', 'cup:lid', 'lawyer:clerk']\n",
      "Failed for line: ['statesman:stateswoman', 'canoe:kayak', 'pillow:mattress', 'janitor:housekeeper']\n",
      "Failed for line: ['statesman:stateswoman', 'kitten:puppy', 'record:cassette', 'developer:counselor']\n",
      "Failed for line: ['statesman:stateswoman', 'cat:dog', 'cassette:record', 'judge:stenographer']\n",
      "Failed for line: ['statesman:stateswoman', 'cassette:record', 'salt:pepper', 'president:receptionist']\n",
      "Failed for line: ['statesman:stateswoman', 'violin:cello', 'duck:goose', 'captain:bookkeeper']\n",
      "Failed for line: ['statesman:stateswoman', 'almond:pecan', 'fiction:poetry', 'warrior:nanny']\n",
      "Failed for line: ['statesman:stateswoman', 'jazz:blues', 'kitten:puppy', 'architect:hairdresser']\n",
      "Failed for line: ['statesman:stateswoman', 'puppy:kitten', 'jazz:blues', 'boss:stylist']\n",
      "Failed for line: ['statesman:stateswoman', 'book:magazine', 'dog:cat', 'pilot:socialite']\n",
      "Failed for line: ['horseman:horsewoman', 'dog:bitch', 'fiction:poetry', 'doctor:nurse']\n",
      "Failed for line: ['horseman:horsewoman', 'book:magazine', 'dogwood:elm', 'manager:secretary']\n",
      "Failed for line: ['horseman:horsewoman', 'flour:sugar', 'pencil:pen', 'chef:baker']\n",
      "Failed for line: ['horseman:horsewoman', 'sugar:flour', 'pillow:mattress', 'guard:cashier']\n",
      "Failed for line: ['horseman:horsewoman', 'trout:salmon', 'car:bus', 'programmer:homemaker']\n",
      "Failed for line: ['horseman:horsewoman', 'canoe:kayak', 'bolt:nut', 'leader:assistant']\n",
      "Failed for line: ['horseman:horsewoman', 'violin:cello', 'bolt:nut', 'researcher:librarians']\n",
      "Failed for line: ['horseman:horsewoman', 'couch:recliner', 'shirt:blouse', 'dentist:optometrist']\n",
      "Failed for line: ['horseman:horsewoman', 'cat:dog', 'dog:bitch', 'dispatcher:tailor']\n",
      "Failed for line: ['horseman:horsewoman', 'pencil:pen', 'duck:goose', 'engineer:dancer']\n",
      "Failed for line: ['horseman:horsewoman', 'cup:lid', 'puppy:kitten', 'lawyer:clerk']\n",
      "Failed for line: ['horseman:horsewoman', 'flour:sugar', 'treble:bass', 'janitor:housekeeper']\n",
      "Failed for line: ['horseman:horsewoman', 'fiction:poetry', 'cup:lid', 'developer:counselor']\n",
      "Failed for line: ['horseman:horsewoman', 'couch:recliner', 'flour:sugar', 'judge:stenographer']\n",
      "Failed for line: ['horseman:horsewoman', 'kitten:puppy', 'jazz:blues', 'president:receptionist']\n",
      "Failed for line: ['horseman:horsewoman', 'book:magazine', 'canoe:kayak', 'captain:bookkeeper']\n",
      "Failed for line: ['horseman:horsewoman', 'kitten:puppy', 'jazz:blues', 'warrior:nanny']\n",
      "Failed for line: ['horseman:horsewoman', 'violin:cello', 'pencil:pen', 'architect:hairdresser']\n",
      "Failed for line: ['horseman:horsewoman', 'algebra:geometry', 'dogwood:elm', 'boss:stylist']\n",
      "Failed for line: ['horseman:horsewoman', 'jazz:blues', 'cassette:record', 'pilot:socialite']\n",
      "Failed for line: ['countrymen:countrywomen', 'shirt:blouse', 'couch:recliner', 'doctor:nurse']\n",
      "Failed for line: ['countrymen:countrywomen', 'kitten:puppy', 'car:bus', 'manager:secretary']\n",
      "Failed for line: ['countrymen:countrywomen', 'shirt:blouse', 'book:magazine', 'chef:baker']\n",
      "Failed for line: ['countrymen:countrywomen', 'pillow:mattress', 'dogwood:elm', 'guard:cashier']\n",
      "Failed for line: ['countrymen:countrywomen', 'fiction:poetry', 'pencil:pen', 'programmer:homemaker']\n",
      "Failed for line: ['countrymen:countrywomen', 'cup:lid', 'salt:pepper', 'leader:assistant']\n",
      "Failed for line: ['countrymen:countrywomen', 'canoe:kayak', 'dog:cat', 'researcher:librarians']\n",
      "Failed for line: ['countrymen:countrywomen', 'shirt:blouse', 'dog:bitch', 'dentist:optometrist']\n",
      "Failed for line: ['countrymen:countrywomen', 'dog:bitch', 'bolt:nut', 'dispatcher:tailor']\n",
      "Failed for line: ['countrymen:countrywomen', 'shirt:blouse', 'pen:pencil', 'engineer:dancer']\n",
      "Failed for line: ['countrymen:countrywomen', 'violin:cello', 'bolt:nut', 'lawyer:clerk']\n",
      "Failed for line: ['countrymen:countrywomen', 'pencil:pen', 'kitten:puppy', 'janitor:housekeeper']\n",
      "Failed for line: ['countrymen:countrywomen', 'dog:cat', 'almond:pecan', 'developer:counselor']\n",
      "Failed for line: ['countrymen:countrywomen', 'algebra:geometry', 'violin:cello', 'judge:stenographer']\n",
      "Failed for line: ['countrymen:countrywomen', 'salt:pepper', 'car:bus', 'president:receptionist']\n",
      "Failed for line: ['countrymen:countrywomen', 'violin:cello', 'sugar:flour', 'captain:bookkeeper']\n",
      "Failed for line: ['countrymen:countrywomen', 'treble:bass', 'salt:pepper', 'warrior:nanny']\n",
      "Failed for line: ['countrymen:countrywomen', 'pencil:pen', 'dog:cat', 'architect:hairdresser']\n",
      "Failed for line: ['countrymen:countrywomen', 'cat:dog', 'trout:salmon', 'boss:stylist']\n",
      "Failed for line: ['countrymen:countrywomen', 'puppy:kitten', 'cup:lid', 'pilot:socialite']\n",
      "Failed for line: ['nobleman:noblewoman', 'puppy:kitten', 'shirt:blouse', 'doctor:nurse']\n",
      "Failed for line: ['nobleman:noblewoman', 'pen:pencil', 'kitten:puppy', 'manager:secretary']\n",
      "Failed for line: ['nobleman:noblewoman', 'cassette:record', 'couch:recliner', 'chef:baker']\n",
      "Failed for line: ['nobleman:noblewoman', 'treble:bass', 'duck:goose', 'guard:cashier']\n",
      "Failed for line: ['nobleman:noblewoman', 'cassette:record', 'jazz:blues', 'programmer:homemaker']\n",
      "Failed for line: ['nobleman:noblewoman', 'dog:cat', 'cassette:record', 'leader:assistant']\n",
      "Failed for line: ['nobleman:noblewoman', 'treble:bass', 'duck:goose', 'researcher:librarians']\n",
      "Failed for line: ['nobleman:noblewoman', 'canoe:kayak', 'puppy:kitten', 'dentist:optometrist']\n",
      "Failed for line: ['nobleman:noblewoman', 'couch:recliner', 'cat:dog', 'dispatcher:tailor']\n",
      "Failed for line: ['nobleman:noblewoman', 'fiction:poetry', 'shirt:blouse', 'engineer:dancer']\n",
      "Failed for line: ['nobleman:noblewoman', 'sugar:flour', 'couch:recliner', 'lawyer:clerk']\n",
      "Failed for line: ['nobleman:noblewoman', 'canoe:kayak', 'book:magazine', 'janitor:housekeeper']\n",
      "Failed for line: ['nobleman:noblewoman', 'car:bus', 'jazz:blues', 'developer:counselor']\n",
      "Failed for line: ['nobleman:noblewoman', 'dogwood:elm', 'canoe:kayak', 'judge:stenographer']\n",
      "Failed for line: ['nobleman:noblewoman', 'duck:goose', 'treble:bass', 'president:receptionist']\n",
      "Failed for line: ['nobleman:noblewoman', 'fiction:poetry', 'pillow:mattress', 'captain:bookkeeper']\n",
      "Failed for line: ['nobleman:noblewoman', 'pencil:pen', 'canoe:kayak', 'warrior:nanny']\n",
      "Failed for line: ['nobleman:noblewoman', 'fiction:poetry', 'violin:cello', 'architect:hairdresser']\n",
      "Failed for line: ['nobleman:noblewoman', 'puppy:kitten', 'couch:recliner', 'boss:stylist']\n",
      "Failed for line: ['nobleman:noblewoman', 'car:bus', 'puppy:kitten', 'pilot:socialite']\n",
      "Stored 'sembias_g1' (tuple)\n"
     ]
    },
    {
     "data": {
      "text/plain": [
       "(0.17777777777777778, 0.4305555555555556, 0.39166666666666666)"
      ]
     },
     "execution_count": 10,
     "metadata": {},
     "output_type": "execute_result"
    }
   ],
   "source": [
    "sembias_g1 = SemBias(glove_1_fee).compute()\n",
    "\n",
    "%store sembias_g1\n",
    "sembias_g1"
   ]
  },
  {
   "cell_type": "code",
   "execution_count": 12,
   "metadata": {
    "scrolled": false
   },
   "outputs": [
    {
     "name": "stdout",
     "output_type": "stream",
     "text": [
      "Failed for line: ['statesman:stateswoman', 'shirt:blouse', 'book:magazine', 'doctor:nurse']\n",
      "Failed for line: ['statesman:stateswoman', 'dog:cat', 'record:cassette', 'manager:secretary']\n",
      "Failed for line: ['statesman:stateswoman', 'dog:cat', 'fiction:poetry', 'chef:baker']\n",
      "Failed for line: ['statesman:stateswoman', 'fiction:poetry', 'bolt:nut', 'guard:cashier']\n",
      "Failed for line: ['statesman:stateswoman', 'almond:pecan', 'sugar:flour', 'programmer:homemaker']\n",
      "Failed for line: ['statesman:stateswoman', 'puppy:kitten', 'pillow:mattress', 'leader:assistant']\n",
      "Failed for line: ['statesman:stateswoman', 'book:magazine', 'sugar:flour', 'researcher:librarians']\n",
      "Failed for line: ['statesman:stateswoman', 'dog:bitch', 'duck:goose', 'dentist:optometrist']\n",
      "Failed for line: ['statesman:stateswoman', 'pen:pencil', 'salt:pepper', 'dispatcher:tailor']\n",
      "Failed for line: ['statesman:stateswoman', 'sugar:flour', 'cup:lid', 'engineer:dancer']\n",
      "Failed for line: ['statesman:stateswoman', 'fiction:poetry', 'cup:lid', 'lawyer:clerk']\n",
      "Failed for line: ['statesman:stateswoman', 'canoe:kayak', 'pillow:mattress', 'janitor:housekeeper']\n",
      "Failed for line: ['statesman:stateswoman', 'kitten:puppy', 'record:cassette', 'developer:counselor']\n",
      "Failed for line: ['statesman:stateswoman', 'cat:dog', 'cassette:record', 'judge:stenographer']\n",
      "Failed for line: ['statesman:stateswoman', 'cassette:record', 'salt:pepper', 'president:receptionist']\n",
      "Failed for line: ['statesman:stateswoman', 'violin:cello', 'duck:goose', 'captain:bookkeeper']\n",
      "Failed for line: ['statesman:stateswoman', 'almond:pecan', 'fiction:poetry', 'warrior:nanny']\n",
      "Failed for line: ['statesman:stateswoman', 'jazz:blues', 'kitten:puppy', 'architect:hairdresser']\n",
      "Failed for line: ['statesman:stateswoman', 'puppy:kitten', 'jazz:blues', 'boss:stylist']\n",
      "Failed for line: ['statesman:stateswoman', 'book:magazine', 'dog:cat', 'pilot:socialite']\n",
      "Failed for line: ['horseman:horsewoman', 'dog:bitch', 'fiction:poetry', 'doctor:nurse']\n",
      "Failed for line: ['horseman:horsewoman', 'book:magazine', 'dogwood:elm', 'manager:secretary']\n",
      "Failed for line: ['horseman:horsewoman', 'flour:sugar', 'pencil:pen', 'chef:baker']\n",
      "Failed for line: ['horseman:horsewoman', 'sugar:flour', 'pillow:mattress', 'guard:cashier']\n",
      "Failed for line: ['horseman:horsewoman', 'trout:salmon', 'car:bus', 'programmer:homemaker']\n",
      "Failed for line: ['horseman:horsewoman', 'canoe:kayak', 'bolt:nut', 'leader:assistant']\n",
      "Failed for line: ['horseman:horsewoman', 'violin:cello', 'bolt:nut', 'researcher:librarians']\n",
      "Failed for line: ['horseman:horsewoman', 'couch:recliner', 'shirt:blouse', 'dentist:optometrist']\n",
      "Failed for line: ['horseman:horsewoman', 'cat:dog', 'dog:bitch', 'dispatcher:tailor']\n",
      "Failed for line: ['horseman:horsewoman', 'pencil:pen', 'duck:goose', 'engineer:dancer']\n",
      "Failed for line: ['horseman:horsewoman', 'cup:lid', 'puppy:kitten', 'lawyer:clerk']\n",
      "Failed for line: ['horseman:horsewoman', 'flour:sugar', 'treble:bass', 'janitor:housekeeper']\n",
      "Failed for line: ['horseman:horsewoman', 'fiction:poetry', 'cup:lid', 'developer:counselor']\n",
      "Failed for line: ['horseman:horsewoman', 'couch:recliner', 'flour:sugar', 'judge:stenographer']\n",
      "Failed for line: ['horseman:horsewoman', 'kitten:puppy', 'jazz:blues', 'president:receptionist']\n",
      "Failed for line: ['horseman:horsewoman', 'book:magazine', 'canoe:kayak', 'captain:bookkeeper']\n",
      "Failed for line: ['horseman:horsewoman', 'kitten:puppy', 'jazz:blues', 'warrior:nanny']\n",
      "Failed for line: ['horseman:horsewoman', 'violin:cello', 'pencil:pen', 'architect:hairdresser']\n",
      "Failed for line: ['horseman:horsewoman', 'algebra:geometry', 'dogwood:elm', 'boss:stylist']\n",
      "Failed for line: ['horseman:horsewoman', 'jazz:blues', 'cassette:record', 'pilot:socialite']\n",
      "Failed for line: ['countrymen:countrywomen', 'shirt:blouse', 'couch:recliner', 'doctor:nurse']\n",
      "Failed for line: ['countrymen:countrywomen', 'kitten:puppy', 'car:bus', 'manager:secretary']\n",
      "Failed for line: ['countrymen:countrywomen', 'shirt:blouse', 'book:magazine', 'chef:baker']\n",
      "Failed for line: ['countrymen:countrywomen', 'pillow:mattress', 'dogwood:elm', 'guard:cashier']\n",
      "Failed for line: ['countrymen:countrywomen', 'fiction:poetry', 'pencil:pen', 'programmer:homemaker']\n",
      "Failed for line: ['countrymen:countrywomen', 'cup:lid', 'salt:pepper', 'leader:assistant']\n",
      "Failed for line: ['countrymen:countrywomen', 'canoe:kayak', 'dog:cat', 'researcher:librarians']\n",
      "Failed for line: ['countrymen:countrywomen', 'shirt:blouse', 'dog:bitch', 'dentist:optometrist']\n",
      "Failed for line: ['countrymen:countrywomen', 'dog:bitch', 'bolt:nut', 'dispatcher:tailor']\n",
      "Failed for line: ['countrymen:countrywomen', 'shirt:blouse', 'pen:pencil', 'engineer:dancer']\n",
      "Failed for line: ['countrymen:countrywomen', 'violin:cello', 'bolt:nut', 'lawyer:clerk']\n",
      "Failed for line: ['countrymen:countrywomen', 'pencil:pen', 'kitten:puppy', 'janitor:housekeeper']\n",
      "Failed for line: ['countrymen:countrywomen', 'dog:cat', 'almond:pecan', 'developer:counselor']\n",
      "Failed for line: ['countrymen:countrywomen', 'algebra:geometry', 'violin:cello', 'judge:stenographer']\n",
      "Failed for line: ['countrymen:countrywomen', 'salt:pepper', 'car:bus', 'president:receptionist']\n",
      "Failed for line: ['countrymen:countrywomen', 'violin:cello', 'sugar:flour', 'captain:bookkeeper']\n",
      "Failed for line: ['countrymen:countrywomen', 'treble:bass', 'salt:pepper', 'warrior:nanny']\n",
      "Failed for line: ['countrymen:countrywomen', 'pencil:pen', 'dog:cat', 'architect:hairdresser']\n",
      "Failed for line: ['countrymen:countrywomen', 'cat:dog', 'trout:salmon', 'boss:stylist']\n",
      "Failed for line: ['countrymen:countrywomen', 'puppy:kitten', 'cup:lid', 'pilot:socialite']\n",
      "Failed for line: ['nobleman:noblewoman', 'puppy:kitten', 'shirt:blouse', 'doctor:nurse']\n",
      "Failed for line: ['nobleman:noblewoman', 'pen:pencil', 'kitten:puppy', 'manager:secretary']\n",
      "Failed for line: ['nobleman:noblewoman', 'cassette:record', 'couch:recliner', 'chef:baker']\n",
      "Failed for line: ['nobleman:noblewoman', 'treble:bass', 'duck:goose', 'guard:cashier']\n",
      "Failed for line: ['nobleman:noblewoman', 'cassette:record', 'jazz:blues', 'programmer:homemaker']\n",
      "Failed for line: ['nobleman:noblewoman', 'dog:cat', 'cassette:record', 'leader:assistant']\n",
      "Failed for line: ['nobleman:noblewoman', 'treble:bass', 'duck:goose', 'researcher:librarians']\n",
      "Failed for line: ['nobleman:noblewoman', 'canoe:kayak', 'puppy:kitten', 'dentist:optometrist']\n",
      "Failed for line: ['nobleman:noblewoman', 'couch:recliner', 'cat:dog', 'dispatcher:tailor']\n",
      "Failed for line: ['nobleman:noblewoman', 'fiction:poetry', 'shirt:blouse', 'engineer:dancer']\n",
      "Failed for line: ['nobleman:noblewoman', 'sugar:flour', 'couch:recliner', 'lawyer:clerk']\n",
      "Failed for line: ['nobleman:noblewoman', 'canoe:kayak', 'book:magazine', 'janitor:housekeeper']\n",
      "Failed for line: ['nobleman:noblewoman', 'car:bus', 'jazz:blues', 'developer:counselor']\n",
      "Failed for line: ['nobleman:noblewoman', 'dogwood:elm', 'canoe:kayak', 'judge:stenographer']\n",
      "Failed for line: ['nobleman:noblewoman', 'duck:goose', 'treble:bass', 'president:receptionist']\n",
      "Failed for line: ['nobleman:noblewoman', 'fiction:poetry', 'pillow:mattress', 'captain:bookkeeper']\n",
      "Failed for line: ['nobleman:noblewoman', 'pencil:pen', 'canoe:kayak', 'warrior:nanny']\n",
      "Failed for line: ['nobleman:noblewoman', 'fiction:poetry', 'violin:cello', 'architect:hairdresser']\n",
      "Failed for line: ['nobleman:noblewoman', 'puppy:kitten', 'couch:recliner', 'boss:stylist']\n",
      "Failed for line: ['nobleman:noblewoman', 'car:bus', 'puppy:kitten', 'pilot:socialite']\n",
      "Stored 'sembias_g2' (tuple)\n"
     ]
    },
    {
     "data": {
      "text/plain": [
       "(0.32222222222222224, 0.3972222222222222, 0.28055555555555556)"
      ]
     },
     "execution_count": 12,
     "metadata": {},
     "output_type": "execute_result"
    }
   ],
   "source": [
    "sembias_g2 = SemBias(glove_2_fee).compute()\n",
    "\n",
    "%store sembias_g2\n",
    "sembias_g2"
   ]
  },
  {
   "cell_type": "code",
   "execution_count": 14,
   "metadata": {},
   "outputs": [
    {
     "name": "stdout",
     "output_type": "stream",
     "text": [
      "Failed for line: ['statesman:stateswoman', 'shirt:blouse', 'book:magazine', 'doctor:nurse']\n",
      "Failed for line: ['statesman:stateswoman', 'dog:cat', 'record:cassette', 'manager:secretary']\n",
      "Failed for line: ['statesman:stateswoman', 'dog:cat', 'fiction:poetry', 'chef:baker']\n",
      "Failed for line: ['statesman:stateswoman', 'fiction:poetry', 'bolt:nut', 'guard:cashier']\n",
      "Failed for line: ['statesman:stateswoman', 'almond:pecan', 'sugar:flour', 'programmer:homemaker']\n",
      "Failed for line: ['statesman:stateswoman', 'puppy:kitten', 'pillow:mattress', 'leader:assistant']\n",
      "Failed for line: ['statesman:stateswoman', 'book:magazine', 'sugar:flour', 'researcher:librarians']\n",
      "Failed for line: ['statesman:stateswoman', 'dog:bitch', 'duck:goose', 'dentist:optometrist']\n",
      "Failed for line: ['statesman:stateswoman', 'pen:pencil', 'salt:pepper', 'dispatcher:tailor']\n",
      "Failed for line: ['statesman:stateswoman', 'sugar:flour', 'cup:lid', 'engineer:dancer']\n",
      "Failed for line: ['statesman:stateswoman', 'fiction:poetry', 'cup:lid', 'lawyer:clerk']\n",
      "Failed for line: ['statesman:stateswoman', 'canoe:kayak', 'pillow:mattress', 'janitor:housekeeper']\n",
      "Failed for line: ['statesman:stateswoman', 'kitten:puppy', 'record:cassette', 'developer:counselor']\n",
      "Failed for line: ['statesman:stateswoman', 'cat:dog', 'cassette:record', 'judge:stenographer']\n",
      "Failed for line: ['statesman:stateswoman', 'cassette:record', 'salt:pepper', 'president:receptionist']\n",
      "Failed for line: ['statesman:stateswoman', 'violin:cello', 'duck:goose', 'captain:bookkeeper']\n",
      "Failed for line: ['statesman:stateswoman', 'almond:pecan', 'fiction:poetry', 'warrior:nanny']\n",
      "Failed for line: ['statesman:stateswoman', 'jazz:blues', 'kitten:puppy', 'architect:hairdresser']\n",
      "Failed for line: ['statesman:stateswoman', 'puppy:kitten', 'jazz:blues', 'boss:stylist']\n",
      "Failed for line: ['statesman:stateswoman', 'book:magazine', 'dog:cat', 'pilot:socialite']\n",
      "Failed for line: ['horseman:horsewoman', 'dog:bitch', 'fiction:poetry', 'doctor:nurse']\n",
      "Failed for line: ['horseman:horsewoman', 'book:magazine', 'dogwood:elm', 'manager:secretary']\n",
      "Failed for line: ['horseman:horsewoman', 'flour:sugar', 'pencil:pen', 'chef:baker']\n",
      "Failed for line: ['horseman:horsewoman', 'sugar:flour', 'pillow:mattress', 'guard:cashier']\n",
      "Failed for line: ['horseman:horsewoman', 'trout:salmon', 'car:bus', 'programmer:homemaker']\n",
      "Failed for line: ['horseman:horsewoman', 'canoe:kayak', 'bolt:nut', 'leader:assistant']\n",
      "Failed for line: ['horseman:horsewoman', 'violin:cello', 'bolt:nut', 'researcher:librarians']\n",
      "Failed for line: ['horseman:horsewoman', 'couch:recliner', 'shirt:blouse', 'dentist:optometrist']\n",
      "Failed for line: ['horseman:horsewoman', 'cat:dog', 'dog:bitch', 'dispatcher:tailor']\n",
      "Failed for line: ['horseman:horsewoman', 'pencil:pen', 'duck:goose', 'engineer:dancer']\n",
      "Failed for line: ['horseman:horsewoman', 'cup:lid', 'puppy:kitten', 'lawyer:clerk']\n",
      "Failed for line: ['horseman:horsewoman', 'flour:sugar', 'treble:bass', 'janitor:housekeeper']\n",
      "Failed for line: ['horseman:horsewoman', 'fiction:poetry', 'cup:lid', 'developer:counselor']\n",
      "Failed for line: ['horseman:horsewoman', 'couch:recliner', 'flour:sugar', 'judge:stenographer']\n",
      "Failed for line: ['horseman:horsewoman', 'kitten:puppy', 'jazz:blues', 'president:receptionist']\n",
      "Failed for line: ['horseman:horsewoman', 'book:magazine', 'canoe:kayak', 'captain:bookkeeper']\n",
      "Failed for line: ['horseman:horsewoman', 'kitten:puppy', 'jazz:blues', 'warrior:nanny']\n",
      "Failed for line: ['horseman:horsewoman', 'violin:cello', 'pencil:pen', 'architect:hairdresser']\n",
      "Failed for line: ['horseman:horsewoman', 'algebra:geometry', 'dogwood:elm', 'boss:stylist']\n",
      "Failed for line: ['horseman:horsewoman', 'jazz:blues', 'cassette:record', 'pilot:socialite']\n",
      "Failed for line: ['countrymen:countrywomen', 'shirt:blouse', 'couch:recliner', 'doctor:nurse']\n",
      "Failed for line: ['countrymen:countrywomen', 'kitten:puppy', 'car:bus', 'manager:secretary']\n",
      "Failed for line: ['countrymen:countrywomen', 'shirt:blouse', 'book:magazine', 'chef:baker']\n",
      "Failed for line: ['countrymen:countrywomen', 'pillow:mattress', 'dogwood:elm', 'guard:cashier']\n",
      "Failed for line: ['countrymen:countrywomen', 'fiction:poetry', 'pencil:pen', 'programmer:homemaker']\n",
      "Failed for line: ['countrymen:countrywomen', 'cup:lid', 'salt:pepper', 'leader:assistant']\n",
      "Failed for line: ['countrymen:countrywomen', 'canoe:kayak', 'dog:cat', 'researcher:librarians']\n",
      "Failed for line: ['countrymen:countrywomen', 'shirt:blouse', 'dog:bitch', 'dentist:optometrist']\n",
      "Failed for line: ['countrymen:countrywomen', 'dog:bitch', 'bolt:nut', 'dispatcher:tailor']\n",
      "Failed for line: ['countrymen:countrywomen', 'shirt:blouse', 'pen:pencil', 'engineer:dancer']\n",
      "Failed for line: ['countrymen:countrywomen', 'violin:cello', 'bolt:nut', 'lawyer:clerk']\n",
      "Failed for line: ['countrymen:countrywomen', 'pencil:pen', 'kitten:puppy', 'janitor:housekeeper']\n",
      "Failed for line: ['countrymen:countrywomen', 'dog:cat', 'almond:pecan', 'developer:counselor']\n",
      "Failed for line: ['countrymen:countrywomen', 'algebra:geometry', 'violin:cello', 'judge:stenographer']\n",
      "Failed for line: ['countrymen:countrywomen', 'salt:pepper', 'car:bus', 'president:receptionist']\n",
      "Failed for line: ['countrymen:countrywomen', 'violin:cello', 'sugar:flour', 'captain:bookkeeper']\n",
      "Failed for line: ['countrymen:countrywomen', 'treble:bass', 'salt:pepper', 'warrior:nanny']\n",
      "Failed for line: ['countrymen:countrywomen', 'pencil:pen', 'dog:cat', 'architect:hairdresser']\n",
      "Failed for line: ['countrymen:countrywomen', 'cat:dog', 'trout:salmon', 'boss:stylist']\n",
      "Failed for line: ['countrymen:countrywomen', 'puppy:kitten', 'cup:lid', 'pilot:socialite']\n",
      "Failed for line: ['nobleman:noblewoman', 'puppy:kitten', 'shirt:blouse', 'doctor:nurse']\n",
      "Failed for line: ['nobleman:noblewoman', 'pen:pencil', 'kitten:puppy', 'manager:secretary']\n",
      "Failed for line: ['nobleman:noblewoman', 'cassette:record', 'couch:recliner', 'chef:baker']\n",
      "Failed for line: ['nobleman:noblewoman', 'treble:bass', 'duck:goose', 'guard:cashier']\n",
      "Failed for line: ['nobleman:noblewoman', 'cassette:record', 'jazz:blues', 'programmer:homemaker']\n",
      "Failed for line: ['nobleman:noblewoman', 'dog:cat', 'cassette:record', 'leader:assistant']\n",
      "Failed for line: ['nobleman:noblewoman', 'treble:bass', 'duck:goose', 'researcher:librarians']\n",
      "Failed for line: ['nobleman:noblewoman', 'canoe:kayak', 'puppy:kitten', 'dentist:optometrist']\n",
      "Failed for line: ['nobleman:noblewoman', 'couch:recliner', 'cat:dog', 'dispatcher:tailor']\n",
      "Failed for line: ['nobleman:noblewoman', 'fiction:poetry', 'shirt:blouse', 'engineer:dancer']\n",
      "Failed for line: ['nobleman:noblewoman', 'sugar:flour', 'couch:recliner', 'lawyer:clerk']\n",
      "Failed for line: ['nobleman:noblewoman', 'canoe:kayak', 'book:magazine', 'janitor:housekeeper']\n",
      "Failed for line: ['nobleman:noblewoman', 'car:bus', 'jazz:blues', 'developer:counselor']\n",
      "Failed for line: ['nobleman:noblewoman', 'dogwood:elm', 'canoe:kayak', 'judge:stenographer']\n",
      "Failed for line: ['nobleman:noblewoman', 'duck:goose', 'treble:bass', 'president:receptionist']\n",
      "Failed for line: ['nobleman:noblewoman', 'fiction:poetry', 'pillow:mattress', 'captain:bookkeeper']\n",
      "Failed for line: ['nobleman:noblewoman', 'pencil:pen', 'canoe:kayak', 'warrior:nanny']\n",
      "Failed for line: ['nobleman:noblewoman', 'fiction:poetry', 'violin:cello', 'architect:hairdresser']\n",
      "Failed for line: ['nobleman:noblewoman', 'puppy:kitten', 'couch:recliner', 'boss:stylist']\n",
      "Failed for line: ['nobleman:noblewoman', 'car:bus', 'puppy:kitten', 'pilot:socialite']\n",
      "Stored 'sembias_g3' (tuple)\n"
     ]
    },
    {
     "data": {
      "text/plain": [
       "(0.5083333333333333, 0.3, 0.19166666666666668)"
      ]
     },
     "execution_count": 14,
     "metadata": {},
     "output_type": "execute_result"
    }
   ],
   "source": [
    "sembias_g3 = SemBias(glove_3_fee).compute()\n",
    "\n",
    "%store sembias_g3\n",
    "sembias_g3"
   ]
  },
  {
   "cell_type": "code",
   "execution_count": 16,
   "metadata": {},
   "outputs": [
    {
     "name": "stdout",
     "output_type": "stream",
     "text": [
      "Failed for line: ['statesman:stateswoman', 'shirt:blouse', 'book:magazine', 'doctor:nurse']\n",
      "Failed for line: ['statesman:stateswoman', 'dog:cat', 'record:cassette', 'manager:secretary']\n",
      "Failed for line: ['statesman:stateswoman', 'dog:cat', 'fiction:poetry', 'chef:baker']\n",
      "Failed for line: ['statesman:stateswoman', 'fiction:poetry', 'bolt:nut', 'guard:cashier']\n",
      "Failed for line: ['statesman:stateswoman', 'almond:pecan', 'sugar:flour', 'programmer:homemaker']\n",
      "Failed for line: ['statesman:stateswoman', 'puppy:kitten', 'pillow:mattress', 'leader:assistant']\n",
      "Failed for line: ['statesman:stateswoman', 'book:magazine', 'sugar:flour', 'researcher:librarians']\n",
      "Failed for line: ['statesman:stateswoman', 'dog:bitch', 'duck:goose', 'dentist:optometrist']\n",
      "Failed for line: ['statesman:stateswoman', 'pen:pencil', 'salt:pepper', 'dispatcher:tailor']\n",
      "Failed for line: ['statesman:stateswoman', 'sugar:flour', 'cup:lid', 'engineer:dancer']\n",
      "Failed for line: ['statesman:stateswoman', 'fiction:poetry', 'cup:lid', 'lawyer:clerk']\n",
      "Failed for line: ['statesman:stateswoman', 'canoe:kayak', 'pillow:mattress', 'janitor:housekeeper']\n",
      "Failed for line: ['statesman:stateswoman', 'kitten:puppy', 'record:cassette', 'developer:counselor']\n",
      "Failed for line: ['statesman:stateswoman', 'cat:dog', 'cassette:record', 'judge:stenographer']\n",
      "Failed for line: ['statesman:stateswoman', 'cassette:record', 'salt:pepper', 'president:receptionist']\n",
      "Failed for line: ['statesman:stateswoman', 'violin:cello', 'duck:goose', 'captain:bookkeeper']\n",
      "Failed for line: ['statesman:stateswoman', 'almond:pecan', 'fiction:poetry', 'warrior:nanny']\n",
      "Failed for line: ['statesman:stateswoman', 'jazz:blues', 'kitten:puppy', 'architect:hairdresser']\n",
      "Failed for line: ['statesman:stateswoman', 'puppy:kitten', 'jazz:blues', 'boss:stylist']\n",
      "Failed for line: ['statesman:stateswoman', 'book:magazine', 'dog:cat', 'pilot:socialite']\n",
      "Failed for line: ['horseman:horsewoman', 'dog:bitch', 'fiction:poetry', 'doctor:nurse']\n",
      "Failed for line: ['horseman:horsewoman', 'book:magazine', 'dogwood:elm', 'manager:secretary']\n",
      "Failed for line: ['horseman:horsewoman', 'flour:sugar', 'pencil:pen', 'chef:baker']\n",
      "Failed for line: ['horseman:horsewoman', 'sugar:flour', 'pillow:mattress', 'guard:cashier']\n",
      "Failed for line: ['horseman:horsewoman', 'trout:salmon', 'car:bus', 'programmer:homemaker']\n",
      "Failed for line: ['horseman:horsewoman', 'canoe:kayak', 'bolt:nut', 'leader:assistant']\n",
      "Failed for line: ['horseman:horsewoman', 'violin:cello', 'bolt:nut', 'researcher:librarians']\n",
      "Failed for line: ['horseman:horsewoman', 'couch:recliner', 'shirt:blouse', 'dentist:optometrist']\n",
      "Failed for line: ['horseman:horsewoman', 'cat:dog', 'dog:bitch', 'dispatcher:tailor']\n",
      "Failed for line: ['horseman:horsewoman', 'pencil:pen', 'duck:goose', 'engineer:dancer']\n",
      "Failed for line: ['horseman:horsewoman', 'cup:lid', 'puppy:kitten', 'lawyer:clerk']\n",
      "Failed for line: ['horseman:horsewoman', 'flour:sugar', 'treble:bass', 'janitor:housekeeper']\n",
      "Failed for line: ['horseman:horsewoman', 'fiction:poetry', 'cup:lid', 'developer:counselor']\n",
      "Failed for line: ['horseman:horsewoman', 'couch:recliner', 'flour:sugar', 'judge:stenographer']\n",
      "Failed for line: ['horseman:horsewoman', 'kitten:puppy', 'jazz:blues', 'president:receptionist']\n",
      "Failed for line: ['horseman:horsewoman', 'book:magazine', 'canoe:kayak', 'captain:bookkeeper']\n",
      "Failed for line: ['horseman:horsewoman', 'kitten:puppy', 'jazz:blues', 'warrior:nanny']\n",
      "Failed for line: ['horseman:horsewoman', 'violin:cello', 'pencil:pen', 'architect:hairdresser']\n",
      "Failed for line: ['horseman:horsewoman', 'algebra:geometry', 'dogwood:elm', 'boss:stylist']\n",
      "Failed for line: ['horseman:horsewoman', 'jazz:blues', 'cassette:record', 'pilot:socialite']\n",
      "Failed for line: ['countrymen:countrywomen', 'shirt:blouse', 'couch:recliner', 'doctor:nurse']\n",
      "Failed for line: ['countrymen:countrywomen', 'kitten:puppy', 'car:bus', 'manager:secretary']\n",
      "Failed for line: ['countrymen:countrywomen', 'shirt:blouse', 'book:magazine', 'chef:baker']\n",
      "Failed for line: ['countrymen:countrywomen', 'pillow:mattress', 'dogwood:elm', 'guard:cashier']\n",
      "Failed for line: ['countrymen:countrywomen', 'fiction:poetry', 'pencil:pen', 'programmer:homemaker']\n",
      "Failed for line: ['countrymen:countrywomen', 'cup:lid', 'salt:pepper', 'leader:assistant']\n",
      "Failed for line: ['countrymen:countrywomen', 'canoe:kayak', 'dog:cat', 'researcher:librarians']\n",
      "Failed for line: ['countrymen:countrywomen', 'shirt:blouse', 'dog:bitch', 'dentist:optometrist']\n",
      "Failed for line: ['countrymen:countrywomen', 'dog:bitch', 'bolt:nut', 'dispatcher:tailor']\n",
      "Failed for line: ['countrymen:countrywomen', 'shirt:blouse', 'pen:pencil', 'engineer:dancer']\n",
      "Failed for line: ['countrymen:countrywomen', 'violin:cello', 'bolt:nut', 'lawyer:clerk']\n",
      "Failed for line: ['countrymen:countrywomen', 'pencil:pen', 'kitten:puppy', 'janitor:housekeeper']\n",
      "Failed for line: ['countrymen:countrywomen', 'dog:cat', 'almond:pecan', 'developer:counselor']\n",
      "Failed for line: ['countrymen:countrywomen', 'algebra:geometry', 'violin:cello', 'judge:stenographer']\n",
      "Failed for line: ['countrymen:countrywomen', 'salt:pepper', 'car:bus', 'president:receptionist']\n",
      "Failed for line: ['countrymen:countrywomen', 'violin:cello', 'sugar:flour', 'captain:bookkeeper']\n",
      "Failed for line: ['countrymen:countrywomen', 'treble:bass', 'salt:pepper', 'warrior:nanny']\n",
      "Failed for line: ['countrymen:countrywomen', 'pencil:pen', 'dog:cat', 'architect:hairdresser']\n",
      "Failed for line: ['countrymen:countrywomen', 'cat:dog', 'trout:salmon', 'boss:stylist']\n",
      "Failed for line: ['countrymen:countrywomen', 'puppy:kitten', 'cup:lid', 'pilot:socialite']\n",
      "Failed for line: ['nobleman:noblewoman', 'puppy:kitten', 'shirt:blouse', 'doctor:nurse']\n",
      "Failed for line: ['nobleman:noblewoman', 'pen:pencil', 'kitten:puppy', 'manager:secretary']\n",
      "Failed for line: ['nobleman:noblewoman', 'cassette:record', 'couch:recliner', 'chef:baker']\n",
      "Failed for line: ['nobleman:noblewoman', 'treble:bass', 'duck:goose', 'guard:cashier']\n",
      "Failed for line: ['nobleman:noblewoman', 'cassette:record', 'jazz:blues', 'programmer:homemaker']\n",
      "Failed for line: ['nobleman:noblewoman', 'dog:cat', 'cassette:record', 'leader:assistant']\n",
      "Failed for line: ['nobleman:noblewoman', 'treble:bass', 'duck:goose', 'researcher:librarians']\n",
      "Failed for line: ['nobleman:noblewoman', 'canoe:kayak', 'puppy:kitten', 'dentist:optometrist']\n",
      "Failed for line: ['nobleman:noblewoman', 'couch:recliner', 'cat:dog', 'dispatcher:tailor']\n",
      "Failed for line: ['nobleman:noblewoman', 'fiction:poetry', 'shirt:blouse', 'engineer:dancer']\n",
      "Failed for line: ['nobleman:noblewoman', 'sugar:flour', 'couch:recliner', 'lawyer:clerk']\n",
      "Failed for line: ['nobleman:noblewoman', 'canoe:kayak', 'book:magazine', 'janitor:housekeeper']\n",
      "Failed for line: ['nobleman:noblewoman', 'car:bus', 'jazz:blues', 'developer:counselor']\n",
      "Failed for line: ['nobleman:noblewoman', 'dogwood:elm', 'canoe:kayak', 'judge:stenographer']\n",
      "Failed for line: ['nobleman:noblewoman', 'duck:goose', 'treble:bass', 'president:receptionist']\n",
      "Failed for line: ['nobleman:noblewoman', 'fiction:poetry', 'pillow:mattress', 'captain:bookkeeper']\n",
      "Failed for line: ['nobleman:noblewoman', 'pencil:pen', 'canoe:kayak', 'warrior:nanny']\n",
      "Failed for line: ['nobleman:noblewoman', 'fiction:poetry', 'violin:cello', 'architect:hairdresser']\n",
      "Failed for line: ['nobleman:noblewoman', 'puppy:kitten', 'couch:recliner', 'boss:stylist']\n",
      "Failed for line: ['nobleman:noblewoman', 'car:bus', 'puppy:kitten', 'pilot:socialite']\n",
      "Stored 'sembias_g4' (tuple)\n"
     ]
    },
    {
     "data": {
      "text/plain": [
       "(0.5888888888888889, 0.2777777777777778, 0.13333333333333333)"
      ]
     },
     "execution_count": 16,
     "metadata": {},
     "output_type": "execute_result"
    }
   ],
   "source": [
    "sembias_g4 = SemBias(glove_4_fee).compute()\n",
    "\n",
    "%store sembias_g4\n",
    "sembias_g4"
   ]
  },
  {
   "cell_type": "markdown",
   "metadata": {},
   "source": [
    "## GloVe Wiki Gigaword"
   ]
  },
  {
   "cell_type": "code",
   "execution_count": 24,
   "metadata": {},
   "outputs": [
    {
     "name": "stdout",
     "output_type": "stream",
     "text": [
      "Stored 'WEAT_results_2' (DataFrame)\n"
     ]
    },
    {
     "data": {
      "text/html": [
       "<div>\n",
       "<style scoped>\n",
       "    .dataframe tbody tr th:only-of-type {\n",
       "        vertical-align: middle;\n",
       "    }\n",
       "\n",
       "    .dataframe tbody tr th {\n",
       "        vertical-align: top;\n",
       "    }\n",
       "\n",
       "    .dataframe thead th {\n",
       "        text-align: right;\n",
       "    }\n",
       "</style>\n",
       "<table border=\"1\" class=\"dataframe\">\n",
       "  <thead>\n",
       "    <tr style=\"text-align: right;\">\n",
       "      <th></th>\n",
       "      <th>Flowers and Insects wrt Pleasant(5) and Unpleasant(5)</th>\n",
       "      <th>Instruments and Weapons wrt Pleasant(5) and Unpleasant(5)</th>\n",
       "      <th>European american names(5) and African american names(5) wrt Pleasant(5) and Unpleasant(5)</th>\n",
       "      <th>European american names(7) and African american names(7) wrt Pleasant(5) and Unpleasant(5)</th>\n",
       "      <th>European american names(7) and African american names(7) wrt Pleasant(9) and Unpleasant(9)</th>\n",
       "      <th>Male names and Female names wrt Career and Family</th>\n",
       "      <th>Math and Arts wrt Male terms and Female terms</th>\n",
       "      <th>Science and Arts 2 wrt Male terms and Female terms</th>\n",
       "      <th>Mental disease and Physical disease wrt Temporary and Permanent</th>\n",
       "      <th>Young peoples names and Old peoples names wrt Pleasant(9) and Unpleasant(9)</th>\n",
       "      <th>WEAT: WEAT Queries average of abs values score</th>\n",
       "    </tr>\n",
       "    <tr>\n",
       "      <th>model_name</th>\n",
       "      <th></th>\n",
       "      <th></th>\n",
       "      <th></th>\n",
       "      <th></th>\n",
       "      <th></th>\n",
       "      <th></th>\n",
       "      <th></th>\n",
       "      <th></th>\n",
       "      <th></th>\n",
       "      <th></th>\n",
       "      <th></th>\n",
       "    </tr>\n",
       "  </thead>\n",
       "  <tbody>\n",
       "    <tr>\n",
       "      <th>glove wiki dim=50</th>\n",
       "      <td>2.060058</td>\n",
       "      <td>3.765126</td>\n",
       "      <td>1.893190</td>\n",
       "      <td>0.872163</td>\n",
       "      <td>1.330919</td>\n",
       "      <td>2.317143</td>\n",
       "      <td>0.468289</td>\n",
       "      <td>0.402531</td>\n",
       "      <td>0.585196</td>\n",
       "      <td>0.319580</td>\n",
       "      <td>1.401419</td>\n",
       "    </tr>\n",
       "    <tr>\n",
       "      <th>glove wiki dim=100</th>\n",
       "      <td>1.697702</td>\n",
       "      <td>2.079314</td>\n",
       "      <td>1.552911</td>\n",
       "      <td>0.970870</td>\n",
       "      <td>1.433715</td>\n",
       "      <td>1.732284</td>\n",
       "      <td>0.365643</td>\n",
       "      <td>0.252937</td>\n",
       "      <td>0.662625</td>\n",
       "      <td>0.335220</td>\n",
       "      <td>1.108322</td>\n",
       "    </tr>\n",
       "    <tr>\n",
       "      <th>glove wiki dim=200</th>\n",
       "      <td>1.172520</td>\n",
       "      <td>2.252081</td>\n",
       "      <td>1.442926</td>\n",
       "      <td>0.828176</td>\n",
       "      <td>1.114291</td>\n",
       "      <td>1.494439</td>\n",
       "      <td>0.274682</td>\n",
       "      <td>0.334962</td>\n",
       "      <td>0.688102</td>\n",
       "      <td>0.199697</td>\n",
       "      <td>0.980187</td>\n",
       "    </tr>\n",
       "    <tr>\n",
       "      <th>glove wiki dim=300</th>\n",
       "      <td>1.265150</td>\n",
       "      <td>1.905905</td>\n",
       "      <td>1.278590</td>\n",
       "      <td>0.847603</td>\n",
       "      <td>1.068681</td>\n",
       "      <td>1.319492</td>\n",
       "      <td>0.242773</td>\n",
       "      <td>0.318566</td>\n",
       "      <td>0.565714</td>\n",
       "      <td>0.212137</td>\n",
       "      <td>0.902461</td>\n",
       "    </tr>\n",
       "  </tbody>\n",
       "</table>\n",
       "</div>"
      ],
      "text/plain": [
       "                    Flowers and Insects wrt Pleasant(5) and Unpleasant(5)  \\\n",
       "model_name                                                                  \n",
       "glove wiki dim=50                                            2.060058       \n",
       "glove wiki dim=100                                           1.697702       \n",
       "glove wiki dim=200                                           1.172520       \n",
       "glove wiki dim=300                                           1.265150       \n",
       "\n",
       "                    Instruments and Weapons wrt Pleasant(5) and Unpleasant(5)  \\\n",
       "model_name                                                                      \n",
       "glove wiki dim=50                                            3.765126           \n",
       "glove wiki dim=100                                           2.079314           \n",
       "glove wiki dim=200                                           2.252081           \n",
       "glove wiki dim=300                                           1.905905           \n",
       "\n",
       "                    European american names(5) and African american names(5) wrt Pleasant(5) and Unpleasant(5)  \\\n",
       "model_name                                                                                                       \n",
       "glove wiki dim=50                                            1.893190                                            \n",
       "glove wiki dim=100                                           1.552911                                            \n",
       "glove wiki dim=200                                           1.442926                                            \n",
       "glove wiki dim=300                                           1.278590                                            \n",
       "\n",
       "                    European american names(7) and African american names(7) wrt Pleasant(5) and Unpleasant(5)  \\\n",
       "model_name                                                                                                       \n",
       "glove wiki dim=50                                            0.872163                                            \n",
       "glove wiki dim=100                                           0.970870                                            \n",
       "glove wiki dim=200                                           0.828176                                            \n",
       "glove wiki dim=300                                           0.847603                                            \n",
       "\n",
       "                    European american names(7) and African american names(7) wrt Pleasant(9) and Unpleasant(9)  \\\n",
       "model_name                                                                                                       \n",
       "glove wiki dim=50                                            1.330919                                            \n",
       "glove wiki dim=100                                           1.433715                                            \n",
       "glove wiki dim=200                                           1.114291                                            \n",
       "glove wiki dim=300                                           1.068681                                            \n",
       "\n",
       "                    Male names and Female names wrt Career and Family  \\\n",
       "model_name                                                              \n",
       "glove wiki dim=50                                            2.317143   \n",
       "glove wiki dim=100                                           1.732284   \n",
       "glove wiki dim=200                                           1.494439   \n",
       "glove wiki dim=300                                           1.319492   \n",
       "\n",
       "                    Math and Arts wrt Male terms and Female terms  \\\n",
       "model_name                                                          \n",
       "glove wiki dim=50                                        0.468289   \n",
       "glove wiki dim=100                                       0.365643   \n",
       "glove wiki dim=200                                       0.274682   \n",
       "glove wiki dim=300                                       0.242773   \n",
       "\n",
       "                    Science and Arts 2 wrt Male terms and Female terms  \\\n",
       "model_name                                                               \n",
       "glove wiki dim=50                                            0.402531    \n",
       "glove wiki dim=100                                           0.252937    \n",
       "glove wiki dim=200                                           0.334962    \n",
       "glove wiki dim=300                                           0.318566    \n",
       "\n",
       "                    Mental disease and Physical disease wrt Temporary and Permanent  \\\n",
       "model_name                                                                            \n",
       "glove wiki dim=50                                            0.585196                 \n",
       "glove wiki dim=100                                           0.662625                 \n",
       "glove wiki dim=200                                           0.688102                 \n",
       "glove wiki dim=300                                           0.565714                 \n",
       "\n",
       "                    Young peoples names and Old peoples names wrt Pleasant(9) and Unpleasant(9)  \\\n",
       "model_name                                                                                        \n",
       "glove wiki dim=50                                            0.319580                             \n",
       "glove wiki dim=100                                           0.335220                             \n",
       "glove wiki dim=200                                           0.199697                             \n",
       "glove wiki dim=300                                           0.212137                             \n",
       "\n",
       "                    WEAT: WEAT Queries average of abs values score  \n",
       "model_name                                                          \n",
       "glove wiki dim=50                                         1.401419  \n",
       "glove wiki dim=100                                        1.108322  \n",
       "glove wiki dim=200                                        0.980187  \n",
       "glove wiki dim=300                                        0.902461  "
      ]
     },
     "execution_count": 24,
     "metadata": {},
     "output_type": "execute_result"
    }
   ],
   "source": [
    "# Load the models\n",
    "\n",
    "models = [glove_5, glove_6, glove_7, glove_8]\n",
    "\n",
    "WEAT_results_2 = run_queries(\n",
    "    WEAT,\n",
    "    queries,\n",
    "    models,\n",
    "    metric_params={'preprocessor_args': {\n",
    "        'lowercase': True\n",
    "    }},\n",
    "    aggregate_results=True,\n",
    "    aggregation_function='abs_avg',\n",
    "    queries_set_name='WEAT Queries')\n",
    "\n",
    "%store WEAT_results_2\n",
    "WEAT_results_2"
   ]
  },
  {
   "cell_type": "code",
   "execution_count": 25,
   "metadata": {
    "scrolled": true
   },
   "outputs": [
    {
     "name": "stdout",
     "output_type": "stream",
     "text": [
      "Stored 'WEAT_ranking_2' (DataFrame)\n"
     ]
    },
    {
     "data": {
      "text/html": [
       "<div>\n",
       "<style scoped>\n",
       "    .dataframe tbody tr th:only-of-type {\n",
       "        vertical-align: middle;\n",
       "    }\n",
       "\n",
       "    .dataframe tbody tr th {\n",
       "        vertical-align: top;\n",
       "    }\n",
       "\n",
       "    .dataframe thead th {\n",
       "        text-align: right;\n",
       "    }\n",
       "</style>\n",
       "<table border=\"1\" class=\"dataframe\">\n",
       "  <thead>\n",
       "    <tr style=\"text-align: right;\">\n",
       "      <th></th>\n",
       "      <th>WEAT: WEAT Queries average of abs values score</th>\n",
       "    </tr>\n",
       "    <tr>\n",
       "      <th>model_name</th>\n",
       "      <th></th>\n",
       "    </tr>\n",
       "  </thead>\n",
       "  <tbody>\n",
       "    <tr>\n",
       "      <th>glove wiki dim=50</th>\n",
       "      <td>4.0</td>\n",
       "    </tr>\n",
       "    <tr>\n",
       "      <th>glove wiki dim=100</th>\n",
       "      <td>3.0</td>\n",
       "    </tr>\n",
       "    <tr>\n",
       "      <th>glove wiki dim=200</th>\n",
       "      <td>2.0</td>\n",
       "    </tr>\n",
       "    <tr>\n",
       "      <th>glove wiki dim=300</th>\n",
       "      <td>1.0</td>\n",
       "    </tr>\n",
       "  </tbody>\n",
       "</table>\n",
       "</div>"
      ],
      "text/plain": [
       "                    WEAT: WEAT Queries average of abs values score\n",
       "model_name                                                        \n",
       "glove wiki dim=50                                              4.0\n",
       "glove wiki dim=100                                             3.0\n",
       "glove wiki dim=200                                             2.0\n",
       "glove wiki dim=300                                             1.0"
      ]
     },
     "execution_count": 25,
     "metadata": {},
     "output_type": "execute_result"
    }
   ],
   "source": [
    "WEAT_ranking_2 = create_ranking([WEAT_results_2])\n",
    "\n",
    "%store WEAT_ranking_2\n",
    "WEAT_ranking_2"
   ]
  },
  {
   "cell_type": "code",
   "execution_count": 17,
   "metadata": {},
   "outputs": [],
   "source": [
    "glove_5_fee = loader.WE().load(ename = 'glove-wiki-gigaword-50', normalize=True)"
   ]
  },
  {
   "cell_type": "code",
   "execution_count": 19,
   "metadata": {},
   "outputs": [],
   "source": [
    "glove_6_fee = loader.WE().load(ename = 'glove-wiki-gigaword-100', normalize=True)"
   ]
  },
  {
   "cell_type": "code",
   "execution_count": 21,
   "metadata": {},
   "outputs": [],
   "source": [
    "glove_7_fee = loader.WE().load(ename = 'glove-wiki-gigaword-200', normalize=True)"
   ]
  },
  {
   "cell_type": "code",
   "execution_count": 23,
   "metadata": {},
   "outputs": [],
   "source": [
    "glove_8_fee = loader.WE().load(ename = 'glove-wiki-gigaword-300', normalize=True)"
   ]
  },
  {
   "cell_type": "code",
   "execution_count": 18,
   "metadata": {},
   "outputs": [
    {
     "name": "stdout",
     "output_type": "stream",
     "text": [
      "Stored 'sembias_g5' (tuple)\n"
     ]
    },
    {
     "data": {
      "text/plain": [
       "(0.6977272727272728, 0.2159090909090909, 0.08636363636363636)"
      ]
     },
     "execution_count": 18,
     "metadata": {},
     "output_type": "execute_result"
    }
   ],
   "source": [
    "sembias_g5 = SemBias(glove_5_fee).compute()\n",
    "\n",
    "%store sembias_g5\n",
    "sembias_g5"
   ]
  },
  {
   "cell_type": "code",
   "execution_count": 20,
   "metadata": {},
   "outputs": [
    {
     "name": "stdout",
     "output_type": "stream",
     "text": [
      "Stored 'sembias_g6' (tuple)\n"
     ]
    },
    {
     "data": {
      "text/plain": [
       "(0.75, 0.18181818181818182, 0.06818181818181818)"
      ]
     },
     "execution_count": 20,
     "metadata": {},
     "output_type": "execute_result"
    }
   ],
   "source": [
    "sembias_g6 = SemBias(glove_6_fee).compute()\n",
    "\n",
    "%store sembias_g6\n",
    "sembias_g6"
   ]
  },
  {
   "cell_type": "code",
   "execution_count": 22,
   "metadata": {},
   "outputs": [
    {
     "name": "stdout",
     "output_type": "stream",
     "text": [
      "Stored 'sembias_g7' (tuple)\n"
     ]
    },
    {
     "data": {
      "text/plain": [
       "(0.7795454545454545, 0.16818181818181818, 0.05227272727272727)"
      ]
     },
     "execution_count": 22,
     "metadata": {},
     "output_type": "execute_result"
    }
   ],
   "source": [
    "sembias_g7 = SemBias(glove_7_fee).compute()\n",
    "\n",
    "%store sembias_g7\n",
    "sembias_g7"
   ]
  },
  {
   "cell_type": "code",
   "execution_count": 24,
   "metadata": {},
   "outputs": [
    {
     "name": "stdout",
     "output_type": "stream",
     "text": [
      "Stored 'sembias_g8' (tuple)\n"
     ]
    },
    {
     "data": {
      "text/plain": [
       "(0.7863636363636364, 0.15, 0.06363636363636363)"
      ]
     },
     "execution_count": 24,
     "metadata": {},
     "output_type": "execute_result"
    }
   ],
   "source": [
    "sembias_g8 = SemBias(glove_8_fee).compute()\n",
    "\n",
    "%store sembias_g8\n",
    "sembias_g8"
   ]
  },
  {
   "cell_type": "markdown",
   "metadata": {},
   "source": [
    "## GloVe Common Crawl - lowercase:True"
   ]
  },
  {
   "cell_type": "code",
   "execution_count": 11,
   "metadata": {
    "scrolled": true
   },
   "outputs": [
    {
     "name": "stdout",
     "output_type": "stream",
     "text": [
      "Stored 'WEAT_results_3' (DataFrame)\n"
     ]
    },
    {
     "data": {
      "text/html": [
       "<div>\n",
       "<style scoped>\n",
       "    .dataframe tbody tr th:only-of-type {\n",
       "        vertical-align: middle;\n",
       "    }\n",
       "\n",
       "    .dataframe tbody tr th {\n",
       "        vertical-align: top;\n",
       "    }\n",
       "\n",
       "    .dataframe thead th {\n",
       "        text-align: right;\n",
       "    }\n",
       "</style>\n",
       "<table border=\"1\" class=\"dataframe\">\n",
       "  <thead>\n",
       "    <tr style=\"text-align: right;\">\n",
       "      <th></th>\n",
       "      <th>Flowers and Insects wrt Pleasant(5) and Unpleasant(5)</th>\n",
       "      <th>Instruments and Weapons wrt Pleasant(5) and Unpleasant(5)</th>\n",
       "      <th>European american names(5) and African american names(5) wrt Pleasant(5) and Unpleasant(5)</th>\n",
       "      <th>European american names(7) and African american names(7) wrt Pleasant(5) and Unpleasant(5)</th>\n",
       "      <th>European american names(7) and African american names(7) wrt Pleasant(9) and Unpleasant(9)</th>\n",
       "      <th>Male names and Female names wrt Career and Family</th>\n",
       "      <th>Math and Arts wrt Male terms and Female terms</th>\n",
       "      <th>Science and Arts 2 wrt Male terms and Female terms</th>\n",
       "      <th>Mental disease and Physical disease wrt Temporary and Permanent</th>\n",
       "      <th>Young peoples names and Old peoples names wrt Pleasant(9) and Unpleasant(9)</th>\n",
       "      <th>WEAT: WEAT Queries average of abs values score</th>\n",
       "    </tr>\n",
       "    <tr>\n",
       "      <th>model_name</th>\n",
       "      <th></th>\n",
       "      <th></th>\n",
       "      <th></th>\n",
       "      <th></th>\n",
       "      <th></th>\n",
       "      <th></th>\n",
       "      <th></th>\n",
       "      <th></th>\n",
       "      <th></th>\n",
       "      <th></th>\n",
       "      <th></th>\n",
       "    </tr>\n",
       "  </thead>\n",
       "  <tbody>\n",
       "    <tr>\n",
       "      <th>glove common crawl 42B dim=300</th>\n",
       "      <td>2.327526</td>\n",
       "      <td>1.840402</td>\n",
       "      <td>1.828122</td>\n",
       "      <td>0.893584</td>\n",
       "      <td>0.949063</td>\n",
       "      <td>0.738134</td>\n",
       "      <td>0.259692</td>\n",
       "      <td>0.234783</td>\n",
       "      <td>0.587961</td>\n",
       "      <td>0.212755</td>\n",
       "      <td>0.987202</td>\n",
       "    </tr>\n",
       "    <tr>\n",
       "      <th>glove common crawl 840B dim=300</th>\n",
       "      <td>2.238165</td>\n",
       "      <td>2.290555</td>\n",
       "      <td>1.520552</td>\n",
       "      <td>0.615430</td>\n",
       "      <td>0.860291</td>\n",
       "      <td>0.651596</td>\n",
       "      <td>0.198923</td>\n",
       "      <td>0.299863</td>\n",
       "      <td>0.576485</td>\n",
       "      <td>0.316962</td>\n",
       "      <td>0.956882</td>\n",
       "    </tr>\n",
       "  </tbody>\n",
       "</table>\n",
       "</div>"
      ],
      "text/plain": [
       "                                 Flowers and Insects wrt Pleasant(5) and Unpleasant(5)  \\\n",
       "model_name                                                                               \n",
       "glove common crawl 42B dim=300                                            2.327526       \n",
       "glove common crawl 840B dim=300                                           2.238165       \n",
       "\n",
       "                                 Instruments and Weapons wrt Pleasant(5) and Unpleasant(5)  \\\n",
       "model_name                                                                                   \n",
       "glove common crawl 42B dim=300                                            1.840402           \n",
       "glove common crawl 840B dim=300                                           2.290555           \n",
       "\n",
       "                                 European american names(5) and African american names(5) wrt Pleasant(5) and Unpleasant(5)  \\\n",
       "model_name                                                                                                                    \n",
       "glove common crawl 42B dim=300                                            1.828122                                            \n",
       "glove common crawl 840B dim=300                                           1.520552                                            \n",
       "\n",
       "                                 European american names(7) and African american names(7) wrt Pleasant(5) and Unpleasant(5)  \\\n",
       "model_name                                                                                                                    \n",
       "glove common crawl 42B dim=300                                            0.893584                                            \n",
       "glove common crawl 840B dim=300                                           0.615430                                            \n",
       "\n",
       "                                 European american names(7) and African american names(7) wrt Pleasant(9) and Unpleasant(9)  \\\n",
       "model_name                                                                                                                    \n",
       "glove common crawl 42B dim=300                                            0.949063                                            \n",
       "glove common crawl 840B dim=300                                           0.860291                                            \n",
       "\n",
       "                                 Male names and Female names wrt Career and Family  \\\n",
       "model_name                                                                           \n",
       "glove common crawl 42B dim=300                                            0.738134   \n",
       "glove common crawl 840B dim=300                                           0.651596   \n",
       "\n",
       "                                 Math and Arts wrt Male terms and Female terms  \\\n",
       "model_name                                                                       \n",
       "glove common crawl 42B dim=300                                        0.259692   \n",
       "glove common crawl 840B dim=300                                       0.198923   \n",
       "\n",
       "                                 Science and Arts 2 wrt Male terms and Female terms  \\\n",
       "model_name                                                                            \n",
       "glove common crawl 42B dim=300                                            0.234783    \n",
       "glove common crawl 840B dim=300                                           0.299863    \n",
       "\n",
       "                                 Mental disease and Physical disease wrt Temporary and Permanent  \\\n",
       "model_name                                                                                         \n",
       "glove common crawl 42B dim=300                                            0.587961                 \n",
       "glove common crawl 840B dim=300                                           0.576485                 \n",
       "\n",
       "                                 Young peoples names and Old peoples names wrt Pleasant(9) and Unpleasant(9)  \\\n",
       "model_name                                                                                                     \n",
       "glove common crawl 42B dim=300                                            0.212755                             \n",
       "glove common crawl 840B dim=300                                           0.316962                             \n",
       "\n",
       "                                 WEAT: WEAT Queries average of abs values score  \n",
       "model_name                                                                       \n",
       "glove common crawl 42B dim=300                                         0.987202  \n",
       "glove common crawl 840B dim=300                                        0.956882  "
      ]
     },
     "execution_count": 11,
     "metadata": {},
     "output_type": "execute_result"
    }
   ],
   "source": [
    "#load('/Users/macbookair/Desktop/postgraduate/dissertation/glove.42B.300d.txt')\n",
    "#load('/Users/macbookair/Desktop/postgraduate/dissertation/glove.840B.300d.txt')\n",
    "\n",
    "models = [glove_9, glove_10]\n",
    "\n",
    "WEAT_results_3 = run_queries(\n",
    "    WEAT,\n",
    "    queries,\n",
    "    models,\n",
    "    metric_params={'preprocessor_args': {\n",
    "        'lowercase': True\n",
    "    }},\n",
    "    aggregate_results=True,\n",
    "    aggregation_function='abs_avg',\n",
    "    queries_set_name='WEAT Queries')\n",
    "\n",
    "%store WEAT_results_3\n",
    "WEAT_results_3"
   ]
  },
  {
   "cell_type": "code",
   "execution_count": 12,
   "metadata": {
    "scrolled": true
   },
   "outputs": [
    {
     "name": "stdout",
     "output_type": "stream",
     "text": [
      "Stored 'WEAT_ranking_3' (DataFrame)\n"
     ]
    },
    {
     "data": {
      "text/html": [
       "<div>\n",
       "<style scoped>\n",
       "    .dataframe tbody tr th:only-of-type {\n",
       "        vertical-align: middle;\n",
       "    }\n",
       "\n",
       "    .dataframe tbody tr th {\n",
       "        vertical-align: top;\n",
       "    }\n",
       "\n",
       "    .dataframe thead th {\n",
       "        text-align: right;\n",
       "    }\n",
       "</style>\n",
       "<table border=\"1\" class=\"dataframe\">\n",
       "  <thead>\n",
       "    <tr style=\"text-align: right;\">\n",
       "      <th></th>\n",
       "      <th>WEAT: WEAT Queries average of abs values score</th>\n",
       "    </tr>\n",
       "    <tr>\n",
       "      <th>model_name</th>\n",
       "      <th></th>\n",
       "    </tr>\n",
       "  </thead>\n",
       "  <tbody>\n",
       "    <tr>\n",
       "      <th>glove common crawl 42B dim=300</th>\n",
       "      <td>2.0</td>\n",
       "    </tr>\n",
       "    <tr>\n",
       "      <th>glove common crawl 840B dim=300</th>\n",
       "      <td>1.0</td>\n",
       "    </tr>\n",
       "  </tbody>\n",
       "</table>\n",
       "</div>"
      ],
      "text/plain": [
       "                                 WEAT: WEAT Queries average of abs values score\n",
       "model_name                                                                     \n",
       "glove common crawl 42B dim=300                                              2.0\n",
       "glove common crawl 840B dim=300                                             1.0"
      ]
     },
     "execution_count": 12,
     "metadata": {},
     "output_type": "execute_result"
    }
   ],
   "source": [
    "WEAT_ranking_3 = create_ranking([WEAT_results_3])\n",
    "\n",
    "%store WEAT_ranking_3\n",
    "WEAT_ranking_3"
   ]
  },
  {
   "cell_type": "markdown",
   "metadata": {},
   "source": [
    "## GloVe Common Crawl - lowercase:False"
   ]
  },
  {
   "cell_type": "code",
   "execution_count": 9,
   "metadata": {},
   "outputs": [
    {
     "name": "stderr",
     "output_type": "stream",
     "text": [
      "WARNING:root:The transformation of 'European american names(5)' into glove common crawl 42B dim=300 embeddings lost proportionally more words than specified in 'lost_words_threshold': 1.0 lost with respect to 0.2 maximum loss allowed.\n",
      "WARNING:root:The transformation of 'African american names(5)' into glove common crawl 42B dim=300 embeddings lost proportionally more words than specified in 'lost_words_threshold': 1.0 lost with respect to 0.2 maximum loss allowed.\n",
      "ERROR:root:At least one set of 'European american names(5) and African american names(5) wrt Pleasant(5) and Unpleasant(5)' query has proportionally fewer embeddings than allowed by the lost_vocabulary_threshold parameter (0.2). This query will return np.nan.\n",
      "WARNING:root:The transformation of 'European american names(7)' into glove common crawl 42B dim=300 embeddings lost proportionally more words than specified in 'lost_words_threshold': 1.0 lost with respect to 0.2 maximum loss allowed.\n",
      "WARNING:root:The transformation of 'African american names(7)' into glove common crawl 42B dim=300 embeddings lost proportionally more words than specified in 'lost_words_threshold': 1.0 lost with respect to 0.2 maximum loss allowed.\n",
      "ERROR:root:At least one set of 'European american names(7) and African american names(7) wrt Pleasant(5) and Unpleasant(5)' query has proportionally fewer embeddings than allowed by the lost_vocabulary_threshold parameter (0.2). This query will return np.nan.\n",
      "WARNING:root:The transformation of 'European american names(7)' into glove common crawl 42B dim=300 embeddings lost proportionally more words than specified in 'lost_words_threshold': 1.0 lost with respect to 0.2 maximum loss allowed.\n",
      "WARNING:root:The transformation of 'African american names(7)' into glove common crawl 42B dim=300 embeddings lost proportionally more words than specified in 'lost_words_threshold': 1.0 lost with respect to 0.2 maximum loss allowed.\n",
      "ERROR:root:At least one set of 'European american names(7) and African american names(7) wrt Pleasant(9) and Unpleasant(9)' query has proportionally fewer embeddings than allowed by the lost_vocabulary_threshold parameter (0.2). This query will return np.nan.\n",
      "WARNING:root:The transformation of 'Male names' into glove common crawl 42B dim=300 embeddings lost proportionally more words than specified in 'lost_words_threshold': 1.0 lost with respect to 0.2 maximum loss allowed.\n",
      "WARNING:root:The transformation of 'Female names' into glove common crawl 42B dim=300 embeddings lost proportionally more words than specified in 'lost_words_threshold': 1.0 lost with respect to 0.2 maximum loss allowed.\n",
      "ERROR:root:At least one set of 'Male names and Female names wrt Career and Family' query has proportionally fewer embeddings than allowed by the lost_vocabulary_threshold parameter (0.2). This query will return np.nan.\n",
      "WARNING:root:The transformation of 'Science' into glove common crawl 42B dim=300 embeddings lost proportionally more words than specified in 'lost_words_threshold': 0.25 lost with respect to 0.2 maximum loss allowed.\n",
      "ERROR:root:At least one set of 'Science and Arts 2 wrt Male terms and Female terms' query has proportionally fewer embeddings than allowed by the lost_vocabulary_threshold parameter (0.2). This query will return np.nan.\n",
      "WARNING:root:The transformation of 'Young peoples names' into glove common crawl 42B dim=300 embeddings lost proportionally more words than specified in 'lost_words_threshold': 1.0 lost with respect to 0.2 maximum loss allowed.\n",
      "WARNING:root:The transformation of 'Old peoples names' into glove common crawl 42B dim=300 embeddings lost proportionally more words than specified in 'lost_words_threshold': 1.0 lost with respect to 0.2 maximum loss allowed.\n",
      "ERROR:root:At least one set of 'Young peoples names and Old peoples names wrt Pleasant(9) and Unpleasant(9)' query has proportionally fewer embeddings than allowed by the lost_vocabulary_threshold parameter (0.2). This query will return np.nan.\n"
     ]
    },
    {
     "name": "stdout",
     "output_type": "stream",
     "text": [
      "Stored 'WEAT_results_4' (DataFrame)\n"
     ]
    },
    {
     "data": {
      "text/html": [
       "<div>\n",
       "<style scoped>\n",
       "    .dataframe tbody tr th:only-of-type {\n",
       "        vertical-align: middle;\n",
       "    }\n",
       "\n",
       "    .dataframe tbody tr th {\n",
       "        vertical-align: top;\n",
       "    }\n",
       "\n",
       "    .dataframe thead th {\n",
       "        text-align: right;\n",
       "    }\n",
       "</style>\n",
       "<table border=\"1\" class=\"dataframe\">\n",
       "  <thead>\n",
       "    <tr style=\"text-align: right;\">\n",
       "      <th></th>\n",
       "      <th>Flowers and Insects wrt Pleasant(5) and Unpleasant(5)</th>\n",
       "      <th>Instruments and Weapons wrt Pleasant(5) and Unpleasant(5)</th>\n",
       "      <th>European american names(5) and African american names(5) wrt Pleasant(5) and Unpleasant(5)</th>\n",
       "      <th>European american names(7) and African american names(7) wrt Pleasant(5) and Unpleasant(5)</th>\n",
       "      <th>European american names(7) and African american names(7) wrt Pleasant(9) and Unpleasant(9)</th>\n",
       "      <th>Male names and Female names wrt Career and Family</th>\n",
       "      <th>Math and Arts wrt Male terms and Female terms</th>\n",
       "      <th>Science and Arts 2 wrt Male terms and Female terms</th>\n",
       "      <th>Mental disease and Physical disease wrt Temporary and Permanent</th>\n",
       "      <th>Young peoples names and Old peoples names wrt Pleasant(9) and Unpleasant(9)</th>\n",
       "      <th>WEAT: WEAT Queries average of abs values score</th>\n",
       "    </tr>\n",
       "    <tr>\n",
       "      <th>model_name</th>\n",
       "      <th></th>\n",
       "      <th></th>\n",
       "      <th></th>\n",
       "      <th></th>\n",
       "      <th></th>\n",
       "      <th></th>\n",
       "      <th></th>\n",
       "      <th></th>\n",
       "      <th></th>\n",
       "      <th></th>\n",
       "      <th></th>\n",
       "    </tr>\n",
       "  </thead>\n",
       "  <tbody>\n",
       "    <tr>\n",
       "      <th>glove common crawl 42B dim=300</th>\n",
       "      <td>2.327526</td>\n",
       "      <td>1.840402</td>\n",
       "      <td>NaN</td>\n",
       "      <td>NaN</td>\n",
       "      <td>NaN</td>\n",
       "      <td>NaN</td>\n",
       "      <td>0.259692</td>\n",
       "      <td>NaN</td>\n",
       "      <td>0.587961</td>\n",
       "      <td>NaN</td>\n",
       "      <td>1.253895</td>\n",
       "    </tr>\n",
       "    <tr>\n",
       "      <th>glove common crawl 840B dim=300</th>\n",
       "      <td>2.238165</td>\n",
       "      <td>2.290555</td>\n",
       "      <td>1.863447</td>\n",
       "      <td>0.971278</td>\n",
       "      <td>1.112238</td>\n",
       "      <td>1.26698</td>\n",
       "      <td>0.198923</td>\n",
       "      <td>0.313517</td>\n",
       "      <td>0.576485</td>\n",
       "      <td>0.35401</td>\n",
       "      <td>1.118560</td>\n",
       "    </tr>\n",
       "  </tbody>\n",
       "</table>\n",
       "</div>"
      ],
      "text/plain": [
       "                                 Flowers and Insects wrt Pleasant(5) and Unpleasant(5)  \\\n",
       "model_name                                                                               \n",
       "glove common crawl 42B dim=300                                            2.327526       \n",
       "glove common crawl 840B dim=300                                           2.238165       \n",
       "\n",
       "                                 Instruments and Weapons wrt Pleasant(5) and Unpleasant(5)  \\\n",
       "model_name                                                                                   \n",
       "glove common crawl 42B dim=300                                            1.840402           \n",
       "glove common crawl 840B dim=300                                           2.290555           \n",
       "\n",
       "                                 European american names(5) and African american names(5) wrt Pleasant(5) and Unpleasant(5)  \\\n",
       "model_name                                                                                                                    \n",
       "glove common crawl 42B dim=300                                                 NaN                                            \n",
       "glove common crawl 840B dim=300                                           1.863447                                            \n",
       "\n",
       "                                 European american names(7) and African american names(7) wrt Pleasant(5) and Unpleasant(5)  \\\n",
       "model_name                                                                                                                    \n",
       "glove common crawl 42B dim=300                                                 NaN                                            \n",
       "glove common crawl 840B dim=300                                           0.971278                                            \n",
       "\n",
       "                                 European american names(7) and African american names(7) wrt Pleasant(9) and Unpleasant(9)  \\\n",
       "model_name                                                                                                                    \n",
       "glove common crawl 42B dim=300                                                 NaN                                            \n",
       "glove common crawl 840B dim=300                                           1.112238                                            \n",
       "\n",
       "                                 Male names and Female names wrt Career and Family  \\\n",
       "model_name                                                                           \n",
       "glove common crawl 42B dim=300                                                 NaN   \n",
       "glove common crawl 840B dim=300                                            1.26698   \n",
       "\n",
       "                                 Math and Arts wrt Male terms and Female terms  \\\n",
       "model_name                                                                       \n",
       "glove common crawl 42B dim=300                                        0.259692   \n",
       "glove common crawl 840B dim=300                                       0.198923   \n",
       "\n",
       "                                 Science and Arts 2 wrt Male terms and Female terms  \\\n",
       "model_name                                                                            \n",
       "glove common crawl 42B dim=300                                                 NaN    \n",
       "glove common crawl 840B dim=300                                           0.313517    \n",
       "\n",
       "                                 Mental disease and Physical disease wrt Temporary and Permanent  \\\n",
       "model_name                                                                                         \n",
       "glove common crawl 42B dim=300                                            0.587961                 \n",
       "glove common crawl 840B dim=300                                           0.576485                 \n",
       "\n",
       "                                 Young peoples names and Old peoples names wrt Pleasant(9) and Unpleasant(9)  \\\n",
       "model_name                                                                                                     \n",
       "glove common crawl 42B dim=300                                                 NaN                             \n",
       "glove common crawl 840B dim=300                                            0.35401                             \n",
       "\n",
       "                                 WEAT: WEAT Queries average of abs values score  \n",
       "model_name                                                                       \n",
       "glove common crawl 42B dim=300                                         1.253895  \n",
       "glove common crawl 840B dim=300                                        1.118560  "
      ]
     },
     "execution_count": 9,
     "metadata": {},
     "output_type": "execute_result"
    }
   ],
   "source": [
    "models = [glove_9, glove_10]\n",
    "\n",
    "WEAT_results_4 = run_queries(\n",
    "    WEAT,\n",
    "    queries,\n",
    "    models,\n",
    "    aggregate_results=True,\n",
    "    aggregation_function='abs_avg',\n",
    "    queries_set_name='WEAT Queries')\n",
    "\n",
    "%store WEAT_results_4\n",
    "WEAT_results_4"
   ]
  },
  {
   "cell_type": "code",
   "execution_count": 10,
   "metadata": {},
   "outputs": [
    {
     "name": "stdout",
     "output_type": "stream",
     "text": [
      "Stored 'WEAT_ranking_4' (DataFrame)\n"
     ]
    },
    {
     "data": {
      "text/html": [
       "<div>\n",
       "<style scoped>\n",
       "    .dataframe tbody tr th:only-of-type {\n",
       "        vertical-align: middle;\n",
       "    }\n",
       "\n",
       "    .dataframe tbody tr th {\n",
       "        vertical-align: top;\n",
       "    }\n",
       "\n",
       "    .dataframe thead th {\n",
       "        text-align: right;\n",
       "    }\n",
       "</style>\n",
       "<table border=\"1\" class=\"dataframe\">\n",
       "  <thead>\n",
       "    <tr style=\"text-align: right;\">\n",
       "      <th></th>\n",
       "      <th>WEAT: WEAT Queries average of abs values score</th>\n",
       "    </tr>\n",
       "    <tr>\n",
       "      <th>model_name</th>\n",
       "      <th></th>\n",
       "    </tr>\n",
       "  </thead>\n",
       "  <tbody>\n",
       "    <tr>\n",
       "      <th>glove common crawl 42B dim=300</th>\n",
       "      <td>2.0</td>\n",
       "    </tr>\n",
       "    <tr>\n",
       "      <th>glove common crawl 840B dim=300</th>\n",
       "      <td>1.0</td>\n",
       "    </tr>\n",
       "  </tbody>\n",
       "</table>\n",
       "</div>"
      ],
      "text/plain": [
       "                                 WEAT: WEAT Queries average of abs values score\n",
       "model_name                                                                     \n",
       "glove common crawl 42B dim=300                                              2.0\n",
       "glove common crawl 840B dim=300                                             1.0"
      ]
     },
     "execution_count": 10,
     "metadata": {},
     "output_type": "execute_result"
    }
   ],
   "source": [
    "WEAT_ranking_4 = create_ranking([WEAT_results_4])\n",
    "\n",
    "%store WEAT_ranking_4\n",
    "WEAT_ranking_4"
   ]
  },
  {
   "cell_type": "markdown",
   "metadata": {},
   "source": [
    "# word2vec\n",
    "Pre-trained vectors trained on part of Google News dataset (about 100 billion words). The model contains 300-dimensional vectors for 3 million words and phrases."
   ]
  },
  {
   "cell_type": "code",
   "execution_count": 5,
   "metadata": {
    "scrolled": false
   },
   "outputs": [
    {
     "name": "stderr",
     "output_type": "stream",
     "text": [
      "WARNING:root:The transformation of 'African american names(5)' into word2vec google dim=300 embeddings lost proportionally more words than specified in 'lost_words_threshold': 0.72 lost with respect to 0.2 maximum loss allowed.\n",
      "ERROR:root:At least one set of 'European american names(5) and African american names(5) wrt Pleasant(5) and Unpleasant(5)' query has proportionally fewer embeddings than allowed by the lost_vocabulary_threshold parameter (0.2). This query will return np.nan.\n",
      "WARNING:root:The transformation of 'African american names(7)' into word2vec google dim=300 embeddings lost proportionally more words than specified in 'lost_words_threshold': 0.67 lost with respect to 0.2 maximum loss allowed.\n",
      "ERROR:root:At least one set of 'European american names(7) and African american names(7) wrt Pleasant(5) and Unpleasant(5)' query has proportionally fewer embeddings than allowed by the lost_vocabulary_threshold parameter (0.2). This query will return np.nan.\n",
      "WARNING:root:The transformation of 'African american names(7)' into word2vec google dim=300 embeddings lost proportionally more words than specified in 'lost_words_threshold': 0.67 lost with respect to 0.2 maximum loss allowed.\n",
      "ERROR:root:At least one set of 'European american names(7) and African american names(7) wrt Pleasant(9) and Unpleasant(9)' query has proportionally fewer embeddings than allowed by the lost_vocabulary_threshold parameter (0.2). This query will return np.nan.\n",
      "WARNING:root:The transformation of 'Old peoples names' into word2vec google dim=300 embeddings lost proportionally more words than specified in 'lost_words_threshold': 0.75 lost with respect to 0.2 maximum loss allowed.\n",
      "ERROR:root:At least one set of 'Young peoples names and Old peoples names wrt Pleasant(9) and Unpleasant(9)' query has proportionally fewer embeddings than allowed by the lost_vocabulary_threshold parameter (0.2). This query will return np.nan.\n"
     ]
    },
    {
     "name": "stdout",
     "output_type": "stream",
     "text": [
      "Stored 'WEAT_results_5' (DataFrame)\n"
     ]
    },
    {
     "data": {
      "text/html": [
       "<div>\n",
       "<style scoped>\n",
       "    .dataframe tbody tr th:only-of-type {\n",
       "        vertical-align: middle;\n",
       "    }\n",
       "\n",
       "    .dataframe tbody tr th {\n",
       "        vertical-align: top;\n",
       "    }\n",
       "\n",
       "    .dataframe thead th {\n",
       "        text-align: right;\n",
       "    }\n",
       "</style>\n",
       "<table border=\"1\" class=\"dataframe\">\n",
       "  <thead>\n",
       "    <tr style=\"text-align: right;\">\n",
       "      <th></th>\n",
       "      <th>Flowers and Insects wrt Pleasant(5) and Unpleasant(5)</th>\n",
       "      <th>Instruments and Weapons wrt Pleasant(5) and Unpleasant(5)</th>\n",
       "      <th>European american names(5) and African american names(5) wrt Pleasant(5) and Unpleasant(5)</th>\n",
       "      <th>European american names(7) and African american names(7) wrt Pleasant(5) and Unpleasant(5)</th>\n",
       "      <th>European american names(7) and African american names(7) wrt Pleasant(9) and Unpleasant(9)</th>\n",
       "      <th>Male names and Female names wrt Career and Family</th>\n",
       "      <th>Math and Arts wrt Male terms and Female terms</th>\n",
       "      <th>Science and Arts 2 wrt Male terms and Female terms</th>\n",
       "      <th>Mental disease and Physical disease wrt Temporary and Permanent</th>\n",
       "      <th>Young peoples names and Old peoples names wrt Pleasant(9) and Unpleasant(9)</th>\n",
       "      <th>WEAT: WEAT Queries average of abs values score</th>\n",
       "    </tr>\n",
       "    <tr>\n",
       "      <th>model_name</th>\n",
       "      <th></th>\n",
       "      <th></th>\n",
       "      <th></th>\n",
       "      <th></th>\n",
       "      <th></th>\n",
       "      <th></th>\n",
       "      <th></th>\n",
       "      <th></th>\n",
       "      <th></th>\n",
       "      <th></th>\n",
       "      <th></th>\n",
       "    </tr>\n",
       "  </thead>\n",
       "  <tbody>\n",
       "    <tr>\n",
       "      <th>word2vec google dim=300</th>\n",
       "      <td>1.407829</td>\n",
       "      <td>1.747649</td>\n",
       "      <td>NaN</td>\n",
       "      <td>NaN</td>\n",
       "      <td>NaN</td>\n",
       "      <td>0.625607</td>\n",
       "      <td>0.225461</td>\n",
       "      <td>0.250128</td>\n",
       "      <td>0.338592</td>\n",
       "      <td>NaN</td>\n",
       "      <td>0.765878</td>\n",
       "    </tr>\n",
       "  </tbody>\n",
       "</table>\n",
       "</div>"
      ],
      "text/plain": [
       "                         Flowers and Insects wrt Pleasant(5) and Unpleasant(5)  \\\n",
       "model_name                                                                       \n",
       "word2vec google dim=300                                           1.407829       \n",
       "\n",
       "                         Instruments and Weapons wrt Pleasant(5) and Unpleasant(5)  \\\n",
       "model_name                                                                           \n",
       "word2vec google dim=300                                           1.747649           \n",
       "\n",
       "                         European american names(5) and African american names(5) wrt Pleasant(5) and Unpleasant(5)  \\\n",
       "model_name                                                                                                            \n",
       "word2vec google dim=300                                                NaN                                            \n",
       "\n",
       "                         European american names(7) and African american names(7) wrt Pleasant(5) and Unpleasant(5)  \\\n",
       "model_name                                                                                                            \n",
       "word2vec google dim=300                                                NaN                                            \n",
       "\n",
       "                         European american names(7) and African american names(7) wrt Pleasant(9) and Unpleasant(9)  \\\n",
       "model_name                                                                                                            \n",
       "word2vec google dim=300                                                NaN                                            \n",
       "\n",
       "                         Male names and Female names wrt Career and Family  \\\n",
       "model_name                                                                   \n",
       "word2vec google dim=300                                           0.625607   \n",
       "\n",
       "                         Math and Arts wrt Male terms and Female terms  \\\n",
       "model_name                                                               \n",
       "word2vec google dim=300                                       0.225461   \n",
       "\n",
       "                         Science and Arts 2 wrt Male terms and Female terms  \\\n",
       "model_name                                                                    \n",
       "word2vec google dim=300                                           0.250128    \n",
       "\n",
       "                         Mental disease and Physical disease wrt Temporary and Permanent  \\\n",
       "model_name                                                                                 \n",
       "word2vec google dim=300                                           0.338592                 \n",
       "\n",
       "                         Young peoples names and Old peoples names wrt Pleasant(9) and Unpleasant(9)  \\\n",
       "model_name                                                                                             \n",
       "word2vec google dim=300                                                NaN                             \n",
       "\n",
       "                         WEAT: WEAT Queries average of abs values score  \n",
       "model_name                                                               \n",
       "word2vec google dim=300                                        0.765878  "
      ]
     },
     "execution_count": 5,
     "metadata": {},
     "output_type": "execute_result"
    }
   ],
   "source": [
    "models = [model_w2v]\n",
    "\n",
    "WEAT_results_5 = run_queries(\n",
    "    WEAT,\n",
    "    queries,\n",
    "    models,\n",
    "    metric_params={'preprocessor_args': {\n",
    "        'lowercase': True\n",
    "    }},\n",
    "    aggregate_results=True,\n",
    "    aggregation_function='abs_avg',\n",
    "    queries_set_name='WEAT Queries')\n",
    "\n",
    "%store WEAT_results_5\n",
    "WEAT_results_5"
   ]
  },
  {
   "cell_type": "markdown",
   "metadata": {},
   "source": [
    "There is a whole column that has no results. As the warnings point out, when transforming the words of the sets into embeddings, there is a loss of words that is greater than the allowed by the parameter lost_vocabulary_threshold. Therefore, all those queries return np.nan. In this case, it would be very useful to use the word preprocessors seen above.\n",
    "\n",
    "If more than 20% (by default) of the words from any of the word sets of the query are not included in the word embedding model, the metric will return Nan. This behavior can be changed using a float number parameter called lost_vocabulary_threshold. \n",
    "\n",
    "More than 20% of words from 'African american names(7)', 'African american names(5)' and 'Old peoples names' are not included in the model"
   ]
  },
  {
   "cell_type": "code",
   "execution_count": 23,
   "metadata": {
    "scrolled": true
   },
   "outputs": [
    {
     "name": "stdout",
     "output_type": "stream",
     "text": [
      "Stored 'WEAT_results_5_2' (DataFrame)\n"
     ]
    },
    {
     "data": {
      "text/html": [
       "<div>\n",
       "<style scoped>\n",
       "    .dataframe tbody tr th:only-of-type {\n",
       "        vertical-align: middle;\n",
       "    }\n",
       "\n",
       "    .dataframe tbody tr th {\n",
       "        vertical-align: top;\n",
       "    }\n",
       "\n",
       "    .dataframe thead th {\n",
       "        text-align: right;\n",
       "    }\n",
       "</style>\n",
       "<table border=\"1\" class=\"dataframe\">\n",
       "  <thead>\n",
       "    <tr style=\"text-align: right;\">\n",
       "      <th></th>\n",
       "      <th>Flowers and Insects wrt Pleasant(5) and Unpleasant(5)</th>\n",
       "      <th>Instruments and Weapons wrt Pleasant(5) and Unpleasant(5)</th>\n",
       "      <th>European american names(5) and African american names(5) wrt Pleasant(5) and Unpleasant(5)</th>\n",
       "      <th>European american names(7) and African american names(7) wrt Pleasant(5) and Unpleasant(5)</th>\n",
       "      <th>European american names(7) and African american names(7) wrt Pleasant(9) and Unpleasant(9)</th>\n",
       "      <th>Male names and Female names wrt Career and Family</th>\n",
       "      <th>Math and Arts wrt Male terms and Female terms</th>\n",
       "      <th>Science and Arts 2 wrt Male terms and Female terms</th>\n",
       "      <th>Mental disease and Physical disease wrt Temporary and Permanent</th>\n",
       "      <th>Young peoples names and Old peoples names wrt Pleasant(9) and Unpleasant(9)</th>\n",
       "      <th>WEAT: WEAT Queries average of abs values score</th>\n",
       "    </tr>\n",
       "    <tr>\n",
       "      <th>model_name</th>\n",
       "      <th></th>\n",
       "      <th></th>\n",
       "      <th></th>\n",
       "      <th></th>\n",
       "      <th></th>\n",
       "      <th></th>\n",
       "      <th></th>\n",
       "      <th></th>\n",
       "      <th></th>\n",
       "      <th></th>\n",
       "      <th></th>\n",
       "    </tr>\n",
       "  </thead>\n",
       "  <tbody>\n",
       "    <tr>\n",
       "      <th>word2vec google dim=300</th>\n",
       "      <td>1.407829</td>\n",
       "      <td>1.747649</td>\n",
       "      <td>0.453614</td>\n",
       "      <td>0.453276</td>\n",
       "      <td>0.33806</td>\n",
       "      <td>1.25161</td>\n",
       "      <td>0.225461</td>\n",
       "      <td>0.293065</td>\n",
       "      <td>0.338592</td>\n",
       "      <td>-0.048873</td>\n",
       "      <td>0.655803</td>\n",
       "    </tr>\n",
       "  </tbody>\n",
       "</table>\n",
       "</div>"
      ],
      "text/plain": [
       "                         Flowers and Insects wrt Pleasant(5) and Unpleasant(5)  \\\n",
       "model_name                                                                       \n",
       "word2vec google dim=300                                           1.407829       \n",
       "\n",
       "                         Instruments and Weapons wrt Pleasant(5) and Unpleasant(5)  \\\n",
       "model_name                                                                           \n",
       "word2vec google dim=300                                           1.747649           \n",
       "\n",
       "                         European american names(5) and African american names(5) wrt Pleasant(5) and Unpleasant(5)  \\\n",
       "model_name                                                                                                            \n",
       "word2vec google dim=300                                           0.453614                                            \n",
       "\n",
       "                         European american names(7) and African american names(7) wrt Pleasant(5) and Unpleasant(5)  \\\n",
       "model_name                                                                                                            \n",
       "word2vec google dim=300                                           0.453276                                            \n",
       "\n",
       "                         European american names(7) and African american names(7) wrt Pleasant(9) and Unpleasant(9)  \\\n",
       "model_name                                                                                                            \n",
       "word2vec google dim=300                                            0.33806                                            \n",
       "\n",
       "                         Male names and Female names wrt Career and Family  \\\n",
       "model_name                                                                   \n",
       "word2vec google dim=300                                            1.25161   \n",
       "\n",
       "                         Math and Arts wrt Male terms and Female terms  \\\n",
       "model_name                                                               \n",
       "word2vec google dim=300                                       0.225461   \n",
       "\n",
       "                         Science and Arts 2 wrt Male terms and Female terms  \\\n",
       "model_name                                                                    \n",
       "word2vec google dim=300                                           0.293065    \n",
       "\n",
       "                         Mental disease and Physical disease wrt Temporary and Permanent  \\\n",
       "model_name                                                                                 \n",
       "word2vec google dim=300                                           0.338592                 \n",
       "\n",
       "                         Young peoples names and Old peoples names wrt Pleasant(9) and Unpleasant(9)  \\\n",
       "model_name                                                                                             \n",
       "word2vec google dim=300                                          -0.048873                             \n",
       "\n",
       "                         WEAT: WEAT Queries average of abs values score  \n",
       "model_name                                                               \n",
       "word2vec google dim=300                                        0.655803  "
      ]
     },
     "execution_count": 23,
     "metadata": {},
     "output_type": "execute_result"
    }
   ],
   "source": [
    "models = [model_w2v]\n",
    "\n",
    "WEAT_results_5_2 = run_queries(\n",
    "    WEAT,\n",
    "    queries,\n",
    "    models,\n",
    "    metric_params={'preprocessor_args': {\n",
    "        'lowercase': True\n",
    "    }},\n",
    "    lost_vocabulary_threshold= 0.1,\n",
    "    aggregate_results=True,\n",
    "    aggregation_function='abs_avg',\n",
    "    queries_set_name='WEAT Queries')\n",
    "\n",
    "%store WEAT_results_5_2\n",
    "WEAT_results_5_2"
   ]
  },
  {
   "cell_type": "code",
   "execution_count": 23,
   "metadata": {
    "scrolled": false
   },
   "outputs": [
    {
     "name": "stdout",
     "output_type": "stream",
     "text": [
      "Stored 'WEAT_results_5_2' (DataFrame)\n"
     ]
    },
    {
     "data": {
      "text/html": [
       "<div>\n",
       "<style scoped>\n",
       "    .dataframe tbody tr th:only-of-type {\n",
       "        vertical-align: middle;\n",
       "    }\n",
       "\n",
       "    .dataframe tbody tr th {\n",
       "        vertical-align: top;\n",
       "    }\n",
       "\n",
       "    .dataframe thead th {\n",
       "        text-align: right;\n",
       "    }\n",
       "</style>\n",
       "<table border=\"1\" class=\"dataframe\">\n",
       "  <thead>\n",
       "    <tr style=\"text-align: right;\">\n",
       "      <th></th>\n",
       "      <th>Flowers and Insects wrt Pleasant(5) and Unpleasant(5)</th>\n",
       "      <th>Instruments and Weapons wrt Pleasant(5) and Unpleasant(5)</th>\n",
       "      <th>European american names(5) and African american names(5) wrt Pleasant(5) and Unpleasant(5)</th>\n",
       "      <th>European american names(7) and African american names(7) wrt Pleasant(5) and Unpleasant(5)</th>\n",
       "      <th>European american names(7) and African american names(7) wrt Pleasant(9) and Unpleasant(9)</th>\n",
       "      <th>Male names and Female names wrt Career and Family</th>\n",
       "      <th>Math and Arts wrt Male terms and Female terms</th>\n",
       "      <th>Science and Arts 2 wrt Male terms and Female terms</th>\n",
       "      <th>Mental disease and Physical disease wrt Temporary and Permanent</th>\n",
       "      <th>Young peoples names and Old peoples names wrt Pleasant(9) and Unpleasant(9)</th>\n",
       "      <th>WEAT: WEAT Queries average of abs values score</th>\n",
       "    </tr>\n",
       "    <tr>\n",
       "      <th>model_name</th>\n",
       "      <th></th>\n",
       "      <th></th>\n",
       "      <th></th>\n",
       "      <th></th>\n",
       "      <th></th>\n",
       "      <th></th>\n",
       "      <th></th>\n",
       "      <th></th>\n",
       "      <th></th>\n",
       "      <th></th>\n",
       "      <th></th>\n",
       "    </tr>\n",
       "  </thead>\n",
       "  <tbody>\n",
       "    <tr>\n",
       "      <th>word2vec google dim=300</th>\n",
       "      <td>1.407829</td>\n",
       "      <td>1.747649</td>\n",
       "      <td>0.453614</td>\n",
       "      <td>0.453276</td>\n",
       "      <td>0.33806</td>\n",
       "      <td>1.25161</td>\n",
       "      <td>0.225461</td>\n",
       "      <td>0.293065</td>\n",
       "      <td>0.338592</td>\n",
       "      <td>-0.048873</td>\n",
       "      <td>0.655803</td>\n",
       "    </tr>\n",
       "  </tbody>\n",
       "</table>\n",
       "</div>"
      ],
      "text/plain": [
       "                         Flowers and Insects wrt Pleasant(5) and Unpleasant(5)  \\\n",
       "model_name                                                                       \n",
       "word2vec google dim=300                                           1.407829       \n",
       "\n",
       "                         Instruments and Weapons wrt Pleasant(5) and Unpleasant(5)  \\\n",
       "model_name                                                                           \n",
       "word2vec google dim=300                                           1.747649           \n",
       "\n",
       "                         European american names(5) and African american names(5) wrt Pleasant(5) and Unpleasant(5)  \\\n",
       "model_name                                                                                                            \n",
       "word2vec google dim=300                                           0.453614                                            \n",
       "\n",
       "                         European american names(7) and African american names(7) wrt Pleasant(5) and Unpleasant(5)  \\\n",
       "model_name                                                                                                            \n",
       "word2vec google dim=300                                           0.453276                                            \n",
       "\n",
       "                         European american names(7) and African american names(7) wrt Pleasant(9) and Unpleasant(9)  \\\n",
       "model_name                                                                                                            \n",
       "word2vec google dim=300                                            0.33806                                            \n",
       "\n",
       "                         Male names and Female names wrt Career and Family  \\\n",
       "model_name                                                                   \n",
       "word2vec google dim=300                                            1.25161   \n",
       "\n",
       "                         Math and Arts wrt Male terms and Female terms  \\\n",
       "model_name                                                               \n",
       "word2vec google dim=300                                       0.225461   \n",
       "\n",
       "                         Science and Arts 2 wrt Male terms and Female terms  \\\n",
       "model_name                                                                    \n",
       "word2vec google dim=300                                           0.293065    \n",
       "\n",
       "                         Mental disease and Physical disease wrt Temporary and Permanent  \\\n",
       "model_name                                                                                 \n",
       "word2vec google dim=300                                           0.338592                 \n",
       "\n",
       "                         Young peoples names and Old peoples names wrt Pleasant(9) and Unpleasant(9)  \\\n",
       "model_name                                                                                             \n",
       "word2vec google dim=300                                          -0.048873                             \n",
       "\n",
       "                         WEAT: WEAT Queries average of abs values score  \n",
       "model_name                                                               \n",
       "word2vec google dim=300                                        0.655803  "
      ]
     },
     "execution_count": 23,
     "metadata": {},
     "output_type": "execute_result"
    }
   ],
   "source": [
    "models = [model_w2v]\n",
    "\n",
    "WEAT_results_5_3 = run_queries(\n",
    "    WEAT,\n",
    "    queries,\n",
    "    models,\n",
    "    aggregate_results=True,\n",
    "    aggregation_function='abs_avg',\n",
    "    queries_set_name='WEAT Queries')\n",
    "\n",
    "%store WEAT_results_5_3\n",
    "WEAT_results_5_3"
   ]
  },
  {
   "cell_type": "code",
   "execution_count": 11,
   "metadata": {},
   "outputs": [],
   "source": [
    "w2v_fee = loader.WE().load(ename = 'word2vec-google-news-300', normalize=True)"
   ]
  },
  {
   "cell_type": "code",
   "execution_count": 12,
   "metadata": {},
   "outputs": [
    {
     "name": "stdout",
     "output_type": "stream",
     "text": [
      "Stored 'sembias_w1' (tuple)\n"
     ]
    },
    {
     "data": {
      "text/plain": [
       "(0.8272727272727273, 0.1340909090909091, 0.038636363636363635)"
      ]
     },
     "execution_count": 12,
     "metadata": {},
     "output_type": "execute_result"
    }
   ],
   "source": [
    "sembias_w1 = SemBias(w2v_fee).compute()\n",
    "\n",
    "%store sembias_w1\n",
    "sembias_w1"
   ]
  },
  {
   "cell_type": "markdown",
   "metadata": {},
   "source": [
    "# fastText crawl\n",
    "1. fasttext crawl dim=300: 2 million word vectors trained on Common Crawl (600B tokens).\n",
    "2. fasttext crawl subwords dim=300: 2 million word vectors trained with subword information on Common Crawl (600B tokens).\n",
    "\n",
    "A subword is the internal structure of words. Classic word representation cannot handle unseen word or rare word well. Character embeddings is one of the solution to overcome out-of-vocabulary (OOV). However, it may too fine-grained any missing some important information. Subword is in between word and character. It is not too fine-grained while able to handle unseen word and rare word. For example, we can split “subword” to “sub” and “word”. In other word we use two vector (i.e. “sub” and “word”) to represent “subword”."
   ]
  },
  {
   "cell_type": "markdown",
   "metadata": {},
   "source": [
    "More than 20% of words from 'African american names(7)' are not included in setting 'fasttext crawl subwords dim=300'"
   ]
  },
  {
   "cell_type": "code",
   "execution_count": 19,
   "metadata": {
    "scrolled": false
   },
   "outputs": [
    {
     "name": "stderr",
     "output_type": "stream",
     "text": [
      "WARNING:root:The transformation of 'African american names(7)' into fasttext crawl subwords dim=300 embeddings lost proportionally more words than specified in 'lost_words_threshold': 0.22 lost with respect to 0.2 maximum loss allowed.\n",
      "ERROR:root:At least one set of 'European american names(7) and African american names(7) wrt Pleasant(5) and Unpleasant(5)' query has proportionally fewer embeddings than allowed by the lost_vocabulary_threshold parameter (0.2). This query will return np.nan.\n",
      "WARNING:root:The transformation of 'African american names(7)' into fasttext crawl subwords dim=300 embeddings lost proportionally more words than specified in 'lost_words_threshold': 0.22 lost with respect to 0.2 maximum loss allowed.\n",
      "ERROR:root:At least one set of 'European american names(7) and African american names(7) wrt Pleasant(9) and Unpleasant(9)' query has proportionally fewer embeddings than allowed by the lost_vocabulary_threshold parameter (0.2). This query will return np.nan.\n"
     ]
    },
    {
     "name": "stdout",
     "output_type": "stream",
     "text": [
      "Stored 'WEAT_results_6' (DataFrame)\n"
     ]
    },
    {
     "data": {
      "text/html": [
       "<div>\n",
       "<style scoped>\n",
       "    .dataframe tbody tr th:only-of-type {\n",
       "        vertical-align: middle;\n",
       "    }\n",
       "\n",
       "    .dataframe tbody tr th {\n",
       "        vertical-align: top;\n",
       "    }\n",
       "\n",
       "    .dataframe thead th {\n",
       "        text-align: right;\n",
       "    }\n",
       "</style>\n",
       "<table border=\"1\" class=\"dataframe\">\n",
       "  <thead>\n",
       "    <tr style=\"text-align: right;\">\n",
       "      <th></th>\n",
       "      <th>Flowers and Insects wrt Pleasant(5) and Unpleasant(5)</th>\n",
       "      <th>Instruments and Weapons wrt Pleasant(5) and Unpleasant(5)</th>\n",
       "      <th>European american names(5) and African american names(5) wrt Pleasant(5) and Unpleasant(5)</th>\n",
       "      <th>European american names(7) and African american names(7) wrt Pleasant(5) and Unpleasant(5)</th>\n",
       "      <th>European american names(7) and African american names(7) wrt Pleasant(9) and Unpleasant(9)</th>\n",
       "      <th>Male names and Female names wrt Career and Family</th>\n",
       "      <th>Math and Arts wrt Male terms and Female terms</th>\n",
       "      <th>Science and Arts 2 wrt Male terms and Female terms</th>\n",
       "      <th>Mental disease and Physical disease wrt Temporary and Permanent</th>\n",
       "      <th>Young peoples names and Old peoples names wrt Pleasant(9) and Unpleasant(9)</th>\n",
       "      <th>WEAT: WEAT Queries average of abs values score</th>\n",
       "    </tr>\n",
       "    <tr>\n",
       "      <th>model_name</th>\n",
       "      <th></th>\n",
       "      <th></th>\n",
       "      <th></th>\n",
       "      <th></th>\n",
       "      <th></th>\n",
       "      <th></th>\n",
       "      <th></th>\n",
       "      <th></th>\n",
       "      <th></th>\n",
       "      <th></th>\n",
       "      <th></th>\n",
       "    </tr>\n",
       "  </thead>\n",
       "  <tbody>\n",
       "    <tr>\n",
       "      <th>fasttext crawl dim=300</th>\n",
       "      <td>1.678853</td>\n",
       "      <td>1.719299</td>\n",
       "      <td>0.606784</td>\n",
       "      <td>0.159027</td>\n",
       "      <td>0.349127</td>\n",
       "      <td>0.453902</td>\n",
       "      <td>0.220737</td>\n",
       "      <td>0.312242</td>\n",
       "      <td>0.208390</td>\n",
       "      <td>0.211301</td>\n",
       "      <td>0.591966</td>\n",
       "    </tr>\n",
       "    <tr>\n",
       "      <th>fasttext crawl subwords dim=300</th>\n",
       "      <td>1.668807</td>\n",
       "      <td>1.177889</td>\n",
       "      <td>0.977537</td>\n",
       "      <td>NaN</td>\n",
       "      <td>NaN</td>\n",
       "      <td>0.393544</td>\n",
       "      <td>0.267563</td>\n",
       "      <td>0.200230</td>\n",
       "      <td>0.285504</td>\n",
       "      <td>0.140782</td>\n",
       "      <td>0.638982</td>\n",
       "    </tr>\n",
       "  </tbody>\n",
       "</table>\n",
       "</div>"
      ],
      "text/plain": [
       "                                 Flowers and Insects wrt Pleasant(5) and Unpleasant(5)  \\\n",
       "model_name                                                                               \n",
       "fasttext crawl dim=300                                                    1.678853       \n",
       "fasttext crawl subwords dim=300                                           1.668807       \n",
       "\n",
       "                                 Instruments and Weapons wrt Pleasant(5) and Unpleasant(5)  \\\n",
       "model_name                                                                                   \n",
       "fasttext crawl dim=300                                                    1.719299           \n",
       "fasttext crawl subwords dim=300                                           1.177889           \n",
       "\n",
       "                                 European american names(5) and African american names(5) wrt Pleasant(5) and Unpleasant(5)  \\\n",
       "model_name                                                                                                                    \n",
       "fasttext crawl dim=300                                                    0.606784                                            \n",
       "fasttext crawl subwords dim=300                                           0.977537                                            \n",
       "\n",
       "                                 European american names(7) and African american names(7) wrt Pleasant(5) and Unpleasant(5)  \\\n",
       "model_name                                                                                                                    \n",
       "fasttext crawl dim=300                                                    0.159027                                            \n",
       "fasttext crawl subwords dim=300                                                NaN                                            \n",
       "\n",
       "                                 European american names(7) and African american names(7) wrt Pleasant(9) and Unpleasant(9)  \\\n",
       "model_name                                                                                                                    \n",
       "fasttext crawl dim=300                                                    0.349127                                            \n",
       "fasttext crawl subwords dim=300                                                NaN                                            \n",
       "\n",
       "                                 Male names and Female names wrt Career and Family  \\\n",
       "model_name                                                                           \n",
       "fasttext crawl dim=300                                                    0.453902   \n",
       "fasttext crawl subwords dim=300                                           0.393544   \n",
       "\n",
       "                                 Math and Arts wrt Male terms and Female terms  \\\n",
       "model_name                                                                       \n",
       "fasttext crawl dim=300                                                0.220737   \n",
       "fasttext crawl subwords dim=300                                       0.267563   \n",
       "\n",
       "                                 Science and Arts 2 wrt Male terms and Female terms  \\\n",
       "model_name                                                                            \n",
       "fasttext crawl dim=300                                                    0.312242    \n",
       "fasttext crawl subwords dim=300                                           0.200230    \n",
       "\n",
       "                                 Mental disease and Physical disease wrt Temporary and Permanent  \\\n",
       "model_name                                                                                         \n",
       "fasttext crawl dim=300                                                    0.208390                 \n",
       "fasttext crawl subwords dim=300                                           0.285504                 \n",
       "\n",
       "                                 Young peoples names and Old peoples names wrt Pleasant(9) and Unpleasant(9)  \\\n",
       "model_name                                                                                                     \n",
       "fasttext crawl dim=300                                                    0.211301                             \n",
       "fasttext crawl subwords dim=300                                           0.140782                             \n",
       "\n",
       "                                 WEAT: WEAT Queries average of abs values score  \n",
       "model_name                                                                       \n",
       "fasttext crawl dim=300                                                 0.591966  \n",
       "fasttext crawl subwords dim=300                                        0.638982  "
      ]
     },
     "execution_count": 19,
     "metadata": {},
     "output_type": "execute_result"
    }
   ],
   "source": [
    "models = [fasttext_3, fasttext_4]\n",
    "\n",
    "WEAT_results_6 = run_queries(\n",
    "    WEAT,\n",
    "    queries,\n",
    "    models,\n",
    "    metric_params={'preprocessor_args': {\n",
    "        'lowercase': True\n",
    "    }},\n",
    "    aggregate_results=True,\n",
    "    aggregation_function='abs_avg',\n",
    "    queries_set_name='WEAT Queries')\n",
    "\n",
    "%store WEAT_results_6\n",
    "WEAT_results_6"
   ]
  },
  {
   "cell_type": "code",
   "execution_count": 20,
   "metadata": {
    "scrolled": false
   },
   "outputs": [
    {
     "name": "stdout",
     "output_type": "stream",
     "text": [
      "Stored 'WEAT_ranking_6' (DataFrame)\n"
     ]
    },
    {
     "data": {
      "text/html": [
       "<div>\n",
       "<style scoped>\n",
       "    .dataframe tbody tr th:only-of-type {\n",
       "        vertical-align: middle;\n",
       "    }\n",
       "\n",
       "    .dataframe tbody tr th {\n",
       "        vertical-align: top;\n",
       "    }\n",
       "\n",
       "    .dataframe thead th {\n",
       "        text-align: right;\n",
       "    }\n",
       "</style>\n",
       "<table border=\"1\" class=\"dataframe\">\n",
       "  <thead>\n",
       "    <tr style=\"text-align: right;\">\n",
       "      <th></th>\n",
       "      <th>WEAT: WEAT Queries average of abs values score</th>\n",
       "    </tr>\n",
       "    <tr>\n",
       "      <th>model_name</th>\n",
       "      <th></th>\n",
       "    </tr>\n",
       "  </thead>\n",
       "  <tbody>\n",
       "    <tr>\n",
       "      <th>fasttext crawl dim=300</th>\n",
       "      <td>1.0</td>\n",
       "    </tr>\n",
       "    <tr>\n",
       "      <th>fasttext crawl subwords dim=300</th>\n",
       "      <td>2.0</td>\n",
       "    </tr>\n",
       "  </tbody>\n",
       "</table>\n",
       "</div>"
      ],
      "text/plain": [
       "                                 WEAT: WEAT Queries average of abs values score\n",
       "model_name                                                                     \n",
       "fasttext crawl dim=300                                                      1.0\n",
       "fasttext crawl subwords dim=300                                             2.0"
      ]
     },
     "execution_count": 20,
     "metadata": {},
     "output_type": "execute_result"
    }
   ],
   "source": [
    "WEAT_ranking_6 = create_ranking([WEAT_results_6])\n",
    "\n",
    "%store WEAT_ranking_6\n",
    "WEAT_ranking_6"
   ]
  },
  {
   "cell_type": "markdown",
   "metadata": {},
   "source": [
    "## Remove Preprocessing"
   ]
  },
  {
   "cell_type": "code",
   "execution_count": 26,
   "metadata": {
    "scrolled": false
   },
   "outputs": [
    {
     "name": "stdout",
     "output_type": "stream",
     "text": [
      "Stored 'WEAT_results_6_2' (DataFrame)\n"
     ]
    },
    {
     "data": {
      "text/html": [
       "<div>\n",
       "<style scoped>\n",
       "    .dataframe tbody tr th:only-of-type {\n",
       "        vertical-align: middle;\n",
       "    }\n",
       "\n",
       "    .dataframe tbody tr th {\n",
       "        vertical-align: top;\n",
       "    }\n",
       "\n",
       "    .dataframe thead th {\n",
       "        text-align: right;\n",
       "    }\n",
       "</style>\n",
       "<table border=\"1\" class=\"dataframe\">\n",
       "  <thead>\n",
       "    <tr style=\"text-align: right;\">\n",
       "      <th></th>\n",
       "      <th>Flowers and Insects wrt Pleasant(5) and Unpleasant(5)</th>\n",
       "      <th>Instruments and Weapons wrt Pleasant(5) and Unpleasant(5)</th>\n",
       "      <th>European american names(5) and African american names(5) wrt Pleasant(5) and Unpleasant(5)</th>\n",
       "      <th>European american names(7) and African american names(7) wrt Pleasant(5) and Unpleasant(5)</th>\n",
       "      <th>European american names(7) and African american names(7) wrt Pleasant(9) and Unpleasant(9)</th>\n",
       "      <th>Male names and Female names wrt Career and Family</th>\n",
       "      <th>Math and Arts wrt Male terms and Female terms</th>\n",
       "      <th>Science and Arts 2 wrt Male terms and Female terms</th>\n",
       "      <th>Mental disease and Physical disease wrt Temporary and Permanent</th>\n",
       "      <th>Young peoples names and Old peoples names wrt Pleasant(9) and Unpleasant(9)</th>\n",
       "      <th>WEAT: WEAT Queries average of abs values score</th>\n",
       "    </tr>\n",
       "    <tr>\n",
       "      <th>model_name</th>\n",
       "      <th></th>\n",
       "      <th></th>\n",
       "      <th></th>\n",
       "      <th></th>\n",
       "      <th></th>\n",
       "      <th></th>\n",
       "      <th></th>\n",
       "      <th></th>\n",
       "      <th></th>\n",
       "      <th></th>\n",
       "      <th></th>\n",
       "    </tr>\n",
       "  </thead>\n",
       "  <tbody>\n",
       "    <tr>\n",
       "      <th>fasttext crawl dim=300</th>\n",
       "      <td>1.678853</td>\n",
       "      <td>1.719299</td>\n",
       "      <td>0.639385</td>\n",
       "      <td>0.327617</td>\n",
       "      <td>0.544679</td>\n",
       "      <td>0.504557</td>\n",
       "      <td>0.220737</td>\n",
       "      <td>0.300546</td>\n",
       "      <td>0.208390</td>\n",
       "      <td>0.325519</td>\n",
       "      <td>0.646958</td>\n",
       "    </tr>\n",
       "    <tr>\n",
       "      <th>fasttext crawl subwords dim=300</th>\n",
       "      <td>1.668807</td>\n",
       "      <td>1.177889</td>\n",
       "      <td>0.901791</td>\n",
       "      <td>0.387363</td>\n",
       "      <td>0.552362</td>\n",
       "      <td>0.431821</td>\n",
       "      <td>0.267563</td>\n",
       "      <td>0.169132</td>\n",
       "      <td>0.285504</td>\n",
       "      <td>0.213893</td>\n",
       "      <td>0.605613</td>\n",
       "    </tr>\n",
       "  </tbody>\n",
       "</table>\n",
       "</div>"
      ],
      "text/plain": [
       "                                 Flowers and Insects wrt Pleasant(5) and Unpleasant(5)  \\\n",
       "model_name                                                                               \n",
       "fasttext crawl dim=300                                                    1.678853       \n",
       "fasttext crawl subwords dim=300                                           1.668807       \n",
       "\n",
       "                                 Instruments and Weapons wrt Pleasant(5) and Unpleasant(5)  \\\n",
       "model_name                                                                                   \n",
       "fasttext crawl dim=300                                                    1.719299           \n",
       "fasttext crawl subwords dim=300                                           1.177889           \n",
       "\n",
       "                                 European american names(5) and African american names(5) wrt Pleasant(5) and Unpleasant(5)  \\\n",
       "model_name                                                                                                                    \n",
       "fasttext crawl dim=300                                                    0.639385                                            \n",
       "fasttext crawl subwords dim=300                                           0.901791                                            \n",
       "\n",
       "                                 European american names(7) and African american names(7) wrt Pleasant(5) and Unpleasant(5)  \\\n",
       "model_name                                                                                                                    \n",
       "fasttext crawl dim=300                                                    0.327617                                            \n",
       "fasttext crawl subwords dim=300                                           0.387363                                            \n",
       "\n",
       "                                 European american names(7) and African american names(7) wrt Pleasant(9) and Unpleasant(9)  \\\n",
       "model_name                                                                                                                    \n",
       "fasttext crawl dim=300                                                    0.544679                                            \n",
       "fasttext crawl subwords dim=300                                           0.552362                                            \n",
       "\n",
       "                                 Male names and Female names wrt Career and Family  \\\n",
       "model_name                                                                           \n",
       "fasttext crawl dim=300                                                    0.504557   \n",
       "fasttext crawl subwords dim=300                                           0.431821   \n",
       "\n",
       "                                 Math and Arts wrt Male terms and Female terms  \\\n",
       "model_name                                                                       \n",
       "fasttext crawl dim=300                                                0.220737   \n",
       "fasttext crawl subwords dim=300                                       0.267563   \n",
       "\n",
       "                                 Science and Arts 2 wrt Male terms and Female terms  \\\n",
       "model_name                                                                            \n",
       "fasttext crawl dim=300                                                    0.300546    \n",
       "fasttext crawl subwords dim=300                                           0.169132    \n",
       "\n",
       "                                 Mental disease and Physical disease wrt Temporary and Permanent  \\\n",
       "model_name                                                                                         \n",
       "fasttext crawl dim=300                                                    0.208390                 \n",
       "fasttext crawl subwords dim=300                                           0.285504                 \n",
       "\n",
       "                                 Young peoples names and Old peoples names wrt Pleasant(9) and Unpleasant(9)  \\\n",
       "model_name                                                                                                     \n",
       "fasttext crawl dim=300                                                    0.325519                             \n",
       "fasttext crawl subwords dim=300                                           0.213893                             \n",
       "\n",
       "                                 WEAT: WEAT Queries average of abs values score  \n",
       "model_name                                                                       \n",
       "fasttext crawl dim=300                                                 0.646958  \n",
       "fasttext crawl subwords dim=300                                        0.605613  "
      ]
     },
     "execution_count": 26,
     "metadata": {},
     "output_type": "execute_result"
    }
   ],
   "source": [
    "models = [fasttext_3, fasttext_4]\n",
    "\n",
    "WEAT_results_6_2 = run_queries(\n",
    "    WEAT,\n",
    "    queries,\n",
    "    models,\n",
    "    aggregate_results=True,\n",
    "    aggregation_function='abs_avg',\n",
    "    queries_set_name='WEAT Queries')\n",
    "\n",
    "%store WEAT_results_6_2\n",
    "WEAT_results_6_2"
   ]
  },
  {
   "cell_type": "markdown",
   "metadata": {},
   "source": [
    "More than 20% of words from 'African american names(7)' are not included in setting 'fasttext crawl subwords dim=300'"
   ]
  },
  {
   "cell_type": "code",
   "execution_count": 27,
   "metadata": {
    "scrolled": true
   },
   "outputs": [
    {
     "name": "stdout",
     "output_type": "stream",
     "text": [
      "Stored 'WEAT_ranking_6_2' (DataFrame)\n"
     ]
    },
    {
     "data": {
      "text/html": [
       "<div>\n",
       "<style scoped>\n",
       "    .dataframe tbody tr th:only-of-type {\n",
       "        vertical-align: middle;\n",
       "    }\n",
       "\n",
       "    .dataframe tbody tr th {\n",
       "        vertical-align: top;\n",
       "    }\n",
       "\n",
       "    .dataframe thead th {\n",
       "        text-align: right;\n",
       "    }\n",
       "</style>\n",
       "<table border=\"1\" class=\"dataframe\">\n",
       "  <thead>\n",
       "    <tr style=\"text-align: right;\">\n",
       "      <th></th>\n",
       "      <th>WEAT: WEAT Queries average of abs values score</th>\n",
       "    </tr>\n",
       "    <tr>\n",
       "      <th>model_name</th>\n",
       "      <th></th>\n",
       "    </tr>\n",
       "  </thead>\n",
       "  <tbody>\n",
       "    <tr>\n",
       "      <th>fasttext crawl dim=300</th>\n",
       "      <td>2.0</td>\n",
       "    </tr>\n",
       "    <tr>\n",
       "      <th>fasttext crawl subwords dim=300</th>\n",
       "      <td>1.0</td>\n",
       "    </tr>\n",
       "  </tbody>\n",
       "</table>\n",
       "</div>"
      ],
      "text/plain": [
       "                                 WEAT: WEAT Queries average of abs values score\n",
       "model_name                                                                     \n",
       "fasttext crawl dim=300                                                      2.0\n",
       "fasttext crawl subwords dim=300                                             1.0"
      ]
     },
     "execution_count": 27,
     "metadata": {},
     "output_type": "execute_result"
    }
   ],
   "source": [
    "WEAT_ranking_6_2 = create_ranking([WEAT_results_6_2])\n",
    "\n",
    "%store WEAT_ranking_6_2\n",
    "WEAT_ranking_6_2"
   ]
  },
  {
   "cell_type": "markdown",
   "metadata": {},
   "source": [
    "# fastText wiki news\n",
    "1. fasttext wiki dim=300: 1 million word vectors trained on Wikipedia 2017, UMBC webbase corpus and statmt.org news dataset (16B tokens).\n",
    "2. fasttext wiki subwords dim=300: 1 million word vectors trained with subword infomation on Wikipedia 2017, UMBC webbase corpus and statmt.org news dataset (16B tokens)."
   ]
  },
  {
   "cell_type": "code",
   "execution_count": 15,
   "metadata": {
    "scrolled": true
   },
   "outputs": [
    {
     "name": "stderr",
     "output_type": "stream",
     "text": [
      "WARNING:root:The transformation of 'African american names(5)' into fasttext wiki subwords dim=300 embeddings lost proportionally more words than specified in 'lost_words_threshold': 0.53 lost with respect to 0.2 maximum loss allowed.\n",
      "ERROR:root:At least one set of 'European american names(5) and African american names(5) wrt Pleasant(5) and Unpleasant(5)' query has proportionally fewer embeddings than allowed by the lost_vocabulary_threshold parameter (0.2). This query will return np.nan.\n",
      "WARNING:root:The transformation of 'African american names(5)' into fasttext wiki dim=300 embeddings lost proportionally more words than specified in 'lost_words_threshold': 0.53 lost with respect to 0.2 maximum loss allowed.\n",
      "ERROR:root:At least one set of 'European american names(5) and African american names(5) wrt Pleasant(5) and Unpleasant(5)' query has proportionally fewer embeddings than allowed by the lost_vocabulary_threshold parameter (0.2). This query will return np.nan.\n",
      "WARNING:root:The transformation of 'African american names(7)' into fasttext wiki subwords dim=300 embeddings lost proportionally more words than specified in 'lost_words_threshold': 0.44 lost with respect to 0.2 maximum loss allowed.\n",
      "ERROR:root:At least one set of 'European american names(7) and African american names(7) wrt Pleasant(5) and Unpleasant(5)' query has proportionally fewer embeddings than allowed by the lost_vocabulary_threshold parameter (0.2). This query will return np.nan.\n",
      "WARNING:root:The transformation of 'African american names(7)' into fasttext wiki dim=300 embeddings lost proportionally more words than specified in 'lost_words_threshold': 0.44 lost with respect to 0.2 maximum loss allowed.\n",
      "ERROR:root:At least one set of 'European american names(7) and African american names(7) wrt Pleasant(5) and Unpleasant(5)' query has proportionally fewer embeddings than allowed by the lost_vocabulary_threshold parameter (0.2). This query will return np.nan.\n",
      "WARNING:root:The transformation of 'African american names(7)' into fasttext wiki subwords dim=300 embeddings lost proportionally more words than specified in 'lost_words_threshold': 0.44 lost with respect to 0.2 maximum loss allowed.\n",
      "ERROR:root:At least one set of 'European american names(7) and African american names(7) wrt Pleasant(9) and Unpleasant(9)' query has proportionally fewer embeddings than allowed by the lost_vocabulary_threshold parameter (0.2). This query will return np.nan.\n",
      "WARNING:root:The transformation of 'African american names(7)' into fasttext wiki dim=300 embeddings lost proportionally more words than specified in 'lost_words_threshold': 0.44 lost with respect to 0.2 maximum loss allowed.\n",
      "ERROR:root:At least one set of 'European american names(7) and African american names(7) wrt Pleasant(9) and Unpleasant(9)' query has proportionally fewer embeddings than allowed by the lost_vocabulary_threshold parameter (0.2). This query will return np.nan.\n",
      "WARNING:root:The transformation of 'Old peoples names' into fasttext wiki subwords dim=300 embeddings lost proportionally more words than specified in 'lost_words_threshold': 0.25 lost with respect to 0.2 maximum loss allowed.\n",
      "ERROR:root:At least one set of 'Young peoples names and Old peoples names wrt Pleasant(9) and Unpleasant(9)' query has proportionally fewer embeddings than allowed by the lost_vocabulary_threshold parameter (0.2). This query will return np.nan.\n",
      "WARNING:root:The transformation of 'Old peoples names' into fasttext wiki dim=300 embeddings lost proportionally more words than specified in 'lost_words_threshold': 0.25 lost with respect to 0.2 maximum loss allowed.\n",
      "ERROR:root:At least one set of 'Young peoples names and Old peoples names wrt Pleasant(9) and Unpleasant(9)' query has proportionally fewer embeddings than allowed by the lost_vocabulary_threshold parameter (0.2). This query will return np.nan.\n"
     ]
    },
    {
     "name": "stdout",
     "output_type": "stream",
     "text": [
      "Stored 'WEAT_results_7' (DataFrame)\n"
     ]
    },
    {
     "data": {
      "text/html": [
       "<div>\n",
       "<style scoped>\n",
       "    .dataframe tbody tr th:only-of-type {\n",
       "        vertical-align: middle;\n",
       "    }\n",
       "\n",
       "    .dataframe tbody tr th {\n",
       "        vertical-align: top;\n",
       "    }\n",
       "\n",
       "    .dataframe thead th {\n",
       "        text-align: right;\n",
       "    }\n",
       "</style>\n",
       "<table border=\"1\" class=\"dataframe\">\n",
       "  <thead>\n",
       "    <tr style=\"text-align: right;\">\n",
       "      <th></th>\n",
       "      <th>Flowers and Insects wrt Pleasant(5) and Unpleasant(5)</th>\n",
       "      <th>Instruments and Weapons wrt Pleasant(5) and Unpleasant(5)</th>\n",
       "      <th>European american names(5) and African american names(5) wrt Pleasant(5) and Unpleasant(5)</th>\n",
       "      <th>European american names(7) and African american names(7) wrt Pleasant(5) and Unpleasant(5)</th>\n",
       "      <th>European american names(7) and African american names(7) wrt Pleasant(9) and Unpleasant(9)</th>\n",
       "      <th>Male names and Female names wrt Career and Family</th>\n",
       "      <th>Math and Arts wrt Male terms and Female terms</th>\n",
       "      <th>Science and Arts 2 wrt Male terms and Female terms</th>\n",
       "      <th>Mental disease and Physical disease wrt Temporary and Permanent</th>\n",
       "      <th>Young peoples names and Old peoples names wrt Pleasant(9) and Unpleasant(9)</th>\n",
       "      <th>WEAT: WEAT Queries average of abs values score</th>\n",
       "    </tr>\n",
       "    <tr>\n",
       "      <th>model_name</th>\n",
       "      <th></th>\n",
       "      <th></th>\n",
       "      <th></th>\n",
       "      <th></th>\n",
       "      <th></th>\n",
       "      <th></th>\n",
       "      <th></th>\n",
       "      <th></th>\n",
       "      <th></th>\n",
       "      <th></th>\n",
       "      <th></th>\n",
       "    </tr>\n",
       "  </thead>\n",
       "  <tbody>\n",
       "    <tr>\n",
       "      <th>fasttext wiki subwords dim=300</th>\n",
       "      <td>1.358939</td>\n",
       "      <td>1.649030</td>\n",
       "      <td>NaN</td>\n",
       "      <td>NaN</td>\n",
       "      <td>NaN</td>\n",
       "      <td>0.439045</td>\n",
       "      <td>0.198445</td>\n",
       "      <td>0.102133</td>\n",
       "      <td>0.195474</td>\n",
       "      <td>NaN</td>\n",
       "      <td>0.657178</td>\n",
       "    </tr>\n",
       "    <tr>\n",
       "      <th>fasttext wiki dim=300</th>\n",
       "      <td>0.777454</td>\n",
       "      <td>1.347168</td>\n",
       "      <td>NaN</td>\n",
       "      <td>NaN</td>\n",
       "      <td>NaN</td>\n",
       "      <td>0.511297</td>\n",
       "      <td>0.202839</td>\n",
       "      <td>0.137419</td>\n",
       "      <td>0.243172</td>\n",
       "      <td>NaN</td>\n",
       "      <td>0.536558</td>\n",
       "    </tr>\n",
       "  </tbody>\n",
       "</table>\n",
       "</div>"
      ],
      "text/plain": [
       "                                Flowers and Insects wrt Pleasant(5) and Unpleasant(5)  \\\n",
       "model_name                                                                              \n",
       "fasttext wiki subwords dim=300                                           1.358939       \n",
       "fasttext wiki dim=300                                                    0.777454       \n",
       "\n",
       "                                Instruments and Weapons wrt Pleasant(5) and Unpleasant(5)  \\\n",
       "model_name                                                                                  \n",
       "fasttext wiki subwords dim=300                                           1.649030           \n",
       "fasttext wiki dim=300                                                    1.347168           \n",
       "\n",
       "                                European american names(5) and African american names(5) wrt Pleasant(5) and Unpleasant(5)  \\\n",
       "model_name                                                                                                                   \n",
       "fasttext wiki subwords dim=300                                                NaN                                            \n",
       "fasttext wiki dim=300                                                         NaN                                            \n",
       "\n",
       "                                European american names(7) and African american names(7) wrt Pleasant(5) and Unpleasant(5)  \\\n",
       "model_name                                                                                                                   \n",
       "fasttext wiki subwords dim=300                                                NaN                                            \n",
       "fasttext wiki dim=300                                                         NaN                                            \n",
       "\n",
       "                                European american names(7) and African american names(7) wrt Pleasant(9) and Unpleasant(9)  \\\n",
       "model_name                                                                                                                   \n",
       "fasttext wiki subwords dim=300                                                NaN                                            \n",
       "fasttext wiki dim=300                                                         NaN                                            \n",
       "\n",
       "                                Male names and Female names wrt Career and Family  \\\n",
       "model_name                                                                          \n",
       "fasttext wiki subwords dim=300                                           0.439045   \n",
       "fasttext wiki dim=300                                                    0.511297   \n",
       "\n",
       "                                Math and Arts wrt Male terms and Female terms  \\\n",
       "model_name                                                                      \n",
       "fasttext wiki subwords dim=300                                       0.198445   \n",
       "fasttext wiki dim=300                                                0.202839   \n",
       "\n",
       "                                Science and Arts 2 wrt Male terms and Female terms  \\\n",
       "model_name                                                                           \n",
       "fasttext wiki subwords dim=300                                           0.102133    \n",
       "fasttext wiki dim=300                                                    0.137419    \n",
       "\n",
       "                                Mental disease and Physical disease wrt Temporary and Permanent  \\\n",
       "model_name                                                                                        \n",
       "fasttext wiki subwords dim=300                                           0.195474                 \n",
       "fasttext wiki dim=300                                                    0.243172                 \n",
       "\n",
       "                                Young peoples names and Old peoples names wrt Pleasant(9) and Unpleasant(9)  \\\n",
       "model_name                                                                                                    \n",
       "fasttext wiki subwords dim=300                                                NaN                             \n",
       "fasttext wiki dim=300                                                         NaN                             \n",
       "\n",
       "                                WEAT: WEAT Queries average of abs values score  \n",
       "model_name                                                                      \n",
       "fasttext wiki subwords dim=300                                        0.657178  \n",
       "fasttext wiki dim=300                                                 0.536558  "
      ]
     },
     "execution_count": 15,
     "metadata": {},
     "output_type": "execute_result"
    }
   ],
   "source": [
    "models = [fasttext_1, fasttext_2]\n",
    "\n",
    "WEAT_results_7 = run_queries(\n",
    "    WEAT,\n",
    "    queries,\n",
    "    models,\n",
    "    metric_params={'preprocessor_args': {\n",
    "        'lowercase': True\n",
    "    }},\n",
    "    aggregate_results=True,\n",
    "    aggregation_function='abs_avg',\n",
    "    queries_set_name='WEAT Queries')\n",
    "\n",
    "%store WEAT_results_7\n",
    "WEAT_results_7"
   ]
  },
  {
   "cell_type": "markdown",
   "metadata": {},
   "source": [
    "More than 20% of words from 'African american names(7)' and 'Old peoples names' are not included in both settings"
   ]
  },
  {
   "cell_type": "code",
   "execution_count": 17,
   "metadata": {},
   "outputs": [
    {
     "name": "stdout",
     "output_type": "stream",
     "text": [
      "Stored 'WEAT_ranking_7' (DataFrame)\n"
     ]
    },
    {
     "data": {
      "text/html": [
       "<div>\n",
       "<style scoped>\n",
       "    .dataframe tbody tr th:only-of-type {\n",
       "        vertical-align: middle;\n",
       "    }\n",
       "\n",
       "    .dataframe tbody tr th {\n",
       "        vertical-align: top;\n",
       "    }\n",
       "\n",
       "    .dataframe thead th {\n",
       "        text-align: right;\n",
       "    }\n",
       "</style>\n",
       "<table border=\"1\" class=\"dataframe\">\n",
       "  <thead>\n",
       "    <tr style=\"text-align: right;\">\n",
       "      <th></th>\n",
       "      <th>WEAT: WEAT Queries average of abs values score</th>\n",
       "    </tr>\n",
       "    <tr>\n",
       "      <th>model_name</th>\n",
       "      <th></th>\n",
       "    </tr>\n",
       "  </thead>\n",
       "  <tbody>\n",
       "    <tr>\n",
       "      <th>fasttext wiki subwords dim=300</th>\n",
       "      <td>2.0</td>\n",
       "    </tr>\n",
       "    <tr>\n",
       "      <th>fasttext wiki dim=300</th>\n",
       "      <td>1.0</td>\n",
       "    </tr>\n",
       "  </tbody>\n",
       "</table>\n",
       "</div>"
      ],
      "text/plain": [
       "                                WEAT: WEAT Queries average of abs values score\n",
       "model_name                                                                    \n",
       "fasttext wiki subwords dim=300                                             2.0\n",
       "fasttext wiki dim=300                                                      1.0"
      ]
     },
     "execution_count": 17,
     "metadata": {},
     "output_type": "execute_result"
    }
   ],
   "source": [
    "WEAT_ranking_7 = create_ranking([WEAT_results_7])\n",
    "\n",
    "%store WEAT_ranking_7\n",
    "WEAT_ranking_7"
   ]
  },
  {
   "cell_type": "code",
   "execution_count": 4,
   "metadata": {},
   "outputs": [],
   "source": [
    "fasttext_1_fee = loader.WE().load(ename = 'fasttext-wiki-news-subwords-300', normalize=True)"
   ]
  },
  {
   "cell_type": "code",
   "execution_count": 5,
   "metadata": {
    "scrolled": false
   },
   "outputs": [
    {
     "name": "stdout",
     "output_type": "stream",
     "text": [
      "Stored 'sembias_f1' (tuple)\n"
     ]
    },
    {
     "data": {
      "text/plain": [
       "(0.925, 0.05454545454545454, 0.020454545454545454)"
      ]
     },
     "execution_count": 5,
     "metadata": {},
     "output_type": "execute_result"
    }
   ],
   "source": [
    "sembias_f1 = SemBias(fasttext_1_fee).compute()\n",
    "\n",
    "%store sembias_f1\n",
    "sembias_f1"
   ]
  },
  {
   "cell_type": "code",
   "execution_count": 24,
   "metadata": {
    "scrolled": false
   },
   "outputs": [
    {
     "name": "stdout",
     "output_type": "stream",
     "text": [
      "Weird line: ['1917494', '300'] | 2\n"
     ]
    },
    {
     "ename": "AttributeError",
     "evalue": "'list' object has no attribute 'shape'",
     "output_type": "error",
     "traceback": [
      "\u001b[0;31m---------------------------------------------------------------------------\u001b[0m",
      "\u001b[0;31mAttributeError\u001b[0m                            Traceback (most recent call last)",
      "\u001b[0;32m<ipython-input-24-d3066b13b0e0>\u001b[0m in \u001b[0;36m<module>\u001b[0;34m\u001b[0m\n\u001b[0;32m----> 1\u001b[0;31m \u001b[0mglove_9_fee\u001b[0m \u001b[0;34m=\u001b[0m \u001b[0mloader\u001b[0m\u001b[0;34m.\u001b[0m\u001b[0mWE\u001b[0m\u001b[0;34m(\u001b[0m\u001b[0;34m)\u001b[0m\u001b[0;34m.\u001b[0m\u001b[0mload\u001b[0m\u001b[0;34m(\u001b[0m\u001b[0mfname\u001b[0m\u001b[0;34m=\u001b[0m\u001b[0;34m'glove.42B.300d duplicate.txt'\u001b[0m\u001b[0;34m)\u001b[0m\u001b[0;34m\u001b[0m\u001b[0;34m\u001b[0m\u001b[0m\n\u001b[0m",
      "\u001b[0;32m~/Desktop/Emeralda/FEE-master/fee/embedding/loader.py\u001b[0m in \u001b[0;36mload\u001b[0;34m(self, fname, format, ename, normalize, dim)\u001b[0m\n\u001b[1;32m    170\u001b[0m \u001b[0;34m\u001b[0m\u001b[0m\n\u001b[1;32m    171\u001b[0m         \u001b[0;32melse\u001b[0m\u001b[0;34m:\u001b[0m\u001b[0;34m\u001b[0m\u001b[0;34m\u001b[0m\u001b[0m\n\u001b[0;32m--> 172\u001b[0;31m             \u001b[0mwords\u001b[0m\u001b[0;34m,\u001b[0m \u001b[0mvecs\u001b[0m \u001b[0;34m=\u001b[0m \u001b[0mself\u001b[0m\u001b[0;34m.\u001b[0m\u001b[0m_load\u001b[0m\u001b[0;34m(\u001b[0m\u001b[0mfname\u001b[0m\u001b[0;34m,\u001b[0m \u001b[0mformat\u001b[0m\u001b[0;34m,\u001b[0m \u001b[0mdim\u001b[0m\u001b[0;34m)\u001b[0m\u001b[0;34m\u001b[0m\u001b[0;34m\u001b[0m\u001b[0m\n\u001b[0m\u001b[1;32m    173\u001b[0m \u001b[0;34m\u001b[0m\u001b[0m\n\u001b[1;32m    174\u001b[0m         \u001b[0mself\u001b[0m\u001b[0;34m.\u001b[0m\u001b[0mwords\u001b[0m \u001b[0;34m=\u001b[0m \u001b[0mwords\u001b[0m\u001b[0;34m\u001b[0m\u001b[0;34m\u001b[0m\u001b[0m\n",
      "\u001b[0;32m~/Desktop/Emeralda/FEE-master/fee/embedding/loader.py\u001b[0m in \u001b[0;36m_load\u001b[0;34m(self, fname, format, dim)\u001b[0m\n\u001b[1;32m    117\u001b[0m             \u001b[0mvecs\u001b[0m \u001b[0;34m=\u001b[0m \u001b[0mnp\u001b[0m\u001b[0;34m.\u001b[0m\u001b[0mload\u001b[0m\u001b[0;34m(\u001b[0m\u001b[0mfname\u001b[0m \u001b[0;34m+\u001b[0m \u001b[0;34m'.wv.npy'\u001b[0m\u001b[0;34m)\u001b[0m\u001b[0;34m\u001b[0m\u001b[0;34m\u001b[0m\u001b[0m\n\u001b[1;32m    118\u001b[0m \u001b[0;34m\u001b[0m\u001b[0m\n\u001b[0;32m--> 119\u001b[0;31m         \u001b[0mself\u001b[0m\u001b[0;34m.\u001b[0m\u001b[0mn\u001b[0m\u001b[0;34m,\u001b[0m \u001b[0mself\u001b[0m\u001b[0;34m.\u001b[0m\u001b[0mdim\u001b[0m \u001b[0;34m=\u001b[0m \u001b[0mvecs\u001b[0m\u001b[0;34m.\u001b[0m\u001b[0mshape\u001b[0m\u001b[0;34m\u001b[0m\u001b[0;34m\u001b[0m\u001b[0m\n\u001b[0m\u001b[1;32m    120\u001b[0m \u001b[0;34m\u001b[0m\u001b[0m\n\u001b[1;32m    121\u001b[0m         \u001b[0mself\u001b[0m\u001b[0;34m.\u001b[0m\u001b[0mdesc\u001b[0m \u001b[0;34m=\u001b[0m \u001b[0;34mf\"File: {fname}\\tFormat: {format}\\t\"\u001b[0m\u001b[0;31m \u001b[0m\u001b[0;31m\\\u001b[0m\u001b[0;34m\u001b[0m\u001b[0;34m\u001b[0m\u001b[0m\n",
      "\u001b[0;31mAttributeError\u001b[0m: 'list' object has no attribute 'shape'"
     ]
    }
   ],
   "source": [
    "glove_9_fee = loader.WE().load(fname='glove.42B.300d duplicate.txt')"
   ]
  },
  {
   "cell_type": "code",
   "execution_count": null,
   "metadata": {},
   "outputs": [],
   "source": [
    "glove_10_fee = loader.WE().load(fname='/Macintosh HD⁩ ⁨Users⁩/EmpiricalSE⁩/⁨Desktop⁩/⁨Emeralda/glove.840B.300d.txt', normalize=True)"
   ]
  },
  {
   "cell_type": "code",
   "execution_count": 30,
   "metadata": {
    "scrolled": true
   },
   "outputs": [
    {
     "ename": "FileNotFoundError",
     "evalue": "[Errno 2] No such file or directory: 'wiki-news-300d-1M.vec.vocab'",
     "output_type": "error",
     "traceback": [
      "\u001b[0;31m---------------------------------------------------------------------------\u001b[0m",
      "\u001b[0;31mFileNotFoundError\u001b[0m                         Traceback (most recent call last)",
      "\u001b[0;32m<ipython-input-30-4be9dbe2137e>\u001b[0m in \u001b[0;36m<module>\u001b[0;34m\u001b[0m\n\u001b[0;32m----> 1\u001b[0;31m \u001b[0mfasttext_2_fee\u001b[0m \u001b[0;34m=\u001b[0m \u001b[0mloader\u001b[0m\u001b[0;34m.\u001b[0m\u001b[0mWE\u001b[0m\u001b[0;34m(\u001b[0m\u001b[0;34m)\u001b[0m\u001b[0;34m.\u001b[0m\u001b[0mload\u001b[0m\u001b[0;34m(\u001b[0m\u001b[0mfname\u001b[0m\u001b[0;34m=\u001b[0m\u001b[0;34m'wiki-news-300d-1M.vec'\u001b[0m\u001b[0;34m,\u001b[0m \u001b[0mnormalize\u001b[0m\u001b[0;34m=\u001b[0m\u001b[0;32mTrue\u001b[0m\u001b[0;34m)\u001b[0m\u001b[0;34m\u001b[0m\u001b[0;34m\u001b[0m\u001b[0m\n\u001b[0m",
      "\u001b[0;32m~/Desktop/postgraduate/dissertation/FEE-master/fee/embedding/loader.py\u001b[0m in \u001b[0;36mload\u001b[0;34m(self, fname, format, ename, normalize, dim)\u001b[0m\n\u001b[1;32m    170\u001b[0m \u001b[0;34m\u001b[0m\u001b[0m\n\u001b[1;32m    171\u001b[0m         \u001b[0;32melse\u001b[0m\u001b[0;34m:\u001b[0m\u001b[0;34m\u001b[0m\u001b[0;34m\u001b[0m\u001b[0m\n\u001b[0;32m--> 172\u001b[0;31m             \u001b[0mwords\u001b[0m\u001b[0;34m,\u001b[0m \u001b[0mvecs\u001b[0m \u001b[0;34m=\u001b[0m \u001b[0mself\u001b[0m\u001b[0;34m.\u001b[0m\u001b[0m_load\u001b[0m\u001b[0;34m(\u001b[0m\u001b[0mfname\u001b[0m\u001b[0;34m,\u001b[0m \u001b[0mformat\u001b[0m\u001b[0;34m,\u001b[0m \u001b[0mdim\u001b[0m\u001b[0;34m)\u001b[0m\u001b[0;34m\u001b[0m\u001b[0;34m\u001b[0m\u001b[0m\n\u001b[0m\u001b[1;32m    173\u001b[0m \u001b[0;34m\u001b[0m\u001b[0m\n\u001b[1;32m    174\u001b[0m         \u001b[0mself\u001b[0m\u001b[0;34m.\u001b[0m\u001b[0mwords\u001b[0m \u001b[0;34m=\u001b[0m \u001b[0mwords\u001b[0m\u001b[0;34m\u001b[0m\u001b[0;34m\u001b[0m\u001b[0m\n",
      "\u001b[0;32m~/Desktop/postgraduate/dissertation/FEE-master/fee/embedding/loader.py\u001b[0m in \u001b[0;36m_load\u001b[0;34m(self, fname, format, dim)\u001b[0m\n\u001b[1;32m    112\u001b[0m                     \u001b[0mvecs\u001b[0m\u001b[0;34m.\u001b[0m\u001b[0mappend\u001b[0m\u001b[0;34m(\u001b[0m\u001b[0mv\u001b[0m\u001b[0;34m)\u001b[0m\u001b[0;34m\u001b[0m\u001b[0;34m\u001b[0m\u001b[0m\n\u001b[1;32m    113\u001b[0m         \u001b[0;32melse\u001b[0m\u001b[0;34m:\u001b[0m\u001b[0;34m\u001b[0m\u001b[0;34m\u001b[0m\u001b[0m\n\u001b[0;32m--> 114\u001b[0;31m             with codecs.open(fname + '.vocab', 'r', \n\u001b[0m\u001b[1;32m    115\u001b[0m                             'utf-8') as f_embed:\n\u001b[1;32m    116\u001b[0m                 \u001b[0mwords\u001b[0m \u001b[0;34m=\u001b[0m \u001b[0;34m[\u001b[0m\u001b[0mline\u001b[0m\u001b[0;34m.\u001b[0m\u001b[0mstrip\u001b[0m\u001b[0;34m(\u001b[0m\u001b[0;34m)\u001b[0m \u001b[0;32mfor\u001b[0m \u001b[0mline\u001b[0m \u001b[0;32min\u001b[0m \u001b[0mf_embed\u001b[0m\u001b[0;34m]\u001b[0m\u001b[0;34m\u001b[0m\u001b[0;34m\u001b[0m\u001b[0m\n",
      "\u001b[0;32m/opt/anaconda3/lib/python3.8/codecs.py\u001b[0m in \u001b[0;36mopen\u001b[0;34m(filename, mode, encoding, errors, buffering)\u001b[0m\n\u001b[1;32m    903\u001b[0m         \u001b[0;31m# Force opening of the file in binary mode\u001b[0m\u001b[0;34m\u001b[0m\u001b[0;34m\u001b[0m\u001b[0;34m\u001b[0m\u001b[0m\n\u001b[1;32m    904\u001b[0m         \u001b[0mmode\u001b[0m \u001b[0;34m=\u001b[0m \u001b[0mmode\u001b[0m \u001b[0;34m+\u001b[0m \u001b[0;34m'b'\u001b[0m\u001b[0;34m\u001b[0m\u001b[0;34m\u001b[0m\u001b[0m\n\u001b[0;32m--> 905\u001b[0;31m     \u001b[0mfile\u001b[0m \u001b[0;34m=\u001b[0m \u001b[0mbuiltins\u001b[0m\u001b[0;34m.\u001b[0m\u001b[0mopen\u001b[0m\u001b[0;34m(\u001b[0m\u001b[0mfilename\u001b[0m\u001b[0;34m,\u001b[0m \u001b[0mmode\u001b[0m\u001b[0;34m,\u001b[0m \u001b[0mbuffering\u001b[0m\u001b[0;34m)\u001b[0m\u001b[0;34m\u001b[0m\u001b[0;34m\u001b[0m\u001b[0m\n\u001b[0m\u001b[1;32m    906\u001b[0m     \u001b[0;32mif\u001b[0m \u001b[0mencoding\u001b[0m \u001b[0;32mis\u001b[0m \u001b[0;32mNone\u001b[0m\u001b[0;34m:\u001b[0m\u001b[0;34m\u001b[0m\u001b[0;34m\u001b[0m\u001b[0m\n\u001b[1;32m    907\u001b[0m         \u001b[0;32mreturn\u001b[0m \u001b[0mfile\u001b[0m\u001b[0;34m\u001b[0m\u001b[0;34m\u001b[0m\u001b[0m\n",
      "\u001b[0;31mFileNotFoundError\u001b[0m: [Errno 2] No such file or directory: 'wiki-news-300d-1M.vec.vocab'"
     ]
    }
   ],
   "source": [
    "fasttext_2_fee = loader.WE().load(fname='wiki-news-300d-1M.vec', normalize=True)"
   ]
  },
  {
   "cell_type": "code",
   "execution_count": 31,
   "metadata": {},
   "outputs": [
    {
     "name": "stderr",
     "output_type": "stream",
     "text": [
      "INFO:gensim.models.utils_any2vec:loading projection weights from crawl-300d-2M-subword.bin\n",
      "DEBUG:smart_open.smart_open_lib:{'uri': 'crawl-300d-2M-subword.bin', 'mode': 'rb', 'buffering': -1, 'encoding': None, 'errors': None, 'newline': None, 'closefd': True, 'opener': None, 'ignore_ext': False, 'transport_params': None}\n"
     ]
    },
    {
     "ename": "FileNotFoundError",
     "evalue": "[Errno 2] No such file or directory: 'crawl-300d-2M-subword.bin'",
     "output_type": "error",
     "traceback": [
      "\u001b[0;31m---------------------------------------------------------------------------\u001b[0m",
      "\u001b[0;31mFileNotFoundError\u001b[0m                         Traceback (most recent call last)",
      "\u001b[0;32m<ipython-input-31-e3bb0d4fc011>\u001b[0m in \u001b[0;36m<module>\u001b[0;34m\u001b[0m\n\u001b[0;32m----> 1\u001b[0;31m \u001b[0mfasttext_3_fee\u001b[0m \u001b[0;34m=\u001b[0m \u001b[0mloader\u001b[0m\u001b[0;34m.\u001b[0m\u001b[0mWE\u001b[0m\u001b[0;34m(\u001b[0m\u001b[0;34m)\u001b[0m\u001b[0;34m.\u001b[0m\u001b[0mload\u001b[0m\u001b[0;34m(\u001b[0m\u001b[0mfname\u001b[0m\u001b[0;34m=\u001b[0m\u001b[0;34m'crawl-300d-2M-subword.bin'\u001b[0m\u001b[0;34m,\u001b[0m \u001b[0mnormalize\u001b[0m\u001b[0;34m=\u001b[0m\u001b[0;32mTrue\u001b[0m\u001b[0;34m)\u001b[0m\u001b[0;34m\u001b[0m\u001b[0;34m\u001b[0m\u001b[0m\n\u001b[0m",
      "\u001b[0;32m~/Desktop/postgraduate/dissertation/FEE-master/fee/embedding/loader.py\u001b[0m in \u001b[0;36mload\u001b[0;34m(self, fname, format, ename, normalize, dim)\u001b[0m\n\u001b[1;32m    170\u001b[0m \u001b[0;34m\u001b[0m\u001b[0m\n\u001b[1;32m    171\u001b[0m         \u001b[0;32melse\u001b[0m\u001b[0;34m:\u001b[0m\u001b[0;34m\u001b[0m\u001b[0;34m\u001b[0m\u001b[0m\n\u001b[0;32m--> 172\u001b[0;31m             \u001b[0mwords\u001b[0m\u001b[0;34m,\u001b[0m \u001b[0mvecs\u001b[0m \u001b[0;34m=\u001b[0m \u001b[0mself\u001b[0m\u001b[0;34m.\u001b[0m\u001b[0m_load\u001b[0m\u001b[0;34m(\u001b[0m\u001b[0mfname\u001b[0m\u001b[0;34m,\u001b[0m \u001b[0mformat\u001b[0m\u001b[0;34m,\u001b[0m \u001b[0mdim\u001b[0m\u001b[0;34m)\u001b[0m\u001b[0;34m\u001b[0m\u001b[0;34m\u001b[0m\u001b[0m\n\u001b[0m\u001b[1;32m    173\u001b[0m \u001b[0;34m\u001b[0m\u001b[0m\n\u001b[1;32m    174\u001b[0m         \u001b[0mself\u001b[0m\u001b[0;34m.\u001b[0m\u001b[0mwords\u001b[0m \u001b[0;34m=\u001b[0m \u001b[0mwords\u001b[0m\u001b[0;34m\u001b[0m\u001b[0;34m\u001b[0m\u001b[0m\n",
      "\u001b[0;32m~/Desktop/postgraduate/dissertation/FEE-master/fee/embedding/loader.py\u001b[0m in \u001b[0;36m_load\u001b[0;34m(self, fname, format, dim)\u001b[0m\n\u001b[1;32m     96\u001b[0m         \u001b[0;32mif\u001b[0m \u001b[0mformat\u001b[0m \u001b[0;34m==\u001b[0m \u001b[0;34m'bin'\u001b[0m\u001b[0;34m:\u001b[0m\u001b[0;34m\u001b[0m\u001b[0;34m\u001b[0m\u001b[0m\n\u001b[1;32m     97\u001b[0m             \u001b[0;32mimport\u001b[0m \u001b[0mgensim\u001b[0m\u001b[0;34m.\u001b[0m\u001b[0mmodels\u001b[0m\u001b[0;34m\u001b[0m\u001b[0;34m\u001b[0m\u001b[0m\n\u001b[0;32m---> 98\u001b[0;31m             \u001b[0mmodel\u001b[0m \u001b[0;34m=\u001b[0m \u001b[0mgensim\u001b[0m\u001b[0;34m.\u001b[0m\u001b[0mmodels\u001b[0m\u001b[0;34m.\u001b[0m\u001b[0mKeyedVectors\u001b[0m\u001b[0;34m.\u001b[0m\u001b[0mload_word2vec_format\u001b[0m\u001b[0;34m(\u001b[0m\u001b[0mfname\u001b[0m\u001b[0;34m,\u001b[0m \u001b[0mbinary\u001b[0m\u001b[0;34m=\u001b[0m\u001b[0;32mTrue\u001b[0m\u001b[0;34m)\u001b[0m\u001b[0;34m\u001b[0m\u001b[0;34m\u001b[0m\u001b[0m\n\u001b[0m\u001b[1;32m     99\u001b[0m             \u001b[0mwords\u001b[0m\u001b[0;34m,\u001b[0m \u001b[0mvecs\u001b[0m \u001b[0;34m=\u001b[0m \u001b[0mself\u001b[0m\u001b[0;34m.\u001b[0m\u001b[0mget_gensim_word_vecs\u001b[0m\u001b[0;34m(\u001b[0m\u001b[0mmodel\u001b[0m\u001b[0;34m)\u001b[0m\u001b[0;34m\u001b[0m\u001b[0;34m\u001b[0m\u001b[0m\n\u001b[1;32m    100\u001b[0m \u001b[0;34m\u001b[0m\u001b[0m\n",
      "\u001b[0;32m~/.local/lib/python3.8/site-packages/gensim/models/keyedvectors.py\u001b[0m in \u001b[0;36mload_word2vec_format\u001b[0;34m(cls, fname, fvocab, binary, encoding, unicode_errors, limit, datatype)\u001b[0m\n\u001b[1;32m   1494\u001b[0m         \"\"\"\n\u001b[1;32m   1495\u001b[0m         \u001b[0;31m# from gensim.models.word2vec import load_word2vec_format\u001b[0m\u001b[0;34m\u001b[0m\u001b[0;34m\u001b[0m\u001b[0;34m\u001b[0m\u001b[0m\n\u001b[0;32m-> 1496\u001b[0;31m         return _load_word2vec_format(\n\u001b[0m\u001b[1;32m   1497\u001b[0m             \u001b[0mcls\u001b[0m\u001b[0;34m,\u001b[0m \u001b[0mfname\u001b[0m\u001b[0;34m,\u001b[0m \u001b[0mfvocab\u001b[0m\u001b[0;34m=\u001b[0m\u001b[0mfvocab\u001b[0m\u001b[0;34m,\u001b[0m \u001b[0mbinary\u001b[0m\u001b[0;34m=\u001b[0m\u001b[0mbinary\u001b[0m\u001b[0;34m,\u001b[0m \u001b[0mencoding\u001b[0m\u001b[0;34m=\u001b[0m\u001b[0mencoding\u001b[0m\u001b[0;34m,\u001b[0m \u001b[0municode_errors\u001b[0m\u001b[0;34m=\u001b[0m\u001b[0municode_errors\u001b[0m\u001b[0;34m,\u001b[0m\u001b[0;34m\u001b[0m\u001b[0;34m\u001b[0m\u001b[0m\n\u001b[1;32m   1498\u001b[0m             limit=limit, datatype=datatype)\n",
      "\u001b[0;32m~/.local/lib/python3.8/site-packages/gensim/models/utils_any2vec.py\u001b[0m in \u001b[0;36m_load_word2vec_format\u001b[0;34m(cls, fname, fvocab, binary, encoding, unicode_errors, limit, datatype)\u001b[0m\n\u001b[1;32m    340\u001b[0m \u001b[0;34m\u001b[0m\u001b[0m\n\u001b[1;32m    341\u001b[0m     \u001b[0mlogger\u001b[0m\u001b[0;34m.\u001b[0m\u001b[0minfo\u001b[0m\u001b[0;34m(\u001b[0m\u001b[0;34m\"loading projection weights from %s\"\u001b[0m\u001b[0;34m,\u001b[0m \u001b[0mfname\u001b[0m\u001b[0;34m)\u001b[0m\u001b[0;34m\u001b[0m\u001b[0;34m\u001b[0m\u001b[0m\n\u001b[0;32m--> 342\u001b[0;31m     \u001b[0;32mwith\u001b[0m \u001b[0mutils\u001b[0m\u001b[0;34m.\u001b[0m\u001b[0mopen\u001b[0m\u001b[0;34m(\u001b[0m\u001b[0mfname\u001b[0m\u001b[0;34m,\u001b[0m \u001b[0;34m'rb'\u001b[0m\u001b[0;34m)\u001b[0m \u001b[0;32mas\u001b[0m \u001b[0mfin\u001b[0m\u001b[0;34m:\u001b[0m\u001b[0;34m\u001b[0m\u001b[0;34m\u001b[0m\u001b[0m\n\u001b[0m\u001b[1;32m    343\u001b[0m         \u001b[0mheader\u001b[0m \u001b[0;34m=\u001b[0m \u001b[0mutils\u001b[0m\u001b[0;34m.\u001b[0m\u001b[0mto_unicode\u001b[0m\u001b[0;34m(\u001b[0m\u001b[0mfin\u001b[0m\u001b[0;34m.\u001b[0m\u001b[0mreadline\u001b[0m\u001b[0;34m(\u001b[0m\u001b[0;34m)\u001b[0m\u001b[0;34m,\u001b[0m \u001b[0mencoding\u001b[0m\u001b[0;34m=\u001b[0m\u001b[0mencoding\u001b[0m\u001b[0;34m)\u001b[0m\u001b[0;34m\u001b[0m\u001b[0;34m\u001b[0m\u001b[0m\n\u001b[1;32m    344\u001b[0m         \u001b[0mvocab_size\u001b[0m\u001b[0;34m,\u001b[0m \u001b[0mvector_size\u001b[0m \u001b[0;34m=\u001b[0m \u001b[0;34m(\u001b[0m\u001b[0mint\u001b[0m\u001b[0;34m(\u001b[0m\u001b[0mx\u001b[0m\u001b[0;34m)\u001b[0m \u001b[0;32mfor\u001b[0m \u001b[0mx\u001b[0m \u001b[0;32min\u001b[0m \u001b[0mheader\u001b[0m\u001b[0;34m.\u001b[0m\u001b[0msplit\u001b[0m\u001b[0;34m(\u001b[0m\u001b[0;34m)\u001b[0m\u001b[0;34m)\u001b[0m  \u001b[0;31m# throws for invalid file format\u001b[0m\u001b[0;34m\u001b[0m\u001b[0;34m\u001b[0m\u001b[0m\n",
      "\u001b[0;32m/opt/anaconda3/lib/python3.8/site-packages/smart_open/smart_open_lib.py\u001b[0m in \u001b[0;36mopen\u001b[0;34m(uri, mode, buffering, encoding, errors, newline, closefd, opener, ignore_ext, transport_params)\u001b[0m\n\u001b[1;32m    178\u001b[0m         \u001b[0mtransport_params\u001b[0m \u001b[0;34m=\u001b[0m \u001b[0;34m{\u001b[0m\u001b[0;34m}\u001b[0m\u001b[0;34m\u001b[0m\u001b[0;34m\u001b[0m\u001b[0m\n\u001b[1;32m    179\u001b[0m \u001b[0;34m\u001b[0m\u001b[0m\n\u001b[0;32m--> 180\u001b[0;31m     fobj = _shortcut_open(\n\u001b[0m\u001b[1;32m    181\u001b[0m         \u001b[0muri\u001b[0m\u001b[0;34m,\u001b[0m\u001b[0;34m\u001b[0m\u001b[0;34m\u001b[0m\u001b[0m\n\u001b[1;32m    182\u001b[0m         \u001b[0mmode\u001b[0m\u001b[0;34m,\u001b[0m\u001b[0;34m\u001b[0m\u001b[0;34m\u001b[0m\u001b[0m\n",
      "\u001b[0;32m/opt/anaconda3/lib/python3.8/site-packages/smart_open/smart_open_lib.py\u001b[0m in \u001b[0;36m_shortcut_open\u001b[0;34m(uri, mode, ignore_ext, buffering, encoding, errors, newline)\u001b[0m\n\u001b[1;32m    285\u001b[0m         \u001b[0mopen_kwargs\u001b[0m\u001b[0;34m[\u001b[0m\u001b[0;34m'errors'\u001b[0m\u001b[0;34m]\u001b[0m \u001b[0;34m=\u001b[0m \u001b[0merrors\u001b[0m\u001b[0;34m\u001b[0m\u001b[0;34m\u001b[0m\u001b[0m\n\u001b[1;32m    286\u001b[0m \u001b[0;34m\u001b[0m\u001b[0m\n\u001b[0;32m--> 287\u001b[0;31m     \u001b[0;32mreturn\u001b[0m \u001b[0m_builtin_open\u001b[0m\u001b[0;34m(\u001b[0m\u001b[0mlocal_path\u001b[0m\u001b[0;34m,\u001b[0m \u001b[0mmode\u001b[0m\u001b[0;34m,\u001b[0m \u001b[0mbuffering\u001b[0m\u001b[0;34m=\u001b[0m\u001b[0mbuffering\u001b[0m\u001b[0;34m,\u001b[0m \u001b[0;34m**\u001b[0m\u001b[0mopen_kwargs\u001b[0m\u001b[0;34m)\u001b[0m\u001b[0;34m\u001b[0m\u001b[0;34m\u001b[0m\u001b[0m\n\u001b[0m\u001b[1;32m    288\u001b[0m \u001b[0;34m\u001b[0m\u001b[0m\n\u001b[1;32m    289\u001b[0m \u001b[0;34m\u001b[0m\u001b[0m\n",
      "\u001b[0;31mFileNotFoundError\u001b[0m: [Errno 2] No such file or directory: 'crawl-300d-2M-subword.bin'"
     ]
    }
   ],
   "source": [
    "fasttext_3_fee = loader.WE().load(fname='crawl-300d-2M-subword.bin', normalize=True)"
   ]
  },
  {
   "cell_type": "code",
   "execution_count": null,
   "metadata": {},
   "outputs": [],
   "source": []
  }
 ],
 "metadata": {
  "kernelspec": {
   "display_name": "Python 3",
   "language": "python",
   "name": "python3"
  },
  "language_info": {
   "codemirror_mode": {
    "name": "ipython",
    "version": 3
   },
   "file_extension": ".py",
   "mimetype": "text/x-python",
   "name": "python",
   "nbconvert_exporter": "python",
   "pygments_lexer": "ipython3",
   "version": "3.8.5"
  }
 },
 "nbformat": 4,
 "nbformat_minor": 4
}
