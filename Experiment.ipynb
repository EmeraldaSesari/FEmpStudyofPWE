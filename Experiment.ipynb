{
 "cells": [
  {
   "cell_type": "code",
   "execution_count": 25,
   "metadata": {},
   "outputs": [],
   "source": [
    "from wefe.query import Query\n",
    "from wefe.word_embedding_model import WordEmbeddingModel\n",
    "from wefe.metrics.WEAT import WEAT\n",
    "from wefe.datasets.datasets import load_weat\n",
    "import gensim.downloader as api\n",
    "from wefe.utils import run_queries, create_ranking, plot_ranking, plot_ranking_correlations\n",
    "from gensim.models import KeyedVectors"
   ]
  },
  {
   "cell_type": "code",
   "execution_count": 26,
   "metadata": {},
   "outputs": [],
   "source": [
    "import gensim\n",
    "import os\n",
    "import shutil\n",
    "import hashlib\n",
    "from sys import platform\n",
    "\n",
    "def getFileLineNums(filename):\n",
    "    f = open(filename, 'r')\n",
    "    count = 0\n",
    "    for line in f:\n",
    "        count += 1\n",
    "    return count\n",
    " \n",
    " #Linux or Windows open the word vector file, add a line at the beginning\n",
    "def prepend_line(infile, outfile, line):\n",
    "    with open(infile, 'r') as old:\n",
    "        with open(outfile, 'w') as new:\n",
    "            new.write(str(line) + \"\\n\")\n",
    "            shutil.copyfileobj(old, new)\n",
    " \n",
    "def prepend_slow(infile, outfile, line):\n",
    "    with open(infile, 'r') as fin:\n",
    "        with open(outfile, 'w') as fout:\n",
    "            fout.write(line + \"\\n\")\n",
    "            for line in fin:\n",
    "                fout.write(line)\n",
    "\n",
    "def load(filename):\n",
    "    num_lines = getFileLineNums(filename)\n",
    "    gensim_file = 'glove_model.txt'\n",
    "    gensim_first_line = \"{} {}\".format(num_lines, 300)\n",
    "    # Prepends the line.\n",
    "    if platform == \"linux\" or platform == \"linux2\":\n",
    "        prepend_line(filename, gensim_file, gensim_first_line)\n",
    "    else:\n",
    "        prepend_slow(filename, gensim_file, gensim_first_line)\n",
    "    model = gensim.models.KeyedVectors.load_word2vec_format(gensim_file)"
   ]
  },
  {
   "cell_type": "code",
   "execution_count": 3,
   "metadata": {
    "scrolled": true
   },
   "outputs": [
    {
     "name": "stderr",
     "output_type": "stream",
     "text": [
      "INFO:gensim.models.utils_any2vec:loading projection weights from /Users/macbookair/gensim-data/glove-twitter-25/glove-twitter-25.gz\n",
      "DEBUG:smart_open.smart_open_lib:{'uri': '/Users/macbookair/gensim-data/glove-twitter-25/glove-twitter-25.gz', 'mode': 'rb', 'buffering': -1, 'encoding': None, 'errors': None, 'newline': None, 'closefd': True, 'opener': None, 'ignore_ext': False, 'transport_params': None}\n",
      "INFO:gensim.models.utils_any2vec:loaded (1193514, 25) matrix from /Users/macbookair/gensim-data/glove-twitter-25/glove-twitter-25.gz\n",
      "INFO:gensim.models.utils_any2vec:loading projection weights from /Users/macbookair/gensim-data/glove-twitter-50/glove-twitter-50.gz\n",
      "DEBUG:smart_open.smart_open_lib:{'uri': '/Users/macbookair/gensim-data/glove-twitter-50/glove-twitter-50.gz', 'mode': 'rb', 'buffering': -1, 'encoding': None, 'errors': None, 'newline': None, 'closefd': True, 'opener': None, 'ignore_ext': False, 'transport_params': None}\n",
      "INFO:gensim.models.utils_any2vec:loaded (1193514, 50) matrix from /Users/macbookair/gensim-data/glove-twitter-50/glove-twitter-50.gz\n",
      "INFO:gensim.models.utils_any2vec:loading projection weights from /Users/macbookair/gensim-data/glove-twitter-100/glove-twitter-100.gz\n",
      "DEBUG:smart_open.smart_open_lib:{'uri': '/Users/macbookair/gensim-data/glove-twitter-100/glove-twitter-100.gz', 'mode': 'rb', 'buffering': -1, 'encoding': None, 'errors': None, 'newline': None, 'closefd': True, 'opener': None, 'ignore_ext': False, 'transport_params': None}\n",
      "INFO:gensim.models.utils_any2vec:loaded (1193514, 100) matrix from /Users/macbookair/gensim-data/glove-twitter-100/glove-twitter-100.gz\n",
      "INFO:gensim.models.utils_any2vec:loading projection weights from /Users/macbookair/gensim-data/glove-twitter-200/glove-twitter-200.gz\n",
      "DEBUG:smart_open.smart_open_lib:{'uri': '/Users/macbookair/gensim-data/glove-twitter-200/glove-twitter-200.gz', 'mode': 'rb', 'buffering': -1, 'encoding': None, 'errors': None, 'newline': None, 'closefd': True, 'opener': None, 'ignore_ext': False, 'transport_params': None}\n",
      "INFO:gensim.models.utils_any2vec:loaded (1193514, 200) matrix from /Users/macbookair/gensim-data/glove-twitter-200/glove-twitter-200.gz\n"
     ]
    }
   ],
   "source": [
    "glove_1 = WordEmbeddingModel(api.load('glove-twitter-25'),\n",
    "                             'glove twitter dim=25')\n",
    "glove_2 = WordEmbeddingModel(api.load('glove-twitter-50'),\n",
    "                             'glove twitter dim=50')\n",
    "glove_3 = WordEmbeddingModel(api.load('glove-twitter-100'),\n",
    "                             'glove twitter dim=100')\n",
    "glove_4 = WordEmbeddingModel(api.load('glove-twitter-200'),\n",
    "                             'glove twitter dim=200')"
   ]
  },
  {
   "cell_type": "code",
   "execution_count": 22,
   "metadata": {
    "scrolled": true
   },
   "outputs": [
    {
     "name": "stderr",
     "output_type": "stream",
     "text": [
      "INFO:gensim.models.utils_any2vec:loading projection weights from /Users/macbookair/gensim-data/glove-wiki-gigaword-50/glove-wiki-gigaword-50.gz\n",
      "DEBUG:smart_open.smart_open_lib:{'uri': '/Users/macbookair/gensim-data/glove-wiki-gigaword-50/glove-wiki-gigaword-50.gz', 'mode': 'rb', 'buffering': -1, 'encoding': None, 'errors': None, 'newline': None, 'closefd': True, 'opener': None, 'ignore_ext': False, 'transport_params': None}\n",
      "INFO:gensim.models.utils_any2vec:loaded (400000, 50) matrix from /Users/macbookair/gensim-data/glove-wiki-gigaword-50/glove-wiki-gigaword-50.gz\n",
      "INFO:gensim.models.utils_any2vec:loading projection weights from /Users/macbookair/gensim-data/glove-wiki-gigaword-100/glove-wiki-gigaword-100.gz\n",
      "DEBUG:smart_open.smart_open_lib:{'uri': '/Users/macbookair/gensim-data/glove-wiki-gigaword-100/glove-wiki-gigaword-100.gz', 'mode': 'rb', 'buffering': -1, 'encoding': None, 'errors': None, 'newline': None, 'closefd': True, 'opener': None, 'ignore_ext': False, 'transport_params': None}\n",
      "INFO:gensim.models.utils_any2vec:loaded (400000, 100) matrix from /Users/macbookair/gensim-data/glove-wiki-gigaword-100/glove-wiki-gigaword-100.gz\n",
      "INFO:gensim.models.utils_any2vec:loading projection weights from /Users/macbookair/gensim-data/glove-wiki-gigaword-200/glove-wiki-gigaword-200.gz\n",
      "DEBUG:smart_open.smart_open_lib:{'uri': '/Users/macbookair/gensim-data/glove-wiki-gigaword-200/glove-wiki-gigaword-200.gz', 'mode': 'rb', 'buffering': -1, 'encoding': None, 'errors': None, 'newline': None, 'closefd': True, 'opener': None, 'ignore_ext': False, 'transport_params': None}\n",
      "INFO:gensim.models.utils_any2vec:loaded (400000, 200) matrix from /Users/macbookair/gensim-data/glove-wiki-gigaword-200/glove-wiki-gigaword-200.gz\n",
      "INFO:gensim.models.utils_any2vec:loading projection weights from /Users/macbookair/gensim-data/glove-wiki-gigaword-300/glove-wiki-gigaword-300.gz\n",
      "DEBUG:smart_open.smart_open_lib:{'uri': '/Users/macbookair/gensim-data/glove-wiki-gigaword-300/glove-wiki-gigaword-300.gz', 'mode': 'rb', 'buffering': -1, 'encoding': None, 'errors': None, 'newline': None, 'closefd': True, 'opener': None, 'ignore_ext': False, 'transport_params': None}\n",
      "INFO:gensim.models.utils_any2vec:loaded (400000, 300) matrix from /Users/macbookair/gensim-data/glove-wiki-gigaword-300/glove-wiki-gigaword-300.gz\n"
     ]
    }
   ],
   "source": [
    "glove_5 = WordEmbeddingModel(api.load('glove-wiki-gigaword-50'),\n",
    "                             'glove wiki dim=50')\n",
    "glove_6 = WordEmbeddingModel(api.load('glove-wiki-gigaword-100'),\n",
    "                             'glove wiki dim=100')\n",
    "glove_7 = WordEmbeddingModel(api.load('glove-wiki-gigaword-200'),\n",
    "                             'glove wiki dim=200')\n",
    "glove_8 = WordEmbeddingModel(api.load('glove-wiki-gigaword-300'),\n",
    "                             'glove wiki dim=300')"
   ]
  },
  {
   "cell_type": "code",
   "execution_count": 27,
   "metadata": {},
   "outputs": [
    {
     "name": "stderr",
     "output_type": "stream",
     "text": [
      "INFO:gensim.models.utils_any2vec:loading projection weights from glove.42B.300d.txt\n",
      "DEBUG:smart_open.smart_open_lib:{'uri': 'glove.42B.300d.txt', 'mode': 'rb', 'buffering': -1, 'encoding': None, 'errors': None, 'newline': None, 'closefd': True, 'opener': None, 'ignore_ext': False, 'transport_params': None}\n",
      "INFO:gensim.models.utils_any2vec:loaded (1917494, 300) matrix from glove.42B.300d.txt\n",
      "INFO:gensim.models.utils_any2vec:loading projection weights from glove.840B.300d.txt\n",
      "DEBUG:smart_open.smart_open_lib:{'uri': 'glove.840B.300d.txt', 'mode': 'rb', 'buffering': -1, 'encoding': None, 'errors': None, 'newline': None, 'closefd': True, 'opener': None, 'ignore_ext': False, 'transport_params': None}\n",
      "WARNING:gensim.models.utils_any2vec:duplicate word '����������������������������������������������������������������������������������������������������������������������������������������������������������������������������������������������������������������������������������������������������������������������������������������������������������������������������������������������' in glove.840B.300d.txt, ignoring all but first\n",
      "INFO:gensim.models.utils_any2vec:duplicate words detected, shrinking matrix size from 2196017 to 2196016\n",
      "INFO:gensim.models.utils_any2vec:loaded (2196016, 300) matrix from glove.840B.300d.txt\n"
     ]
    }
   ],
   "source": [
    "glove_embeddings_9 = KeyedVectors.load_word2vec_format('glove.42B.300d.txt')\n",
    "glove_9 = WordEmbeddingModel(glove_embeddings_9, 'glove common crawl 42B dim=300')\n",
    "glove_embeddings_10 = KeyedVectors.load_word2vec_format('glove.840B.300d.txt')\n",
    "glove_10 = WordEmbeddingModel(glove_embeddings_10, 'glove common crawl 840B dim=300')"
   ]
  },
  {
   "cell_type": "code",
   "execution_count": 13,
   "metadata": {},
   "outputs": [
    {
     "name": "stderr",
     "output_type": "stream",
     "text": [
      "INFO:gensim.models.utils_any2vec:loading projection weights from /Users/macbookair/gensim-data/fasttext-wiki-news-subwords-300/fasttext-wiki-news-subwords-300.gz\n",
      "DEBUG:smart_open.smart_open_lib:{'uri': '/Users/macbookair/gensim-data/fasttext-wiki-news-subwords-300/fasttext-wiki-news-subwords-300.gz', 'mode': 'rb', 'buffering': -1, 'encoding': None, 'errors': None, 'newline': None, 'closefd': True, 'opener': None, 'ignore_ext': False, 'transport_params': None}\n",
      "INFO:gensim.models.utils_any2vec:loaded (999999, 300) matrix from /Users/macbookair/gensim-data/fasttext-wiki-news-subwords-300/fasttext-wiki-news-subwords-300.gz\n",
      "INFO:gensim.models.utils_any2vec:loading projection weights from /Users/macbookair/Desktop/postgraduate/dissertation/wiki-news-300d-1M.vec\n",
      "DEBUG:smart_open.smart_open_lib:{'uri': '/Users/macbookair/Desktop/postgraduate/dissertation/wiki-news-300d-1M.vec', 'mode': 'rb', 'buffering': -1, 'encoding': None, 'errors': None, 'newline': None, 'closefd': True, 'opener': None, 'ignore_ext': False, 'transport_params': None}\n",
      "INFO:gensim.models.utils_any2vec:loaded (999994, 300) matrix from /Users/macbookair/Desktop/postgraduate/dissertation/wiki-news-300d-1M.vec\n"
     ]
    }
   ],
   "source": [
    "fasttext_1 = WordEmbeddingModel(api.load('fasttext-wiki-news-subwords-300'),\n",
    "                             'fasttext wiki subwords dim=300')\n",
    "fast_embeddings_2 = KeyedVectors.load_word2vec_format('/Users/macbookair/Desktop/postgraduate/dissertation/wiki-news-300d-1M.vec')\n",
    "fasttext_2 = WordEmbeddingModel(fast_embeddings_2, 'fasttext wiki dim=300')"
   ]
  },
  {
   "cell_type": "code",
   "execution_count": 18,
   "metadata": {},
   "outputs": [
    {
     "name": "stderr",
     "output_type": "stream",
     "text": [
      "INFO:gensim.models.utils_any2vec:loading projection weights from /Users/macbookair/Desktop/postgraduate/dissertation/crawl-300d-2M.vec\n",
      "DEBUG:smart_open.smart_open_lib:{'uri': '/Users/macbookair/Desktop/postgraduate/dissertation/crawl-300d-2M.vec', 'mode': 'rb', 'buffering': -1, 'encoding': None, 'errors': None, 'newline': None, 'closefd': True, 'opener': None, 'ignore_ext': False, 'transport_params': None}\n",
      "INFO:gensim.models.utils_any2vec:loaded (1999995, 300) matrix from /Users/macbookair/Desktop/postgraduate/dissertation/crawl-300d-2M.vec\n",
      "INFO:gensim.models.utils_any2vec:loading projection weights from /Users/macbookair/Desktop/postgraduate/dissertation/crawl-300d-2M-subword.vec\n",
      "DEBUG:smart_open.smart_open_lib:{'uri': '/Users/macbookair/Desktop/postgraduate/dissertation/crawl-300d-2M-subword.vec', 'mode': 'rb', 'buffering': -1, 'encoding': None, 'errors': None, 'newline': None, 'closefd': True, 'opener': None, 'ignore_ext': False, 'transport_params': None}\n",
      "INFO:gensim.models.utils_any2vec:loaded (2000000, 300) matrix from /Users/macbookair/Desktop/postgraduate/dissertation/crawl-300d-2M-subword.vec\n"
     ]
    }
   ],
   "source": [
    "fast_embeddings_3 = KeyedVectors.load_word2vec_format('/Users/macbookair/Desktop/postgraduate/dissertation/crawl-300d-2M.vec')\n",
    "fasttext_3 = WordEmbeddingModel(fast_embeddings_3, 'fasttext crawl dim=300')\n",
    "fast_embeddings_4 = KeyedVectors.load_word2vec_format('/Users/macbookair/Desktop/postgraduate/dissertation/crawl-300d-2M-subword.vec')\n",
    "fasttext_4 = WordEmbeddingModel(fast_embeddings_4, 'fasttext crawl subwords dim=300')"
   ]
  },
  {
   "cell_type": "code",
   "execution_count": 4,
   "metadata": {},
   "outputs": [
    {
     "name": "stderr",
     "output_type": "stream",
     "text": [
      "INFO:gensim.models.utils_any2vec:loading projection weights from /Users/macbookair/gensim-data/word2vec-google-news-300/word2vec-google-news-300.gz\n",
      "DEBUG:smart_open.smart_open_lib:{'uri': '/Users/macbookair/gensim-data/word2vec-google-news-300/word2vec-google-news-300.gz', 'mode': 'rb', 'buffering': -1, 'encoding': None, 'errors': None, 'newline': None, 'closefd': True, 'opener': None, 'ignore_ext': False, 'transport_params': None}\n",
      "INFO:gensim.models.utils_any2vec:loaded (3000000, 300) matrix from /Users/macbookair/gensim-data/word2vec-google-news-300/word2vec-google-news-300.gz\n"
     ]
    }
   ],
   "source": [
    "model_w2v = WordEmbeddingModel(api.load('word2vec-google-news-300'),\n",
    "                             'word2vec google dim=300')"
   ]
  },
  {
   "cell_type": "markdown",
   "metadata": {},
   "source": [
    "# Defining queries based on the original WEAT paper"
   ]
  },
  {
   "cell_type": "code",
   "execution_count": 3,
   "metadata": {},
   "outputs": [],
   "source": [
    "# Load the wordset\n",
    "weat_wordset = load_weat()\n",
    "\n",
    "# Define the 10 Queries:\n",
    "queries = [\n",
    "    # Flowers vs Insects wrt Pleasant (5) and Unpleasant (5)\n",
    "    Query([weat_wordset['flowers'], weat_wordset['insects']],\n",
    "          [weat_wordset['pleasant_5'], weat_wordset['unpleasant_5']],\n",
    "          ['Flowers', 'Insects'], ['Pleasant(5)', 'Unpleasant(5)']),\n",
    "\n",
    "    # Instruments vs Weapons wrt Pleasant (5) and Unpleasant (5)\n",
    "    Query([weat_wordset['instruments'], weat_wordset['weapons']],\n",
    "          [weat_wordset['pleasant_5'], weat_wordset['unpleasant_5']],\n",
    "          ['Instruments', 'Weapons'], ['Pleasant(5)', 'Unpleasant(5)']),\n",
    "\n",
    "    # European american names(5) vs African american names(5)\n",
    "    # wrt Pleasant (5) and Unpleasant (5)\n",
    "    Query([\n",
    "        weat_wordset['european_american_names_5'],\n",
    "        weat_wordset['african_american_names_5']\n",
    "    ], [weat_wordset['pleasant_5'], weat_wordset['unpleasant_5']],\n",
    "          ['European american names(5)', 'African american names(5)'],\n",
    "          ['Pleasant(5)', 'Unpleasant(5)']),\n",
    "\n",
    "    # European american names(7) vs African american names(7)\n",
    "    # wrt Pleasant (5) and Unpleasant (5)\n",
    "    Query([\n",
    "        weat_wordset['european_american_names_7'],\n",
    "        weat_wordset['african_american_names_7']\n",
    "    ], [weat_wordset['pleasant_5'], weat_wordset['unpleasant_5']],\n",
    "          ['European american names(7)', 'African american names(7)'],\n",
    "          ['Pleasant(5)', 'Unpleasant(5)']),\n",
    "\n",
    "    # European american names(7) vs African american names(7)\n",
    "    # wrt Pleasant (9) and Unpleasant (9)\n",
    "    Query([\n",
    "        weat_wordset['european_american_names_7'],\n",
    "        weat_wordset['african_american_names_7']\n",
    "    ], [weat_wordset['pleasant_9'], weat_wordset['unpleasant_9']],\n",
    "          ['European american names(7)', 'African american names(7)'],\n",
    "          ['Pleasant(9)', 'Unpleasant(9)']),\n",
    "\n",
    "    # Male and female names wrt Career and family\n",
    "    Query([weat_wordset['male_names'], weat_wordset['female_names']],\n",
    "          [weat_wordset['career'], weat_wordset['family']],\n",
    "          ['Male names', 'Female names'], ['Career', 'Family']),\n",
    "\n",
    "    # Math and arts wrt male and female terms\n",
    "    Query([weat_wordset['math'], weat_wordset['arts']],\n",
    "          [weat_wordset['male_terms'], weat_wordset['female_terms']],\n",
    "          ['Math', 'Arts'], ['Male terms', 'Female terms']),\n",
    "\n",
    "    # Science and arts wrt male and female terms\n",
    "    Query([weat_wordset['science'], weat_wordset['arts_2']],\n",
    "          [weat_wordset['male_terms'], weat_wordset['female_terms']],\n",
    "          ['Science', 'Arts 2'], ['Male terms', 'Female terms']),\n",
    "\n",
    "    # Mental and Physical disease wrt Temporary and Permanent\n",
    "    Query([weat_wordset['mental_disease'], weat_wordset['physical_disease']],\n",
    "          [weat_wordset['temporary'], weat_wordset['permanent']],\n",
    "          ['Mental disease', 'Physical disease'], ['Temporary', 'Permanent']),\n",
    "\n",
    "    # Young people names and Old people names disease wrt Pleasant(9) and Unpleasant(9)\n",
    "    Query(\n",
    "        [weat_wordset['young_people_names'], weat_wordset['old_people_names']],\n",
    "        [weat_wordset['pleasant_9'], weat_wordset['unpleasant_9']],\n",
    "        ['Young peoples names', 'Old peoples names'],\n",
    "        ['Pleasant(9)', 'Unpleasant(9)'])\n",
    "]"
   ]
  },
  {
   "cell_type": "markdown",
   "metadata": {},
   "source": [
    "# GloVe\n",
    "1. Wikipedia 2014 + Gigaword 5 (6B tokens, 400K vocab, uncased, 50d, 100d, 200d, & 300d vectors, 822 MB download\n",
    "2. Common Crawl (42B tokens, 1.9M vocab, uncased, 300d vectors, 1.75 GB download)\n",
    "3. Common Crawl (840B tokens, 2.2M vocab, cased, 300d vectors, 2.03 GB download)\n",
    "4. Twitter (2B tweets, 27B tokens, 1.2M vocab, uncased, 25d, 50d, 100d, & 200d vectors, 1.42 GB download)\n",
    "\n",
    "## GloVe Twitter"
   ]
  },
  {
   "cell_type": "code",
   "execution_count": 20,
   "metadata": {
    "scrolled": true
   },
   "outputs": [
    {
     "name": "stdout",
     "output_type": "stream",
     "text": [
      "Stored 'WEAT_results_1' (DataFrame)\n"
     ]
    },
    {
     "data": {
      "text/html": [
       "<div>\n",
       "<style scoped>\n",
       "    .dataframe tbody tr th:only-of-type {\n",
       "        vertical-align: middle;\n",
       "    }\n",
       "\n",
       "    .dataframe tbody tr th {\n",
       "        vertical-align: top;\n",
       "    }\n",
       "\n",
       "    .dataframe thead th {\n",
       "        text-align: right;\n",
       "    }\n",
       "</style>\n",
       "<table border=\"1\" class=\"dataframe\">\n",
       "  <thead>\n",
       "    <tr style=\"text-align: right;\">\n",
       "      <th></th>\n",
       "      <th>Flowers and Insects wrt Pleasant(5) and Unpleasant(5)</th>\n",
       "      <th>Instruments and Weapons wrt Pleasant(5) and Unpleasant(5)</th>\n",
       "      <th>European american names(5) and African american names(5) wrt Pleasant(5) and Unpleasant(5)</th>\n",
       "      <th>European american names(7) and African american names(7) wrt Pleasant(5) and Unpleasant(5)</th>\n",
       "      <th>European american names(7) and African american names(7) wrt Pleasant(9) and Unpleasant(9)</th>\n",
       "      <th>Male names and Female names wrt Career and Family</th>\n",
       "      <th>Math and Arts wrt Male terms and Female terms</th>\n",
       "      <th>Science and Arts 2 wrt Male terms and Female terms</th>\n",
       "      <th>Mental disease and Physical disease wrt Temporary and Permanent</th>\n",
       "      <th>Young peoples names and Old peoples names wrt Pleasant(9) and Unpleasant(9)</th>\n",
       "      <th>WEAT: WEAT Queries average of abs values score</th>\n",
       "    </tr>\n",
       "    <tr>\n",
       "      <th>model_name</th>\n",
       "      <th></th>\n",
       "      <th></th>\n",
       "      <th></th>\n",
       "      <th></th>\n",
       "      <th></th>\n",
       "      <th></th>\n",
       "      <th></th>\n",
       "      <th></th>\n",
       "      <th></th>\n",
       "      <th></th>\n",
       "      <th></th>\n",
       "    </tr>\n",
       "  </thead>\n",
       "  <tbody>\n",
       "    <tr>\n",
       "      <th>glove twitter dim=25</th>\n",
       "      <td>3.983256</td>\n",
       "      <td>1.727524</td>\n",
       "      <td>3.752915</td>\n",
       "      <td>1.838223</td>\n",
       "      <td>1.539729</td>\n",
       "      <td>0.817561</td>\n",
       "      <td>0.042542</td>\n",
       "      <td>0.090977</td>\n",
       "      <td>0.267538</td>\n",
       "      <td>0.329011</td>\n",
       "      <td>1.438928</td>\n",
       "    </tr>\n",
       "    <tr>\n",
       "      <th>glove twitter dim=50</th>\n",
       "      <td>3.059114</td>\n",
       "      <td>2.611351</td>\n",
       "      <td>2.564336</td>\n",
       "      <td>1.432154</td>\n",
       "      <td>1.184290</td>\n",
       "      <td>0.736073</td>\n",
       "      <td>-0.211789</td>\n",
       "      <td>-0.180491</td>\n",
       "      <td>0.357402</td>\n",
       "      <td>0.354238</td>\n",
       "      <td>1.269124</td>\n",
       "    </tr>\n",
       "    <tr>\n",
       "      <th>glove twitter dim=100</th>\n",
       "      <td>1.998491</td>\n",
       "      <td>1.815693</td>\n",
       "      <td>2.188712</td>\n",
       "      <td>1.214762</td>\n",
       "      <td>1.380674</td>\n",
       "      <td>0.653837</td>\n",
       "      <td>-0.060213</td>\n",
       "      <td>0.004055</td>\n",
       "      <td>0.626559</td>\n",
       "      <td>0.360366</td>\n",
       "      <td>1.030336</td>\n",
       "    </tr>\n",
       "    <tr>\n",
       "      <th>glove twitter dim=200</th>\n",
       "      <td>1.446090</td>\n",
       "      <td>1.209590</td>\n",
       "      <td>1.674214</td>\n",
       "      <td>0.918201</td>\n",
       "      <td>1.160593</td>\n",
       "      <td>0.537437</td>\n",
       "      <td>-0.035495</td>\n",
       "      <td>0.063129</td>\n",
       "      <td>0.370728</td>\n",
       "      <td>0.224397</td>\n",
       "      <td>0.763987</td>\n",
       "    </tr>\n",
       "  </tbody>\n",
       "</table>\n",
       "</div>"
      ],
      "text/plain": [
       "                       Flowers and Insects wrt Pleasant(5) and Unpleasant(5)  \\\n",
       "model_name                                                                     \n",
       "glove twitter dim=25                                            3.983256       \n",
       "glove twitter dim=50                                            3.059114       \n",
       "glove twitter dim=100                                           1.998491       \n",
       "glove twitter dim=200                                           1.446090       \n",
       "\n",
       "                       Instruments and Weapons wrt Pleasant(5) and Unpleasant(5)  \\\n",
       "model_name                                                                         \n",
       "glove twitter dim=25                                            1.727524           \n",
       "glove twitter dim=50                                            2.611351           \n",
       "glove twitter dim=100                                           1.815693           \n",
       "glove twitter dim=200                                           1.209590           \n",
       "\n",
       "                       European american names(5) and African american names(5) wrt Pleasant(5) and Unpleasant(5)  \\\n",
       "model_name                                                                                                          \n",
       "glove twitter dim=25                                            3.752915                                            \n",
       "glove twitter dim=50                                            2.564336                                            \n",
       "glove twitter dim=100                                           2.188712                                            \n",
       "glove twitter dim=200                                           1.674214                                            \n",
       "\n",
       "                       European american names(7) and African american names(7) wrt Pleasant(5) and Unpleasant(5)  \\\n",
       "model_name                                                                                                          \n",
       "glove twitter dim=25                                            1.838223                                            \n",
       "glove twitter dim=50                                            1.432154                                            \n",
       "glove twitter dim=100                                           1.214762                                            \n",
       "glove twitter dim=200                                           0.918201                                            \n",
       "\n",
       "                       European american names(7) and African american names(7) wrt Pleasant(9) and Unpleasant(9)  \\\n",
       "model_name                                                                                                          \n",
       "glove twitter dim=25                                            1.539729                                            \n",
       "glove twitter dim=50                                            1.184290                                            \n",
       "glove twitter dim=100                                           1.380674                                            \n",
       "glove twitter dim=200                                           1.160593                                            \n",
       "\n",
       "                       Male names and Female names wrt Career and Family  \\\n",
       "model_name                                                                 \n",
       "glove twitter dim=25                                            0.817561   \n",
       "glove twitter dim=50                                            0.736073   \n",
       "glove twitter dim=100                                           0.653837   \n",
       "glove twitter dim=200                                           0.537437   \n",
       "\n",
       "                       Math and Arts wrt Male terms and Female terms  \\\n",
       "model_name                                                             \n",
       "glove twitter dim=25                                        0.042542   \n",
       "glove twitter dim=50                                       -0.211789   \n",
       "glove twitter dim=100                                      -0.060213   \n",
       "glove twitter dim=200                                      -0.035495   \n",
       "\n",
       "                       Science and Arts 2 wrt Male terms and Female terms  \\\n",
       "model_name                                                                  \n",
       "glove twitter dim=25                                            0.090977    \n",
       "glove twitter dim=50                                           -0.180491    \n",
       "glove twitter dim=100                                           0.004055    \n",
       "glove twitter dim=200                                           0.063129    \n",
       "\n",
       "                       Mental disease and Physical disease wrt Temporary and Permanent  \\\n",
       "model_name                                                                               \n",
       "glove twitter dim=25                                            0.267538                 \n",
       "glove twitter dim=50                                            0.357402                 \n",
       "glove twitter dim=100                                           0.626559                 \n",
       "glove twitter dim=200                                           0.370728                 \n",
       "\n",
       "                       Young peoples names and Old peoples names wrt Pleasant(9) and Unpleasant(9)  \\\n",
       "model_name                                                                                           \n",
       "glove twitter dim=25                                            0.329011                             \n",
       "glove twitter dim=50                                            0.354238                             \n",
       "glove twitter dim=100                                           0.360366                             \n",
       "glove twitter dim=200                                           0.224397                             \n",
       "\n",
       "                       WEAT: WEAT Queries average of abs values score  \n",
       "model_name                                                             \n",
       "glove twitter dim=25                                         1.438928  \n",
       "glove twitter dim=50                                         1.269124  \n",
       "glove twitter dim=100                                        1.030336  \n",
       "glove twitter dim=200                                        0.763987  "
      ]
     },
     "execution_count": 20,
     "metadata": {},
     "output_type": "execute_result"
    }
   ],
   "source": [
    "models = [glove_1, glove_2, glove_3, glove_4]\n",
    "\n",
    "WEAT_results_1 = run_queries(\n",
    "    WEAT,\n",
    "    queries,\n",
    "    models,\n",
    "    metric_params={'preprocessor_args': {\n",
    "        'lowercase': True\n",
    "    }},\n",
    "    aggregate_results=True,\n",
    "    aggregation_function='abs_avg',\n",
    "    queries_set_name='WEAT Queries')\n",
    "\n",
    "%store WEAT_results_1\n",
    "WEAT_results_1"
   ]
  },
  {
   "cell_type": "code",
   "execution_count": 21,
   "metadata": {
    "scrolled": true
   },
   "outputs": [
    {
     "name": "stdout",
     "output_type": "stream",
     "text": [
      "Stored 'WEAT_ranking_1' (DataFrame)\n"
     ]
    },
    {
     "data": {
      "text/html": [
       "<div>\n",
       "<style scoped>\n",
       "    .dataframe tbody tr th:only-of-type {\n",
       "        vertical-align: middle;\n",
       "    }\n",
       "\n",
       "    .dataframe tbody tr th {\n",
       "        vertical-align: top;\n",
       "    }\n",
       "\n",
       "    .dataframe thead th {\n",
       "        text-align: right;\n",
       "    }\n",
       "</style>\n",
       "<table border=\"1\" class=\"dataframe\">\n",
       "  <thead>\n",
       "    <tr style=\"text-align: right;\">\n",
       "      <th></th>\n",
       "      <th>WEAT: WEAT Queries average of abs values score</th>\n",
       "    </tr>\n",
       "    <tr>\n",
       "      <th>model_name</th>\n",
       "      <th></th>\n",
       "    </tr>\n",
       "  </thead>\n",
       "  <tbody>\n",
       "    <tr>\n",
       "      <th>glove twitter dim=25</th>\n",
       "      <td>4.0</td>\n",
       "    </tr>\n",
       "    <tr>\n",
       "      <th>glove twitter dim=50</th>\n",
       "      <td>3.0</td>\n",
       "    </tr>\n",
       "    <tr>\n",
       "      <th>glove twitter dim=100</th>\n",
       "      <td>2.0</td>\n",
       "    </tr>\n",
       "    <tr>\n",
       "      <th>glove twitter dim=200</th>\n",
       "      <td>1.0</td>\n",
       "    </tr>\n",
       "  </tbody>\n",
       "</table>\n",
       "</div>"
      ],
      "text/plain": [
       "                       WEAT: WEAT Queries average of abs values score\n",
       "model_name                                                           \n",
       "glove twitter dim=25                                              4.0\n",
       "glove twitter dim=50                                              3.0\n",
       "glove twitter dim=100                                             2.0\n",
       "glove twitter dim=200                                             1.0"
      ]
     },
     "execution_count": 21,
     "metadata": {},
     "output_type": "execute_result"
    }
   ],
   "source": [
    "WEAT_ranking_1 = create_ranking([WEAT_results_1])\n",
    "\n",
    "%store WEAT_ranking_1\n",
    "WEAT_ranking_1"
   ]
  },
  {
   "cell_type": "markdown",
   "metadata": {},
   "source": [
    "## GloVe Wiki Gigaword"
   ]
  },
  {
   "cell_type": "code",
   "execution_count": 24,
   "metadata": {},
   "outputs": [
    {
     "name": "stdout",
     "output_type": "stream",
     "text": [
      "Stored 'WEAT_results_2' (DataFrame)\n"
     ]
    },
    {
     "data": {
      "text/html": [
       "<div>\n",
       "<style scoped>\n",
       "    .dataframe tbody tr th:only-of-type {\n",
       "        vertical-align: middle;\n",
       "    }\n",
       "\n",
       "    .dataframe tbody tr th {\n",
       "        vertical-align: top;\n",
       "    }\n",
       "\n",
       "    .dataframe thead th {\n",
       "        text-align: right;\n",
       "    }\n",
       "</style>\n",
       "<table border=\"1\" class=\"dataframe\">\n",
       "  <thead>\n",
       "    <tr style=\"text-align: right;\">\n",
       "      <th></th>\n",
       "      <th>Flowers and Insects wrt Pleasant(5) and Unpleasant(5)</th>\n",
       "      <th>Instruments and Weapons wrt Pleasant(5) and Unpleasant(5)</th>\n",
       "      <th>European american names(5) and African american names(5) wrt Pleasant(5) and Unpleasant(5)</th>\n",
       "      <th>European american names(7) and African american names(7) wrt Pleasant(5) and Unpleasant(5)</th>\n",
       "      <th>European american names(7) and African american names(7) wrt Pleasant(9) and Unpleasant(9)</th>\n",
       "      <th>Male names and Female names wrt Career and Family</th>\n",
       "      <th>Math and Arts wrt Male terms and Female terms</th>\n",
       "      <th>Science and Arts 2 wrt Male terms and Female terms</th>\n",
       "      <th>Mental disease and Physical disease wrt Temporary and Permanent</th>\n",
       "      <th>Young peoples names and Old peoples names wrt Pleasant(9) and Unpleasant(9)</th>\n",
       "      <th>WEAT: WEAT Queries average of abs values score</th>\n",
       "    </tr>\n",
       "    <tr>\n",
       "      <th>model_name</th>\n",
       "      <th></th>\n",
       "      <th></th>\n",
       "      <th></th>\n",
       "      <th></th>\n",
       "      <th></th>\n",
       "      <th></th>\n",
       "      <th></th>\n",
       "      <th></th>\n",
       "      <th></th>\n",
       "      <th></th>\n",
       "      <th></th>\n",
       "    </tr>\n",
       "  </thead>\n",
       "  <tbody>\n",
       "    <tr>\n",
       "      <th>glove wiki dim=50</th>\n",
       "      <td>2.060058</td>\n",
       "      <td>3.765126</td>\n",
       "      <td>1.893190</td>\n",
       "      <td>0.872163</td>\n",
       "      <td>1.330919</td>\n",
       "      <td>2.317143</td>\n",
       "      <td>0.468289</td>\n",
       "      <td>0.402531</td>\n",
       "      <td>0.585196</td>\n",
       "      <td>0.319580</td>\n",
       "      <td>1.401419</td>\n",
       "    </tr>\n",
       "    <tr>\n",
       "      <th>glove wiki dim=100</th>\n",
       "      <td>1.697702</td>\n",
       "      <td>2.079314</td>\n",
       "      <td>1.552911</td>\n",
       "      <td>0.970870</td>\n",
       "      <td>1.433715</td>\n",
       "      <td>1.732284</td>\n",
       "      <td>0.365643</td>\n",
       "      <td>0.252937</td>\n",
       "      <td>0.662625</td>\n",
       "      <td>0.335220</td>\n",
       "      <td>1.108322</td>\n",
       "    </tr>\n",
       "    <tr>\n",
       "      <th>glove wiki dim=200</th>\n",
       "      <td>1.172520</td>\n",
       "      <td>2.252081</td>\n",
       "      <td>1.442926</td>\n",
       "      <td>0.828176</td>\n",
       "      <td>1.114291</td>\n",
       "      <td>1.494439</td>\n",
       "      <td>0.274682</td>\n",
       "      <td>0.334962</td>\n",
       "      <td>0.688102</td>\n",
       "      <td>0.199697</td>\n",
       "      <td>0.980187</td>\n",
       "    </tr>\n",
       "    <tr>\n",
       "      <th>glove wiki dim=300</th>\n",
       "      <td>1.265150</td>\n",
       "      <td>1.905905</td>\n",
       "      <td>1.278590</td>\n",
       "      <td>0.847603</td>\n",
       "      <td>1.068681</td>\n",
       "      <td>1.319492</td>\n",
       "      <td>0.242773</td>\n",
       "      <td>0.318566</td>\n",
       "      <td>0.565714</td>\n",
       "      <td>0.212137</td>\n",
       "      <td>0.902461</td>\n",
       "    </tr>\n",
       "  </tbody>\n",
       "</table>\n",
       "</div>"
      ],
      "text/plain": [
       "                    Flowers and Insects wrt Pleasant(5) and Unpleasant(5)  \\\n",
       "model_name                                                                  \n",
       "glove wiki dim=50                                            2.060058       \n",
       "glove wiki dim=100                                           1.697702       \n",
       "glove wiki dim=200                                           1.172520       \n",
       "glove wiki dim=300                                           1.265150       \n",
       "\n",
       "                    Instruments and Weapons wrt Pleasant(5) and Unpleasant(5)  \\\n",
       "model_name                                                                      \n",
       "glove wiki dim=50                                            3.765126           \n",
       "glove wiki dim=100                                           2.079314           \n",
       "glove wiki dim=200                                           2.252081           \n",
       "glove wiki dim=300                                           1.905905           \n",
       "\n",
       "                    European american names(5) and African american names(5) wrt Pleasant(5) and Unpleasant(5)  \\\n",
       "model_name                                                                                                       \n",
       "glove wiki dim=50                                            1.893190                                            \n",
       "glove wiki dim=100                                           1.552911                                            \n",
       "glove wiki dim=200                                           1.442926                                            \n",
       "glove wiki dim=300                                           1.278590                                            \n",
       "\n",
       "                    European american names(7) and African american names(7) wrt Pleasant(5) and Unpleasant(5)  \\\n",
       "model_name                                                                                                       \n",
       "glove wiki dim=50                                            0.872163                                            \n",
       "glove wiki dim=100                                           0.970870                                            \n",
       "glove wiki dim=200                                           0.828176                                            \n",
       "glove wiki dim=300                                           0.847603                                            \n",
       "\n",
       "                    European american names(7) and African american names(7) wrt Pleasant(9) and Unpleasant(9)  \\\n",
       "model_name                                                                                                       \n",
       "glove wiki dim=50                                            1.330919                                            \n",
       "glove wiki dim=100                                           1.433715                                            \n",
       "glove wiki dim=200                                           1.114291                                            \n",
       "glove wiki dim=300                                           1.068681                                            \n",
       "\n",
       "                    Male names and Female names wrt Career and Family  \\\n",
       "model_name                                                              \n",
       "glove wiki dim=50                                            2.317143   \n",
       "glove wiki dim=100                                           1.732284   \n",
       "glove wiki dim=200                                           1.494439   \n",
       "glove wiki dim=300                                           1.319492   \n",
       "\n",
       "                    Math and Arts wrt Male terms and Female terms  \\\n",
       "model_name                                                          \n",
       "glove wiki dim=50                                        0.468289   \n",
       "glove wiki dim=100                                       0.365643   \n",
       "glove wiki dim=200                                       0.274682   \n",
       "glove wiki dim=300                                       0.242773   \n",
       "\n",
       "                    Science and Arts 2 wrt Male terms and Female terms  \\\n",
       "model_name                                                               \n",
       "glove wiki dim=50                                            0.402531    \n",
       "glove wiki dim=100                                           0.252937    \n",
       "glove wiki dim=200                                           0.334962    \n",
       "glove wiki dim=300                                           0.318566    \n",
       "\n",
       "                    Mental disease and Physical disease wrt Temporary and Permanent  \\\n",
       "model_name                                                                            \n",
       "glove wiki dim=50                                            0.585196                 \n",
       "glove wiki dim=100                                           0.662625                 \n",
       "glove wiki dim=200                                           0.688102                 \n",
       "glove wiki dim=300                                           0.565714                 \n",
       "\n",
       "                    Young peoples names and Old peoples names wrt Pleasant(9) and Unpleasant(9)  \\\n",
       "model_name                                                                                        \n",
       "glove wiki dim=50                                            0.319580                             \n",
       "glove wiki dim=100                                           0.335220                             \n",
       "glove wiki dim=200                                           0.199697                             \n",
       "glove wiki dim=300                                           0.212137                             \n",
       "\n",
       "                    WEAT: WEAT Queries average of abs values score  \n",
       "model_name                                                          \n",
       "glove wiki dim=50                                         1.401419  \n",
       "glove wiki dim=100                                        1.108322  \n",
       "glove wiki dim=200                                        0.980187  \n",
       "glove wiki dim=300                                        0.902461  "
      ]
     },
     "execution_count": 24,
     "metadata": {},
     "output_type": "execute_result"
    }
   ],
   "source": [
    "# Load the models\n",
    "\n",
    "models = [glove_5, glove_6, glove_7, glove_8]\n",
    "\n",
    "WEAT_results_2 = run_queries(\n",
    "    WEAT,\n",
    "    queries,\n",
    "    models,\n",
    "    metric_params={'preprocessor_args': {\n",
    "        'lowercase': True\n",
    "    }},\n",
    "    aggregate_results=True,\n",
    "    aggregation_function='abs_avg',\n",
    "    queries_set_name='WEAT Queries')\n",
    "\n",
    "%store WEAT_results_2\n",
    "WEAT_results_2"
   ]
  },
  {
   "cell_type": "code",
   "execution_count": 25,
   "metadata": {
    "scrolled": true
   },
   "outputs": [
    {
     "name": "stdout",
     "output_type": "stream",
     "text": [
      "Stored 'WEAT_ranking_2' (DataFrame)\n"
     ]
    },
    {
     "data": {
      "text/html": [
       "<div>\n",
       "<style scoped>\n",
       "    .dataframe tbody tr th:only-of-type {\n",
       "        vertical-align: middle;\n",
       "    }\n",
       "\n",
       "    .dataframe tbody tr th {\n",
       "        vertical-align: top;\n",
       "    }\n",
       "\n",
       "    .dataframe thead th {\n",
       "        text-align: right;\n",
       "    }\n",
       "</style>\n",
       "<table border=\"1\" class=\"dataframe\">\n",
       "  <thead>\n",
       "    <tr style=\"text-align: right;\">\n",
       "      <th></th>\n",
       "      <th>WEAT: WEAT Queries average of abs values score</th>\n",
       "    </tr>\n",
       "    <tr>\n",
       "      <th>model_name</th>\n",
       "      <th></th>\n",
       "    </tr>\n",
       "  </thead>\n",
       "  <tbody>\n",
       "    <tr>\n",
       "      <th>glove wiki dim=50</th>\n",
       "      <td>4.0</td>\n",
       "    </tr>\n",
       "    <tr>\n",
       "      <th>glove wiki dim=100</th>\n",
       "      <td>3.0</td>\n",
       "    </tr>\n",
       "    <tr>\n",
       "      <th>glove wiki dim=200</th>\n",
       "      <td>2.0</td>\n",
       "    </tr>\n",
       "    <tr>\n",
       "      <th>glove wiki dim=300</th>\n",
       "      <td>1.0</td>\n",
       "    </tr>\n",
       "  </tbody>\n",
       "</table>\n",
       "</div>"
      ],
      "text/plain": [
       "                    WEAT: WEAT Queries average of abs values score\n",
       "model_name                                                        \n",
       "glove wiki dim=50                                              4.0\n",
       "glove wiki dim=100                                             3.0\n",
       "glove wiki dim=200                                             2.0\n",
       "glove wiki dim=300                                             1.0"
      ]
     },
     "execution_count": 25,
     "metadata": {},
     "output_type": "execute_result"
    }
   ],
   "source": [
    "WEAT_ranking_2 = create_ranking([WEAT_results_2])\n",
    "\n",
    "%store WEAT_ranking_2\n",
    "WEAT_ranking_2"
   ]
  },
  {
   "cell_type": "markdown",
   "metadata": {},
   "source": [
    "## GloVe Common Crawl - lowercase:True"
   ]
  },
  {
   "cell_type": "code",
   "execution_count": 11,
   "metadata": {
    "scrolled": true
   },
   "outputs": [
    {
     "name": "stdout",
     "output_type": "stream",
     "text": [
      "Stored 'WEAT_results_3' (DataFrame)\n"
     ]
    },
    {
     "data": {
      "text/html": [
       "<div>\n",
       "<style scoped>\n",
       "    .dataframe tbody tr th:only-of-type {\n",
       "        vertical-align: middle;\n",
       "    }\n",
       "\n",
       "    .dataframe tbody tr th {\n",
       "        vertical-align: top;\n",
       "    }\n",
       "\n",
       "    .dataframe thead th {\n",
       "        text-align: right;\n",
       "    }\n",
       "</style>\n",
       "<table border=\"1\" class=\"dataframe\">\n",
       "  <thead>\n",
       "    <tr style=\"text-align: right;\">\n",
       "      <th></th>\n",
       "      <th>Flowers and Insects wrt Pleasant(5) and Unpleasant(5)</th>\n",
       "      <th>Instruments and Weapons wrt Pleasant(5) and Unpleasant(5)</th>\n",
       "      <th>European american names(5) and African american names(5) wrt Pleasant(5) and Unpleasant(5)</th>\n",
       "      <th>European american names(7) and African american names(7) wrt Pleasant(5) and Unpleasant(5)</th>\n",
       "      <th>European american names(7) and African american names(7) wrt Pleasant(9) and Unpleasant(9)</th>\n",
       "      <th>Male names and Female names wrt Career and Family</th>\n",
       "      <th>Math and Arts wrt Male terms and Female terms</th>\n",
       "      <th>Science and Arts 2 wrt Male terms and Female terms</th>\n",
       "      <th>Mental disease and Physical disease wrt Temporary and Permanent</th>\n",
       "      <th>Young peoples names and Old peoples names wrt Pleasant(9) and Unpleasant(9)</th>\n",
       "      <th>WEAT: WEAT Queries average of abs values score</th>\n",
       "    </tr>\n",
       "    <tr>\n",
       "      <th>model_name</th>\n",
       "      <th></th>\n",
       "      <th></th>\n",
       "      <th></th>\n",
       "      <th></th>\n",
       "      <th></th>\n",
       "      <th></th>\n",
       "      <th></th>\n",
       "      <th></th>\n",
       "      <th></th>\n",
       "      <th></th>\n",
       "      <th></th>\n",
       "    </tr>\n",
       "  </thead>\n",
       "  <tbody>\n",
       "    <tr>\n",
       "      <th>glove common crawl 42B dim=300</th>\n",
       "      <td>2.327526</td>\n",
       "      <td>1.840402</td>\n",
       "      <td>1.828122</td>\n",
       "      <td>0.893584</td>\n",
       "      <td>0.949063</td>\n",
       "      <td>0.738134</td>\n",
       "      <td>0.259692</td>\n",
       "      <td>0.234783</td>\n",
       "      <td>0.587961</td>\n",
       "      <td>0.212755</td>\n",
       "      <td>0.987202</td>\n",
       "    </tr>\n",
       "    <tr>\n",
       "      <th>glove common crawl 840B dim=300</th>\n",
       "      <td>2.238165</td>\n",
       "      <td>2.290555</td>\n",
       "      <td>1.520552</td>\n",
       "      <td>0.615430</td>\n",
       "      <td>0.860291</td>\n",
       "      <td>0.651596</td>\n",
       "      <td>0.198923</td>\n",
       "      <td>0.299863</td>\n",
       "      <td>0.576485</td>\n",
       "      <td>0.316962</td>\n",
       "      <td>0.956882</td>\n",
       "    </tr>\n",
       "  </tbody>\n",
       "</table>\n",
       "</div>"
      ],
      "text/plain": [
       "                                 Flowers and Insects wrt Pleasant(5) and Unpleasant(5)  \\\n",
       "model_name                                                                               \n",
       "glove common crawl 42B dim=300                                            2.327526       \n",
       "glove common crawl 840B dim=300                                           2.238165       \n",
       "\n",
       "                                 Instruments and Weapons wrt Pleasant(5) and Unpleasant(5)  \\\n",
       "model_name                                                                                   \n",
       "glove common crawl 42B dim=300                                            1.840402           \n",
       "glove common crawl 840B dim=300                                           2.290555           \n",
       "\n",
       "                                 European american names(5) and African american names(5) wrt Pleasant(5) and Unpleasant(5)  \\\n",
       "model_name                                                                                                                    \n",
       "glove common crawl 42B dim=300                                            1.828122                                            \n",
       "glove common crawl 840B dim=300                                           1.520552                                            \n",
       "\n",
       "                                 European american names(7) and African american names(7) wrt Pleasant(5) and Unpleasant(5)  \\\n",
       "model_name                                                                                                                    \n",
       "glove common crawl 42B dim=300                                            0.893584                                            \n",
       "glove common crawl 840B dim=300                                           0.615430                                            \n",
       "\n",
       "                                 European american names(7) and African american names(7) wrt Pleasant(9) and Unpleasant(9)  \\\n",
       "model_name                                                                                                                    \n",
       "glove common crawl 42B dim=300                                            0.949063                                            \n",
       "glove common crawl 840B dim=300                                           0.860291                                            \n",
       "\n",
       "                                 Male names and Female names wrt Career and Family  \\\n",
       "model_name                                                                           \n",
       "glove common crawl 42B dim=300                                            0.738134   \n",
       "glove common crawl 840B dim=300                                           0.651596   \n",
       "\n",
       "                                 Math and Arts wrt Male terms and Female terms  \\\n",
       "model_name                                                                       \n",
       "glove common crawl 42B dim=300                                        0.259692   \n",
       "glove common crawl 840B dim=300                                       0.198923   \n",
       "\n",
       "                                 Science and Arts 2 wrt Male terms and Female terms  \\\n",
       "model_name                                                                            \n",
       "glove common crawl 42B dim=300                                            0.234783    \n",
       "glove common crawl 840B dim=300                                           0.299863    \n",
       "\n",
       "                                 Mental disease and Physical disease wrt Temporary and Permanent  \\\n",
       "model_name                                                                                         \n",
       "glove common crawl 42B dim=300                                            0.587961                 \n",
       "glove common crawl 840B dim=300                                           0.576485                 \n",
       "\n",
       "                                 Young peoples names and Old peoples names wrt Pleasant(9) and Unpleasant(9)  \\\n",
       "model_name                                                                                                     \n",
       "glove common crawl 42B dim=300                                            0.212755                             \n",
       "glove common crawl 840B dim=300                                           0.316962                             \n",
       "\n",
       "                                 WEAT: WEAT Queries average of abs values score  \n",
       "model_name                                                                       \n",
       "glove common crawl 42B dim=300                                         0.987202  \n",
       "glove common crawl 840B dim=300                                        0.956882  "
      ]
     },
     "execution_count": 11,
     "metadata": {},
     "output_type": "execute_result"
    }
   ],
   "source": [
    "#load('/Users/macbookair/Desktop/postgraduate/dissertation/glove.42B.300d.txt')\n",
    "#load('/Users/macbookair/Desktop/postgraduate/dissertation/glove.840B.300d.txt')\n",
    "\n",
    "models = [glove_9, glove_10]\n",
    "\n",
    "WEAT_results_3 = run_queries(\n",
    "    WEAT,\n",
    "    queries,\n",
    "    models,\n",
    "    metric_params={'preprocessor_args': {\n",
    "        'lowercase': True\n",
    "    }},\n",
    "    aggregate_results=True,\n",
    "    aggregation_function='abs_avg',\n",
    "    queries_set_name='WEAT Queries')\n",
    "\n",
    "%store WEAT_results_3\n",
    "WEAT_results_3"
   ]
  },
  {
   "cell_type": "code",
   "execution_count": 12,
   "metadata": {
    "scrolled": true
   },
   "outputs": [
    {
     "name": "stdout",
     "output_type": "stream",
     "text": [
      "Stored 'WEAT_ranking_3' (DataFrame)\n"
     ]
    },
    {
     "data": {
      "text/html": [
       "<div>\n",
       "<style scoped>\n",
       "    .dataframe tbody tr th:only-of-type {\n",
       "        vertical-align: middle;\n",
       "    }\n",
       "\n",
       "    .dataframe tbody tr th {\n",
       "        vertical-align: top;\n",
       "    }\n",
       "\n",
       "    .dataframe thead th {\n",
       "        text-align: right;\n",
       "    }\n",
       "</style>\n",
       "<table border=\"1\" class=\"dataframe\">\n",
       "  <thead>\n",
       "    <tr style=\"text-align: right;\">\n",
       "      <th></th>\n",
       "      <th>WEAT: WEAT Queries average of abs values score</th>\n",
       "    </tr>\n",
       "    <tr>\n",
       "      <th>model_name</th>\n",
       "      <th></th>\n",
       "    </tr>\n",
       "  </thead>\n",
       "  <tbody>\n",
       "    <tr>\n",
       "      <th>glove common crawl 42B dim=300</th>\n",
       "      <td>2.0</td>\n",
       "    </tr>\n",
       "    <tr>\n",
       "      <th>glove common crawl 840B dim=300</th>\n",
       "      <td>1.0</td>\n",
       "    </tr>\n",
       "  </tbody>\n",
       "</table>\n",
       "</div>"
      ],
      "text/plain": [
       "                                 WEAT: WEAT Queries average of abs values score\n",
       "model_name                                                                     \n",
       "glove common crawl 42B dim=300                                              2.0\n",
       "glove common crawl 840B dim=300                                             1.0"
      ]
     },
     "execution_count": 12,
     "metadata": {},
     "output_type": "execute_result"
    }
   ],
   "source": [
    "WEAT_ranking_3 = create_ranking([WEAT_results_3])\n",
    "\n",
    "%store WEAT_ranking_3\n",
    "WEAT_ranking_3"
   ]
  },
  {
   "cell_type": "markdown",
   "metadata": {},
   "source": [
    "## GloVe Common Crawl - lowercase:False"
   ]
  },
  {
   "cell_type": "code",
   "execution_count": 9,
   "metadata": {},
   "outputs": [
    {
     "name": "stderr",
     "output_type": "stream",
     "text": [
      "WARNING:root:The transformation of 'European american names(5)' into glove common crawl 42B dim=300 embeddings lost proportionally more words than specified in 'lost_words_threshold': 1.0 lost with respect to 0.2 maximum loss allowed.\n",
      "WARNING:root:The transformation of 'African american names(5)' into glove common crawl 42B dim=300 embeddings lost proportionally more words than specified in 'lost_words_threshold': 1.0 lost with respect to 0.2 maximum loss allowed.\n",
      "ERROR:root:At least one set of 'European american names(5) and African american names(5) wrt Pleasant(5) and Unpleasant(5)' query has proportionally fewer embeddings than allowed by the lost_vocabulary_threshold parameter (0.2). This query will return np.nan.\n",
      "WARNING:root:The transformation of 'European american names(7)' into glove common crawl 42B dim=300 embeddings lost proportionally more words than specified in 'lost_words_threshold': 1.0 lost with respect to 0.2 maximum loss allowed.\n",
      "WARNING:root:The transformation of 'African american names(7)' into glove common crawl 42B dim=300 embeddings lost proportionally more words than specified in 'lost_words_threshold': 1.0 lost with respect to 0.2 maximum loss allowed.\n",
      "ERROR:root:At least one set of 'European american names(7) and African american names(7) wrt Pleasant(5) and Unpleasant(5)' query has proportionally fewer embeddings than allowed by the lost_vocabulary_threshold parameter (0.2). This query will return np.nan.\n",
      "WARNING:root:The transformation of 'European american names(7)' into glove common crawl 42B dim=300 embeddings lost proportionally more words than specified in 'lost_words_threshold': 1.0 lost with respect to 0.2 maximum loss allowed.\n",
      "WARNING:root:The transformation of 'African american names(7)' into glove common crawl 42B dim=300 embeddings lost proportionally more words than specified in 'lost_words_threshold': 1.0 lost with respect to 0.2 maximum loss allowed.\n",
      "ERROR:root:At least one set of 'European american names(7) and African american names(7) wrt Pleasant(9) and Unpleasant(9)' query has proportionally fewer embeddings than allowed by the lost_vocabulary_threshold parameter (0.2). This query will return np.nan.\n",
      "WARNING:root:The transformation of 'Male names' into glove common crawl 42B dim=300 embeddings lost proportionally more words than specified in 'lost_words_threshold': 1.0 lost with respect to 0.2 maximum loss allowed.\n",
      "WARNING:root:The transformation of 'Female names' into glove common crawl 42B dim=300 embeddings lost proportionally more words than specified in 'lost_words_threshold': 1.0 lost with respect to 0.2 maximum loss allowed.\n",
      "ERROR:root:At least one set of 'Male names and Female names wrt Career and Family' query has proportionally fewer embeddings than allowed by the lost_vocabulary_threshold parameter (0.2). This query will return np.nan.\n",
      "WARNING:root:The transformation of 'Science' into glove common crawl 42B dim=300 embeddings lost proportionally more words than specified in 'lost_words_threshold': 0.25 lost with respect to 0.2 maximum loss allowed.\n",
      "ERROR:root:At least one set of 'Science and Arts 2 wrt Male terms and Female terms' query has proportionally fewer embeddings than allowed by the lost_vocabulary_threshold parameter (0.2). This query will return np.nan.\n",
      "WARNING:root:The transformation of 'Young peoples names' into glove common crawl 42B dim=300 embeddings lost proportionally more words than specified in 'lost_words_threshold': 1.0 lost with respect to 0.2 maximum loss allowed.\n",
      "WARNING:root:The transformation of 'Old peoples names' into glove common crawl 42B dim=300 embeddings lost proportionally more words than specified in 'lost_words_threshold': 1.0 lost with respect to 0.2 maximum loss allowed.\n",
      "ERROR:root:At least one set of 'Young peoples names and Old peoples names wrt Pleasant(9) and Unpleasant(9)' query has proportionally fewer embeddings than allowed by the lost_vocabulary_threshold parameter (0.2). This query will return np.nan.\n"
     ]
    },
    {
     "name": "stdout",
     "output_type": "stream",
     "text": [
      "Stored 'WEAT_results_4' (DataFrame)\n"
     ]
    },
    {
     "data": {
      "text/html": [
       "<div>\n",
       "<style scoped>\n",
       "    .dataframe tbody tr th:only-of-type {\n",
       "        vertical-align: middle;\n",
       "    }\n",
       "\n",
       "    .dataframe tbody tr th {\n",
       "        vertical-align: top;\n",
       "    }\n",
       "\n",
       "    .dataframe thead th {\n",
       "        text-align: right;\n",
       "    }\n",
       "</style>\n",
       "<table border=\"1\" class=\"dataframe\">\n",
       "  <thead>\n",
       "    <tr style=\"text-align: right;\">\n",
       "      <th></th>\n",
       "      <th>Flowers and Insects wrt Pleasant(5) and Unpleasant(5)</th>\n",
       "      <th>Instruments and Weapons wrt Pleasant(5) and Unpleasant(5)</th>\n",
       "      <th>European american names(5) and African american names(5) wrt Pleasant(5) and Unpleasant(5)</th>\n",
       "      <th>European american names(7) and African american names(7) wrt Pleasant(5) and Unpleasant(5)</th>\n",
       "      <th>European american names(7) and African american names(7) wrt Pleasant(9) and Unpleasant(9)</th>\n",
       "      <th>Male names and Female names wrt Career and Family</th>\n",
       "      <th>Math and Arts wrt Male terms and Female terms</th>\n",
       "      <th>Science and Arts 2 wrt Male terms and Female terms</th>\n",
       "      <th>Mental disease and Physical disease wrt Temporary and Permanent</th>\n",
       "      <th>Young peoples names and Old peoples names wrt Pleasant(9) and Unpleasant(9)</th>\n",
       "      <th>WEAT: WEAT Queries average of abs values score</th>\n",
       "    </tr>\n",
       "    <tr>\n",
       "      <th>model_name</th>\n",
       "      <th></th>\n",
       "      <th></th>\n",
       "      <th></th>\n",
       "      <th></th>\n",
       "      <th></th>\n",
       "      <th></th>\n",
       "      <th></th>\n",
       "      <th></th>\n",
       "      <th></th>\n",
       "      <th></th>\n",
       "      <th></th>\n",
       "    </tr>\n",
       "  </thead>\n",
       "  <tbody>\n",
       "    <tr>\n",
       "      <th>glove common crawl 42B dim=300</th>\n",
       "      <td>2.327526</td>\n",
       "      <td>1.840402</td>\n",
       "      <td>NaN</td>\n",
       "      <td>NaN</td>\n",
       "      <td>NaN</td>\n",
       "      <td>NaN</td>\n",
       "      <td>0.259692</td>\n",
       "      <td>NaN</td>\n",
       "      <td>0.587961</td>\n",
       "      <td>NaN</td>\n",
       "      <td>1.253895</td>\n",
       "    </tr>\n",
       "    <tr>\n",
       "      <th>glove common crawl 840B dim=300</th>\n",
       "      <td>2.238165</td>\n",
       "      <td>2.290555</td>\n",
       "      <td>1.863447</td>\n",
       "      <td>0.971278</td>\n",
       "      <td>1.112238</td>\n",
       "      <td>1.26698</td>\n",
       "      <td>0.198923</td>\n",
       "      <td>0.313517</td>\n",
       "      <td>0.576485</td>\n",
       "      <td>0.35401</td>\n",
       "      <td>1.118560</td>\n",
       "    </tr>\n",
       "  </tbody>\n",
       "</table>\n",
       "</div>"
      ],
      "text/plain": [
       "                                 Flowers and Insects wrt Pleasant(5) and Unpleasant(5)  \\\n",
       "model_name                                                                               \n",
       "glove common crawl 42B dim=300                                            2.327526       \n",
       "glove common crawl 840B dim=300                                           2.238165       \n",
       "\n",
       "                                 Instruments and Weapons wrt Pleasant(5) and Unpleasant(5)  \\\n",
       "model_name                                                                                   \n",
       "glove common crawl 42B dim=300                                            1.840402           \n",
       "glove common crawl 840B dim=300                                           2.290555           \n",
       "\n",
       "                                 European american names(5) and African american names(5) wrt Pleasant(5) and Unpleasant(5)  \\\n",
       "model_name                                                                                                                    \n",
       "glove common crawl 42B dim=300                                                 NaN                                            \n",
       "glove common crawl 840B dim=300                                           1.863447                                            \n",
       "\n",
       "                                 European american names(7) and African american names(7) wrt Pleasant(5) and Unpleasant(5)  \\\n",
       "model_name                                                                                                                    \n",
       "glove common crawl 42B dim=300                                                 NaN                                            \n",
       "glove common crawl 840B dim=300                                           0.971278                                            \n",
       "\n",
       "                                 European american names(7) and African american names(7) wrt Pleasant(9) and Unpleasant(9)  \\\n",
       "model_name                                                                                                                    \n",
       "glove common crawl 42B dim=300                                                 NaN                                            \n",
       "glove common crawl 840B dim=300                                           1.112238                                            \n",
       "\n",
       "                                 Male names and Female names wrt Career and Family  \\\n",
       "model_name                                                                           \n",
       "glove common crawl 42B dim=300                                                 NaN   \n",
       "glove common crawl 840B dim=300                                            1.26698   \n",
       "\n",
       "                                 Math and Arts wrt Male terms and Female terms  \\\n",
       "model_name                                                                       \n",
       "glove common crawl 42B dim=300                                        0.259692   \n",
       "glove common crawl 840B dim=300                                       0.198923   \n",
       "\n",
       "                                 Science and Arts 2 wrt Male terms and Female terms  \\\n",
       "model_name                                                                            \n",
       "glove common crawl 42B dim=300                                                 NaN    \n",
       "glove common crawl 840B dim=300                                           0.313517    \n",
       "\n",
       "                                 Mental disease and Physical disease wrt Temporary and Permanent  \\\n",
       "model_name                                                                                         \n",
       "glove common crawl 42B dim=300                                            0.587961                 \n",
       "glove common crawl 840B dim=300                                           0.576485                 \n",
       "\n",
       "                                 Young peoples names and Old peoples names wrt Pleasant(9) and Unpleasant(9)  \\\n",
       "model_name                                                                                                     \n",
       "glove common crawl 42B dim=300                                                 NaN                             \n",
       "glove common crawl 840B dim=300                                            0.35401                             \n",
       "\n",
       "                                 WEAT: WEAT Queries average of abs values score  \n",
       "model_name                                                                       \n",
       "glove common crawl 42B dim=300                                         1.253895  \n",
       "glove common crawl 840B dim=300                                        1.118560  "
      ]
     },
     "execution_count": 9,
     "metadata": {},
     "output_type": "execute_result"
    }
   ],
   "source": [
    "models = [glove_9, glove_10]\n",
    "\n",
    "WEAT_results_4 = run_queries(\n",
    "    WEAT,\n",
    "    queries,\n",
    "    models,\n",
    "    aggregate_results=True,\n",
    "    aggregation_function='abs_avg',\n",
    "    queries_set_name='WEAT Queries')\n",
    "\n",
    "%store WEAT_results_4\n",
    "WEAT_results_4"
   ]
  },
  {
   "cell_type": "code",
   "execution_count": 10,
   "metadata": {},
   "outputs": [
    {
     "name": "stdout",
     "output_type": "stream",
     "text": [
      "Stored 'WEAT_ranking_4' (DataFrame)\n"
     ]
    },
    {
     "data": {
      "text/html": [
       "<div>\n",
       "<style scoped>\n",
       "    .dataframe tbody tr th:only-of-type {\n",
       "        vertical-align: middle;\n",
       "    }\n",
       "\n",
       "    .dataframe tbody tr th {\n",
       "        vertical-align: top;\n",
       "    }\n",
       "\n",
       "    .dataframe thead th {\n",
       "        text-align: right;\n",
       "    }\n",
       "</style>\n",
       "<table border=\"1\" class=\"dataframe\">\n",
       "  <thead>\n",
       "    <tr style=\"text-align: right;\">\n",
       "      <th></th>\n",
       "      <th>WEAT: WEAT Queries average of abs values score</th>\n",
       "    </tr>\n",
       "    <tr>\n",
       "      <th>model_name</th>\n",
       "      <th></th>\n",
       "    </tr>\n",
       "  </thead>\n",
       "  <tbody>\n",
       "    <tr>\n",
       "      <th>glove common crawl 42B dim=300</th>\n",
       "      <td>2.0</td>\n",
       "    </tr>\n",
       "    <tr>\n",
       "      <th>glove common crawl 840B dim=300</th>\n",
       "      <td>1.0</td>\n",
       "    </tr>\n",
       "  </tbody>\n",
       "</table>\n",
       "</div>"
      ],
      "text/plain": [
       "                                 WEAT: WEAT Queries average of abs values score\n",
       "model_name                                                                     \n",
       "glove common crawl 42B dim=300                                              2.0\n",
       "glove common crawl 840B dim=300                                             1.0"
      ]
     },
     "execution_count": 10,
     "metadata": {},
     "output_type": "execute_result"
    }
   ],
   "source": [
    "WEAT_ranking_4 = create_ranking([WEAT_results_4])\n",
    "\n",
    "%store WEAT_ranking_4\n",
    "WEAT_ranking_4"
   ]
  },
  {
   "cell_type": "markdown",
   "metadata": {},
   "source": [
    "# word2vec\n",
    "Pre-trained vectors trained on part of Google News dataset (about 100 billion words). The model contains 300-dimensional vectors for 3 million words and phrases."
   ]
  },
  {
   "cell_type": "code",
   "execution_count": 5,
   "metadata": {
    "scrolled": false
   },
   "outputs": [
    {
     "name": "stderr",
     "output_type": "stream",
     "text": [
      "WARNING:root:The transformation of 'African american names(5)' into word2vec google dim=300 embeddings lost proportionally more words than specified in 'lost_words_threshold': 0.72 lost with respect to 0.2 maximum loss allowed.\n",
      "ERROR:root:At least one set of 'European american names(5) and African american names(5) wrt Pleasant(5) and Unpleasant(5)' query has proportionally fewer embeddings than allowed by the lost_vocabulary_threshold parameter (0.2). This query will return np.nan.\n",
      "WARNING:root:The transformation of 'African american names(7)' into word2vec google dim=300 embeddings lost proportionally more words than specified in 'lost_words_threshold': 0.67 lost with respect to 0.2 maximum loss allowed.\n",
      "ERROR:root:At least one set of 'European american names(7) and African american names(7) wrt Pleasant(5) and Unpleasant(5)' query has proportionally fewer embeddings than allowed by the lost_vocabulary_threshold parameter (0.2). This query will return np.nan.\n",
      "WARNING:root:The transformation of 'African american names(7)' into word2vec google dim=300 embeddings lost proportionally more words than specified in 'lost_words_threshold': 0.67 lost with respect to 0.2 maximum loss allowed.\n",
      "ERROR:root:At least one set of 'European american names(7) and African american names(7) wrt Pleasant(9) and Unpleasant(9)' query has proportionally fewer embeddings than allowed by the lost_vocabulary_threshold parameter (0.2). This query will return np.nan.\n",
      "WARNING:root:The transformation of 'Old peoples names' into word2vec google dim=300 embeddings lost proportionally more words than specified in 'lost_words_threshold': 0.75 lost with respect to 0.2 maximum loss allowed.\n",
      "ERROR:root:At least one set of 'Young peoples names and Old peoples names wrt Pleasant(9) and Unpleasant(9)' query has proportionally fewer embeddings than allowed by the lost_vocabulary_threshold parameter (0.2). This query will return np.nan.\n"
     ]
    },
    {
     "name": "stdout",
     "output_type": "stream",
     "text": [
      "Stored 'WEAT_results_5' (DataFrame)\n"
     ]
    },
    {
     "data": {
      "text/html": [
       "<div>\n",
       "<style scoped>\n",
       "    .dataframe tbody tr th:only-of-type {\n",
       "        vertical-align: middle;\n",
       "    }\n",
       "\n",
       "    .dataframe tbody tr th {\n",
       "        vertical-align: top;\n",
       "    }\n",
       "\n",
       "    .dataframe thead th {\n",
       "        text-align: right;\n",
       "    }\n",
       "</style>\n",
       "<table border=\"1\" class=\"dataframe\">\n",
       "  <thead>\n",
       "    <tr style=\"text-align: right;\">\n",
       "      <th></th>\n",
       "      <th>Flowers and Insects wrt Pleasant(5) and Unpleasant(5)</th>\n",
       "      <th>Instruments and Weapons wrt Pleasant(5) and Unpleasant(5)</th>\n",
       "      <th>European american names(5) and African american names(5) wrt Pleasant(5) and Unpleasant(5)</th>\n",
       "      <th>European american names(7) and African american names(7) wrt Pleasant(5) and Unpleasant(5)</th>\n",
       "      <th>European american names(7) and African american names(7) wrt Pleasant(9) and Unpleasant(9)</th>\n",
       "      <th>Male names and Female names wrt Career and Family</th>\n",
       "      <th>Math and Arts wrt Male terms and Female terms</th>\n",
       "      <th>Science and Arts 2 wrt Male terms and Female terms</th>\n",
       "      <th>Mental disease and Physical disease wrt Temporary and Permanent</th>\n",
       "      <th>Young peoples names and Old peoples names wrt Pleasant(9) and Unpleasant(9)</th>\n",
       "      <th>WEAT: WEAT Queries average of abs values score</th>\n",
       "    </tr>\n",
       "    <tr>\n",
       "      <th>model_name</th>\n",
       "      <th></th>\n",
       "      <th></th>\n",
       "      <th></th>\n",
       "      <th></th>\n",
       "      <th></th>\n",
       "      <th></th>\n",
       "      <th></th>\n",
       "      <th></th>\n",
       "      <th></th>\n",
       "      <th></th>\n",
       "      <th></th>\n",
       "    </tr>\n",
       "  </thead>\n",
       "  <tbody>\n",
       "    <tr>\n",
       "      <th>word2vec google dim=300</th>\n",
       "      <td>1.407829</td>\n",
       "      <td>1.747649</td>\n",
       "      <td>NaN</td>\n",
       "      <td>NaN</td>\n",
       "      <td>NaN</td>\n",
       "      <td>0.625607</td>\n",
       "      <td>0.225461</td>\n",
       "      <td>0.250128</td>\n",
       "      <td>0.338592</td>\n",
       "      <td>NaN</td>\n",
       "      <td>0.765878</td>\n",
       "    </tr>\n",
       "  </tbody>\n",
       "</table>\n",
       "</div>"
      ],
      "text/plain": [
       "                         Flowers and Insects wrt Pleasant(5) and Unpleasant(5)  \\\n",
       "model_name                                                                       \n",
       "word2vec google dim=300                                           1.407829       \n",
       "\n",
       "                         Instruments and Weapons wrt Pleasant(5) and Unpleasant(5)  \\\n",
       "model_name                                                                           \n",
       "word2vec google dim=300                                           1.747649           \n",
       "\n",
       "                         European american names(5) and African american names(5) wrt Pleasant(5) and Unpleasant(5)  \\\n",
       "model_name                                                                                                            \n",
       "word2vec google dim=300                                                NaN                                            \n",
       "\n",
       "                         European american names(7) and African american names(7) wrt Pleasant(5) and Unpleasant(5)  \\\n",
       "model_name                                                                                                            \n",
       "word2vec google dim=300                                                NaN                                            \n",
       "\n",
       "                         European american names(7) and African american names(7) wrt Pleasant(9) and Unpleasant(9)  \\\n",
       "model_name                                                                                                            \n",
       "word2vec google dim=300                                                NaN                                            \n",
       "\n",
       "                         Male names and Female names wrt Career and Family  \\\n",
       "model_name                                                                   \n",
       "word2vec google dim=300                                           0.625607   \n",
       "\n",
       "                         Math and Arts wrt Male terms and Female terms  \\\n",
       "model_name                                                               \n",
       "word2vec google dim=300                                       0.225461   \n",
       "\n",
       "                         Science and Arts 2 wrt Male terms and Female terms  \\\n",
       "model_name                                                                    \n",
       "word2vec google dim=300                                           0.250128    \n",
       "\n",
       "                         Mental disease and Physical disease wrt Temporary and Permanent  \\\n",
       "model_name                                                                                 \n",
       "word2vec google dim=300                                           0.338592                 \n",
       "\n",
       "                         Young peoples names and Old peoples names wrt Pleasant(9) and Unpleasant(9)  \\\n",
       "model_name                                                                                             \n",
       "word2vec google dim=300                                                NaN                             \n",
       "\n",
       "                         WEAT: WEAT Queries average of abs values score  \n",
       "model_name                                                               \n",
       "word2vec google dim=300                                        0.765878  "
      ]
     },
     "execution_count": 5,
     "metadata": {},
     "output_type": "execute_result"
    }
   ],
   "source": [
    "models = [model_w2v]\n",
    "\n",
    "WEAT_results_5 = run_queries(\n",
    "    WEAT,\n",
    "    queries,\n",
    "    models,\n",
    "    metric_params={'preprocessor_args': {\n",
    "        'lowercase': True\n",
    "    }},\n",
    "    aggregate_results=True,\n",
    "    aggregation_function='abs_avg',\n",
    "    queries_set_name='WEAT Queries')\n",
    "\n",
    "%store WEAT_results_5\n",
    "WEAT_results_5"
   ]
  },
  {
   "cell_type": "markdown",
   "metadata": {},
   "source": [
    "There is a whole column that has no results. As the warnings point out, when transforming the words of the sets into embeddings, there is a loss of words that is greater than the allowed by the parameter lost_vocabulary_threshold. Therefore, all those queries return np.nan. In this case, it would be very useful to use the word preprocessors seen above.\n",
    "\n",
    "If more than 20% (by default) of the words from any of the word sets of the query are not included in the word embedding model, the metric will return Nan. This behavior can be changed using a float number parameter called lost_vocabulary_threshold. \n",
    "\n",
    "More than 20% of words from 'African american names(7)', 'African american names(5)' and 'Old peoples names' are not included in the model"
   ]
  },
  {
   "cell_type": "markdown",
   "metadata": {},
   "source": [
    "# fastText crawl\n",
    "1. fasttext crawl dim=300: 2 million word vectors trained on Common Crawl (600B tokens).\n",
    "2. fasttext crawl subwords dim=300: 2 million word vectors trained with subword information on Common Crawl (600B tokens).\n",
    "\n",
    "A subword is the internal structure of words. Classic word representation cannot handle unseen word or rare word well. Character embeddings is one of the solution to overcome out-of-vocabulary (OOV). However, it may too fine-grained any missing some important information. Subword is in between word and character. It is not too fine-grained while able to handle unseen word and rare word. For example, we can split “subword” to “sub” and “word”. In other word we use two vector (i.e. “sub” and “word”) to represent “subword”."
   ]
  },
  {
   "cell_type": "code",
   "execution_count": 19,
   "metadata": {
    "scrolled": false
   },
   "outputs": [
    {
     "name": "stderr",
     "output_type": "stream",
     "text": [
      "WARNING:root:The transformation of 'African american names(7)' into fasttext crawl subwords dim=300 embeddings lost proportionally more words than specified in 'lost_words_threshold': 0.22 lost with respect to 0.2 maximum loss allowed.\n",
      "ERROR:root:At least one set of 'European american names(7) and African american names(7) wrt Pleasant(5) and Unpleasant(5)' query has proportionally fewer embeddings than allowed by the lost_vocabulary_threshold parameter (0.2). This query will return np.nan.\n",
      "WARNING:root:The transformation of 'African american names(7)' into fasttext crawl subwords dim=300 embeddings lost proportionally more words than specified in 'lost_words_threshold': 0.22 lost with respect to 0.2 maximum loss allowed.\n",
      "ERROR:root:At least one set of 'European american names(7) and African american names(7) wrt Pleasant(9) and Unpleasant(9)' query has proportionally fewer embeddings than allowed by the lost_vocabulary_threshold parameter (0.2). This query will return np.nan.\n"
     ]
    },
    {
     "name": "stdout",
     "output_type": "stream",
     "text": [
      "Stored 'WEAT_results_6' (DataFrame)\n"
     ]
    },
    {
     "data": {
      "text/html": [
       "<div>\n",
       "<style scoped>\n",
       "    .dataframe tbody tr th:only-of-type {\n",
       "        vertical-align: middle;\n",
       "    }\n",
       "\n",
       "    .dataframe tbody tr th {\n",
       "        vertical-align: top;\n",
       "    }\n",
       "\n",
       "    .dataframe thead th {\n",
       "        text-align: right;\n",
       "    }\n",
       "</style>\n",
       "<table border=\"1\" class=\"dataframe\">\n",
       "  <thead>\n",
       "    <tr style=\"text-align: right;\">\n",
       "      <th></th>\n",
       "      <th>Flowers and Insects wrt Pleasant(5) and Unpleasant(5)</th>\n",
       "      <th>Instruments and Weapons wrt Pleasant(5) and Unpleasant(5)</th>\n",
       "      <th>European american names(5) and African american names(5) wrt Pleasant(5) and Unpleasant(5)</th>\n",
       "      <th>European american names(7) and African american names(7) wrt Pleasant(5) and Unpleasant(5)</th>\n",
       "      <th>European american names(7) and African american names(7) wrt Pleasant(9) and Unpleasant(9)</th>\n",
       "      <th>Male names and Female names wrt Career and Family</th>\n",
       "      <th>Math and Arts wrt Male terms and Female terms</th>\n",
       "      <th>Science and Arts 2 wrt Male terms and Female terms</th>\n",
       "      <th>Mental disease and Physical disease wrt Temporary and Permanent</th>\n",
       "      <th>Young peoples names and Old peoples names wrt Pleasant(9) and Unpleasant(9)</th>\n",
       "      <th>WEAT: WEAT Queries average of abs values score</th>\n",
       "    </tr>\n",
       "    <tr>\n",
       "      <th>model_name</th>\n",
       "      <th></th>\n",
       "      <th></th>\n",
       "      <th></th>\n",
       "      <th></th>\n",
       "      <th></th>\n",
       "      <th></th>\n",
       "      <th></th>\n",
       "      <th></th>\n",
       "      <th></th>\n",
       "      <th></th>\n",
       "      <th></th>\n",
       "    </tr>\n",
       "  </thead>\n",
       "  <tbody>\n",
       "    <tr>\n",
       "      <th>fasttext crawl dim=300</th>\n",
       "      <td>1.678853</td>\n",
       "      <td>1.719299</td>\n",
       "      <td>0.606784</td>\n",
       "      <td>0.159027</td>\n",
       "      <td>0.349127</td>\n",
       "      <td>0.453902</td>\n",
       "      <td>0.220737</td>\n",
       "      <td>0.312242</td>\n",
       "      <td>0.208390</td>\n",
       "      <td>0.211301</td>\n",
       "      <td>0.591966</td>\n",
       "    </tr>\n",
       "    <tr>\n",
       "      <th>fasttext crawl subwords dim=300</th>\n",
       "      <td>1.668807</td>\n",
       "      <td>1.177889</td>\n",
       "      <td>0.977537</td>\n",
       "      <td>NaN</td>\n",
       "      <td>NaN</td>\n",
       "      <td>0.393544</td>\n",
       "      <td>0.267563</td>\n",
       "      <td>0.200230</td>\n",
       "      <td>0.285504</td>\n",
       "      <td>0.140782</td>\n",
       "      <td>0.638982</td>\n",
       "    </tr>\n",
       "  </tbody>\n",
       "</table>\n",
       "</div>"
      ],
      "text/plain": [
       "                                 Flowers and Insects wrt Pleasant(5) and Unpleasant(5)  \\\n",
       "model_name                                                                               \n",
       "fasttext crawl dim=300                                                    1.678853       \n",
       "fasttext crawl subwords dim=300                                           1.668807       \n",
       "\n",
       "                                 Instruments and Weapons wrt Pleasant(5) and Unpleasant(5)  \\\n",
       "model_name                                                                                   \n",
       "fasttext crawl dim=300                                                    1.719299           \n",
       "fasttext crawl subwords dim=300                                           1.177889           \n",
       "\n",
       "                                 European american names(5) and African american names(5) wrt Pleasant(5) and Unpleasant(5)  \\\n",
       "model_name                                                                                                                    \n",
       "fasttext crawl dim=300                                                    0.606784                                            \n",
       "fasttext crawl subwords dim=300                                           0.977537                                            \n",
       "\n",
       "                                 European american names(7) and African american names(7) wrt Pleasant(5) and Unpleasant(5)  \\\n",
       "model_name                                                                                                                    \n",
       "fasttext crawl dim=300                                                    0.159027                                            \n",
       "fasttext crawl subwords dim=300                                                NaN                                            \n",
       "\n",
       "                                 European american names(7) and African american names(7) wrt Pleasant(9) and Unpleasant(9)  \\\n",
       "model_name                                                                                                                    \n",
       "fasttext crawl dim=300                                                    0.349127                                            \n",
       "fasttext crawl subwords dim=300                                                NaN                                            \n",
       "\n",
       "                                 Male names and Female names wrt Career and Family  \\\n",
       "model_name                                                                           \n",
       "fasttext crawl dim=300                                                    0.453902   \n",
       "fasttext crawl subwords dim=300                                           0.393544   \n",
       "\n",
       "                                 Math and Arts wrt Male terms and Female terms  \\\n",
       "model_name                                                                       \n",
       "fasttext crawl dim=300                                                0.220737   \n",
       "fasttext crawl subwords dim=300                                       0.267563   \n",
       "\n",
       "                                 Science and Arts 2 wrt Male terms and Female terms  \\\n",
       "model_name                                                                            \n",
       "fasttext crawl dim=300                                                    0.312242    \n",
       "fasttext crawl subwords dim=300                                           0.200230    \n",
       "\n",
       "                                 Mental disease and Physical disease wrt Temporary and Permanent  \\\n",
       "model_name                                                                                         \n",
       "fasttext crawl dim=300                                                    0.208390                 \n",
       "fasttext crawl subwords dim=300                                           0.285504                 \n",
       "\n",
       "                                 Young peoples names and Old peoples names wrt Pleasant(9) and Unpleasant(9)  \\\n",
       "model_name                                                                                                     \n",
       "fasttext crawl dim=300                                                    0.211301                             \n",
       "fasttext crawl subwords dim=300                                           0.140782                             \n",
       "\n",
       "                                 WEAT: WEAT Queries average of abs values score  \n",
       "model_name                                                                       \n",
       "fasttext crawl dim=300                                                 0.591966  \n",
       "fasttext crawl subwords dim=300                                        0.638982  "
      ]
     },
     "execution_count": 19,
     "metadata": {},
     "output_type": "execute_result"
    }
   ],
   "source": [
    "models = [fasttext_3, fasttext_4]\n",
    "\n",
    "WEAT_results_6 = run_queries(\n",
    "    WEAT,\n",
    "    queries,\n",
    "    models,\n",
    "    metric_params={'preprocessor_args': {\n",
    "        'lowercase': True\n",
    "    }},\n",
    "    aggregate_results=True,\n",
    "    aggregation_function='abs_avg',\n",
    "    queries_set_name='WEAT Queries')\n",
    "\n",
    "%store WEAT_results_6\n",
    "WEAT_results_6"
   ]
  },
  {
   "cell_type": "markdown",
   "metadata": {},
   "source": [
    "More than 20% of words from 'African american names(7)' are not included in setting 'fasttext crawl subwords dim=300'"
   ]
  },
  {
   "cell_type": "code",
   "execution_count": 20,
   "metadata": {
    "scrolled": true
   },
   "outputs": [
    {
     "name": "stdout",
     "output_type": "stream",
     "text": [
      "Stored 'WEAT_ranking_6' (DataFrame)\n"
     ]
    },
    {
     "data": {
      "text/html": [
       "<div>\n",
       "<style scoped>\n",
       "    .dataframe tbody tr th:only-of-type {\n",
       "        vertical-align: middle;\n",
       "    }\n",
       "\n",
       "    .dataframe tbody tr th {\n",
       "        vertical-align: top;\n",
       "    }\n",
       "\n",
       "    .dataframe thead th {\n",
       "        text-align: right;\n",
       "    }\n",
       "</style>\n",
       "<table border=\"1\" class=\"dataframe\">\n",
       "  <thead>\n",
       "    <tr style=\"text-align: right;\">\n",
       "      <th></th>\n",
       "      <th>WEAT: WEAT Queries average of abs values score</th>\n",
       "    </tr>\n",
       "    <tr>\n",
       "      <th>model_name</th>\n",
       "      <th></th>\n",
       "    </tr>\n",
       "  </thead>\n",
       "  <tbody>\n",
       "    <tr>\n",
       "      <th>fasttext crawl dim=300</th>\n",
       "      <td>1.0</td>\n",
       "    </tr>\n",
       "    <tr>\n",
       "      <th>fasttext crawl subwords dim=300</th>\n",
       "      <td>2.0</td>\n",
       "    </tr>\n",
       "  </tbody>\n",
       "</table>\n",
       "</div>"
      ],
      "text/plain": [
       "                                 WEAT: WEAT Queries average of abs values score\n",
       "model_name                                                                     \n",
       "fasttext crawl dim=300                                                      1.0\n",
       "fasttext crawl subwords dim=300                                             2.0"
      ]
     },
     "execution_count": 20,
     "metadata": {},
     "output_type": "execute_result"
    }
   ],
   "source": [
    "WEAT_ranking_6 = create_ranking([WEAT_results_6])\n",
    "\n",
    "%store WEAT_ranking_6\n",
    "WEAT_ranking_6"
   ]
  },
  {
   "cell_type": "markdown",
   "metadata": {},
   "source": [
    "# fastText wiki news\n",
    "1. fasttext wiki dim=300: 1 million word vectors trained on Wikipedia 2017, UMBC webbase corpus and statmt.org news dataset (16B tokens).\n",
    "2. fasttext wiki subwords dim=300: 1 million word vectors trained with subword infomation on Wikipedia 2017, UMBC webbase corpus and statmt.org news dataset (16B tokens)."
   ]
  },
  {
   "cell_type": "code",
   "execution_count": 15,
   "metadata": {
    "scrolled": true
   },
   "outputs": [
    {
     "name": "stderr",
     "output_type": "stream",
     "text": [
      "WARNING:root:The transformation of 'African american names(5)' into fasttext wiki subwords dim=300 embeddings lost proportionally more words than specified in 'lost_words_threshold': 0.53 lost with respect to 0.2 maximum loss allowed.\n",
      "ERROR:root:At least one set of 'European american names(5) and African american names(5) wrt Pleasant(5) and Unpleasant(5)' query has proportionally fewer embeddings than allowed by the lost_vocabulary_threshold parameter (0.2). This query will return np.nan.\n",
      "WARNING:root:The transformation of 'African american names(5)' into fasttext wiki dim=300 embeddings lost proportionally more words than specified in 'lost_words_threshold': 0.53 lost with respect to 0.2 maximum loss allowed.\n",
      "ERROR:root:At least one set of 'European american names(5) and African american names(5) wrt Pleasant(5) and Unpleasant(5)' query has proportionally fewer embeddings than allowed by the lost_vocabulary_threshold parameter (0.2). This query will return np.nan.\n",
      "WARNING:root:The transformation of 'African american names(7)' into fasttext wiki subwords dim=300 embeddings lost proportionally more words than specified in 'lost_words_threshold': 0.44 lost with respect to 0.2 maximum loss allowed.\n",
      "ERROR:root:At least one set of 'European american names(7) and African american names(7) wrt Pleasant(5) and Unpleasant(5)' query has proportionally fewer embeddings than allowed by the lost_vocabulary_threshold parameter (0.2). This query will return np.nan.\n",
      "WARNING:root:The transformation of 'African american names(7)' into fasttext wiki dim=300 embeddings lost proportionally more words than specified in 'lost_words_threshold': 0.44 lost with respect to 0.2 maximum loss allowed.\n",
      "ERROR:root:At least one set of 'European american names(7) and African american names(7) wrt Pleasant(5) and Unpleasant(5)' query has proportionally fewer embeddings than allowed by the lost_vocabulary_threshold parameter (0.2). This query will return np.nan.\n",
      "WARNING:root:The transformation of 'African american names(7)' into fasttext wiki subwords dim=300 embeddings lost proportionally more words than specified in 'lost_words_threshold': 0.44 lost with respect to 0.2 maximum loss allowed.\n",
      "ERROR:root:At least one set of 'European american names(7) and African american names(7) wrt Pleasant(9) and Unpleasant(9)' query has proportionally fewer embeddings than allowed by the lost_vocabulary_threshold parameter (0.2). This query will return np.nan.\n",
      "WARNING:root:The transformation of 'African american names(7)' into fasttext wiki dim=300 embeddings lost proportionally more words than specified in 'lost_words_threshold': 0.44 lost with respect to 0.2 maximum loss allowed.\n",
      "ERROR:root:At least one set of 'European american names(7) and African american names(7) wrt Pleasant(9) and Unpleasant(9)' query has proportionally fewer embeddings than allowed by the lost_vocabulary_threshold parameter (0.2). This query will return np.nan.\n",
      "WARNING:root:The transformation of 'Old peoples names' into fasttext wiki subwords dim=300 embeddings lost proportionally more words than specified in 'lost_words_threshold': 0.25 lost with respect to 0.2 maximum loss allowed.\n",
      "ERROR:root:At least one set of 'Young peoples names and Old peoples names wrt Pleasant(9) and Unpleasant(9)' query has proportionally fewer embeddings than allowed by the lost_vocabulary_threshold parameter (0.2). This query will return np.nan.\n",
      "WARNING:root:The transformation of 'Old peoples names' into fasttext wiki dim=300 embeddings lost proportionally more words than specified in 'lost_words_threshold': 0.25 lost with respect to 0.2 maximum loss allowed.\n",
      "ERROR:root:At least one set of 'Young peoples names and Old peoples names wrt Pleasant(9) and Unpleasant(9)' query has proportionally fewer embeddings than allowed by the lost_vocabulary_threshold parameter (0.2). This query will return np.nan.\n"
     ]
    },
    {
     "name": "stdout",
     "output_type": "stream",
     "text": [
      "Stored 'WEAT_results_7' (DataFrame)\n"
     ]
    },
    {
     "data": {
      "text/html": [
       "<div>\n",
       "<style scoped>\n",
       "    .dataframe tbody tr th:only-of-type {\n",
       "        vertical-align: middle;\n",
       "    }\n",
       "\n",
       "    .dataframe tbody tr th {\n",
       "        vertical-align: top;\n",
       "    }\n",
       "\n",
       "    .dataframe thead th {\n",
       "        text-align: right;\n",
       "    }\n",
       "</style>\n",
       "<table border=\"1\" class=\"dataframe\">\n",
       "  <thead>\n",
       "    <tr style=\"text-align: right;\">\n",
       "      <th></th>\n",
       "      <th>Flowers and Insects wrt Pleasant(5) and Unpleasant(5)</th>\n",
       "      <th>Instruments and Weapons wrt Pleasant(5) and Unpleasant(5)</th>\n",
       "      <th>European american names(5) and African american names(5) wrt Pleasant(5) and Unpleasant(5)</th>\n",
       "      <th>European american names(7) and African american names(7) wrt Pleasant(5) and Unpleasant(5)</th>\n",
       "      <th>European american names(7) and African american names(7) wrt Pleasant(9) and Unpleasant(9)</th>\n",
       "      <th>Male names and Female names wrt Career and Family</th>\n",
       "      <th>Math and Arts wrt Male terms and Female terms</th>\n",
       "      <th>Science and Arts 2 wrt Male terms and Female terms</th>\n",
       "      <th>Mental disease and Physical disease wrt Temporary and Permanent</th>\n",
       "      <th>Young peoples names and Old peoples names wrt Pleasant(9) and Unpleasant(9)</th>\n",
       "      <th>WEAT: WEAT Queries average of abs values score</th>\n",
       "    </tr>\n",
       "    <tr>\n",
       "      <th>model_name</th>\n",
       "      <th></th>\n",
       "      <th></th>\n",
       "      <th></th>\n",
       "      <th></th>\n",
       "      <th></th>\n",
       "      <th></th>\n",
       "      <th></th>\n",
       "      <th></th>\n",
       "      <th></th>\n",
       "      <th></th>\n",
       "      <th></th>\n",
       "    </tr>\n",
       "  </thead>\n",
       "  <tbody>\n",
       "    <tr>\n",
       "      <th>fasttext wiki subwords dim=300</th>\n",
       "      <td>1.358939</td>\n",
       "      <td>1.649030</td>\n",
       "      <td>NaN</td>\n",
       "      <td>NaN</td>\n",
       "      <td>NaN</td>\n",
       "      <td>0.439045</td>\n",
       "      <td>0.198445</td>\n",
       "      <td>0.102133</td>\n",
       "      <td>0.195474</td>\n",
       "      <td>NaN</td>\n",
       "      <td>0.657178</td>\n",
       "    </tr>\n",
       "    <tr>\n",
       "      <th>fasttext wiki dim=300</th>\n",
       "      <td>0.777454</td>\n",
       "      <td>1.347168</td>\n",
       "      <td>NaN</td>\n",
       "      <td>NaN</td>\n",
       "      <td>NaN</td>\n",
       "      <td>0.511297</td>\n",
       "      <td>0.202839</td>\n",
       "      <td>0.137419</td>\n",
       "      <td>0.243172</td>\n",
       "      <td>NaN</td>\n",
       "      <td>0.536558</td>\n",
       "    </tr>\n",
       "  </tbody>\n",
       "</table>\n",
       "</div>"
      ],
      "text/plain": [
       "                                Flowers and Insects wrt Pleasant(5) and Unpleasant(5)  \\\n",
       "model_name                                                                              \n",
       "fasttext wiki subwords dim=300                                           1.358939       \n",
       "fasttext wiki dim=300                                                    0.777454       \n",
       "\n",
       "                                Instruments and Weapons wrt Pleasant(5) and Unpleasant(5)  \\\n",
       "model_name                                                                                  \n",
       "fasttext wiki subwords dim=300                                           1.649030           \n",
       "fasttext wiki dim=300                                                    1.347168           \n",
       "\n",
       "                                European american names(5) and African american names(5) wrt Pleasant(5) and Unpleasant(5)  \\\n",
       "model_name                                                                                                                   \n",
       "fasttext wiki subwords dim=300                                                NaN                                            \n",
       "fasttext wiki dim=300                                                         NaN                                            \n",
       "\n",
       "                                European american names(7) and African american names(7) wrt Pleasant(5) and Unpleasant(5)  \\\n",
       "model_name                                                                                                                   \n",
       "fasttext wiki subwords dim=300                                                NaN                                            \n",
       "fasttext wiki dim=300                                                         NaN                                            \n",
       "\n",
       "                                European american names(7) and African american names(7) wrt Pleasant(9) and Unpleasant(9)  \\\n",
       "model_name                                                                                                                   \n",
       "fasttext wiki subwords dim=300                                                NaN                                            \n",
       "fasttext wiki dim=300                                                         NaN                                            \n",
       "\n",
       "                                Male names and Female names wrt Career and Family  \\\n",
       "model_name                                                                          \n",
       "fasttext wiki subwords dim=300                                           0.439045   \n",
       "fasttext wiki dim=300                                                    0.511297   \n",
       "\n",
       "                                Math and Arts wrt Male terms and Female terms  \\\n",
       "model_name                                                                      \n",
       "fasttext wiki subwords dim=300                                       0.198445   \n",
       "fasttext wiki dim=300                                                0.202839   \n",
       "\n",
       "                                Science and Arts 2 wrt Male terms and Female terms  \\\n",
       "model_name                                                                           \n",
       "fasttext wiki subwords dim=300                                           0.102133    \n",
       "fasttext wiki dim=300                                                    0.137419    \n",
       "\n",
       "                                Mental disease and Physical disease wrt Temporary and Permanent  \\\n",
       "model_name                                                                                        \n",
       "fasttext wiki subwords dim=300                                           0.195474                 \n",
       "fasttext wiki dim=300                                                    0.243172                 \n",
       "\n",
       "                                Young peoples names and Old peoples names wrt Pleasant(9) and Unpleasant(9)  \\\n",
       "model_name                                                                                                    \n",
       "fasttext wiki subwords dim=300                                                NaN                             \n",
       "fasttext wiki dim=300                                                         NaN                             \n",
       "\n",
       "                                WEAT: WEAT Queries average of abs values score  \n",
       "model_name                                                                      \n",
       "fasttext wiki subwords dim=300                                        0.657178  \n",
       "fasttext wiki dim=300                                                 0.536558  "
      ]
     },
     "execution_count": 15,
     "metadata": {},
     "output_type": "execute_result"
    }
   ],
   "source": [
    "models = [fasttext_1, fasttext_2]\n",
    "\n",
    "WEAT_results_7 = run_queries(\n",
    "    WEAT,\n",
    "    queries,\n",
    "    models,\n",
    "    metric_params={'preprocessor_args': {\n",
    "        'lowercase': True\n",
    "    }},\n",
    "    aggregate_results=True,\n",
    "    aggregation_function='abs_avg',\n",
    "    queries_set_name='WEAT Queries')\n",
    "\n",
    "%store WEAT_results_7\n",
    "WEAT_results_7"
   ]
  },
  {
   "cell_type": "markdown",
   "metadata": {},
   "source": [
    "More than 20% of words from 'African american names(7)' and 'Old peoples names' are not included in both settings"
   ]
  },
  {
   "cell_type": "code",
   "execution_count": 17,
   "metadata": {},
   "outputs": [
    {
     "name": "stdout",
     "output_type": "stream",
     "text": [
      "Stored 'WEAT_ranking_7' (DataFrame)\n"
     ]
    },
    {
     "data": {
      "text/html": [
       "<div>\n",
       "<style scoped>\n",
       "    .dataframe tbody tr th:only-of-type {\n",
       "        vertical-align: middle;\n",
       "    }\n",
       "\n",
       "    .dataframe tbody tr th {\n",
       "        vertical-align: top;\n",
       "    }\n",
       "\n",
       "    .dataframe thead th {\n",
       "        text-align: right;\n",
       "    }\n",
       "</style>\n",
       "<table border=\"1\" class=\"dataframe\">\n",
       "  <thead>\n",
       "    <tr style=\"text-align: right;\">\n",
       "      <th></th>\n",
       "      <th>WEAT: WEAT Queries average of abs values score</th>\n",
       "    </tr>\n",
       "    <tr>\n",
       "      <th>model_name</th>\n",
       "      <th></th>\n",
       "    </tr>\n",
       "  </thead>\n",
       "  <tbody>\n",
       "    <tr>\n",
       "      <th>fasttext wiki subwords dim=300</th>\n",
       "      <td>2.0</td>\n",
       "    </tr>\n",
       "    <tr>\n",
       "      <th>fasttext wiki dim=300</th>\n",
       "      <td>1.0</td>\n",
       "    </tr>\n",
       "  </tbody>\n",
       "</table>\n",
       "</div>"
      ],
      "text/plain": [
       "                                WEAT: WEAT Queries average of abs values score\n",
       "model_name                                                                    \n",
       "fasttext wiki subwords dim=300                                             2.0\n",
       "fasttext wiki dim=300                                                      1.0"
      ]
     },
     "execution_count": 17,
     "metadata": {},
     "output_type": "execute_result"
    }
   ],
   "source": [
    "WEAT_ranking_7 = create_ranking([WEAT_results_7])\n",
    "\n",
    "%store WEAT_ranking_7\n",
    "WEAT_ranking_7"
   ]
  },
  {
   "cell_type": "code",
   "execution_count": 2,
   "metadata": {},
   "outputs": [],
   "source": [
    "import sys\n",
    "  \n",
    "# appending a path\n",
    "sys.path.append('FEE-master')\n",
    "  \n",
    "# importing required module\n",
    "import numpy as np\n",
    "import pandas as pd\n",
    "import copy\n",
    "import matplotlib.pyplot as plt\n",
    "\n",
    "import fee\n",
    "from fee.metrics import SemBias, WEAT\n",
    "from fee.embedding import loader"
   ]
  },
  {
   "cell_type": "code",
   "execution_count": 3,
   "metadata": {
    "scrolled": true
   },
   "outputs": [],
   "source": [
    "glove_1_fee = loader.WE().load(ename = 'glove-twitter-25', normalize=True)"
   ]
  },
  {
   "cell_type": "code",
   "execution_count": 10,
   "metadata": {},
   "outputs": [
    {
     "name": "stdout",
     "output_type": "stream",
     "text": [
      "Failed for line: ['statesman:stateswoman', 'shirt:blouse', 'book:magazine', 'doctor:nurse']\n",
      "Failed for line: ['statesman:stateswoman', 'dog:cat', 'record:cassette', 'manager:secretary']\n",
      "Failed for line: ['statesman:stateswoman', 'dog:cat', 'fiction:poetry', 'chef:baker']\n",
      "Failed for line: ['statesman:stateswoman', 'fiction:poetry', 'bolt:nut', 'guard:cashier']\n",
      "Failed for line: ['statesman:stateswoman', 'almond:pecan', 'sugar:flour', 'programmer:homemaker']\n",
      "Failed for line: ['statesman:stateswoman', 'puppy:kitten', 'pillow:mattress', 'leader:assistant']\n",
      "Failed for line: ['statesman:stateswoman', 'book:magazine', 'sugar:flour', 'researcher:librarians']\n",
      "Failed for line: ['statesman:stateswoman', 'dog:bitch', 'duck:goose', 'dentist:optometrist']\n",
      "Failed for line: ['statesman:stateswoman', 'pen:pencil', 'salt:pepper', 'dispatcher:tailor']\n",
      "Failed for line: ['statesman:stateswoman', 'sugar:flour', 'cup:lid', 'engineer:dancer']\n",
      "Failed for line: ['statesman:stateswoman', 'fiction:poetry', 'cup:lid', 'lawyer:clerk']\n",
      "Failed for line: ['statesman:stateswoman', 'canoe:kayak', 'pillow:mattress', 'janitor:housekeeper']\n",
      "Failed for line: ['statesman:stateswoman', 'kitten:puppy', 'record:cassette', 'developer:counselor']\n",
      "Failed for line: ['statesman:stateswoman', 'cat:dog', 'cassette:record', 'judge:stenographer']\n",
      "Failed for line: ['statesman:stateswoman', 'cassette:record', 'salt:pepper', 'president:receptionist']\n",
      "Failed for line: ['statesman:stateswoman', 'violin:cello', 'duck:goose', 'captain:bookkeeper']\n",
      "Failed for line: ['statesman:stateswoman', 'almond:pecan', 'fiction:poetry', 'warrior:nanny']\n",
      "Failed for line: ['statesman:stateswoman', 'jazz:blues', 'kitten:puppy', 'architect:hairdresser']\n",
      "Failed for line: ['statesman:stateswoman', 'puppy:kitten', 'jazz:blues', 'boss:stylist']\n",
      "Failed for line: ['statesman:stateswoman', 'book:magazine', 'dog:cat', 'pilot:socialite']\n",
      "Failed for line: ['horseman:horsewoman', 'dog:bitch', 'fiction:poetry', 'doctor:nurse']\n",
      "Failed for line: ['horseman:horsewoman', 'book:magazine', 'dogwood:elm', 'manager:secretary']\n",
      "Failed for line: ['horseman:horsewoman', 'flour:sugar', 'pencil:pen', 'chef:baker']\n",
      "Failed for line: ['horseman:horsewoman', 'sugar:flour', 'pillow:mattress', 'guard:cashier']\n",
      "Failed for line: ['horseman:horsewoman', 'trout:salmon', 'car:bus', 'programmer:homemaker']\n",
      "Failed for line: ['horseman:horsewoman', 'canoe:kayak', 'bolt:nut', 'leader:assistant']\n",
      "Failed for line: ['horseman:horsewoman', 'violin:cello', 'bolt:nut', 'researcher:librarians']\n",
      "Failed for line: ['horseman:horsewoman', 'couch:recliner', 'shirt:blouse', 'dentist:optometrist']\n",
      "Failed for line: ['horseman:horsewoman', 'cat:dog', 'dog:bitch', 'dispatcher:tailor']\n",
      "Failed for line: ['horseman:horsewoman', 'pencil:pen', 'duck:goose', 'engineer:dancer']\n",
      "Failed for line: ['horseman:horsewoman', 'cup:lid', 'puppy:kitten', 'lawyer:clerk']\n",
      "Failed for line: ['horseman:horsewoman', 'flour:sugar', 'treble:bass', 'janitor:housekeeper']\n",
      "Failed for line: ['horseman:horsewoman', 'fiction:poetry', 'cup:lid', 'developer:counselor']\n",
      "Failed for line: ['horseman:horsewoman', 'couch:recliner', 'flour:sugar', 'judge:stenographer']\n",
      "Failed for line: ['horseman:horsewoman', 'kitten:puppy', 'jazz:blues', 'president:receptionist']\n",
      "Failed for line: ['horseman:horsewoman', 'book:magazine', 'canoe:kayak', 'captain:bookkeeper']\n",
      "Failed for line: ['horseman:horsewoman', 'kitten:puppy', 'jazz:blues', 'warrior:nanny']\n",
      "Failed for line: ['horseman:horsewoman', 'violin:cello', 'pencil:pen', 'architect:hairdresser']\n",
      "Failed for line: ['horseman:horsewoman', 'algebra:geometry', 'dogwood:elm', 'boss:stylist']\n",
      "Failed for line: ['horseman:horsewoman', 'jazz:blues', 'cassette:record', 'pilot:socialite']\n",
      "Failed for line: ['countrymen:countrywomen', 'shirt:blouse', 'couch:recliner', 'doctor:nurse']\n",
      "Failed for line: ['countrymen:countrywomen', 'kitten:puppy', 'car:bus', 'manager:secretary']\n",
      "Failed for line: ['countrymen:countrywomen', 'shirt:blouse', 'book:magazine', 'chef:baker']\n",
      "Failed for line: ['countrymen:countrywomen', 'pillow:mattress', 'dogwood:elm', 'guard:cashier']\n",
      "Failed for line: ['countrymen:countrywomen', 'fiction:poetry', 'pencil:pen', 'programmer:homemaker']\n",
      "Failed for line: ['countrymen:countrywomen', 'cup:lid', 'salt:pepper', 'leader:assistant']\n",
      "Failed for line: ['countrymen:countrywomen', 'canoe:kayak', 'dog:cat', 'researcher:librarians']\n",
      "Failed for line: ['countrymen:countrywomen', 'shirt:blouse', 'dog:bitch', 'dentist:optometrist']\n",
      "Failed for line: ['countrymen:countrywomen', 'dog:bitch', 'bolt:nut', 'dispatcher:tailor']\n",
      "Failed for line: ['countrymen:countrywomen', 'shirt:blouse', 'pen:pencil', 'engineer:dancer']\n",
      "Failed for line: ['countrymen:countrywomen', 'violin:cello', 'bolt:nut', 'lawyer:clerk']\n",
      "Failed for line: ['countrymen:countrywomen', 'pencil:pen', 'kitten:puppy', 'janitor:housekeeper']\n",
      "Failed for line: ['countrymen:countrywomen', 'dog:cat', 'almond:pecan', 'developer:counselor']\n",
      "Failed for line: ['countrymen:countrywomen', 'algebra:geometry', 'violin:cello', 'judge:stenographer']\n",
      "Failed for line: ['countrymen:countrywomen', 'salt:pepper', 'car:bus', 'president:receptionist']\n",
      "Failed for line: ['countrymen:countrywomen', 'violin:cello', 'sugar:flour', 'captain:bookkeeper']\n",
      "Failed for line: ['countrymen:countrywomen', 'treble:bass', 'salt:pepper', 'warrior:nanny']\n",
      "Failed for line: ['countrymen:countrywomen', 'pencil:pen', 'dog:cat', 'architect:hairdresser']\n",
      "Failed for line: ['countrymen:countrywomen', 'cat:dog', 'trout:salmon', 'boss:stylist']\n",
      "Failed for line: ['countrymen:countrywomen', 'puppy:kitten', 'cup:lid', 'pilot:socialite']\n",
      "Failed for line: ['nobleman:noblewoman', 'puppy:kitten', 'shirt:blouse', 'doctor:nurse']\n",
      "Failed for line: ['nobleman:noblewoman', 'pen:pencil', 'kitten:puppy', 'manager:secretary']\n",
      "Failed for line: ['nobleman:noblewoman', 'cassette:record', 'couch:recliner', 'chef:baker']\n",
      "Failed for line: ['nobleman:noblewoman', 'treble:bass', 'duck:goose', 'guard:cashier']\n",
      "Failed for line: ['nobleman:noblewoman', 'cassette:record', 'jazz:blues', 'programmer:homemaker']\n",
      "Failed for line: ['nobleman:noblewoman', 'dog:cat', 'cassette:record', 'leader:assistant']\n",
      "Failed for line: ['nobleman:noblewoman', 'treble:bass', 'duck:goose', 'researcher:librarians']\n",
      "Failed for line: ['nobleman:noblewoman', 'canoe:kayak', 'puppy:kitten', 'dentist:optometrist']\n",
      "Failed for line: ['nobleman:noblewoman', 'couch:recliner', 'cat:dog', 'dispatcher:tailor']\n",
      "Failed for line: ['nobleman:noblewoman', 'fiction:poetry', 'shirt:blouse', 'engineer:dancer']\n",
      "Failed for line: ['nobleman:noblewoman', 'sugar:flour', 'couch:recliner', 'lawyer:clerk']\n",
      "Failed for line: ['nobleman:noblewoman', 'canoe:kayak', 'book:magazine', 'janitor:housekeeper']\n",
      "Failed for line: ['nobleman:noblewoman', 'car:bus', 'jazz:blues', 'developer:counselor']\n",
      "Failed for line: ['nobleman:noblewoman', 'dogwood:elm', 'canoe:kayak', 'judge:stenographer']\n",
      "Failed for line: ['nobleman:noblewoman', 'duck:goose', 'treble:bass', 'president:receptionist']\n",
      "Failed for line: ['nobleman:noblewoman', 'fiction:poetry', 'pillow:mattress', 'captain:bookkeeper']\n",
      "Failed for line: ['nobleman:noblewoman', 'pencil:pen', 'canoe:kayak', 'warrior:nanny']\n",
      "Failed for line: ['nobleman:noblewoman', 'fiction:poetry', 'violin:cello', 'architect:hairdresser']\n",
      "Failed for line: ['nobleman:noblewoman', 'puppy:kitten', 'couch:recliner', 'boss:stylist']\n",
      "Failed for line: ['nobleman:noblewoman', 'car:bus', 'puppy:kitten', 'pilot:socialite']\n",
      "Stored 'sembias_g1' (tuple)\n"
     ]
    },
    {
     "data": {
      "text/plain": [
       "(0.17777777777777778, 0.4305555555555556, 0.39166666666666666)"
      ]
     },
     "execution_count": 10,
     "metadata": {},
     "output_type": "execute_result"
    }
   ],
   "source": [
    "sembias_g1 = SemBias(glove_1_fee).compute()\n",
    "\n",
    "%store sembias_g1\n",
    "sembias_g1"
   ]
  },
  {
   "cell_type": "code",
   "execution_count": 11,
   "metadata": {},
   "outputs": [],
   "source": [
    "glove_2_fee = loader.WE().load(ename = 'glove-twitter-50', normalize=True)"
   ]
  },
  {
   "cell_type": "code",
   "execution_count": 12,
   "metadata": {},
   "outputs": [
    {
     "name": "stdout",
     "output_type": "stream",
     "text": [
      "Failed for line: ['statesman:stateswoman', 'shirt:blouse', 'book:magazine', 'doctor:nurse']\n",
      "Failed for line: ['statesman:stateswoman', 'dog:cat', 'record:cassette', 'manager:secretary']\n",
      "Failed for line: ['statesman:stateswoman', 'dog:cat', 'fiction:poetry', 'chef:baker']\n",
      "Failed for line: ['statesman:stateswoman', 'fiction:poetry', 'bolt:nut', 'guard:cashier']\n",
      "Failed for line: ['statesman:stateswoman', 'almond:pecan', 'sugar:flour', 'programmer:homemaker']\n",
      "Failed for line: ['statesman:stateswoman', 'puppy:kitten', 'pillow:mattress', 'leader:assistant']\n",
      "Failed for line: ['statesman:stateswoman', 'book:magazine', 'sugar:flour', 'researcher:librarians']\n",
      "Failed for line: ['statesman:stateswoman', 'dog:bitch', 'duck:goose', 'dentist:optometrist']\n",
      "Failed for line: ['statesman:stateswoman', 'pen:pencil', 'salt:pepper', 'dispatcher:tailor']\n",
      "Failed for line: ['statesman:stateswoman', 'sugar:flour', 'cup:lid', 'engineer:dancer']\n",
      "Failed for line: ['statesman:stateswoman', 'fiction:poetry', 'cup:lid', 'lawyer:clerk']\n",
      "Failed for line: ['statesman:stateswoman', 'canoe:kayak', 'pillow:mattress', 'janitor:housekeeper']\n",
      "Failed for line: ['statesman:stateswoman', 'kitten:puppy', 'record:cassette', 'developer:counselor']\n",
      "Failed for line: ['statesman:stateswoman', 'cat:dog', 'cassette:record', 'judge:stenographer']\n",
      "Failed for line: ['statesman:stateswoman', 'cassette:record', 'salt:pepper', 'president:receptionist']\n",
      "Failed for line: ['statesman:stateswoman', 'violin:cello', 'duck:goose', 'captain:bookkeeper']\n",
      "Failed for line: ['statesman:stateswoman', 'almond:pecan', 'fiction:poetry', 'warrior:nanny']\n",
      "Failed for line: ['statesman:stateswoman', 'jazz:blues', 'kitten:puppy', 'architect:hairdresser']\n",
      "Failed for line: ['statesman:stateswoman', 'puppy:kitten', 'jazz:blues', 'boss:stylist']\n",
      "Failed for line: ['statesman:stateswoman', 'book:magazine', 'dog:cat', 'pilot:socialite']\n",
      "Failed for line: ['horseman:horsewoman', 'dog:bitch', 'fiction:poetry', 'doctor:nurse']\n",
      "Failed for line: ['horseman:horsewoman', 'book:magazine', 'dogwood:elm', 'manager:secretary']\n",
      "Failed for line: ['horseman:horsewoman', 'flour:sugar', 'pencil:pen', 'chef:baker']\n",
      "Failed for line: ['horseman:horsewoman', 'sugar:flour', 'pillow:mattress', 'guard:cashier']\n",
      "Failed for line: ['horseman:horsewoman', 'trout:salmon', 'car:bus', 'programmer:homemaker']\n",
      "Failed for line: ['horseman:horsewoman', 'canoe:kayak', 'bolt:nut', 'leader:assistant']\n",
      "Failed for line: ['horseman:horsewoman', 'violin:cello', 'bolt:nut', 'researcher:librarians']\n",
      "Failed for line: ['horseman:horsewoman', 'couch:recliner', 'shirt:blouse', 'dentist:optometrist']\n",
      "Failed for line: ['horseman:horsewoman', 'cat:dog', 'dog:bitch', 'dispatcher:tailor']\n",
      "Failed for line: ['horseman:horsewoman', 'pencil:pen', 'duck:goose', 'engineer:dancer']\n",
      "Failed for line: ['horseman:horsewoman', 'cup:lid', 'puppy:kitten', 'lawyer:clerk']\n",
      "Failed for line: ['horseman:horsewoman', 'flour:sugar', 'treble:bass', 'janitor:housekeeper']\n",
      "Failed for line: ['horseman:horsewoman', 'fiction:poetry', 'cup:lid', 'developer:counselor']\n",
      "Failed for line: ['horseman:horsewoman', 'couch:recliner', 'flour:sugar', 'judge:stenographer']\n",
      "Failed for line: ['horseman:horsewoman', 'kitten:puppy', 'jazz:blues', 'president:receptionist']\n",
      "Failed for line: ['horseman:horsewoman', 'book:magazine', 'canoe:kayak', 'captain:bookkeeper']\n",
      "Failed for line: ['horseman:horsewoman', 'kitten:puppy', 'jazz:blues', 'warrior:nanny']\n",
      "Failed for line: ['horseman:horsewoman', 'violin:cello', 'pencil:pen', 'architect:hairdresser']\n",
      "Failed for line: ['horseman:horsewoman', 'algebra:geometry', 'dogwood:elm', 'boss:stylist']\n",
      "Failed for line: ['horseman:horsewoman', 'jazz:blues', 'cassette:record', 'pilot:socialite']\n",
      "Failed for line: ['countrymen:countrywomen', 'shirt:blouse', 'couch:recliner', 'doctor:nurse']\n",
      "Failed for line: ['countrymen:countrywomen', 'kitten:puppy', 'car:bus', 'manager:secretary']\n",
      "Failed for line: ['countrymen:countrywomen', 'shirt:blouse', 'book:magazine', 'chef:baker']\n",
      "Failed for line: ['countrymen:countrywomen', 'pillow:mattress', 'dogwood:elm', 'guard:cashier']\n",
      "Failed for line: ['countrymen:countrywomen', 'fiction:poetry', 'pencil:pen', 'programmer:homemaker']\n",
      "Failed for line: ['countrymen:countrywomen', 'cup:lid', 'salt:pepper', 'leader:assistant']\n",
      "Failed for line: ['countrymen:countrywomen', 'canoe:kayak', 'dog:cat', 'researcher:librarians']\n",
      "Failed for line: ['countrymen:countrywomen', 'shirt:blouse', 'dog:bitch', 'dentist:optometrist']\n",
      "Failed for line: ['countrymen:countrywomen', 'dog:bitch', 'bolt:nut', 'dispatcher:tailor']\n",
      "Failed for line: ['countrymen:countrywomen', 'shirt:blouse', 'pen:pencil', 'engineer:dancer']\n",
      "Failed for line: ['countrymen:countrywomen', 'violin:cello', 'bolt:nut', 'lawyer:clerk']\n",
      "Failed for line: ['countrymen:countrywomen', 'pencil:pen', 'kitten:puppy', 'janitor:housekeeper']\n",
      "Failed for line: ['countrymen:countrywomen', 'dog:cat', 'almond:pecan', 'developer:counselor']\n",
      "Failed for line: ['countrymen:countrywomen', 'algebra:geometry', 'violin:cello', 'judge:stenographer']\n",
      "Failed for line: ['countrymen:countrywomen', 'salt:pepper', 'car:bus', 'president:receptionist']\n",
      "Failed for line: ['countrymen:countrywomen', 'violin:cello', 'sugar:flour', 'captain:bookkeeper']\n",
      "Failed for line: ['countrymen:countrywomen', 'treble:bass', 'salt:pepper', 'warrior:nanny']\n",
      "Failed for line: ['countrymen:countrywomen', 'pencil:pen', 'dog:cat', 'architect:hairdresser']\n",
      "Failed for line: ['countrymen:countrywomen', 'cat:dog', 'trout:salmon', 'boss:stylist']\n",
      "Failed for line: ['countrymen:countrywomen', 'puppy:kitten', 'cup:lid', 'pilot:socialite']\n",
      "Failed for line: ['nobleman:noblewoman', 'puppy:kitten', 'shirt:blouse', 'doctor:nurse']\n",
      "Failed for line: ['nobleman:noblewoman', 'pen:pencil', 'kitten:puppy', 'manager:secretary']\n",
      "Failed for line: ['nobleman:noblewoman', 'cassette:record', 'couch:recliner', 'chef:baker']\n",
      "Failed for line: ['nobleman:noblewoman', 'treble:bass', 'duck:goose', 'guard:cashier']\n",
      "Failed for line: ['nobleman:noblewoman', 'cassette:record', 'jazz:blues', 'programmer:homemaker']\n",
      "Failed for line: ['nobleman:noblewoman', 'dog:cat', 'cassette:record', 'leader:assistant']\n",
      "Failed for line: ['nobleman:noblewoman', 'treble:bass', 'duck:goose', 'researcher:librarians']\n",
      "Failed for line: ['nobleman:noblewoman', 'canoe:kayak', 'puppy:kitten', 'dentist:optometrist']\n",
      "Failed for line: ['nobleman:noblewoman', 'couch:recliner', 'cat:dog', 'dispatcher:tailor']\n",
      "Failed for line: ['nobleman:noblewoman', 'fiction:poetry', 'shirt:blouse', 'engineer:dancer']\n",
      "Failed for line: ['nobleman:noblewoman', 'sugar:flour', 'couch:recliner', 'lawyer:clerk']\n",
      "Failed for line: ['nobleman:noblewoman', 'canoe:kayak', 'book:magazine', 'janitor:housekeeper']\n",
      "Failed for line: ['nobleman:noblewoman', 'car:bus', 'jazz:blues', 'developer:counselor']\n",
      "Failed for line: ['nobleman:noblewoman', 'dogwood:elm', 'canoe:kayak', 'judge:stenographer']\n",
      "Failed for line: ['nobleman:noblewoman', 'duck:goose', 'treble:bass', 'president:receptionist']\n",
      "Failed for line: ['nobleman:noblewoman', 'fiction:poetry', 'pillow:mattress', 'captain:bookkeeper']\n",
      "Failed for line: ['nobleman:noblewoman', 'pencil:pen', 'canoe:kayak', 'warrior:nanny']\n",
      "Failed for line: ['nobleman:noblewoman', 'fiction:poetry', 'violin:cello', 'architect:hairdresser']\n",
      "Failed for line: ['nobleman:noblewoman', 'puppy:kitten', 'couch:recliner', 'boss:stylist']\n",
      "Failed for line: ['nobleman:noblewoman', 'car:bus', 'puppy:kitten', 'pilot:socialite']\n",
      "Stored 'sembias_g2' (tuple)\n"
     ]
    },
    {
     "data": {
      "text/plain": [
       "(0.32222222222222224, 0.3972222222222222, 0.28055555555555556)"
      ]
     },
     "execution_count": 12,
     "metadata": {},
     "output_type": "execute_result"
    }
   ],
   "source": [
    "sembias_g2 = SemBias(glove_2_fee).compute()\n",
    "\n",
    "%store sembias_g2\n",
    "sembias_g2"
   ]
  },
  {
   "cell_type": "code",
   "execution_count": 13,
   "metadata": {},
   "outputs": [],
   "source": [
    "glove_3_fee = loader.WE().load(ename = 'glove-twitter-100', normalize=True)"
   ]
  },
  {
   "cell_type": "code",
   "execution_count": 14,
   "metadata": {},
   "outputs": [
    {
     "name": "stdout",
     "output_type": "stream",
     "text": [
      "Failed for line: ['statesman:stateswoman', 'shirt:blouse', 'book:magazine', 'doctor:nurse']\n",
      "Failed for line: ['statesman:stateswoman', 'dog:cat', 'record:cassette', 'manager:secretary']\n",
      "Failed for line: ['statesman:stateswoman', 'dog:cat', 'fiction:poetry', 'chef:baker']\n",
      "Failed for line: ['statesman:stateswoman', 'fiction:poetry', 'bolt:nut', 'guard:cashier']\n",
      "Failed for line: ['statesman:stateswoman', 'almond:pecan', 'sugar:flour', 'programmer:homemaker']\n",
      "Failed for line: ['statesman:stateswoman', 'puppy:kitten', 'pillow:mattress', 'leader:assistant']\n",
      "Failed for line: ['statesman:stateswoman', 'book:magazine', 'sugar:flour', 'researcher:librarians']\n",
      "Failed for line: ['statesman:stateswoman', 'dog:bitch', 'duck:goose', 'dentist:optometrist']\n",
      "Failed for line: ['statesman:stateswoman', 'pen:pencil', 'salt:pepper', 'dispatcher:tailor']\n",
      "Failed for line: ['statesman:stateswoman', 'sugar:flour', 'cup:lid', 'engineer:dancer']\n",
      "Failed for line: ['statesman:stateswoman', 'fiction:poetry', 'cup:lid', 'lawyer:clerk']\n",
      "Failed for line: ['statesman:stateswoman', 'canoe:kayak', 'pillow:mattress', 'janitor:housekeeper']\n",
      "Failed for line: ['statesman:stateswoman', 'kitten:puppy', 'record:cassette', 'developer:counselor']\n",
      "Failed for line: ['statesman:stateswoman', 'cat:dog', 'cassette:record', 'judge:stenographer']\n",
      "Failed for line: ['statesman:stateswoman', 'cassette:record', 'salt:pepper', 'president:receptionist']\n",
      "Failed for line: ['statesman:stateswoman', 'violin:cello', 'duck:goose', 'captain:bookkeeper']\n",
      "Failed for line: ['statesman:stateswoman', 'almond:pecan', 'fiction:poetry', 'warrior:nanny']\n",
      "Failed for line: ['statesman:stateswoman', 'jazz:blues', 'kitten:puppy', 'architect:hairdresser']\n",
      "Failed for line: ['statesman:stateswoman', 'puppy:kitten', 'jazz:blues', 'boss:stylist']\n",
      "Failed for line: ['statesman:stateswoman', 'book:magazine', 'dog:cat', 'pilot:socialite']\n",
      "Failed for line: ['horseman:horsewoman', 'dog:bitch', 'fiction:poetry', 'doctor:nurse']\n",
      "Failed for line: ['horseman:horsewoman', 'book:magazine', 'dogwood:elm', 'manager:secretary']\n",
      "Failed for line: ['horseman:horsewoman', 'flour:sugar', 'pencil:pen', 'chef:baker']\n",
      "Failed for line: ['horseman:horsewoman', 'sugar:flour', 'pillow:mattress', 'guard:cashier']\n",
      "Failed for line: ['horseman:horsewoman', 'trout:salmon', 'car:bus', 'programmer:homemaker']\n",
      "Failed for line: ['horseman:horsewoman', 'canoe:kayak', 'bolt:nut', 'leader:assistant']\n",
      "Failed for line: ['horseman:horsewoman', 'violin:cello', 'bolt:nut', 'researcher:librarians']\n",
      "Failed for line: ['horseman:horsewoman', 'couch:recliner', 'shirt:blouse', 'dentist:optometrist']\n",
      "Failed for line: ['horseman:horsewoman', 'cat:dog', 'dog:bitch', 'dispatcher:tailor']\n",
      "Failed for line: ['horseman:horsewoman', 'pencil:pen', 'duck:goose', 'engineer:dancer']\n",
      "Failed for line: ['horseman:horsewoman', 'cup:lid', 'puppy:kitten', 'lawyer:clerk']\n",
      "Failed for line: ['horseman:horsewoman', 'flour:sugar', 'treble:bass', 'janitor:housekeeper']\n",
      "Failed for line: ['horseman:horsewoman', 'fiction:poetry', 'cup:lid', 'developer:counselor']\n",
      "Failed for line: ['horseman:horsewoman', 'couch:recliner', 'flour:sugar', 'judge:stenographer']\n",
      "Failed for line: ['horseman:horsewoman', 'kitten:puppy', 'jazz:blues', 'president:receptionist']\n",
      "Failed for line: ['horseman:horsewoman', 'book:magazine', 'canoe:kayak', 'captain:bookkeeper']\n",
      "Failed for line: ['horseman:horsewoman', 'kitten:puppy', 'jazz:blues', 'warrior:nanny']\n",
      "Failed for line: ['horseman:horsewoman', 'violin:cello', 'pencil:pen', 'architect:hairdresser']\n",
      "Failed for line: ['horseman:horsewoman', 'algebra:geometry', 'dogwood:elm', 'boss:stylist']\n",
      "Failed for line: ['horseman:horsewoman', 'jazz:blues', 'cassette:record', 'pilot:socialite']\n",
      "Failed for line: ['countrymen:countrywomen', 'shirt:blouse', 'couch:recliner', 'doctor:nurse']\n",
      "Failed for line: ['countrymen:countrywomen', 'kitten:puppy', 'car:bus', 'manager:secretary']\n",
      "Failed for line: ['countrymen:countrywomen', 'shirt:blouse', 'book:magazine', 'chef:baker']\n",
      "Failed for line: ['countrymen:countrywomen', 'pillow:mattress', 'dogwood:elm', 'guard:cashier']\n",
      "Failed for line: ['countrymen:countrywomen', 'fiction:poetry', 'pencil:pen', 'programmer:homemaker']\n",
      "Failed for line: ['countrymen:countrywomen', 'cup:lid', 'salt:pepper', 'leader:assistant']\n",
      "Failed for line: ['countrymen:countrywomen', 'canoe:kayak', 'dog:cat', 'researcher:librarians']\n",
      "Failed for line: ['countrymen:countrywomen', 'shirt:blouse', 'dog:bitch', 'dentist:optometrist']\n",
      "Failed for line: ['countrymen:countrywomen', 'dog:bitch', 'bolt:nut', 'dispatcher:tailor']\n",
      "Failed for line: ['countrymen:countrywomen', 'shirt:blouse', 'pen:pencil', 'engineer:dancer']\n",
      "Failed for line: ['countrymen:countrywomen', 'violin:cello', 'bolt:nut', 'lawyer:clerk']\n",
      "Failed for line: ['countrymen:countrywomen', 'pencil:pen', 'kitten:puppy', 'janitor:housekeeper']\n",
      "Failed for line: ['countrymen:countrywomen', 'dog:cat', 'almond:pecan', 'developer:counselor']\n",
      "Failed for line: ['countrymen:countrywomen', 'algebra:geometry', 'violin:cello', 'judge:stenographer']\n",
      "Failed for line: ['countrymen:countrywomen', 'salt:pepper', 'car:bus', 'president:receptionist']\n",
      "Failed for line: ['countrymen:countrywomen', 'violin:cello', 'sugar:flour', 'captain:bookkeeper']\n",
      "Failed for line: ['countrymen:countrywomen', 'treble:bass', 'salt:pepper', 'warrior:nanny']\n",
      "Failed for line: ['countrymen:countrywomen', 'pencil:pen', 'dog:cat', 'architect:hairdresser']\n",
      "Failed for line: ['countrymen:countrywomen', 'cat:dog', 'trout:salmon', 'boss:stylist']\n",
      "Failed for line: ['countrymen:countrywomen', 'puppy:kitten', 'cup:lid', 'pilot:socialite']\n",
      "Failed for line: ['nobleman:noblewoman', 'puppy:kitten', 'shirt:blouse', 'doctor:nurse']\n",
      "Failed for line: ['nobleman:noblewoman', 'pen:pencil', 'kitten:puppy', 'manager:secretary']\n",
      "Failed for line: ['nobleman:noblewoman', 'cassette:record', 'couch:recliner', 'chef:baker']\n",
      "Failed for line: ['nobleman:noblewoman', 'treble:bass', 'duck:goose', 'guard:cashier']\n",
      "Failed for line: ['nobleman:noblewoman', 'cassette:record', 'jazz:blues', 'programmer:homemaker']\n",
      "Failed for line: ['nobleman:noblewoman', 'dog:cat', 'cassette:record', 'leader:assistant']\n",
      "Failed for line: ['nobleman:noblewoman', 'treble:bass', 'duck:goose', 'researcher:librarians']\n",
      "Failed for line: ['nobleman:noblewoman', 'canoe:kayak', 'puppy:kitten', 'dentist:optometrist']\n",
      "Failed for line: ['nobleman:noblewoman', 'couch:recliner', 'cat:dog', 'dispatcher:tailor']\n",
      "Failed for line: ['nobleman:noblewoman', 'fiction:poetry', 'shirt:blouse', 'engineer:dancer']\n",
      "Failed for line: ['nobleman:noblewoman', 'sugar:flour', 'couch:recliner', 'lawyer:clerk']\n",
      "Failed for line: ['nobleman:noblewoman', 'canoe:kayak', 'book:magazine', 'janitor:housekeeper']\n",
      "Failed for line: ['nobleman:noblewoman', 'car:bus', 'jazz:blues', 'developer:counselor']\n",
      "Failed for line: ['nobleman:noblewoman', 'dogwood:elm', 'canoe:kayak', 'judge:stenographer']\n",
      "Failed for line: ['nobleman:noblewoman', 'duck:goose', 'treble:bass', 'president:receptionist']\n",
      "Failed for line: ['nobleman:noblewoman', 'fiction:poetry', 'pillow:mattress', 'captain:bookkeeper']\n",
      "Failed for line: ['nobleman:noblewoman', 'pencil:pen', 'canoe:kayak', 'warrior:nanny']\n",
      "Failed for line: ['nobleman:noblewoman', 'fiction:poetry', 'violin:cello', 'architect:hairdresser']\n",
      "Failed for line: ['nobleman:noblewoman', 'puppy:kitten', 'couch:recliner', 'boss:stylist']\n",
      "Failed for line: ['nobleman:noblewoman', 'car:bus', 'puppy:kitten', 'pilot:socialite']\n",
      "Stored 'sembias_g3' (tuple)\n"
     ]
    },
    {
     "data": {
      "text/plain": [
       "(0.5083333333333333, 0.3, 0.19166666666666668)"
      ]
     },
     "execution_count": 14,
     "metadata": {},
     "output_type": "execute_result"
    }
   ],
   "source": [
    "sembias_g3 = SemBias(glove_3_fee).compute()\n",
    "\n",
    "%store sembias_g3\n",
    "sembias_g3"
   ]
  },
  {
   "cell_type": "code",
   "execution_count": 15,
   "metadata": {},
   "outputs": [],
   "source": [
    "glove_4_fee = loader.WE().load(ename = 'glove-twitter-200', normalize=True)"
   ]
  },
  {
   "cell_type": "code",
   "execution_count": 16,
   "metadata": {},
   "outputs": [
    {
     "name": "stdout",
     "output_type": "stream",
     "text": [
      "Failed for line: ['statesman:stateswoman', 'shirt:blouse', 'book:magazine', 'doctor:nurse']\n",
      "Failed for line: ['statesman:stateswoman', 'dog:cat', 'record:cassette', 'manager:secretary']\n",
      "Failed for line: ['statesman:stateswoman', 'dog:cat', 'fiction:poetry', 'chef:baker']\n",
      "Failed for line: ['statesman:stateswoman', 'fiction:poetry', 'bolt:nut', 'guard:cashier']\n",
      "Failed for line: ['statesman:stateswoman', 'almond:pecan', 'sugar:flour', 'programmer:homemaker']\n",
      "Failed for line: ['statesman:stateswoman', 'puppy:kitten', 'pillow:mattress', 'leader:assistant']\n",
      "Failed for line: ['statesman:stateswoman', 'book:magazine', 'sugar:flour', 'researcher:librarians']\n",
      "Failed for line: ['statesman:stateswoman', 'dog:bitch', 'duck:goose', 'dentist:optometrist']\n",
      "Failed for line: ['statesman:stateswoman', 'pen:pencil', 'salt:pepper', 'dispatcher:tailor']\n",
      "Failed for line: ['statesman:stateswoman', 'sugar:flour', 'cup:lid', 'engineer:dancer']\n",
      "Failed for line: ['statesman:stateswoman', 'fiction:poetry', 'cup:lid', 'lawyer:clerk']\n",
      "Failed for line: ['statesman:stateswoman', 'canoe:kayak', 'pillow:mattress', 'janitor:housekeeper']\n",
      "Failed for line: ['statesman:stateswoman', 'kitten:puppy', 'record:cassette', 'developer:counselor']\n",
      "Failed for line: ['statesman:stateswoman', 'cat:dog', 'cassette:record', 'judge:stenographer']\n",
      "Failed for line: ['statesman:stateswoman', 'cassette:record', 'salt:pepper', 'president:receptionist']\n",
      "Failed for line: ['statesman:stateswoman', 'violin:cello', 'duck:goose', 'captain:bookkeeper']\n",
      "Failed for line: ['statesman:stateswoman', 'almond:pecan', 'fiction:poetry', 'warrior:nanny']\n",
      "Failed for line: ['statesman:stateswoman', 'jazz:blues', 'kitten:puppy', 'architect:hairdresser']\n",
      "Failed for line: ['statesman:stateswoman', 'puppy:kitten', 'jazz:blues', 'boss:stylist']\n",
      "Failed for line: ['statesman:stateswoman', 'book:magazine', 'dog:cat', 'pilot:socialite']\n",
      "Failed for line: ['horseman:horsewoman', 'dog:bitch', 'fiction:poetry', 'doctor:nurse']\n",
      "Failed for line: ['horseman:horsewoman', 'book:magazine', 'dogwood:elm', 'manager:secretary']\n",
      "Failed for line: ['horseman:horsewoman', 'flour:sugar', 'pencil:pen', 'chef:baker']\n",
      "Failed for line: ['horseman:horsewoman', 'sugar:flour', 'pillow:mattress', 'guard:cashier']\n",
      "Failed for line: ['horseman:horsewoman', 'trout:salmon', 'car:bus', 'programmer:homemaker']\n",
      "Failed for line: ['horseman:horsewoman', 'canoe:kayak', 'bolt:nut', 'leader:assistant']\n",
      "Failed for line: ['horseman:horsewoman', 'violin:cello', 'bolt:nut', 'researcher:librarians']\n",
      "Failed for line: ['horseman:horsewoman', 'couch:recliner', 'shirt:blouse', 'dentist:optometrist']\n",
      "Failed for line: ['horseman:horsewoman', 'cat:dog', 'dog:bitch', 'dispatcher:tailor']\n",
      "Failed for line: ['horseman:horsewoman', 'pencil:pen', 'duck:goose', 'engineer:dancer']\n",
      "Failed for line: ['horseman:horsewoman', 'cup:lid', 'puppy:kitten', 'lawyer:clerk']\n",
      "Failed for line: ['horseman:horsewoman', 'flour:sugar', 'treble:bass', 'janitor:housekeeper']\n",
      "Failed for line: ['horseman:horsewoman', 'fiction:poetry', 'cup:lid', 'developer:counselor']\n",
      "Failed for line: ['horseman:horsewoman', 'couch:recliner', 'flour:sugar', 'judge:stenographer']\n",
      "Failed for line: ['horseman:horsewoman', 'kitten:puppy', 'jazz:blues', 'president:receptionist']\n",
      "Failed for line: ['horseman:horsewoman', 'book:magazine', 'canoe:kayak', 'captain:bookkeeper']\n",
      "Failed for line: ['horseman:horsewoman', 'kitten:puppy', 'jazz:blues', 'warrior:nanny']\n",
      "Failed for line: ['horseman:horsewoman', 'violin:cello', 'pencil:pen', 'architect:hairdresser']\n",
      "Failed for line: ['horseman:horsewoman', 'algebra:geometry', 'dogwood:elm', 'boss:stylist']\n",
      "Failed for line: ['horseman:horsewoman', 'jazz:blues', 'cassette:record', 'pilot:socialite']\n",
      "Failed for line: ['countrymen:countrywomen', 'shirt:blouse', 'couch:recliner', 'doctor:nurse']\n",
      "Failed for line: ['countrymen:countrywomen', 'kitten:puppy', 'car:bus', 'manager:secretary']\n",
      "Failed for line: ['countrymen:countrywomen', 'shirt:blouse', 'book:magazine', 'chef:baker']\n",
      "Failed for line: ['countrymen:countrywomen', 'pillow:mattress', 'dogwood:elm', 'guard:cashier']\n",
      "Failed for line: ['countrymen:countrywomen', 'fiction:poetry', 'pencil:pen', 'programmer:homemaker']\n",
      "Failed for line: ['countrymen:countrywomen', 'cup:lid', 'salt:pepper', 'leader:assistant']\n",
      "Failed for line: ['countrymen:countrywomen', 'canoe:kayak', 'dog:cat', 'researcher:librarians']\n",
      "Failed for line: ['countrymen:countrywomen', 'shirt:blouse', 'dog:bitch', 'dentist:optometrist']\n",
      "Failed for line: ['countrymen:countrywomen', 'dog:bitch', 'bolt:nut', 'dispatcher:tailor']\n",
      "Failed for line: ['countrymen:countrywomen', 'shirt:blouse', 'pen:pencil', 'engineer:dancer']\n",
      "Failed for line: ['countrymen:countrywomen', 'violin:cello', 'bolt:nut', 'lawyer:clerk']\n",
      "Failed for line: ['countrymen:countrywomen', 'pencil:pen', 'kitten:puppy', 'janitor:housekeeper']\n",
      "Failed for line: ['countrymen:countrywomen', 'dog:cat', 'almond:pecan', 'developer:counselor']\n",
      "Failed for line: ['countrymen:countrywomen', 'algebra:geometry', 'violin:cello', 'judge:stenographer']\n",
      "Failed for line: ['countrymen:countrywomen', 'salt:pepper', 'car:bus', 'president:receptionist']\n",
      "Failed for line: ['countrymen:countrywomen', 'violin:cello', 'sugar:flour', 'captain:bookkeeper']\n",
      "Failed for line: ['countrymen:countrywomen', 'treble:bass', 'salt:pepper', 'warrior:nanny']\n",
      "Failed for line: ['countrymen:countrywomen', 'pencil:pen', 'dog:cat', 'architect:hairdresser']\n",
      "Failed for line: ['countrymen:countrywomen', 'cat:dog', 'trout:salmon', 'boss:stylist']\n",
      "Failed for line: ['countrymen:countrywomen', 'puppy:kitten', 'cup:lid', 'pilot:socialite']\n",
      "Failed for line: ['nobleman:noblewoman', 'puppy:kitten', 'shirt:blouse', 'doctor:nurse']\n",
      "Failed for line: ['nobleman:noblewoman', 'pen:pencil', 'kitten:puppy', 'manager:secretary']\n",
      "Failed for line: ['nobleman:noblewoman', 'cassette:record', 'couch:recliner', 'chef:baker']\n",
      "Failed for line: ['nobleman:noblewoman', 'treble:bass', 'duck:goose', 'guard:cashier']\n",
      "Failed for line: ['nobleman:noblewoman', 'cassette:record', 'jazz:blues', 'programmer:homemaker']\n",
      "Failed for line: ['nobleman:noblewoman', 'dog:cat', 'cassette:record', 'leader:assistant']\n",
      "Failed for line: ['nobleman:noblewoman', 'treble:bass', 'duck:goose', 'researcher:librarians']\n",
      "Failed for line: ['nobleman:noblewoman', 'canoe:kayak', 'puppy:kitten', 'dentist:optometrist']\n",
      "Failed for line: ['nobleman:noblewoman', 'couch:recliner', 'cat:dog', 'dispatcher:tailor']\n",
      "Failed for line: ['nobleman:noblewoman', 'fiction:poetry', 'shirt:blouse', 'engineer:dancer']\n",
      "Failed for line: ['nobleman:noblewoman', 'sugar:flour', 'couch:recliner', 'lawyer:clerk']\n",
      "Failed for line: ['nobleman:noblewoman', 'canoe:kayak', 'book:magazine', 'janitor:housekeeper']\n",
      "Failed for line: ['nobleman:noblewoman', 'car:bus', 'jazz:blues', 'developer:counselor']\n",
      "Failed for line: ['nobleman:noblewoman', 'dogwood:elm', 'canoe:kayak', 'judge:stenographer']\n",
      "Failed for line: ['nobleman:noblewoman', 'duck:goose', 'treble:bass', 'president:receptionist']\n",
      "Failed for line: ['nobleman:noblewoman', 'fiction:poetry', 'pillow:mattress', 'captain:bookkeeper']\n",
      "Failed for line: ['nobleman:noblewoman', 'pencil:pen', 'canoe:kayak', 'warrior:nanny']\n",
      "Failed for line: ['nobleman:noblewoman', 'fiction:poetry', 'violin:cello', 'architect:hairdresser']\n",
      "Failed for line: ['nobleman:noblewoman', 'puppy:kitten', 'couch:recliner', 'boss:stylist']\n",
      "Failed for line: ['nobleman:noblewoman', 'car:bus', 'puppy:kitten', 'pilot:socialite']\n",
      "Stored 'sembias_g4' (tuple)\n"
     ]
    },
    {
     "data": {
      "text/plain": [
       "(0.5888888888888889, 0.2777777777777778, 0.13333333333333333)"
      ]
     },
     "execution_count": 16,
     "metadata": {},
     "output_type": "execute_result"
    }
   ],
   "source": [
    "sembias_g4 = SemBias(glove_4_fee).compute()\n",
    "\n",
    "%store sembias_g4\n",
    "sembias_g4"
   ]
  },
  {
   "cell_type": "code",
   "execution_count": 17,
   "metadata": {},
   "outputs": [],
   "source": [
    "glove_5_fee = loader.WE().load(ename = 'glove-wiki-gigaword-50', normalize=True)"
   ]
  },
  {
   "cell_type": "code",
   "execution_count": 18,
   "metadata": {},
   "outputs": [
    {
     "name": "stdout",
     "output_type": "stream",
     "text": [
      "Stored 'sembias_g5' (tuple)\n"
     ]
    },
    {
     "data": {
      "text/plain": [
       "(0.6977272727272728, 0.2159090909090909, 0.08636363636363636)"
      ]
     },
     "execution_count": 18,
     "metadata": {},
     "output_type": "execute_result"
    }
   ],
   "source": [
    "sembias_g5 = SemBias(glove_5_fee).compute()\n",
    "\n",
    "%store sembias_g5\n",
    "sembias_g5"
   ]
  },
  {
   "cell_type": "code",
   "execution_count": 19,
   "metadata": {},
   "outputs": [],
   "source": [
    "glove_6_fee = loader.WE().load(ename = 'glove-wiki-gigaword-100', normalize=True)"
   ]
  },
  {
   "cell_type": "code",
   "execution_count": 20,
   "metadata": {},
   "outputs": [
    {
     "name": "stdout",
     "output_type": "stream",
     "text": [
      "Stored 'sembias_g6' (tuple)\n"
     ]
    },
    {
     "data": {
      "text/plain": [
       "(0.75, 0.18181818181818182, 0.06818181818181818)"
      ]
     },
     "execution_count": 20,
     "metadata": {},
     "output_type": "execute_result"
    }
   ],
   "source": [
    "sembias_g6 = SemBias(glove_6_fee).compute()\n",
    "\n",
    "%store sembias_g6\n",
    "sembias_g6"
   ]
  },
  {
   "cell_type": "code",
   "execution_count": 21,
   "metadata": {},
   "outputs": [],
   "source": [
    "glove_7_fee = loader.WE().load(ename = 'glove-wiki-gigaword-200', normalize=True)"
   ]
  },
  {
   "cell_type": "code",
   "execution_count": 22,
   "metadata": {},
   "outputs": [
    {
     "name": "stdout",
     "output_type": "stream",
     "text": [
      "Stored 'sembias_g7' (tuple)\n"
     ]
    },
    {
     "data": {
      "text/plain": [
       "(0.7795454545454545, 0.16818181818181818, 0.05227272727272727)"
      ]
     },
     "execution_count": 22,
     "metadata": {},
     "output_type": "execute_result"
    }
   ],
   "source": [
    "sembias_g7 = SemBias(glove_7_fee).compute()\n",
    "\n",
    "%store sembias_g7\n",
    "sembias_g7"
   ]
  },
  {
   "cell_type": "code",
   "execution_count": 23,
   "metadata": {},
   "outputs": [],
   "source": [
    "glove_8_fee = loader.WE().load(ename = 'glove-wiki-gigaword-300', normalize=True)"
   ]
  },
  {
   "cell_type": "code",
   "execution_count": 24,
   "metadata": {},
   "outputs": [
    {
     "name": "stdout",
     "output_type": "stream",
     "text": [
      "Stored 'sembias_g8' (tuple)\n"
     ]
    },
    {
     "data": {
      "text/plain": [
       "(0.7863636363636364, 0.15, 0.06363636363636363)"
      ]
     },
     "execution_count": 24,
     "metadata": {},
     "output_type": "execute_result"
    }
   ],
   "source": [
    "sembias_g8 = SemBias(glove_8_fee).compute()\n",
    "\n",
    "%store sembias_g8\n",
    "sembias_g8"
   ]
  },
  {
   "cell_type": "code",
   "execution_count": 4,
   "metadata": {},
   "outputs": [],
   "source": [
    "fasttext_1_fee = loader.WE().load(ename = 'fasttext-wiki-news-subwords-300', normalize=True)"
   ]
  },
  {
   "cell_type": "code",
   "execution_count": 5,
   "metadata": {},
   "outputs": [
    {
     "name": "stdout",
     "output_type": "stream",
     "text": [
      "Stored 'sembias_f1' (tuple)\n"
     ]
    },
    {
     "data": {
      "text/plain": [
       "(0.925, 0.05454545454545454, 0.020454545454545454)"
      ]
     },
     "execution_count": 5,
     "metadata": {},
     "output_type": "execute_result"
    }
   ],
   "source": [
    "sembias_f1 = SemBias(fasttext_1_fee).compute()\n",
    "\n",
    "%store sembias_f1\n",
    "sembias_f1"
   ]
  },
  {
   "cell_type": "code",
   "execution_count": null,
   "metadata": {},
   "outputs": [],
   "source": [
    "w2v_fee = loader.WE().load(ename = 'word2vec-google-news-300', normalize=True)"
   ]
  },
  {
   "cell_type": "code",
   "execution_count": null,
   "metadata": {},
   "outputs": [],
   "source": [
    "sembias_w1 = SemBias(w2v_fee).compute()\n",
    "\n",
    "%store sembias_w1\n",
    "sembias_w1"
   ]
  },
  {
   "cell_type": "code",
   "execution_count": null,
   "metadata": {},
   "outputs": [],
   "source": [
    "glove_9_fee = loader.WE().load(fname='/Users/macbookair/Desktop/postgraduate/dissertation/glove.42B.300d.txt', normalize=True)"
   ]
  },
  {
   "cell_type": "code",
   "execution_count": null,
   "metadata": {},
   "outputs": [],
   "source": [
    "glove_10_fee = loader.WE().load(fname='/Users/macbookair/Desktop/postgraduate/dissertation/glove.840B.300d.txt', normalize=True)"
   ]
  }
 ],
 "metadata": {
  "kernelspec": {
   "display_name": "Python 3",
   "language": "python",
   "name": "python3"
  },
  "language_info": {
   "codemirror_mode": {
    "name": "ipython",
    "version": 3
   },
   "file_extension": ".py",
   "mimetype": "text/x-python",
   "name": "python",
   "nbconvert_exporter": "python",
   "pygments_lexer": "ipython3",
   "version": "3.8.5"
  }
 },
 "nbformat": 4,
 "nbformat_minor": 4
}
