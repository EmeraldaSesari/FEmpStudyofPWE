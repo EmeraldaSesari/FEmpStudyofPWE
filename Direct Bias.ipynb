{
 "cells": [
  {
   "cell_type": "code",
   "execution_count": 1,
   "id": "08545f8a",
   "metadata": {},
   "outputs": [],
   "source": [
    "import sys\n",
    "  \n",
    "# appending a path\n",
    "sys.path.append('FEE-master')\n",
    "  \n",
    "# importing required module\n",
    "import numpy as np\n",
    "import pandas as pd\n",
    "import copy\n",
    "import matplotlib.pyplot as plt\n",
    "\n",
    "import fee\n",
    "from fee.metrics import SemBias, DirectBias\n",
    "from fee.embedding import loader"
   ]
  },
  {
   "cell_type": "code",
   "execution_count": 2,
   "id": "50162229",
   "metadata": {
    "scrolled": true
   },
   "outputs": [],
   "source": [
    "import gensim\n",
    "import os\n",
    "import shutil\n",
    "import hashlib\n",
    "from sys import platform\n",
    "\n",
    "def getFileLineNums(filename):\n",
    "    f = open(filename, 'r')\n",
    "    count = 0\n",
    "    for line in f:\n",
    "        count += 1\n",
    "    return count\n",
    " \n",
    " #Linux or Windows open the word vector file, add a line at the beginning\n",
    "def prepend_line(infile, outfile, line):\n",
    "    with open(infile, 'r') as old:\n",
    "        with open(outfile, 'w') as new:\n",
    "            new.write(str(line) + \"\\n\")\n",
    "            shutil.copyfileobj(old, new)\n",
    " \n",
    "def prepend_slow(infile, outfile, line):\n",
    "    with open(infile, 'r') as fin:\n",
    "        with open(outfile, 'w') as fout:\n",
    "            fout.write(line + \"\\n\")\n",
    "            for line in fin:\n",
    "                fout.write(line)\n",
    "\n",
    "def load(filename):\n",
    "    num_lines = getFileLineNums(filename)\n",
    "    gensim_file = 'glove_model.txt'\n",
    "    gensim_first_line = \"{} {}\".format(num_lines, 300)\n",
    "    # Prepends the line.\n",
    "    if platform == \"linux\" or platform == \"linux2\":\n",
    "        prepend_line(filename, gensim_file, gensim_first_line)\n",
    "    else:\n",
    "        prepend_slow(filename, gensim_file, gensim_first_line)\n",
    "    model = gensim.models.KeyedVectors.load_word2vec_format(gensim_file)"
   ]
  },
  {
   "cell_type": "code",
   "execution_count": 11,
   "id": "5521acd0",
   "metadata": {},
   "outputs": [
    {
     "name": "stdout",
     "output_type": "stream",
     "text": [
      "Collecting gensim==3.8.0\n",
      "  Downloading gensim-3.8.0.tar.gz (23.4 MB)\n",
      "\u001b[K     |████████████████████████████████| 23.4 MB 22.4 MB/s eta 0:00:01\n",
      "\u001b[?25hRequirement already satisfied: numpy>=1.11.3 in /Users/EmpiricalSE/anaconda3/envs/p38workshop/lib/python3.8/site-packages (from gensim==3.8.0) (1.20.1)\n",
      "Requirement already satisfied: scipy>=0.18.1 in /Users/EmpiricalSE/anaconda3/envs/p38workshop/lib/python3.8/site-packages (from gensim==3.8.0) (1.6.2)\n",
      "Requirement already satisfied: six>=1.5.0 in /Users/EmpiricalSE/anaconda3/envs/p38workshop/lib/python3.8/site-packages (from gensim==3.8.0) (1.15.0)\n",
      "Requirement already satisfied: smart_open>=1.7.0 in /Users/EmpiricalSE/anaconda3/envs/p38workshop/lib/python3.8/site-packages (from gensim==3.8.0) (5.1.0)\n",
      "Building wheels for collected packages: gensim\n",
      "  Building wheel for gensim (setup.py) ... \u001b[?25ldone\n",
      "\u001b[?25h  Created wheel for gensim: filename=gensim-3.8.0-cp38-cp38-macosx_10_9_x86_64.whl size=24213931 sha256=6c7a90a6fc2aad1847492974496d471de00836d9396c4a8f6c95d89aa7318167\n",
      "  Stored in directory: /Users/EmpiricalSE/Library/Caches/pip/wheels/09/d1/44/6d6dcb820e282b40ccfce6d2bb0101c24d7fffd863b2276783\n",
      "Successfully built gensim\n",
      "Installing collected packages: gensim\n",
      "Successfully installed gensim-3.8.0\n",
      "Note: you may need to restart the kernel to use updated packages.\n"
     ]
    }
   ],
   "source": [
    "pip install --user 'gensim==3.8.0'"
   ]
  },
  {
   "cell_type": "code",
   "execution_count": 2,
   "id": "4899fb52",
   "metadata": {
    "scrolled": true
   },
   "outputs": [
    {
     "name": "stdout",
     "output_type": "stream",
     "text": [
      "3.8.0\n"
     ]
    }
   ],
   "source": [
    "print(gensim.__version__)"
   ]
  },
  {
   "cell_type": "code",
   "execution_count": 3,
   "id": "87398208",
   "metadata": {},
   "outputs": [],
   "source": [
    "import json\n",
    "with open('ECT.json') as json_file:\n",
    "    data = json.load(json_file)"
   ]
  },
  {
   "cell_type": "code",
   "execution_count": 4,
   "id": "4fea2e4c",
   "metadata": {},
   "outputs": [],
   "source": [
    "words = data['professions']"
   ]
  },
  {
   "cell_type": "code",
   "execution_count": 14,
   "id": "709c73b9",
   "metadata": {},
   "outputs": [],
   "source": [
    "def calc_direct_bias(self, neutral_words, c=None):\n",
    "        \"\"\"Calculate the direct bias.\n",
    "\n",
    "        Based on the projection of neutral words on the direction.\n",
    "\n",
    "        :param list neutral_words: List of neutral words\n",
    "        :param c: Strictness of bias measuring\n",
    "        :type c: float or None\n",
    "        :return: The direct bias\n",
    "        \"\"\"\n",
    "\n",
    "        if c is None:\n",
    "            c = 1\n",
    "\n",
    "        projections = self._calc_projection_scores(words)['projection']\n",
    "        direct_bias_terms = np.abs(projections) ** c\n",
    "        direct_bias = direct_bias_terms.sum() / len(words)\n",
    "\n",
    "        return direct_bias"
   ]
  },
  {
   "cell_type": "markdown",
   "id": "75581d74",
   "metadata": {},
   "source": [
    "# GloVe\n",
    "1. Wikipedia 2014 + Gigaword 5 (6B tokens, 400K vocab, uncased, 50d, 100d, 200d, & 300d vectors, 822 MB download\n",
    "2. Common Crawl (42B tokens, 1.9M vocab, uncased, 300d vectors, 1.75 GB download)\n",
    "3. Common Crawl (840B tokens, 2.2M vocab, cased, 300d vectors, 2.03 GB download)\n",
    "4. Twitter (2B tweets, 27B tokens, 1.2M vocab, uncased, 25d, 50d, 100d, & 200d vectors, 1.42 GB download)\n",
    "\n",
    "## GloVe Twitter"
   ]
  },
  {
   "cell_type": "code",
   "execution_count": 5,
   "id": "a9ededb3",
   "metadata": {
    "scrolled": true
   },
   "outputs": [],
   "source": [
    "glove_1_fee = loader.WE().load(ename = 'glove-twitter-25', normalize=True)\n",
    "glove_2_fee = loader.WE().load(ename = 'glove-twitter-50', normalize=True)\n",
    "glove_3_fee = loader.WE().load(ename = 'glove-twitter-100', normalize=True)\n",
    "glove_4_fee = loader.WE().load(ename = 'glove-twitter-200', normalize=True)"
   ]
  },
  {
   "cell_type": "code",
   "execution_count": 6,
   "id": "f02cc947",
   "metadata": {
    "scrolled": true
   },
   "outputs": [
    {
     "name": "stdout",
     "output_type": "stream",
     "text": [
      "Failed for word: adjunct_professor\n",
      "Failed for word: alter_ego\n",
      "Failed for word: assistant_professor\n",
      "Failed for word: associate_dean\n",
      "Failed for word: associate_professor\n",
      "Failed for word: athletic_director\n",
      "Failed for word: cab_driver\n",
      "Failed for word: civil_servant\n",
      "Failed for word: disc_jockey\n",
      "Failed for word: doctoral_student\n",
      "Failed for word: drug_addict\n",
      "Failed for word: economics_professor\n",
      "Failed for word: epidemiologist\n",
      "Failed for word: fashion_designer\n",
      "Failed for word: fighter_pilot\n",
      "Failed for word: freelance_writer\n",
      "Failed for word: graphic_designer\n",
      "Failed for word: guidance_counselor\n",
      "Failed for word: interior_designer\n",
      "Failed for word: investment_banker\n",
      "Failed for word: major_leaguer\n",
      "Failed for word: parishioner\n",
      "Failed for word: patrolman\n",
      "Failed for word: plastic_surgeon\n",
      "Failed for word: professor_emeritus\n",
      "Failed for word: registered_nurse\n",
      "Failed for word: sheriff_deputy\n",
      "Failed for word: singer_songwriter\n",
      "Failed for word: soft_spoken\n",
      "Failed for word: solicitor_general\n",
      "Failed for word: taxi_driver\n",
      "Failed for word: undersecretary\n",
      "Failed for word: vice_chancellor\n"
     ]
    },
    {
     "data": {
      "text/plain": [
       "0.4815959632396698"
      ]
     },
     "execution_count": 6,
     "metadata": {},
     "output_type": "execute_result"
    }
   ],
   "source": [
    "db_g1 = DirectBias(glove_1_fee).compute(words)\n",
    "db_g1"
   ]
  },
  {
   "cell_type": "code",
   "execution_count": 7,
   "id": "78ca8bbb",
   "metadata": {},
   "outputs": [
    {
     "name": "stdout",
     "output_type": "stream",
     "text": [
      "Failed for word: adjunct_professor\n",
      "Failed for word: alter_ego\n",
      "Failed for word: assistant_professor\n",
      "Failed for word: associate_dean\n",
      "Failed for word: associate_professor\n",
      "Failed for word: athletic_director\n",
      "Failed for word: cab_driver\n",
      "Failed for word: civil_servant\n",
      "Failed for word: disc_jockey\n",
      "Failed for word: doctoral_student\n",
      "Failed for word: drug_addict\n",
      "Failed for word: economics_professor\n",
      "Failed for word: epidemiologist\n",
      "Failed for word: fashion_designer\n",
      "Failed for word: fighter_pilot\n",
      "Failed for word: freelance_writer\n",
      "Failed for word: graphic_designer\n",
      "Failed for word: guidance_counselor\n",
      "Failed for word: interior_designer\n",
      "Failed for word: investment_banker\n",
      "Failed for word: major_leaguer\n",
      "Failed for word: parishioner\n",
      "Failed for word: patrolman\n",
      "Failed for word: plastic_surgeon\n",
      "Failed for word: professor_emeritus\n",
      "Failed for word: registered_nurse\n",
      "Failed for word: sheriff_deputy\n",
      "Failed for word: singer_songwriter\n",
      "Failed for word: soft_spoken\n",
      "Failed for word: solicitor_general\n",
      "Failed for word: taxi_driver\n",
      "Failed for word: undersecretary\n",
      "Failed for word: vice_chancellor\n"
     ]
    },
    {
     "data": {
      "text/plain": [
       "0.3539923429489136"
      ]
     },
     "execution_count": 7,
     "metadata": {},
     "output_type": "execute_result"
    }
   ],
   "source": [
    "db_g2 = DirectBias(glove_2_fee).compute(words)\n",
    "db_g2"
   ]
  },
  {
   "cell_type": "code",
   "execution_count": 8,
   "id": "6528f94c",
   "metadata": {},
   "outputs": [
    {
     "name": "stdout",
     "output_type": "stream",
     "text": [
      "Failed for word: adjunct_professor\n",
      "Failed for word: alter_ego\n",
      "Failed for word: assistant_professor\n",
      "Failed for word: associate_dean\n",
      "Failed for word: associate_professor\n",
      "Failed for word: athletic_director\n",
      "Failed for word: cab_driver\n",
      "Failed for word: civil_servant\n",
      "Failed for word: disc_jockey\n",
      "Failed for word: doctoral_student\n",
      "Failed for word: drug_addict\n",
      "Failed for word: economics_professor\n",
      "Failed for word: epidemiologist\n",
      "Failed for word: fashion_designer\n",
      "Failed for word: fighter_pilot\n",
      "Failed for word: freelance_writer\n",
      "Failed for word: graphic_designer\n",
      "Failed for word: guidance_counselor\n",
      "Failed for word: interior_designer\n",
      "Failed for word: investment_banker\n",
      "Failed for word: major_leaguer\n",
      "Failed for word: parishioner\n",
      "Failed for word: patrolman\n",
      "Failed for word: plastic_surgeon\n",
      "Failed for word: professor_emeritus\n",
      "Failed for word: registered_nurse\n",
      "Failed for word: sheriff_deputy\n",
      "Failed for word: singer_songwriter\n",
      "Failed for word: soft_spoken\n",
      "Failed for word: solicitor_general\n",
      "Failed for word: taxi_driver\n",
      "Failed for word: undersecretary\n",
      "Failed for word: vice_chancellor\n"
     ]
    },
    {
     "data": {
      "text/plain": [
       "0.14002469182014465"
      ]
     },
     "execution_count": 8,
     "metadata": {},
     "output_type": "execute_result"
    }
   ],
   "source": [
    "db_g3 = DirectBias(glove_3_fee).compute(words)\n",
    "db_g3"
   ]
  },
  {
   "cell_type": "code",
   "execution_count": 9,
   "id": "ba6b26b0",
   "metadata": {},
   "outputs": [
    {
     "name": "stdout",
     "output_type": "stream",
     "text": [
      "Failed for word: adjunct_professor\n",
      "Failed for word: alter_ego\n",
      "Failed for word: assistant_professor\n",
      "Failed for word: associate_dean\n",
      "Failed for word: associate_professor\n",
      "Failed for word: athletic_director\n",
      "Failed for word: cab_driver\n",
      "Failed for word: civil_servant\n",
      "Failed for word: disc_jockey\n",
      "Failed for word: doctoral_student\n",
      "Failed for word: drug_addict\n",
      "Failed for word: economics_professor\n",
      "Failed for word: epidemiologist\n",
      "Failed for word: fashion_designer\n",
      "Failed for word: fighter_pilot\n",
      "Failed for word: freelance_writer\n",
      "Failed for word: graphic_designer\n",
      "Failed for word: guidance_counselor\n",
      "Failed for word: interior_designer\n",
      "Failed for word: investment_banker\n",
      "Failed for word: major_leaguer\n",
      "Failed for word: parishioner\n",
      "Failed for word: patrolman\n",
      "Failed for word: plastic_surgeon\n",
      "Failed for word: professor_emeritus\n",
      "Failed for word: registered_nurse\n",
      "Failed for word: sheriff_deputy\n",
      "Failed for word: singer_songwriter\n",
      "Failed for word: soft_spoken\n",
      "Failed for word: solicitor_general\n",
      "Failed for word: taxi_driver\n",
      "Failed for word: undersecretary\n",
      "Failed for word: vice_chancellor\n"
     ]
    },
    {
     "data": {
      "text/plain": [
       "0.03689923137426376"
      ]
     },
     "execution_count": 9,
     "metadata": {},
     "output_type": "execute_result"
    }
   ],
   "source": [
    "db_g4 = DirectBias(glove_4_fee).compute(words)\n",
    "db_g4"
   ]
  },
  {
   "cell_type": "markdown",
   "id": "a2189af6",
   "metadata": {},
   "source": [
    "## GloVe Wiki Gigaword"
   ]
  },
  {
   "cell_type": "code",
   "execution_count": 10,
   "id": "84e78d2d",
   "metadata": {},
   "outputs": [],
   "source": [
    "glove_5_fee = loader.WE().load(ename = 'glove-wiki-gigaword-50', normalize=True)\n",
    "glove_6_fee = loader.WE().load(ename = 'glove-wiki-gigaword-100', normalize=True)\n",
    "glove_7_fee = loader.WE().load(ename = 'glove-wiki-gigaword-200', normalize=True)\n",
    "glove_8_fee = loader.WE().load(ename = 'glove-wiki-gigaword-300', normalize=True)"
   ]
  },
  {
   "cell_type": "code",
   "execution_count": 12,
   "id": "c950dcef",
   "metadata": {
    "scrolled": true
   },
   "outputs": [
    {
     "name": "stdout",
     "output_type": "stream",
     "text": [
      "Failed for word: adjunct_professor\n",
      "Failed for word: alter_ego\n",
      "Failed for word: assistant_professor\n",
      "Failed for word: associate_dean\n",
      "Failed for word: associate_professor\n",
      "Failed for word: athletic_director\n",
      "Failed for word: cab_driver\n",
      "Failed for word: civil_servant\n",
      "Failed for word: disc_jockey\n",
      "Failed for word: doctoral_student\n",
      "Failed for word: drug_addict\n",
      "Failed for word: economics_professor\n",
      "Failed for word: fashion_designer\n",
      "Failed for word: fighter_pilot\n",
      "Failed for word: freelance_writer\n",
      "Failed for word: graphic_designer\n",
      "Failed for word: guidance_counselor\n",
      "Failed for word: interior_designer\n",
      "Failed for word: investment_banker\n",
      "Failed for word: major_leaguer\n",
      "Failed for word: plastic_surgeon\n",
      "Failed for word: professor_emeritus\n",
      "Failed for word: registered_nurse\n",
      "Failed for word: sheriff_deputy\n",
      "Failed for word: singer_songwriter\n",
      "Failed for word: soft_spoken\n",
      "Failed for word: solicitor_general\n",
      "Failed for word: taxi_driver\n",
      "Failed for word: vice_chancellor\n"
     ]
    },
    {
     "data": {
      "text/plain": [
       "0.12704437971115112"
      ]
     },
     "execution_count": 12,
     "metadata": {},
     "output_type": "execute_result"
    }
   ],
   "source": [
    "db_g5 = DirectBias(glove_5_fee).compute(words)\n",
    "db_g5"
   ]
  },
  {
   "cell_type": "code",
   "execution_count": 13,
   "id": "3a84fae4",
   "metadata": {},
   "outputs": [
    {
     "name": "stdout",
     "output_type": "stream",
     "text": [
      "Failed for word: adjunct_professor\n",
      "Failed for word: alter_ego\n",
      "Failed for word: assistant_professor\n",
      "Failed for word: associate_dean\n",
      "Failed for word: associate_professor\n",
      "Failed for word: athletic_director\n",
      "Failed for word: cab_driver\n",
      "Failed for word: civil_servant\n",
      "Failed for word: disc_jockey\n",
      "Failed for word: doctoral_student\n",
      "Failed for word: drug_addict\n",
      "Failed for word: economics_professor\n",
      "Failed for word: fashion_designer\n",
      "Failed for word: fighter_pilot\n",
      "Failed for word: freelance_writer\n",
      "Failed for word: graphic_designer\n",
      "Failed for word: guidance_counselor\n",
      "Failed for word: interior_designer\n",
      "Failed for word: investment_banker\n",
      "Failed for word: major_leaguer\n",
      "Failed for word: plastic_surgeon\n",
      "Failed for word: professor_emeritus\n",
      "Failed for word: registered_nurse\n",
      "Failed for word: sheriff_deputy\n",
      "Failed for word: singer_songwriter\n",
      "Failed for word: soft_spoken\n",
      "Failed for word: solicitor_general\n",
      "Failed for word: taxi_driver\n",
      "Failed for word: vice_chancellor\n"
     ]
    },
    {
     "data": {
      "text/plain": [
       "0.13460060954093933"
      ]
     },
     "execution_count": 13,
     "metadata": {},
     "output_type": "execute_result"
    }
   ],
   "source": [
    "db_g6 = DirectBias(glove_6_fee).compute(words)\n",
    "db_g6"
   ]
  },
  {
   "cell_type": "code",
   "execution_count": 14,
   "id": "ab712dbb",
   "metadata": {},
   "outputs": [
    {
     "name": "stdout",
     "output_type": "stream",
     "text": [
      "Failed for word: adjunct_professor\n",
      "Failed for word: alter_ego\n",
      "Failed for word: assistant_professor\n",
      "Failed for word: associate_dean\n",
      "Failed for word: associate_professor\n",
      "Failed for word: athletic_director\n",
      "Failed for word: cab_driver\n",
      "Failed for word: civil_servant\n",
      "Failed for word: disc_jockey\n",
      "Failed for word: doctoral_student\n",
      "Failed for word: drug_addict\n",
      "Failed for word: economics_professor\n",
      "Failed for word: fashion_designer\n",
      "Failed for word: fighter_pilot\n",
      "Failed for word: freelance_writer\n",
      "Failed for word: graphic_designer\n",
      "Failed for word: guidance_counselor\n",
      "Failed for word: interior_designer\n",
      "Failed for word: investment_banker\n",
      "Failed for word: major_leaguer\n",
      "Failed for word: plastic_surgeon\n",
      "Failed for word: professor_emeritus\n",
      "Failed for word: registered_nurse\n",
      "Failed for word: sheriff_deputy\n",
      "Failed for word: singer_songwriter\n",
      "Failed for word: soft_spoken\n",
      "Failed for word: solicitor_general\n",
      "Failed for word: taxi_driver\n",
      "Failed for word: vice_chancellor\n"
     ]
    },
    {
     "data": {
      "text/plain": [
       "0.027775336056947708"
      ]
     },
     "execution_count": 14,
     "metadata": {},
     "output_type": "execute_result"
    }
   ],
   "source": [
    "db_g7 = DirectBias(glove_7_fee).compute(words)\n",
    "db_g7"
   ]
  },
  {
   "cell_type": "code",
   "execution_count": 15,
   "id": "bdf9693f",
   "metadata": {
    "scrolled": true
   },
   "outputs": [
    {
     "name": "stdout",
     "output_type": "stream",
     "text": [
      "Failed for word: adjunct_professor\n",
      "Failed for word: alter_ego\n",
      "Failed for word: assistant_professor\n",
      "Failed for word: associate_dean\n",
      "Failed for word: associate_professor\n",
      "Failed for word: athletic_director\n",
      "Failed for word: cab_driver\n",
      "Failed for word: civil_servant\n",
      "Failed for word: disc_jockey\n",
      "Failed for word: doctoral_student\n",
      "Failed for word: drug_addict\n",
      "Failed for word: economics_professor\n",
      "Failed for word: fashion_designer\n",
      "Failed for word: fighter_pilot\n",
      "Failed for word: freelance_writer\n",
      "Failed for word: graphic_designer\n",
      "Failed for word: guidance_counselor\n",
      "Failed for word: interior_designer\n",
      "Failed for word: investment_banker\n",
      "Failed for word: major_leaguer\n",
      "Failed for word: plastic_surgeon\n",
      "Failed for word: professor_emeritus\n",
      "Failed for word: registered_nurse\n",
      "Failed for word: sheriff_deputy\n",
      "Failed for word: singer_songwriter\n",
      "Failed for word: soft_spoken\n",
      "Failed for word: solicitor_general\n",
      "Failed for word: taxi_driver\n",
      "Failed for word: vice_chancellor\n"
     ]
    },
    {
     "data": {
      "text/plain": [
       "0.003770561423152685"
      ]
     },
     "execution_count": 15,
     "metadata": {},
     "output_type": "execute_result"
    }
   ],
   "source": [
    "db_g8 = DirectBias(glove_8_fee).compute(words)\n",
    "db_g8"
   ]
  },
  {
   "cell_type": "markdown",
   "id": "3a719ef3",
   "metadata": {},
   "source": [
    "## GloVe Common Crawl"
   ]
  },
  {
   "cell_type": "code",
   "execution_count": 16,
   "id": "424a873b",
   "metadata": {},
   "outputs": [],
   "source": [
    "from gensim.models import KeyedVectors"
   ]
  },
  {
   "cell_type": "code",
   "execution_count": 17,
   "id": "f5e104f8",
   "metadata": {
    "scrolled": false
   },
   "outputs": [],
   "source": [
    "glove_embeddings_9 = KeyedVectors.load_word2vec_format('glove.42B.300d.txt')\n",
    "glove_embeddings_10 = KeyedVectors.load_word2vec_format('glove.840B.300d.txt')"
   ]
  },
  {
   "cell_type": "code",
   "execution_count": 30,
   "id": "01f53f62",
   "metadata": {},
   "outputs": [],
   "source": [
    "glove_9_fee = loader.WE().load(fname = 'glove.42B.300d')"
   ]
  },
  {
   "cell_type": "code",
   "execution_count": 2,
   "id": "d04a558c",
   "metadata": {},
   "outputs": [],
   "source": [
    "glove_10_fee = loader.WE().load(fname = 'glove.840B.300d')"
   ]
  },
  {
   "cell_type": "code",
   "execution_count": 33,
   "id": "9ba931d9",
   "metadata": {
    "scrolled": true
   },
   "outputs": [
    {
     "name": "stdout",
     "output_type": "stream",
     "text": [
      "Failed for word: adjunct_professor\n",
      "Failed for word: alter_ego\n",
      "Failed for word: assistant_professor\n",
      "Failed for word: associate_dean\n",
      "Failed for word: associate_professor\n",
      "Failed for word: athletic_director\n",
      "Failed for word: cab_driver\n",
      "Failed for word: civil_servant\n",
      "Failed for word: disc_jockey\n",
      "Failed for word: doctoral_student\n",
      "Failed for word: drug_addict\n",
      "Failed for word: economics_professor\n",
      "Failed for word: fashion_designer\n",
      "Failed for word: fighter_pilot\n",
      "Failed for word: freelance_writer\n",
      "Failed for word: graphic_designer\n",
      "Failed for word: guidance_counselor\n",
      "Failed for word: interior_designer\n",
      "Failed for word: investment_banker\n",
      "Failed for word: major_leaguer\n",
      "Failed for word: plastic_surgeon\n",
      "Failed for word: professor_emeritus\n",
      "Failed for word: registered_nurse\n",
      "Failed for word: sheriff_deputy\n",
      "Failed for word: singer_songwriter\n",
      "Failed for word: soft_spoken\n",
      "Failed for word: solicitor_general\n",
      "Failed for word: taxi_driver\n",
      "Failed for word: vice_chancellor\n"
     ]
    },
    {
     "data": {
      "text/plain": [
       "0.6272749843757038"
      ]
     },
     "execution_count": 33,
     "metadata": {},
     "output_type": "execute_result"
    }
   ],
   "source": [
    "db_g9 = DirectBias(glove_9_fee).compute(words)\n",
    "db_g9"
   ]
  },
  {
   "cell_type": "code",
   "execution_count": 3,
   "id": "13a49a81",
   "metadata": {
    "scrolled": true
   },
   "outputs": [
    {
     "ename": "NameError",
     "evalue": "name 'words' is not defined",
     "output_type": "error",
     "traceback": [
      "\u001b[0;31m---------------------------------------------------------------------------\u001b[0m",
      "\u001b[0;31mNameError\u001b[0m                                 Traceback (most recent call last)",
      "\u001b[0;32m<ipython-input-3-3431e90af22f>\u001b[0m in \u001b[0;36m<module>\u001b[0;34m\u001b[0m\n\u001b[0;32m----> 1\u001b[0;31m \u001b[0mdb_g10\u001b[0m \u001b[0;34m=\u001b[0m \u001b[0mDirectBias\u001b[0m\u001b[0;34m(\u001b[0m\u001b[0mglove_10_fee\u001b[0m\u001b[0;34m)\u001b[0m\u001b[0;34m.\u001b[0m\u001b[0mcompute\u001b[0m\u001b[0;34m(\u001b[0m\u001b[0mwords\u001b[0m\u001b[0;34m)\u001b[0m\u001b[0;34m\u001b[0m\u001b[0;34m\u001b[0m\u001b[0m\n\u001b[0m\u001b[1;32m      2\u001b[0m \u001b[0mdb_g10\u001b[0m\u001b[0;34m\u001b[0m\u001b[0;34m\u001b[0m\u001b[0m\n",
      "\u001b[0;31mNameError\u001b[0m: name 'words' is not defined"
     ]
    }
   ],
   "source": [
    "db_g10 = DirectBias(glove_10_fee).compute(words)\n",
    "db_g10"
   ]
  },
  {
   "cell_type": "markdown",
   "id": "f0de7b2d",
   "metadata": {},
   "source": [
    "# word2vec\n",
    "Pre-trained vectors trained on part of Google News dataset (about 100 billion words). The model contains 300-dimensional vectors for 3 million words and phrases."
   ]
  },
  {
   "cell_type": "code",
   "execution_count": 40,
   "id": "720b1b0f",
   "metadata": {
    "scrolled": false
   },
   "outputs": [],
   "source": [
    "w2v_fee = loader.WE().load(ename = 'word2vec-google-news-300', normalize=True)"
   ]
  },
  {
   "cell_type": "code",
   "execution_count": 41,
   "id": "238aca0a",
   "metadata": {},
   "outputs": [
    {
     "data": {
      "text/plain": [
       "0.08200674244362745"
      ]
     },
     "execution_count": 41,
     "metadata": {},
     "output_type": "execute_result"
    }
   ],
   "source": [
    "db_w2v = DirectBias(w2v_fee).compute(words)\n",
    "db_w2v"
   ]
  },
  {
   "cell_type": "markdown",
   "id": "ccc2a5d0",
   "metadata": {},
   "source": [
    "# fastText crawl\n",
    "1. fasttext crawl dim=300: 2 million word vectors trained on Common Crawl (600B tokens).\n",
    "2. fasttext crawl subwords dim=300: 2 million word vectors trained with subword information on Common Crawl (600B tokens).\n",
    "\n",
    "A subword is the internal structure of words. Classic word representation cannot handle unseen word or rare word well. Character embeddings is one of the solution to overcome out-of-vocabulary (OOV). However, it may too fine-grained any missing some important information. Subword is in between word and character. It is not too fine-grained while able to handle unseen word and rare word. For example, we can split “subword” to “sub” and “word”. In other word we use two vector (i.e. “sub” and “word”) to represent “subword”."
   ]
  },
  {
   "cell_type": "code",
   "execution_count": 35,
   "id": "931af66d",
   "metadata": {},
   "outputs": [],
   "source": [
    "fasttext_3_fee = loader.WE().load(fname = 'crawl-300d-2M')\n",
    "fasttext_4_fee = loader.WE().load(fname = 'crawl-300d-2M-subword')"
   ]
  },
  {
   "cell_type": "code",
   "execution_count": 36,
   "id": "ebb3bc51",
   "metadata": {
    "scrolled": false
   },
   "outputs": [
    {
     "name": "stdout",
     "output_type": "stream",
     "text": [
      "Failed for word: adjunct_professor\n",
      "Failed for word: alter_ego\n",
      "Failed for word: assistant_professor\n",
      "Failed for word: associate_dean\n",
      "Failed for word: associate_professor\n",
      "Failed for word: athletic_director\n",
      "Failed for word: cab_driver\n",
      "Failed for word: civil_servant\n",
      "Failed for word: disc_jockey\n",
      "Failed for word: doctoral_student\n",
      "Failed for word: drug_addict\n",
      "Failed for word: economics_professor\n",
      "Failed for word: fashion_designer\n",
      "Failed for word: fighter_pilot\n",
      "Failed for word: freelance_writer\n",
      "Failed for word: graphic_designer\n",
      "Failed for word: guidance_counselor\n",
      "Failed for word: interior_designer\n",
      "Failed for word: investment_banker\n",
      "Failed for word: major_leaguer\n",
      "Failed for word: plastic_surgeon\n",
      "Failed for word: professor_emeritus\n",
      "Failed for word: registered_nurse\n",
      "Failed for word: sheriff_deputy\n",
      "Failed for word: singer_songwriter\n",
      "Failed for word: soft_spoken\n",
      "Failed for word: solicitor_general\n",
      "Failed for word: taxi_driver\n",
      "Failed for word: vice_chancellor\n"
     ]
    },
    {
     "data": {
      "text/plain": [
       "0.10833499761832174"
      ]
     },
     "execution_count": 36,
     "metadata": {},
     "output_type": "execute_result"
    }
   ],
   "source": [
    "db_f3 = DirectBias(fasttext_3_fee).compute(words)\n",
    "db_f3"
   ]
  },
  {
   "cell_type": "code",
   "execution_count": 37,
   "id": "adf728d3",
   "metadata": {
    "scrolled": true
   },
   "outputs": [
    {
     "name": "stdout",
     "output_type": "stream",
     "text": [
      "Failed for word: adjunct_professor\n",
      "Failed for word: alter_ego\n",
      "Failed for word: assistant_professor\n",
      "Failed for word: associate_dean\n",
      "Failed for word: associate_professor\n",
      "Failed for word: athletic_director\n",
      "Failed for word: cab_driver\n",
      "Failed for word: civil_servant\n",
      "Failed for word: disc_jockey\n",
      "Failed for word: doctoral_student\n",
      "Failed for word: drug_addict\n",
      "Failed for word: economics_professor\n",
      "Failed for word: fashion_designer\n",
      "Failed for word: fighter_pilot\n",
      "Failed for word: freelance_writer\n",
      "Failed for word: graphic_designer\n",
      "Failed for word: guidance_counselor\n",
      "Failed for word: interior_designer\n",
      "Failed for word: investment_banker\n",
      "Failed for word: major_leaguer\n",
      "Failed for word: plastic_surgeon\n",
      "Failed for word: professor_emeritus\n",
      "Failed for word: registered_nurse\n",
      "Failed for word: sheriff_deputy\n",
      "Failed for word: singer_songwriter\n",
      "Failed for word: soft_spoken\n",
      "Failed for word: solicitor_general\n",
      "Failed for word: taxi_driver\n",
      "Failed for word: vice_chancellor\n"
     ]
    },
    {
     "data": {
      "text/plain": [
       "0.0825996153786501"
      ]
     },
     "execution_count": 37,
     "metadata": {},
     "output_type": "execute_result"
    }
   ],
   "source": [
    "db_f4 = DirectBias(fasttext_4_fee).compute(words)\n",
    "db_f4"
   ]
  },
  {
   "cell_type": "markdown",
   "id": "61d8cde5",
   "metadata": {},
   "source": [
    "# fastText wiki news\n",
    "1. fasttext wiki dim=300: 1 million word vectors trained on Wikipedia 2017, UMBC webbase corpus and statmt.org news dataset (16B tokens).\n",
    "2. fasttext wiki subwords dim=300: 1 million word vectors trained with subword infomation on Wikipedia 2017, UMBC webbase corpus and statmt.org news dataset (16B tokens)."
   ]
  },
  {
   "cell_type": "code",
   "execution_count": 19,
   "id": "42057e5f",
   "metadata": {},
   "outputs": [],
   "source": [
    "fasttext_1_fee = loader.WE().load(ename = 'fasttext-wiki-news-subwords-300', normalize=True)"
   ]
  },
  {
   "cell_type": "code",
   "execution_count": 38,
   "id": "c225fa75",
   "metadata": {
    "scrolled": false
   },
   "outputs": [
    {
     "name": "stdout",
     "output_type": "stream",
     "text": [
      "Failed for word: adjunct_professor\n",
      "Failed for word: alter_ego\n",
      "Failed for word: assistant_professor\n",
      "Failed for word: associate_dean\n",
      "Failed for word: associate_professor\n",
      "Failed for word: athletic_director\n",
      "Failed for word: cab_driver\n",
      "Failed for word: civil_servant\n",
      "Failed for word: disc_jockey\n",
      "Failed for word: doctoral_student\n",
      "Failed for word: drug_addict\n",
      "Failed for word: economics_professor\n",
      "Failed for word: fashion_designer\n",
      "Failed for word: fighter_pilot\n",
      "Failed for word: freelance_writer\n",
      "Failed for word: graphic_designer\n",
      "Failed for word: guidance_counselor\n",
      "Failed for word: interior_designer\n",
      "Failed for word: investment_banker\n",
      "Failed for word: major_leaguer\n",
      "Failed for word: plastic_surgeon\n",
      "Failed for word: professor_emeritus\n",
      "Failed for word: registered_nurse\n",
      "Failed for word: sheriff_deputy\n",
      "Failed for word: singer_songwriter\n",
      "Failed for word: soft_spoken\n",
      "Failed for word: solicitor_general\n",
      "Failed for word: taxi_driver\n",
      "Failed for word: vice_chancellor\n"
     ]
    },
    {
     "data": {
      "text/plain": [
       "0.034897997975349426"
      ]
     },
     "execution_count": 38,
     "metadata": {},
     "output_type": "execute_result"
    }
   ],
   "source": [
    "db_f1 = DirectBias(fasttext_1_fee).compute(words)\n",
    "\n",
    "db_f1"
   ]
  },
  {
   "cell_type": "code",
   "execution_count": 39,
   "id": "e2a38a0c",
   "metadata": {},
   "outputs": [],
   "source": [
    "fasttext_2_fee = loader.WE().load(fname = 'wiki-news-300d-1M')"
   ]
  },
  {
   "cell_type": "code",
   "execution_count": 40,
   "id": "b94b1b00",
   "metadata": {},
   "outputs": [
    {
     "name": "stdout",
     "output_type": "stream",
     "text": [
      "Failed for word: adjunct_professor\n",
      "Failed for word: alter_ego\n",
      "Failed for word: assistant_professor\n",
      "Failed for word: associate_dean\n",
      "Failed for word: associate_professor\n",
      "Failed for word: athletic_director\n",
      "Failed for word: cab_driver\n",
      "Failed for word: civil_servant\n",
      "Failed for word: disc_jockey\n",
      "Failed for word: doctoral_student\n",
      "Failed for word: drug_addict\n",
      "Failed for word: economics_professor\n",
      "Failed for word: fashion_designer\n",
      "Failed for word: fighter_pilot\n",
      "Failed for word: freelance_writer\n",
      "Failed for word: graphic_designer\n",
      "Failed for word: guidance_counselor\n",
      "Failed for word: interior_designer\n",
      "Failed for word: investment_banker\n",
      "Failed for word: major_leaguer\n",
      "Failed for word: plastic_surgeon\n",
      "Failed for word: professor_emeritus\n",
      "Failed for word: registered_nurse\n",
      "Failed for word: sheriff_deputy\n",
      "Failed for word: singer_songwriter\n",
      "Failed for word: soft_spoken\n",
      "Failed for word: solicitor_general\n",
      "Failed for word: taxi_driver\n",
      "Failed for word: vice_chancellor\n"
     ]
    },
    {
     "data": {
      "text/plain": [
       "0.05674122118206683"
      ]
     },
     "execution_count": 40,
     "metadata": {},
     "output_type": "execute_result"
    }
   ],
   "source": [
    "db_f2 = DirectBias(fasttext_2_fee).compute(words)\n",
    "\n",
    "db_f2"
   ]
  },
  {
   "cell_type": "code",
   "execution_count": null,
   "id": "2de2c38e",
   "metadata": {},
   "outputs": [],
   "source": []
  }
 ],
 "metadata": {
  "kernelspec": {
   "display_name": "p38workshop",
   "language": "python",
   "name": "p38workshop"
  },
  "language_info": {
   "codemirror_mode": {
    "name": "ipython",
    "version": 3
   },
   "file_extension": ".py",
   "mimetype": "text/x-python",
   "name": "python",
   "nbconvert_exporter": "python",
   "pygments_lexer": "ipython3",
   "version": "3.8.8"
  }
 },
 "nbformat": 4,
 "nbformat_minor": 5
}
