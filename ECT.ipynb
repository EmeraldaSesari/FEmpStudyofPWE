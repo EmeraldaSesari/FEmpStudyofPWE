{
 "cells": [
  {
   "cell_type": "code",
   "execution_count": 2,
   "id": "4dce6b36",
   "metadata": {
    "scrolled": true
   },
   "outputs": [
    {
     "name": "stdout",
     "output_type": "stream",
     "text": [
      "Requirement already satisfied: wefe in /Users/EmpiricalSE/anaconda3/envs/p38workshop/lib/python3.8/site-packages (0.2.1)\n",
      "Requirement already satisfied: pandas in /Users/EmpiricalSE/anaconda3/envs/p38workshop/lib/python3.8/site-packages (from wefe) (1.2.4)\n",
      "Requirement already satisfied: numpy in /Users/EmpiricalSE/anaconda3/envs/p38workshop/lib/python3.8/site-packages (from wefe) (1.20.1)\n",
      "Requirement already satisfied: semantic-version in /Users/EmpiricalSE/anaconda3/envs/p38workshop/lib/python3.8/site-packages (from wefe) (2.8.5)\n",
      "Requirement already satisfied: six in /Users/EmpiricalSE/anaconda3/envs/p38workshop/lib/python3.8/site-packages (from wefe) (1.15.0)\n",
      "Requirement already satisfied: gensim in /Users/EmpiricalSE/anaconda3/envs/p38workshop/lib/python3.8/site-packages (from wefe) (4.0.1)\n",
      "Requirement already satisfied: scikit-learn in /Users/EmpiricalSE/anaconda3/envs/p38workshop/lib/python3.8/site-packages (from wefe) (0.24.1)\n",
      "Requirement already satisfied: scipy in /Users/EmpiricalSE/anaconda3/envs/p38workshop/lib/python3.8/site-packages (from wefe) (1.6.2)\n",
      "Requirement already satisfied: plotly in /Users/EmpiricalSE/anaconda3/envs/p38workshop/lib/python3.8/site-packages (from wefe) (5.1.0)\n",
      "Requirement already satisfied: smart-open>=1.8.1 in /Users/EmpiricalSE/anaconda3/envs/p38workshop/lib/python3.8/site-packages (from gensim->wefe) (5.1.0)\n",
      "Requirement already satisfied: python-dateutil>=2.7.3 in /Users/EmpiricalSE/anaconda3/envs/p38workshop/lib/python3.8/site-packages (from pandas->wefe) (2.8.1)\n",
      "Requirement already satisfied: pytz>=2017.3 in /Users/EmpiricalSE/anaconda3/envs/p38workshop/lib/python3.8/site-packages (from pandas->wefe) (2021.1)\n",
      "Requirement already satisfied: tenacity>=6.2.0 in /Users/EmpiricalSE/anaconda3/envs/p38workshop/lib/python3.8/site-packages (from plotly->wefe) (8.0.1)\n",
      "Requirement already satisfied: threadpoolctl>=2.0.0 in /Users/EmpiricalSE/anaconda3/envs/p38workshop/lib/python3.8/site-packages (from scikit-learn->wefe) (2.1.0)\n",
      "Requirement already satisfied: joblib>=0.11 in /Users/EmpiricalSE/anaconda3/envs/p38workshop/lib/python3.8/site-packages (from scikit-learn->wefe) (1.0.1)\n"
     ]
    }
   ],
   "source": [
    "import sys\n",
    "!{sys.executable} -m pip install wefe"
   ]
  },
  {
   "cell_type": "code",
   "execution_count": 1,
   "id": "6d82cc12",
   "metadata": {
    "scrolled": true
   },
   "outputs": [],
   "source": [
    "from wefe.query import Query\n",
    "from wefe.word_embedding_model import WordEmbeddingModel\n",
    "from wefe.metrics.WEAT import WEAT\n",
    "from wefe.datasets.datasets import load_weat\n",
    "import gensim.downloader as api\n",
    "from wefe.utils import run_queries, create_ranking, plot_ranking, plot_ranking_correlations\n",
    "from gensim.models import KeyedVectors"
   ]
  },
  {
   "cell_type": "code",
   "execution_count": 2,
   "id": "c6aedfb7",
   "metadata": {
    "scrolled": true
   },
   "outputs": [],
   "source": [
    "import gensim\n",
    "import os\n",
    "import shutil\n",
    "import hashlib\n",
    "from sys import platform\n",
    "\n",
    "def getFileLineNums(filename):\n",
    "    f = open(filename, 'r')\n",
    "    count = 0\n",
    "    for line in f:\n",
    "        count += 1\n",
    "    return count\n",
    " \n",
    " #Linux or Windows open the word vector file, add a line at the beginning\n",
    "def prepend_line(infile, outfile, line):\n",
    "    with open(infile, 'r') as old:\n",
    "        with open(outfile, 'w') as new:\n",
    "            new.write(str(line) + \"\\n\")\n",
    "            shutil.copyfileobj(old, new)\n",
    " \n",
    "def prepend_slow(infile, outfile, line):\n",
    "    with open(infile, 'r') as fin:\n",
    "        with open(outfile, 'w') as fout:\n",
    "            fout.write(line + \"\\n\")\n",
    "            for line in fin:\n",
    "                fout.write(line)\n",
    "\n",
    "def load(filename):\n",
    "    num_lines = getFileLineNums(filename)\n",
    "    gensim_file = 'glove.840B.300d duplicate.txt'\n",
    "    gensim_first_line = \"{} {}\".format(num_lines, 300)\n",
    "    # Prepends the line.\n",
    "    if platform == \"linux\" or platform == \"linux2\":\n",
    "        prepend_line(filename, gensim_file, gensim_first_line)\n",
    "    else:\n",
    "        prepend_slow(filename, gensim_file, gensim_first_line)\n",
    "    model = gensim.models.KeyedVectors.load_word2vec_format(gensim_file)"
   ]
  },
  {
   "cell_type": "code",
   "execution_count": 2,
   "id": "aae0769c",
   "metadata": {
    "scrolled": true
   },
   "outputs": [
    {
     "name": "stderr",
     "output_type": "stream",
     "text": [
      "INFO:gensim.models.utils_any2vec:loading projection weights from /Users/EmpiricalSE/gensim-data/glove-twitter-25/glove-twitter-25.gz\n",
      "DEBUG:smart_open.smart_open_lib:{'uri': '/Users/EmpiricalSE/gensim-data/glove-twitter-25/glove-twitter-25.gz', 'mode': 'rb', 'buffering': -1, 'encoding': None, 'errors': None, 'newline': None, 'closefd': True, 'opener': None, 'ignore_ext': False, 'compression': None, 'transport_params': None}\n",
      "INFO:gensim.models.utils_any2vec:loaded (1193514, 25) matrix from /Users/EmpiricalSE/gensim-data/glove-twitter-25/glove-twitter-25.gz\n",
      "INFO:gensim.models.utils_any2vec:loading projection weights from /Users/EmpiricalSE/gensim-data/glove-twitter-50/glove-twitter-50.gz\n",
      "DEBUG:smart_open.smart_open_lib:{'uri': '/Users/EmpiricalSE/gensim-data/glove-twitter-50/glove-twitter-50.gz', 'mode': 'rb', 'buffering': -1, 'encoding': None, 'errors': None, 'newline': None, 'closefd': True, 'opener': None, 'ignore_ext': False, 'compression': None, 'transport_params': None}\n",
      "INFO:gensim.models.utils_any2vec:loaded (1193514, 50) matrix from /Users/EmpiricalSE/gensim-data/glove-twitter-50/glove-twitter-50.gz\n",
      "INFO:gensim.models.utils_any2vec:loading projection weights from /Users/EmpiricalSE/gensim-data/glove-twitter-100/glove-twitter-100.gz\n",
      "DEBUG:smart_open.smart_open_lib:{'uri': '/Users/EmpiricalSE/gensim-data/glove-twitter-100/glove-twitter-100.gz', 'mode': 'rb', 'buffering': -1, 'encoding': None, 'errors': None, 'newline': None, 'closefd': True, 'opener': None, 'ignore_ext': False, 'compression': None, 'transport_params': None}\n",
      "INFO:gensim.models.utils_any2vec:loaded (1193514, 100) matrix from /Users/EmpiricalSE/gensim-data/glove-twitter-100/glove-twitter-100.gz\n",
      "INFO:gensim.models.utils_any2vec:loading projection weights from /Users/EmpiricalSE/gensim-data/glove-twitter-200/glove-twitter-200.gz\n",
      "DEBUG:smart_open.smart_open_lib:{'uri': '/Users/EmpiricalSE/gensim-data/glove-twitter-200/glove-twitter-200.gz', 'mode': 'rb', 'buffering': -1, 'encoding': None, 'errors': None, 'newline': None, 'closefd': True, 'opener': None, 'ignore_ext': False, 'compression': None, 'transport_params': None}\n",
      "INFO:gensim.models.utils_any2vec:loaded (1193514, 200) matrix from /Users/EmpiricalSE/gensim-data/glove-twitter-200/glove-twitter-200.gz\n"
     ]
    }
   ],
   "source": [
    "glove_1 = WordEmbeddingModel(api.load('glove-twitter-25'),\n",
    "                             'glove twitter dim=25')\n",
    "glove_2 = WordEmbeddingModel(api.load('glove-twitter-50'),\n",
    "                             'glove twitter dim=50')\n",
    "glove_3 = WordEmbeddingModel(api.load('glove-twitter-100'),\n",
    "                             'glove twitter dim=100')\n",
    "glove_4 = WordEmbeddingModel(api.load('glove-twitter-200'),\n",
    "                             'glove twitter dim=200')"
   ]
  },
  {
   "cell_type": "code",
   "execution_count": 3,
   "id": "1e97d6df",
   "metadata": {
    "scrolled": true
   },
   "outputs": [
    {
     "name": "stderr",
     "output_type": "stream",
     "text": [
      "INFO:gensim.models.utils_any2vec:loading projection weights from /Users/EmpiricalSE/gensim-data/glove-wiki-gigaword-50/glove-wiki-gigaword-50.gz\n",
      "DEBUG:smart_open.smart_open_lib:{'uri': '/Users/EmpiricalSE/gensim-data/glove-wiki-gigaword-50/glove-wiki-gigaword-50.gz', 'mode': 'rb', 'buffering': -1, 'encoding': None, 'errors': None, 'newline': None, 'closefd': True, 'opener': None, 'ignore_ext': False, 'compression': None, 'transport_params': None}\n",
      "INFO:gensim.models.utils_any2vec:loaded (400000, 50) matrix from /Users/EmpiricalSE/gensim-data/glove-wiki-gigaword-50/glove-wiki-gigaword-50.gz\n",
      "INFO:gensim.models.utils_any2vec:loading projection weights from /Users/EmpiricalSE/gensim-data/glove-wiki-gigaword-100/glove-wiki-gigaword-100.gz\n",
      "DEBUG:smart_open.smart_open_lib:{'uri': '/Users/EmpiricalSE/gensim-data/glove-wiki-gigaword-100/glove-wiki-gigaword-100.gz', 'mode': 'rb', 'buffering': -1, 'encoding': None, 'errors': None, 'newline': None, 'closefd': True, 'opener': None, 'ignore_ext': False, 'compression': None, 'transport_params': None}\n",
      "INFO:gensim.models.utils_any2vec:loaded (400000, 100) matrix from /Users/EmpiricalSE/gensim-data/glove-wiki-gigaword-100/glove-wiki-gigaword-100.gz\n",
      "INFO:gensim.models.utils_any2vec:loading projection weights from /Users/EmpiricalSE/gensim-data/glove-wiki-gigaword-200/glove-wiki-gigaword-200.gz\n",
      "DEBUG:smart_open.smart_open_lib:{'uri': '/Users/EmpiricalSE/gensim-data/glove-wiki-gigaword-200/glove-wiki-gigaword-200.gz', 'mode': 'rb', 'buffering': -1, 'encoding': None, 'errors': None, 'newline': None, 'closefd': True, 'opener': None, 'ignore_ext': False, 'compression': None, 'transport_params': None}\n",
      "INFO:gensim.models.utils_any2vec:loaded (400000, 200) matrix from /Users/EmpiricalSE/gensim-data/glove-wiki-gigaword-200/glove-wiki-gigaword-200.gz\n",
      "INFO:gensim.models.utils_any2vec:loading projection weights from /Users/EmpiricalSE/gensim-data/glove-wiki-gigaword-300/glove-wiki-gigaword-300.gz\n",
      "DEBUG:smart_open.smart_open_lib:{'uri': '/Users/EmpiricalSE/gensim-data/glove-wiki-gigaword-300/glove-wiki-gigaword-300.gz', 'mode': 'rb', 'buffering': -1, 'encoding': None, 'errors': None, 'newline': None, 'closefd': True, 'opener': None, 'ignore_ext': False, 'compression': None, 'transport_params': None}\n",
      "INFO:gensim.models.utils_any2vec:loaded (400000, 300) matrix from /Users/EmpiricalSE/gensim-data/glove-wiki-gigaword-300/glove-wiki-gigaword-300.gz\n"
     ]
    }
   ],
   "source": [
    "glove_5 = WordEmbeddingModel(api.load('glove-wiki-gigaword-50'),\n",
    "                             'glove wiki dim=50')\n",
    "glove_6 = WordEmbeddingModel(api.load('glove-wiki-gigaword-100'),\n",
    "                             'glove wiki dim=100')\n",
    "glove_7 = WordEmbeddingModel(api.load('glove-wiki-gigaword-200'),\n",
    "                             'glove wiki dim=200')\n",
    "glove_8 = WordEmbeddingModel(api.load('glove-wiki-gigaword-300'),\n",
    "                             'glove wiki dim=300')"
   ]
  },
  {
   "cell_type": "code",
   "execution_count": 5,
   "id": "58090023",
   "metadata": {
    "scrolled": true
   },
   "outputs": [],
   "source": [
    "#load('glove.840B.300d.txt')"
   ]
  },
  {
   "cell_type": "code",
   "execution_count": 4,
   "id": "09e2d180",
   "metadata": {
    "scrolled": true
   },
   "outputs": [
    {
     "name": "stderr",
     "output_type": "stream",
     "text": [
      "INFO:gensim.models.utils_any2vec:loading projection weights from glove.42B.300d.txt\n",
      "DEBUG:smart_open.smart_open_lib:{'uri': 'glove.42B.300d.txt', 'mode': 'rb', 'buffering': -1, 'encoding': None, 'errors': None, 'newline': None, 'closefd': True, 'opener': None, 'ignore_ext': False, 'compression': None, 'transport_params': None}\n",
      "INFO:gensim.models.utils_any2vec:loaded (1917494, 300) matrix from glove.42B.300d.txt\n",
      "INFO:gensim.models.utils_any2vec:loading projection weights from glove.840B.300d.txt\n",
      "DEBUG:smart_open.smart_open_lib:{'uri': 'glove.840B.300d.txt', 'mode': 'rb', 'buffering': -1, 'encoding': None, 'errors': None, 'newline': None, 'closefd': True, 'opener': None, 'ignore_ext': False, 'compression': None, 'transport_params': None}\n",
      "WARNING:gensim.models.utils_any2vec:duplicate word '����������������������������������������������������������������������������������������������������������������������������������������������������������������������������������������������������������������������������������������������������������������������������������������������������������������������������������������������' in glove.840B.300d.txt, ignoring all but first\n",
      "INFO:gensim.models.utils_any2vec:duplicate words detected, shrinking matrix size from 2196017 to 2196016\n",
      "INFO:gensim.models.utils_any2vec:loaded (2196016, 300) matrix from glove.840B.300d.txt\n"
     ]
    }
   ],
   "source": [
    "glove_embeddings_9 = KeyedVectors.load_word2vec_format('glove.42B.300d.txt')\n",
    "glove_9 = WordEmbeddingModel(glove_embeddings_9, 'glove common crawl 42B dim=300')\n",
    "glove_embeddings_10 = KeyedVectors.load_word2vec_format('glove.840B.300d.txt')\n",
    "glove_10 = WordEmbeddingModel(glove_embeddings_10, 'glove common crawl 840B dim=300')"
   ]
  },
  {
   "cell_type": "code",
   "execution_count": 5,
   "id": "3a5b7175",
   "metadata": {
    "scrolled": true
   },
   "outputs": [
    {
     "name": "stderr",
     "output_type": "stream",
     "text": [
      "INFO:gensim.models.utils_any2vec:loading projection weights from /Users/EmpiricalSE/gensim-data/fasttext-wiki-news-subwords-300/fasttext-wiki-news-subwords-300.gz\n",
      "DEBUG:smart_open.smart_open_lib:{'uri': '/Users/EmpiricalSE/gensim-data/fasttext-wiki-news-subwords-300/fasttext-wiki-news-subwords-300.gz', 'mode': 'rb', 'buffering': -1, 'encoding': None, 'errors': None, 'newline': None, 'closefd': True, 'opener': None, 'ignore_ext': False, 'compression': None, 'transport_params': None}\n",
      "INFO:gensim.models.utils_any2vec:loaded (999999, 300) matrix from /Users/EmpiricalSE/gensim-data/fasttext-wiki-news-subwords-300/fasttext-wiki-news-subwords-300.gz\n",
      "INFO:gensim.models.utils_any2vec:loading projection weights from wiki-news-300d-1M.vec\n",
      "DEBUG:smart_open.smart_open_lib:{'uri': 'wiki-news-300d-1M.vec', 'mode': 'rb', 'buffering': -1, 'encoding': None, 'errors': None, 'newline': None, 'closefd': True, 'opener': None, 'ignore_ext': False, 'compression': None, 'transport_params': None}\n",
      "INFO:gensim.models.utils_any2vec:loaded (999994, 300) matrix from wiki-news-300d-1M.vec\n"
     ]
    }
   ],
   "source": [
    "fasttext_1 = WordEmbeddingModel(api.load('fasttext-wiki-news-subwords-300'),\n",
    "                             'fasttext wiki subwords dim=300')\n",
    "fast_embeddings_2 = KeyedVectors.load_word2vec_format('wiki-news-300d-1M.vec')\n",
    "fasttext_2 = WordEmbeddingModel(fast_embeddings_2, 'fasttext wiki dim=300')"
   ]
  },
  {
   "cell_type": "code",
   "execution_count": 6,
   "id": "6217dab1",
   "metadata": {
    "scrolled": false
   },
   "outputs": [
    {
     "name": "stderr",
     "output_type": "stream",
     "text": [
      "INFO:gensim.models.utils_any2vec:loading projection weights from crawl-300d-2M.vec\n",
      "DEBUG:smart_open.smart_open_lib:{'uri': 'crawl-300d-2M.vec', 'mode': 'rb', 'buffering': -1, 'encoding': None, 'errors': None, 'newline': None, 'closefd': True, 'opener': None, 'ignore_ext': False, 'compression': None, 'transport_params': None}\n",
      "INFO:gensim.models.utils_any2vec:loaded (1999995, 300) matrix from crawl-300d-2M.vec\n",
      "INFO:gensim.models.utils_any2vec:loading projection weights from crawl-300d-2M-subword.vec\n",
      "DEBUG:smart_open.smart_open_lib:{'uri': 'crawl-300d-2M-subword.vec', 'mode': 'rb', 'buffering': -1, 'encoding': None, 'errors': None, 'newline': None, 'closefd': True, 'opener': None, 'ignore_ext': False, 'compression': None, 'transport_params': None}\n",
      "INFO:gensim.models.utils_any2vec:loaded (2000000, 300) matrix from crawl-300d-2M-subword.vec\n"
     ]
    }
   ],
   "source": [
    "fast_embeddings_3 = KeyedVectors.load_word2vec_format('crawl-300d-2M.vec')\n",
    "fasttext_3 = WordEmbeddingModel(fast_embeddings_3, 'fasttext crawl dim=300')\n",
    "fast_embeddings_4 = KeyedVectors.load_word2vec_format('crawl-300d-2M-subword.vec')\n",
    "fasttext_4 = WordEmbeddingModel(fast_embeddings_4, 'fasttext crawl subwords dim=300')"
   ]
  },
  {
   "cell_type": "code",
   "execution_count": 7,
   "id": "8c7210ce",
   "metadata": {
    "scrolled": true
   },
   "outputs": [
    {
     "name": "stderr",
     "output_type": "stream",
     "text": [
      "INFO:gensim.models.utils_any2vec:loading projection weights from /Users/EmpiricalSE/gensim-data/word2vec-google-news-300/word2vec-google-news-300.gz\n",
      "DEBUG:smart_open.smart_open_lib:{'uri': '/Users/EmpiricalSE/gensim-data/word2vec-google-news-300/word2vec-google-news-300.gz', 'mode': 'rb', 'buffering': -1, 'encoding': None, 'errors': None, 'newline': None, 'closefd': True, 'opener': None, 'ignore_ext': False, 'compression': None, 'transport_params': None}\n",
      "INFO:gensim.models.utils_any2vec:loaded (3000000, 300) matrix from /Users/EmpiricalSE/gensim-data/word2vec-google-news-300/word2vec-google-news-300.gz\n"
     ]
    }
   ],
   "source": [
    "model_w2v = WordEmbeddingModel(api.load('word2vec-google-news-300'),\n",
    "                             'word2vec google dim=300')"
   ]
  },
  {
   "cell_type": "markdown",
   "id": "839faa8e",
   "metadata": {},
   "source": [
    "# Defining queries based on the original ECT paper"
   ]
  },
  {
   "cell_type": "code",
   "execution_count": 39,
   "id": "58090428",
   "metadata": {
    "scrolled": true
   },
   "outputs": [],
   "source": [
    "with open('ECT.json') as json_file:\n",
    "    word_sets = json.load(json_file)"
   ]
  },
  {
   "cell_type": "code",
   "execution_count": 40,
   "id": "8b171034",
   "metadata": {
    "scrolled": true
   },
   "outputs": [],
   "source": [
    "#word_sets = load_ECT()\n",
    "\n",
    "# Create gender queries\n",
    "queries = Query([word_sets['male_names'], word_sets['female_names']],\n",
    "                       [word_sets['professions']],\n",
    "                       ['Male names', 'Female names'], ['Professions'])"
   ]
  },
  {
   "cell_type": "code",
   "execution_count": 41,
   "id": "ce899981",
   "metadata": {},
   "outputs": [],
   "source": [
    "from wefe.metrics.ECT import ECT"
   ]
  },
  {
   "cell_type": "markdown",
   "id": "28b5e3a6",
   "metadata": {},
   "source": [
    "# GloVe\n",
    "1. Wikipedia 2014 + Gigaword 5 (6B tokens, 400K vocab, uncased, 50d, 100d, 200d, & 300d vectors, 822 MB download\n",
    "2. Common Crawl (42B tokens, 1.9M vocab, uncased, 300d vectors, 1.75 GB download)\n",
    "3. Common Crawl (840B tokens, 2.2M vocab, cased, 300d vectors, 2.03 GB download)\n",
    "4. Twitter (2B tweets, 27B tokens, 1.2M vocab, uncased, 25d, 50d, 100d, & 200d vectors, 1.42 GB download)\n",
    "\n",
    "## GloVe Twitter"
   ]
  },
  {
   "cell_type": "code",
   "execution_count": 45,
   "id": "86ac76c3",
   "metadata": {},
   "outputs": [
    {
     "data": {
      "text/plain": [
       "({'query_name': 'Male names and Female names wrt Professions',\n",
       "  'result': 0.964527342576123,\n",
       "  'ect': 0.964527342576123},\n",
       " {'query_name': 'Male names and Female names wrt Professions',\n",
       "  'result': 0.9449163641236812,\n",
       "  'ect': 0.9449163641236812},\n",
       " {'query_name': 'Male names and Female names wrt Professions',\n",
       "  'result': 0.8997740064813236,\n",
       "  'ect': 0.8997740064813236},\n",
       " {'query_name': 'Male names and Female names wrt Professions',\n",
       "  'result': 0.9160986371352225,\n",
       "  'ect': 0.9160986371352225})"
      ]
     },
     "execution_count": 45,
     "metadata": {},
     "output_type": "execute_result"
    }
   ],
   "source": [
    "ECT_results_1_5 = ECT().run_query(queries, glove_1)\n",
    "ECT_results_2_5 = ECT().run_query(queries, glove_2)\n",
    "ECT_results_3_5 = ECT().run_query(queries, glove_3)\n",
    "ECT_results_4_5 = ECT().run_query(queries, glove_4)\n",
    "\n",
    "ECT_results_1_5, ECT_results_2_5, ECT_results_3_5, ECT_results_4_5"
   ]
  },
  {
   "cell_type": "markdown",
   "id": "6a61e89f",
   "metadata": {},
   "source": [
    "## GloVe Wiki Gigaword"
   ]
  },
  {
   "cell_type": "code",
   "execution_count": 46,
   "id": "ee74457a",
   "metadata": {
    "scrolled": false
   },
   "outputs": [
    {
     "data": {
      "text/plain": [
       "({'query_name': 'Male names and Female names wrt Professions',\n",
       "  'result': 0.7628408222099937,\n",
       "  'ect': 0.7628408222099937},\n",
       " {'query_name': 'Male names and Female names wrt Professions',\n",
       "  'result': 0.8093864591500325,\n",
       "  'ect': 0.8093864591500325},\n",
       " {'query_name': 'Male names and Female names wrt Professions',\n",
       "  'result': 0.768858869534305,\n",
       "  'ect': 0.768858869534305},\n",
       " {'query_name': 'Male names and Female names wrt Professions',\n",
       "  'result': 0.7432259226974566,\n",
       "  'ect': 0.7432259226974566})"
      ]
     },
     "execution_count": 46,
     "metadata": {},
     "output_type": "execute_result"
    }
   ],
   "source": [
    "ECT_results_5_5 = ECT().run_query(queries, glove_5)\n",
    "ECT_results_6_5 = ECT().run_query(queries, glove_6)\n",
    "ECT_results_7_5 = ECT().run_query(queries, glove_7)\n",
    "ECT_results_8_5 = ECT().run_query(queries, glove_8)\n",
    "\n",
    "ECT_results_5_5, ECT_results_6_5, ECT_results_7_5, ECT_results_8_5"
   ]
  },
  {
   "cell_type": "markdown",
   "id": "b656dd82",
   "metadata": {},
   "source": [
    "## GloVe Common Crawl"
   ]
  },
  {
   "cell_type": "code",
   "execution_count": 47,
   "id": "40e704b1",
   "metadata": {
    "scrolled": true
   },
   "outputs": [
    {
     "data": {
      "text/plain": [
       "({'query_name': 'Male names and Female names wrt Professions',\n",
       "  'result': 0.8887985819263792,\n",
       "  'ect': 0.8887985819263792},\n",
       " {'query_name': 'Male names and Female names wrt Professions',\n",
       "  'result': 0.8614086262898774,\n",
       "  'ect': 0.8614086262898774})"
      ]
     },
     "execution_count": 47,
     "metadata": {},
     "output_type": "execute_result"
    }
   ],
   "source": [
    "ECT_results_9_5 = ECT().run_query(queries, glove_9)\n",
    "ECT_results_10_5 = ECT().run_query(queries, glove_10)\n",
    "\n",
    "ECT_results_9_5, ECT_results_10_5"
   ]
  },
  {
   "cell_type": "markdown",
   "id": "588f08db",
   "metadata": {},
   "source": [
    "# word2vec\n",
    "Pre-trained vectors trained on part of Google News dataset (about 100 billion words). The model contains 300-dimensional vectors for 3 million words and phrases."
   ]
  },
  {
   "cell_type": "code",
   "execution_count": 48,
   "id": "45c8917c",
   "metadata": {
    "scrolled": true
   },
   "outputs": [
    {
     "data": {
      "text/plain": [
       "{'query_name': 'Male names and Female names wrt Professions',\n",
       " 'result': 0.7333255207570387,\n",
       " 'ect': 0.7333255207570387}"
      ]
     },
     "execution_count": 48,
     "metadata": {},
     "output_type": "execute_result"
    }
   ],
   "source": [
    "ECT_results_w2v = ECT().run_query(queries, model_w2v)\n",
    "\n",
    "ECT_results_w2v"
   ]
  },
  {
   "cell_type": "markdown",
   "id": "78b7f011",
   "metadata": {},
   "source": [
    "# fastText crawl\n",
    "1. fasttext crawl dim=300: 2 million word vectors trained on Common Crawl (600B tokens).\n",
    "2. fasttext crawl subwords dim=300: 2 million word vectors trained with subword information on Common Crawl (600B tokens).\n",
    "\n",
    "A subword is the internal structure of words. Classic word representation cannot handle unseen word or rare word well. Character embeddings is one of the solution to overcome out-of-vocabulary (OOV). However, it may too fine-grained any missing some important information. Subword is in between word and character. It is not too fine-grained while able to handle unseen word and rare word. For example, we can split “subword” to “sub” and “word”. In other word we use two vector (i.e. “sub” and “word”) to represent “subword”."
   ]
  },
  {
   "cell_type": "code",
   "execution_count": 49,
   "id": "890e9559",
   "metadata": {
    "scrolled": true
   },
   "outputs": [
    {
     "data": {
      "text/plain": [
       "({'query_name': 'Male names and Female names wrt Professions',\n",
       "  'result': 0.6919113314406207,\n",
       "  'ect': 0.6919113314406207},\n",
       " {'query_name': 'Male names and Female names wrt Professions',\n",
       "  'result': 0.7487355672537973,\n",
       "  'ect': 0.7487355672537973})"
      ]
     },
     "execution_count": 49,
     "metadata": {},
     "output_type": "execute_result"
    }
   ],
   "source": [
    "models = [fasttext_3, fasttext_4]\n",
    "\n",
    "ECT_results_ft3 = ECT().run_query(queries, fasttext_3)\n",
    "ECT_results_ft4 = ECT().run_query(queries, fasttext_4)\n",
    "\n",
    "ECT_results_ft3, ECT_results_ft4"
   ]
  },
  {
   "cell_type": "markdown",
   "id": "e12f42f6",
   "metadata": {},
   "source": [
    "# fastText wiki news\n",
    "1. fasttext wiki dim=300: 1 million word vectors trained on Wikipedia 2017, UMBC webbase corpus and statmt.org news dataset (16B tokens).\n",
    "2. fasttext wiki subwords dim=300: 1 million word vectors trained with subword infomation on Wikipedia 2017, UMBC webbase corpus and statmt.org news dataset (16B tokens)."
   ]
  },
  {
   "cell_type": "code",
   "execution_count": 50,
   "id": "abf727c2",
   "metadata": {
    "scrolled": false
   },
   "outputs": [
    {
     "data": {
      "text/plain": [
       "({'query_name': 'Male names and Female names wrt Professions',\n",
       "  'result': 0.7441857520611252,\n",
       "  'ect': 0.7441857520611252},\n",
       " {'query_name': 'Male names and Female names wrt Professions',\n",
       "  'result': 0.7523445451402249,\n",
       "  'ect': 0.7523445451402249})"
      ]
     },
     "execution_count": 50,
     "metadata": {},
     "output_type": "execute_result"
    }
   ],
   "source": [
    "ECT_results_ft1 = ECT().run_query(queries, fasttext_1)\n",
    "ECT_results_ft2 = ECT().run_query(queries, fasttext_2)\n",
    "\n",
    "ECT_results_ft1, ECT_results_ft2"
   ]
  }
 ],
 "metadata": {
  "kernelspec": {
   "display_name": "p38workshop",
   "language": "python",
   "name": "p38workshop"
  },
  "language_info": {
   "codemirror_mode": {
    "name": "ipython",
    "version": 3
   },
   "file_extension": ".py",
   "mimetype": "text/x-python",
   "name": "python",
   "nbconvert_exporter": "python",
   "pygments_lexer": "ipython3",
   "version": "3.8.8"
  }
 },
 "nbformat": 4,
 "nbformat_minor": 5
}
