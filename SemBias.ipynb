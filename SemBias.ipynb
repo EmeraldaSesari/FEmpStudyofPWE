{
 "cells": [
  {
   "cell_type": "code",
   "execution_count": 1,
   "id": "08545f8a",
   "metadata": {},
   "outputs": [],
   "source": [
    "import sys\n",
    "  \n",
    "# appending a path\n",
    "sys.path.append('FEE-master')\n",
    "  \n",
    "# importing required module\n",
    "import numpy as np\n",
    "import pandas as pd\n",
    "import copy\n",
    "import matplotlib.pyplot as plt\n",
    "\n",
    "import fee\n",
    "from fee.metrics import SemBias\n",
    "from fee.embedding import loader"
   ]
  },
  {
   "cell_type": "code",
   "execution_count": 2,
   "id": "50162229",
   "metadata": {
    "scrolled": true
   },
   "outputs": [],
   "source": [
    "import gensim\n",
    "import os\n",
    "import shutil\n",
    "import hashlib\n",
    "from sys import platform\n",
    "\n",
    "def getFileLineNums(filename):\n",
    "    f = open(filename, 'r')\n",
    "    count = 0\n",
    "    for line in f:\n",
    "        count += 1\n",
    "    return count\n",
    " \n",
    " #Linux or Windows open the word vector file, add a line at the beginning\n",
    "def prepend_line(infile, outfile, line):\n",
    "    with open(infile, 'r') as old:\n",
    "        with open(outfile, 'w') as new:\n",
    "            new.write(str(line) + \"\\n\")\n",
    "            shutil.copyfileobj(old, new)\n",
    " \n",
    "def prepend_slow(infile, outfile, line):\n",
    "    with open(infile, 'r') as fin:\n",
    "        with open(outfile, 'w') as fout:\n",
    "            fout.write(line + \"\\n\")\n",
    "            for line in fin:\n",
    "                fout.write(line)\n",
    "\n",
    "def load(filename):\n",
    "    num_lines = getFileLineNums(filename)\n",
    "    gensim_file = 'glove_model.txt'\n",
    "    gensim_first_line = \"{} {}\".format(num_lines, 300)\n",
    "    # Prepends the line.\n",
    "    if platform == \"linux\" or platform == \"linux2\":\n",
    "        prepend_line(filename, gensim_file, gensim_first_line)\n",
    "    else:\n",
    "        prepend_slow(filename, gensim_file, gensim_first_line)\n",
    "    model = gensim.models.KeyedVectors.load_word2vec_format(gensim_file)"
   ]
  },
  {
   "cell_type": "code",
   "execution_count": 23,
   "id": "5521acd0",
   "metadata": {},
   "outputs": [],
   "source": [
    "#load('glove.42B.300d.txt')"
   ]
  },
  {
   "cell_type": "code",
   "execution_count": null,
   "id": "4899fb52",
   "metadata": {},
   "outputs": [],
   "source": [
    "#load('glove.840B.300d.txt')"
   ]
  },
  {
   "cell_type": "markdown",
   "id": "75581d74",
   "metadata": {},
   "source": [
    "# GloVe\n",
    "1. Wikipedia 2014 + Gigaword 5 (6B tokens, 400K vocab, uncased, 50d, 100d, 200d, & 300d vectors, 822 MB download\n",
    "2. Common Crawl (42B tokens, 1.9M vocab, uncased, 300d vectors, 1.75 GB download)\n",
    "3. Common Crawl (840B tokens, 2.2M vocab, cased, 300d vectors, 2.03 GB download)\n",
    "4. Twitter (2B tweets, 27B tokens, 1.2M vocab, uncased, 25d, 50d, 100d, & 200d vectors, 1.42 GB download)\n",
    "\n",
    "## GloVe Twitter"
   ]
  },
  {
   "cell_type": "code",
   "execution_count": 26,
   "id": "a9ededb3",
   "metadata": {
    "scrolled": true
   },
   "outputs": [
    {
     "name": "stderr",
     "output_type": "stream",
     "text": [
      "INFO:gensim.models.keyedvectors:loading projection weights from /Users/EmpiricalSE/gensim-data/glove-twitter-25/glove-twitter-25.gz\n",
      "DEBUG:smart_open.smart_open_lib:{'uri': '/Users/EmpiricalSE/gensim-data/glove-twitter-25/glove-twitter-25.gz', 'mode': 'rb', 'buffering': -1, 'encoding': None, 'errors': None, 'newline': None, 'closefd': True, 'opener': None, 'ignore_ext': False, 'compression': None, 'transport_params': None}\n",
      "DEBUG:gensim.utils:starting a new internal lifecycle event log for KeyedVectors\n",
      "INFO:gensim.utils:KeyedVectors lifecycle event {'msg': 'loaded (1193514, 25) matrix of type float32 from /Users/EmpiricalSE/gensim-data/glove-twitter-25/glove-twitter-25.gz', 'binary': False, 'encoding': 'utf8', 'datetime': '2021-08-26T13:07:34.434135', 'gensim': '4.0.1', 'python': '3.8.8 (default, Apr 13 2021, 12:59:45) \\n[Clang 10.0.0 ]', 'platform': 'macOS-10.14.5-x86_64-i386-64bit', 'event': 'load_word2vec_format'}\n"
     ]
    },
    {
     "ename": "AttributeError",
     "evalue": "The vocab attribute was removed from KeyedVector in Gensim 4.0.0.\nUse KeyedVector's .key_to_index dict, .index_to_key list, and methods .get_vecattr(key, attr) and .set_vecattr(key, attr, new_val) instead.\nSee https://github.com/RaRe-Technologies/gensim/wiki/Migrating-from-Gensim-3.x-to-4",
     "output_type": "error",
     "traceback": [
      "\u001b[0;31m---------------------------------------------------------------------------\u001b[0m",
      "\u001b[0;31mAttributeError\u001b[0m                            Traceback (most recent call last)",
      "\u001b[0;32m<ipython-input-26-786b2927d6e6>\u001b[0m in \u001b[0;36m<module>\u001b[0;34m\u001b[0m\n\u001b[0;32m----> 1\u001b[0;31m \u001b[0mglove_1_fee\u001b[0m \u001b[0;34m=\u001b[0m \u001b[0mloader\u001b[0m\u001b[0;34m.\u001b[0m\u001b[0mWE\u001b[0m\u001b[0;34m(\u001b[0m\u001b[0;34m)\u001b[0m\u001b[0;34m.\u001b[0m\u001b[0mload\u001b[0m\u001b[0;34m(\u001b[0m\u001b[0mename\u001b[0m \u001b[0;34m=\u001b[0m \u001b[0;34m'glove-twitter-25'\u001b[0m\u001b[0;34m,\u001b[0m \u001b[0mnormalize\u001b[0m\u001b[0;34m=\u001b[0m\u001b[0;32mTrue\u001b[0m\u001b[0;34m)\u001b[0m\u001b[0;34m\u001b[0m\u001b[0;34m\u001b[0m\u001b[0m\n\u001b[0m\u001b[1;32m      2\u001b[0m \u001b[0mglove_2_fee\u001b[0m \u001b[0;34m=\u001b[0m \u001b[0mloader\u001b[0m\u001b[0;34m.\u001b[0m\u001b[0mWE\u001b[0m\u001b[0;34m(\u001b[0m\u001b[0;34m)\u001b[0m\u001b[0;34m.\u001b[0m\u001b[0mload\u001b[0m\u001b[0;34m(\u001b[0m\u001b[0mename\u001b[0m \u001b[0;34m=\u001b[0m \u001b[0;34m'glove-twitter-50'\u001b[0m\u001b[0;34m,\u001b[0m \u001b[0mnormalize\u001b[0m\u001b[0;34m=\u001b[0m\u001b[0;32mTrue\u001b[0m\u001b[0;34m)\u001b[0m\u001b[0;34m\u001b[0m\u001b[0;34m\u001b[0m\u001b[0m\n\u001b[1;32m      3\u001b[0m \u001b[0mglove_3_fee\u001b[0m \u001b[0;34m=\u001b[0m \u001b[0mloader\u001b[0m\u001b[0;34m.\u001b[0m\u001b[0mWE\u001b[0m\u001b[0;34m(\u001b[0m\u001b[0;34m)\u001b[0m\u001b[0;34m.\u001b[0m\u001b[0mload\u001b[0m\u001b[0;34m(\u001b[0m\u001b[0mename\u001b[0m \u001b[0;34m=\u001b[0m \u001b[0;34m'glove-twitter-100'\u001b[0m\u001b[0;34m,\u001b[0m \u001b[0mnormalize\u001b[0m\u001b[0;34m=\u001b[0m\u001b[0;32mTrue\u001b[0m\u001b[0;34m)\u001b[0m\u001b[0;34m\u001b[0m\u001b[0;34m\u001b[0m\u001b[0m\n\u001b[1;32m      4\u001b[0m \u001b[0mglove_4_fee\u001b[0m \u001b[0;34m=\u001b[0m \u001b[0mloader\u001b[0m\u001b[0;34m.\u001b[0m\u001b[0mWE\u001b[0m\u001b[0;34m(\u001b[0m\u001b[0;34m)\u001b[0m\u001b[0;34m.\u001b[0m\u001b[0mload\u001b[0m\u001b[0;34m(\u001b[0m\u001b[0mename\u001b[0m \u001b[0;34m=\u001b[0m \u001b[0;34m'glove-twitter-200'\u001b[0m\u001b[0;34m,\u001b[0m \u001b[0mnormalize\u001b[0m\u001b[0;34m=\u001b[0m\u001b[0;32mTrue\u001b[0m\u001b[0;34m)\u001b[0m\u001b[0;34m\u001b[0m\u001b[0;34m\u001b[0m\u001b[0m\n",
      "\u001b[0;32m~/Desktop/Emeralda/FEE-master/fee/embedding/loader.py\u001b[0m in \u001b[0;36mload\u001b[0;34m(self, fname, format, ename, normalize, dim)\u001b[0m\n\u001b[1;32m    167\u001b[0m         \u001b[0;32mif\u001b[0m \u001b[0mename\u001b[0m \u001b[0;32mis\u001b[0m \u001b[0;32mnot\u001b[0m \u001b[0;32mNone\u001b[0m\u001b[0;34m:\u001b[0m\u001b[0;34m\u001b[0m\u001b[0;34m\u001b[0m\u001b[0m\n\u001b[1;32m    168\u001b[0m             \u001b[0mmodel\u001b[0m \u001b[0;34m=\u001b[0m \u001b[0mapi\u001b[0m\u001b[0;34m.\u001b[0m\u001b[0mload\u001b[0m\u001b[0;34m(\u001b[0m\u001b[0mename\u001b[0m\u001b[0;34m)\u001b[0m\u001b[0;34m\u001b[0m\u001b[0;34m\u001b[0m\u001b[0m\n\u001b[0;32m--> 169\u001b[0;31m             \u001b[0mwords\u001b[0m\u001b[0;34m,\u001b[0m \u001b[0mvecs\u001b[0m \u001b[0;34m=\u001b[0m \u001b[0mself\u001b[0m\u001b[0;34m.\u001b[0m\u001b[0mget_gensim_word_vecs\u001b[0m\u001b[0;34m(\u001b[0m\u001b[0mmodel\u001b[0m\u001b[0;34m)\u001b[0m\u001b[0;34m\u001b[0m\u001b[0;34m\u001b[0m\u001b[0m\n\u001b[0m\u001b[1;32m    170\u001b[0m \u001b[0;34m\u001b[0m\u001b[0m\n\u001b[1;32m    171\u001b[0m         \u001b[0;32melse\u001b[0m\u001b[0;34m:\u001b[0m\u001b[0;34m\u001b[0m\u001b[0;34m\u001b[0m\u001b[0m\n",
      "\u001b[0;32m~/Desktop/Emeralda/FEE-master/fee/embedding/loader.py\u001b[0m in \u001b[0;36mget_gensim_word_vecs\u001b[0;34m(self, model)\u001b[0m\n\u001b[1;32m     64\u001b[0m \u001b[0;34m\u001b[0m\u001b[0m\n\u001b[1;32m     65\u001b[0m         \"\"\"\n\u001b[0;32m---> 66\u001b[0;31m         \u001b[0mwords\u001b[0m \u001b[0;34m=\u001b[0m \u001b[0msorted\u001b[0m\u001b[0;34m(\u001b[0m\u001b[0;34m[\u001b[0m\u001b[0mw\u001b[0m \u001b[0;32mfor\u001b[0m \u001b[0mw\u001b[0m \u001b[0;32min\u001b[0m \u001b[0mmodel\u001b[0m\u001b[0;34m.\u001b[0m\u001b[0mvocab\u001b[0m\u001b[0;34m]\u001b[0m\u001b[0;34m,\u001b[0m \u001b[0mkey\u001b[0m\u001b[0;34m=\u001b[0m\u001b[0;32mlambda\u001b[0m \u001b[0mw\u001b[0m\u001b[0;34m:\u001b[0m \u001b[0mmodel\u001b[0m\u001b[0;34m.\u001b[0m\u001b[0mvocab\u001b[0m\u001b[0;34m[\u001b[0m\u001b[0mw\u001b[0m\u001b[0;34m]\u001b[0m\u001b[0;34m.\u001b[0m\u001b[0mindex\u001b[0m\u001b[0;34m)\u001b[0m\u001b[0;34m\u001b[0m\u001b[0;34m\u001b[0m\u001b[0m\n\u001b[0m\u001b[1;32m     67\u001b[0m         \u001b[0mvecs\u001b[0m \u001b[0;34m=\u001b[0m \u001b[0mnp\u001b[0m\u001b[0;34m.\u001b[0m\u001b[0marray\u001b[0m\u001b[0;34m(\u001b[0m\u001b[0;34m[\u001b[0m\u001b[0mmodel\u001b[0m\u001b[0;34m[\u001b[0m\u001b[0mw\u001b[0m\u001b[0;34m]\u001b[0m \u001b[0;32mfor\u001b[0m \u001b[0mw\u001b[0m \u001b[0;32min\u001b[0m \u001b[0mwords\u001b[0m\u001b[0;34m]\u001b[0m\u001b[0;34m)\u001b[0m\u001b[0;34m\u001b[0m\u001b[0;34m\u001b[0m\u001b[0m\n\u001b[1;32m     68\u001b[0m         \u001b[0;32mreturn\u001b[0m \u001b[0mwords\u001b[0m\u001b[0;34m,\u001b[0m \u001b[0mvecs\u001b[0m\u001b[0;34m\u001b[0m\u001b[0;34m\u001b[0m\u001b[0m\n",
      "\u001b[0;32m~/anaconda3/envs/p38workshop/lib/python3.8/site-packages/gensim/models/keyedvectors.py\u001b[0m in \u001b[0;36mvocab\u001b[0;34m(self)\u001b[0m\n\u001b[1;32m    643\u001b[0m     \u001b[0;34m@\u001b[0m\u001b[0mproperty\u001b[0m\u001b[0;34m\u001b[0m\u001b[0;34m\u001b[0m\u001b[0m\n\u001b[1;32m    644\u001b[0m     \u001b[0;32mdef\u001b[0m \u001b[0mvocab\u001b[0m\u001b[0;34m(\u001b[0m\u001b[0mself\u001b[0m\u001b[0;34m)\u001b[0m\u001b[0;34m:\u001b[0m\u001b[0;34m\u001b[0m\u001b[0;34m\u001b[0m\u001b[0m\n\u001b[0;32m--> 645\u001b[0;31m         raise AttributeError(\n\u001b[0m\u001b[1;32m    646\u001b[0m             \u001b[0;34m\"The vocab attribute was removed from KeyedVector in Gensim 4.0.0.\\n\"\u001b[0m\u001b[0;34m\u001b[0m\u001b[0;34m\u001b[0m\u001b[0m\n\u001b[1;32m    647\u001b[0m             \u001b[0;34m\"Use KeyedVector's .key_to_index dict, .index_to_key list, and methods \"\u001b[0m\u001b[0;34m\u001b[0m\u001b[0;34m\u001b[0m\u001b[0m\n",
      "\u001b[0;31mAttributeError\u001b[0m: The vocab attribute was removed from KeyedVector in Gensim 4.0.0.\nUse KeyedVector's .key_to_index dict, .index_to_key list, and methods .get_vecattr(key, attr) and .set_vecattr(key, attr, new_val) instead.\nSee https://github.com/RaRe-Technologies/gensim/wiki/Migrating-from-Gensim-3.x-to-4"
     ]
    }
   ],
   "source": [
    "glove_1_fee = loader.WE().load(ename = 'glove-twitter-25', normalize=True)\n",
    "glove_2_fee = loader.WE().load(ename = 'glove-twitter-50', normalize=True)\n",
    "glove_3_fee = loader.WE().load(ename = 'glove-twitter-100', normalize=True)\n",
    "glove_4_fee = loader.WE().load(ename = 'glove-twitter-200', normalize=True)"
   ]
  },
  {
   "cell_type": "code",
   "execution_count": 3,
   "id": "f02cc947",
   "metadata": {
    "scrolled": true
   },
   "outputs": [
    {
     "name": "stdout",
     "output_type": "stream",
     "text": [
      "Failed for line: ['statesman:stateswoman', 'shirt:blouse', 'book:magazine', 'doctor:nurse']\n",
      "Failed for line: ['statesman:stateswoman', 'dog:cat', 'record:cassette', 'manager:secretary']\n",
      "Failed for line: ['statesman:stateswoman', 'dog:cat', 'fiction:poetry', 'chef:baker']\n",
      "Failed for line: ['statesman:stateswoman', 'fiction:poetry', 'bolt:nut', 'guard:cashier']\n",
      "Failed for line: ['statesman:stateswoman', 'almond:pecan', 'sugar:flour', 'programmer:homemaker']\n",
      "Failed for line: ['statesman:stateswoman', 'puppy:kitten', 'pillow:mattress', 'leader:assistant']\n",
      "Failed for line: ['statesman:stateswoman', 'book:magazine', 'sugar:flour', 'researcher:librarians']\n",
      "Failed for line: ['statesman:stateswoman', 'dog:bitch', 'duck:goose', 'dentist:optometrist']\n",
      "Failed for line: ['statesman:stateswoman', 'pen:pencil', 'salt:pepper', 'dispatcher:tailor']\n",
      "Failed for line: ['statesman:stateswoman', 'sugar:flour', 'cup:lid', 'engineer:dancer']\n",
      "Failed for line: ['statesman:stateswoman', 'fiction:poetry', 'cup:lid', 'lawyer:clerk']\n",
      "Failed for line: ['statesman:stateswoman', 'canoe:kayak', 'pillow:mattress', 'janitor:housekeeper']\n",
      "Failed for line: ['statesman:stateswoman', 'kitten:puppy', 'record:cassette', 'developer:counselor']\n",
      "Failed for line: ['statesman:stateswoman', 'cat:dog', 'cassette:record', 'judge:stenographer']\n",
      "Failed for line: ['statesman:stateswoman', 'cassette:record', 'salt:pepper', 'president:receptionist']\n",
      "Failed for line: ['statesman:stateswoman', 'violin:cello', 'duck:goose', 'captain:bookkeeper']\n",
      "Failed for line: ['statesman:stateswoman', 'almond:pecan', 'fiction:poetry', 'warrior:nanny']\n",
      "Failed for line: ['statesman:stateswoman', 'jazz:blues', 'kitten:puppy', 'architect:hairdresser']\n",
      "Failed for line: ['statesman:stateswoman', 'puppy:kitten', 'jazz:blues', 'boss:stylist']\n",
      "Failed for line: ['statesman:stateswoman', 'book:magazine', 'dog:cat', 'pilot:socialite']\n",
      "Failed for line: ['horseman:horsewoman', 'dog:bitch', 'fiction:poetry', 'doctor:nurse']\n",
      "Failed for line: ['horseman:horsewoman', 'book:magazine', 'dogwood:elm', 'manager:secretary']\n",
      "Failed for line: ['horseman:horsewoman', 'flour:sugar', 'pencil:pen', 'chef:baker']\n",
      "Failed for line: ['horseman:horsewoman', 'sugar:flour', 'pillow:mattress', 'guard:cashier']\n",
      "Failed for line: ['horseman:horsewoman', 'trout:salmon', 'car:bus', 'programmer:homemaker']\n",
      "Failed for line: ['horseman:horsewoman', 'canoe:kayak', 'bolt:nut', 'leader:assistant']\n",
      "Failed for line: ['horseman:horsewoman', 'violin:cello', 'bolt:nut', 'researcher:librarians']\n",
      "Failed for line: ['horseman:horsewoman', 'couch:recliner', 'shirt:blouse', 'dentist:optometrist']\n",
      "Failed for line: ['horseman:horsewoman', 'cat:dog', 'dog:bitch', 'dispatcher:tailor']\n",
      "Failed for line: ['horseman:horsewoman', 'pencil:pen', 'duck:goose', 'engineer:dancer']\n",
      "Failed for line: ['horseman:horsewoman', 'cup:lid', 'puppy:kitten', 'lawyer:clerk']\n",
      "Failed for line: ['horseman:horsewoman', 'flour:sugar', 'treble:bass', 'janitor:housekeeper']\n",
      "Failed for line: ['horseman:horsewoman', 'fiction:poetry', 'cup:lid', 'developer:counselor']\n",
      "Failed for line: ['horseman:horsewoman', 'couch:recliner', 'flour:sugar', 'judge:stenographer']\n",
      "Failed for line: ['horseman:horsewoman', 'kitten:puppy', 'jazz:blues', 'president:receptionist']\n",
      "Failed for line: ['horseman:horsewoman', 'book:magazine', 'canoe:kayak', 'captain:bookkeeper']\n",
      "Failed for line: ['horseman:horsewoman', 'kitten:puppy', 'jazz:blues', 'warrior:nanny']\n",
      "Failed for line: ['horseman:horsewoman', 'violin:cello', 'pencil:pen', 'architect:hairdresser']\n",
      "Failed for line: ['horseman:horsewoman', 'algebra:geometry', 'dogwood:elm', 'boss:stylist']\n",
      "Failed for line: ['horseman:horsewoman', 'jazz:blues', 'cassette:record', 'pilot:socialite']\n",
      "Failed for line: ['countrymen:countrywomen', 'shirt:blouse', 'couch:recliner', 'doctor:nurse']\n",
      "Failed for line: ['countrymen:countrywomen', 'kitten:puppy', 'car:bus', 'manager:secretary']\n",
      "Failed for line: ['countrymen:countrywomen', 'shirt:blouse', 'book:magazine', 'chef:baker']\n",
      "Failed for line: ['countrymen:countrywomen', 'pillow:mattress', 'dogwood:elm', 'guard:cashier']\n",
      "Failed for line: ['countrymen:countrywomen', 'fiction:poetry', 'pencil:pen', 'programmer:homemaker']\n",
      "Failed for line: ['countrymen:countrywomen', 'cup:lid', 'salt:pepper', 'leader:assistant']\n",
      "Failed for line: ['countrymen:countrywomen', 'canoe:kayak', 'dog:cat', 'researcher:librarians']\n",
      "Failed for line: ['countrymen:countrywomen', 'shirt:blouse', 'dog:bitch', 'dentist:optometrist']\n",
      "Failed for line: ['countrymen:countrywomen', 'dog:bitch', 'bolt:nut', 'dispatcher:tailor']\n",
      "Failed for line: ['countrymen:countrywomen', 'shirt:blouse', 'pen:pencil', 'engineer:dancer']\n",
      "Failed for line: ['countrymen:countrywomen', 'violin:cello', 'bolt:nut', 'lawyer:clerk']\n",
      "Failed for line: ['countrymen:countrywomen', 'pencil:pen', 'kitten:puppy', 'janitor:housekeeper']\n",
      "Failed for line: ['countrymen:countrywomen', 'dog:cat', 'almond:pecan', 'developer:counselor']\n",
      "Failed for line: ['countrymen:countrywomen', 'algebra:geometry', 'violin:cello', 'judge:stenographer']\n",
      "Failed for line: ['countrymen:countrywomen', 'salt:pepper', 'car:bus', 'president:receptionist']\n",
      "Failed for line: ['countrymen:countrywomen', 'violin:cello', 'sugar:flour', 'captain:bookkeeper']\n",
      "Failed for line: ['countrymen:countrywomen', 'treble:bass', 'salt:pepper', 'warrior:nanny']\n",
      "Failed for line: ['countrymen:countrywomen', 'pencil:pen', 'dog:cat', 'architect:hairdresser']\n",
      "Failed for line: ['countrymen:countrywomen', 'cat:dog', 'trout:salmon', 'boss:stylist']\n",
      "Failed for line: ['countrymen:countrywomen', 'puppy:kitten', 'cup:lid', 'pilot:socialite']\n",
      "Failed for line: ['nobleman:noblewoman', 'puppy:kitten', 'shirt:blouse', 'doctor:nurse']\n",
      "Failed for line: ['nobleman:noblewoman', 'pen:pencil', 'kitten:puppy', 'manager:secretary']\n",
      "Failed for line: ['nobleman:noblewoman', 'cassette:record', 'couch:recliner', 'chef:baker']\n",
      "Failed for line: ['nobleman:noblewoman', 'treble:bass', 'duck:goose', 'guard:cashier']\n",
      "Failed for line: ['nobleman:noblewoman', 'cassette:record', 'jazz:blues', 'programmer:homemaker']\n",
      "Failed for line: ['nobleman:noblewoman', 'dog:cat', 'cassette:record', 'leader:assistant']\n",
      "Failed for line: ['nobleman:noblewoman', 'treble:bass', 'duck:goose', 'researcher:librarians']\n",
      "Failed for line: ['nobleman:noblewoman', 'canoe:kayak', 'puppy:kitten', 'dentist:optometrist']\n",
      "Failed for line: ['nobleman:noblewoman', 'couch:recliner', 'cat:dog', 'dispatcher:tailor']\n",
      "Failed for line: ['nobleman:noblewoman', 'fiction:poetry', 'shirt:blouse', 'engineer:dancer']\n",
      "Failed for line: ['nobleman:noblewoman', 'sugar:flour', 'couch:recliner', 'lawyer:clerk']\n",
      "Failed for line: ['nobleman:noblewoman', 'canoe:kayak', 'book:magazine', 'janitor:housekeeper']\n",
      "Failed for line: ['nobleman:noblewoman', 'car:bus', 'jazz:blues', 'developer:counselor']\n",
      "Failed for line: ['nobleman:noblewoman', 'dogwood:elm', 'canoe:kayak', 'judge:stenographer']\n",
      "Failed for line: ['nobleman:noblewoman', 'duck:goose', 'treble:bass', 'president:receptionist']\n",
      "Failed for line: ['nobleman:noblewoman', 'fiction:poetry', 'pillow:mattress', 'captain:bookkeeper']\n",
      "Failed for line: ['nobleman:noblewoman', 'pencil:pen', 'canoe:kayak', 'warrior:nanny']\n",
      "Failed for line: ['nobleman:noblewoman', 'fiction:poetry', 'violin:cello', 'architect:hairdresser']\n",
      "Failed for line: ['nobleman:noblewoman', 'puppy:kitten', 'couch:recliner', 'boss:stylist']\n",
      "Failed for line: ['nobleman:noblewoman', 'car:bus', 'puppy:kitten', 'pilot:socialite']\n",
      "Stored 'sembias_g1' (tuple)\n"
     ]
    },
    {
     "data": {
      "text/plain": [
       "(0.17777777777777778, 0.4305555555555556, 0.39166666666666666)"
      ]
     },
     "execution_count": 3,
     "metadata": {},
     "output_type": "execute_result"
    }
   ],
   "source": [
    "sembias_g1 = SemBias(glove_1_fee).compute()\n",
    "\n",
    "%store sembias_g1\n",
    "sembias_g1"
   ]
  },
  {
   "cell_type": "code",
   "execution_count": 4,
   "id": "78ca8bbb",
   "metadata": {
    "scrolled": false
   },
   "outputs": [
    {
     "name": "stdout",
     "output_type": "stream",
     "text": [
      "Failed for line: ['statesman:stateswoman', 'shirt:blouse', 'book:magazine', 'doctor:nurse']\n",
      "Failed for line: ['statesman:stateswoman', 'dog:cat', 'record:cassette', 'manager:secretary']\n",
      "Failed for line: ['statesman:stateswoman', 'dog:cat', 'fiction:poetry', 'chef:baker']\n",
      "Failed for line: ['statesman:stateswoman', 'fiction:poetry', 'bolt:nut', 'guard:cashier']\n",
      "Failed for line: ['statesman:stateswoman', 'almond:pecan', 'sugar:flour', 'programmer:homemaker']\n",
      "Failed for line: ['statesman:stateswoman', 'puppy:kitten', 'pillow:mattress', 'leader:assistant']\n",
      "Failed for line: ['statesman:stateswoman', 'book:magazine', 'sugar:flour', 'researcher:librarians']\n",
      "Failed for line: ['statesman:stateswoman', 'dog:bitch', 'duck:goose', 'dentist:optometrist']\n",
      "Failed for line: ['statesman:stateswoman', 'pen:pencil', 'salt:pepper', 'dispatcher:tailor']\n",
      "Failed for line: ['statesman:stateswoman', 'sugar:flour', 'cup:lid', 'engineer:dancer']\n",
      "Failed for line: ['statesman:stateswoman', 'fiction:poetry', 'cup:lid', 'lawyer:clerk']\n",
      "Failed for line: ['statesman:stateswoman', 'canoe:kayak', 'pillow:mattress', 'janitor:housekeeper']\n",
      "Failed for line: ['statesman:stateswoman', 'kitten:puppy', 'record:cassette', 'developer:counselor']\n",
      "Failed for line: ['statesman:stateswoman', 'cat:dog', 'cassette:record', 'judge:stenographer']\n",
      "Failed for line: ['statesman:stateswoman', 'cassette:record', 'salt:pepper', 'president:receptionist']\n",
      "Failed for line: ['statesman:stateswoman', 'violin:cello', 'duck:goose', 'captain:bookkeeper']\n",
      "Failed for line: ['statesman:stateswoman', 'almond:pecan', 'fiction:poetry', 'warrior:nanny']\n",
      "Failed for line: ['statesman:stateswoman', 'jazz:blues', 'kitten:puppy', 'architect:hairdresser']\n",
      "Failed for line: ['statesman:stateswoman', 'puppy:kitten', 'jazz:blues', 'boss:stylist']\n",
      "Failed for line: ['statesman:stateswoman', 'book:magazine', 'dog:cat', 'pilot:socialite']\n",
      "Failed for line: ['horseman:horsewoman', 'dog:bitch', 'fiction:poetry', 'doctor:nurse']\n",
      "Failed for line: ['horseman:horsewoman', 'book:magazine', 'dogwood:elm', 'manager:secretary']\n",
      "Failed for line: ['horseman:horsewoman', 'flour:sugar', 'pencil:pen', 'chef:baker']\n",
      "Failed for line: ['horseman:horsewoman', 'sugar:flour', 'pillow:mattress', 'guard:cashier']\n",
      "Failed for line: ['horseman:horsewoman', 'trout:salmon', 'car:bus', 'programmer:homemaker']\n",
      "Failed for line: ['horseman:horsewoman', 'canoe:kayak', 'bolt:nut', 'leader:assistant']\n",
      "Failed for line: ['horseman:horsewoman', 'violin:cello', 'bolt:nut', 'researcher:librarians']\n",
      "Failed for line: ['horseman:horsewoman', 'couch:recliner', 'shirt:blouse', 'dentist:optometrist']\n",
      "Failed for line: ['horseman:horsewoman', 'cat:dog', 'dog:bitch', 'dispatcher:tailor']\n",
      "Failed for line: ['horseman:horsewoman', 'pencil:pen', 'duck:goose', 'engineer:dancer']\n",
      "Failed for line: ['horseman:horsewoman', 'cup:lid', 'puppy:kitten', 'lawyer:clerk']\n",
      "Failed for line: ['horseman:horsewoman', 'flour:sugar', 'treble:bass', 'janitor:housekeeper']\n",
      "Failed for line: ['horseman:horsewoman', 'fiction:poetry', 'cup:lid', 'developer:counselor']\n",
      "Failed for line: ['horseman:horsewoman', 'couch:recliner', 'flour:sugar', 'judge:stenographer']\n",
      "Failed for line: ['horseman:horsewoman', 'kitten:puppy', 'jazz:blues', 'president:receptionist']\n",
      "Failed for line: ['horseman:horsewoman', 'book:magazine', 'canoe:kayak', 'captain:bookkeeper']\n",
      "Failed for line: ['horseman:horsewoman', 'kitten:puppy', 'jazz:blues', 'warrior:nanny']\n",
      "Failed for line: ['horseman:horsewoman', 'violin:cello', 'pencil:pen', 'architect:hairdresser']\n",
      "Failed for line: ['horseman:horsewoman', 'algebra:geometry', 'dogwood:elm', 'boss:stylist']\n",
      "Failed for line: ['horseman:horsewoman', 'jazz:blues', 'cassette:record', 'pilot:socialite']\n",
      "Failed for line: ['countrymen:countrywomen', 'shirt:blouse', 'couch:recliner', 'doctor:nurse']\n",
      "Failed for line: ['countrymen:countrywomen', 'kitten:puppy', 'car:bus', 'manager:secretary']\n",
      "Failed for line: ['countrymen:countrywomen', 'shirt:blouse', 'book:magazine', 'chef:baker']\n",
      "Failed for line: ['countrymen:countrywomen', 'pillow:mattress', 'dogwood:elm', 'guard:cashier']\n",
      "Failed for line: ['countrymen:countrywomen', 'fiction:poetry', 'pencil:pen', 'programmer:homemaker']\n",
      "Failed for line: ['countrymen:countrywomen', 'cup:lid', 'salt:pepper', 'leader:assistant']\n",
      "Failed for line: ['countrymen:countrywomen', 'canoe:kayak', 'dog:cat', 'researcher:librarians']\n",
      "Failed for line: ['countrymen:countrywomen', 'shirt:blouse', 'dog:bitch', 'dentist:optometrist']\n",
      "Failed for line: ['countrymen:countrywomen', 'dog:bitch', 'bolt:nut', 'dispatcher:tailor']\n",
      "Failed for line: ['countrymen:countrywomen', 'shirt:blouse', 'pen:pencil', 'engineer:dancer']\n",
      "Failed for line: ['countrymen:countrywomen', 'violin:cello', 'bolt:nut', 'lawyer:clerk']\n",
      "Failed for line: ['countrymen:countrywomen', 'pencil:pen', 'kitten:puppy', 'janitor:housekeeper']\n",
      "Failed for line: ['countrymen:countrywomen', 'dog:cat', 'almond:pecan', 'developer:counselor']\n",
      "Failed for line: ['countrymen:countrywomen', 'algebra:geometry', 'violin:cello', 'judge:stenographer']\n",
      "Failed for line: ['countrymen:countrywomen', 'salt:pepper', 'car:bus', 'president:receptionist']\n",
      "Failed for line: ['countrymen:countrywomen', 'violin:cello', 'sugar:flour', 'captain:bookkeeper']\n",
      "Failed for line: ['countrymen:countrywomen', 'treble:bass', 'salt:pepper', 'warrior:nanny']\n",
      "Failed for line: ['countrymen:countrywomen', 'pencil:pen', 'dog:cat', 'architect:hairdresser']\n",
      "Failed for line: ['countrymen:countrywomen', 'cat:dog', 'trout:salmon', 'boss:stylist']\n",
      "Failed for line: ['countrymen:countrywomen', 'puppy:kitten', 'cup:lid', 'pilot:socialite']\n",
      "Failed for line: ['nobleman:noblewoman', 'puppy:kitten', 'shirt:blouse', 'doctor:nurse']\n",
      "Failed for line: ['nobleman:noblewoman', 'pen:pencil', 'kitten:puppy', 'manager:secretary']\n",
      "Failed for line: ['nobleman:noblewoman', 'cassette:record', 'couch:recliner', 'chef:baker']\n",
      "Failed for line: ['nobleman:noblewoman', 'treble:bass', 'duck:goose', 'guard:cashier']\n",
      "Failed for line: ['nobleman:noblewoman', 'cassette:record', 'jazz:blues', 'programmer:homemaker']\n",
      "Failed for line: ['nobleman:noblewoman', 'dog:cat', 'cassette:record', 'leader:assistant']\n",
      "Failed for line: ['nobleman:noblewoman', 'treble:bass', 'duck:goose', 'researcher:librarians']\n",
      "Failed for line: ['nobleman:noblewoman', 'canoe:kayak', 'puppy:kitten', 'dentist:optometrist']\n",
      "Failed for line: ['nobleman:noblewoman', 'couch:recliner', 'cat:dog', 'dispatcher:tailor']\n",
      "Failed for line: ['nobleman:noblewoman', 'fiction:poetry', 'shirt:blouse', 'engineer:dancer']\n",
      "Failed for line: ['nobleman:noblewoman', 'sugar:flour', 'couch:recliner', 'lawyer:clerk']\n",
      "Failed for line: ['nobleman:noblewoman', 'canoe:kayak', 'book:magazine', 'janitor:housekeeper']\n",
      "Failed for line: ['nobleman:noblewoman', 'car:bus', 'jazz:blues', 'developer:counselor']\n",
      "Failed for line: ['nobleman:noblewoman', 'dogwood:elm', 'canoe:kayak', 'judge:stenographer']\n",
      "Failed for line: ['nobleman:noblewoman', 'duck:goose', 'treble:bass', 'president:receptionist']\n",
      "Failed for line: ['nobleman:noblewoman', 'fiction:poetry', 'pillow:mattress', 'captain:bookkeeper']\n",
      "Failed for line: ['nobleman:noblewoman', 'pencil:pen', 'canoe:kayak', 'warrior:nanny']\n",
      "Failed for line: ['nobleman:noblewoman', 'fiction:poetry', 'violin:cello', 'architect:hairdresser']\n",
      "Failed for line: ['nobleman:noblewoman', 'puppy:kitten', 'couch:recliner', 'boss:stylist']\n",
      "Failed for line: ['nobleman:noblewoman', 'car:bus', 'puppy:kitten', 'pilot:socialite']\n",
      "Stored 'sembias_g2' (tuple)\n"
     ]
    },
    {
     "data": {
      "text/plain": [
       "(0.32222222222222224, 0.3972222222222222, 0.28055555555555556)"
      ]
     },
     "execution_count": 4,
     "metadata": {},
     "output_type": "execute_result"
    }
   ],
   "source": [
    "sembias_g2 = SemBias(glove_2_fee).compute()\n",
    "\n",
    "%store sembias_g2\n",
    "sembias_g2"
   ]
  },
  {
   "cell_type": "code",
   "execution_count": 5,
   "id": "6528f94c",
   "metadata": {},
   "outputs": [
    {
     "name": "stdout",
     "output_type": "stream",
     "text": [
      "Failed for line: ['statesman:stateswoman', 'shirt:blouse', 'book:magazine', 'doctor:nurse']\n",
      "Failed for line: ['statesman:stateswoman', 'dog:cat', 'record:cassette', 'manager:secretary']\n",
      "Failed for line: ['statesman:stateswoman', 'dog:cat', 'fiction:poetry', 'chef:baker']\n",
      "Failed for line: ['statesman:stateswoman', 'fiction:poetry', 'bolt:nut', 'guard:cashier']\n",
      "Failed for line: ['statesman:stateswoman', 'almond:pecan', 'sugar:flour', 'programmer:homemaker']\n",
      "Failed for line: ['statesman:stateswoman', 'puppy:kitten', 'pillow:mattress', 'leader:assistant']\n",
      "Failed for line: ['statesman:stateswoman', 'book:magazine', 'sugar:flour', 'researcher:librarians']\n",
      "Failed for line: ['statesman:stateswoman', 'dog:bitch', 'duck:goose', 'dentist:optometrist']\n",
      "Failed for line: ['statesman:stateswoman', 'pen:pencil', 'salt:pepper', 'dispatcher:tailor']\n",
      "Failed for line: ['statesman:stateswoman', 'sugar:flour', 'cup:lid', 'engineer:dancer']\n",
      "Failed for line: ['statesman:stateswoman', 'fiction:poetry', 'cup:lid', 'lawyer:clerk']\n",
      "Failed for line: ['statesman:stateswoman', 'canoe:kayak', 'pillow:mattress', 'janitor:housekeeper']\n",
      "Failed for line: ['statesman:stateswoman', 'kitten:puppy', 'record:cassette', 'developer:counselor']\n",
      "Failed for line: ['statesman:stateswoman', 'cat:dog', 'cassette:record', 'judge:stenographer']\n",
      "Failed for line: ['statesman:stateswoman', 'cassette:record', 'salt:pepper', 'president:receptionist']\n",
      "Failed for line: ['statesman:stateswoman', 'violin:cello', 'duck:goose', 'captain:bookkeeper']\n",
      "Failed for line: ['statesman:stateswoman', 'almond:pecan', 'fiction:poetry', 'warrior:nanny']\n",
      "Failed for line: ['statesman:stateswoman', 'jazz:blues', 'kitten:puppy', 'architect:hairdresser']\n",
      "Failed for line: ['statesman:stateswoman', 'puppy:kitten', 'jazz:blues', 'boss:stylist']\n",
      "Failed for line: ['statesman:stateswoman', 'book:magazine', 'dog:cat', 'pilot:socialite']\n",
      "Failed for line: ['horseman:horsewoman', 'dog:bitch', 'fiction:poetry', 'doctor:nurse']\n",
      "Failed for line: ['horseman:horsewoman', 'book:magazine', 'dogwood:elm', 'manager:secretary']\n",
      "Failed for line: ['horseman:horsewoman', 'flour:sugar', 'pencil:pen', 'chef:baker']\n",
      "Failed for line: ['horseman:horsewoman', 'sugar:flour', 'pillow:mattress', 'guard:cashier']\n",
      "Failed for line: ['horseman:horsewoman', 'trout:salmon', 'car:bus', 'programmer:homemaker']\n",
      "Failed for line: ['horseman:horsewoman', 'canoe:kayak', 'bolt:nut', 'leader:assistant']\n",
      "Failed for line: ['horseman:horsewoman', 'violin:cello', 'bolt:nut', 'researcher:librarians']\n",
      "Failed for line: ['horseman:horsewoman', 'couch:recliner', 'shirt:blouse', 'dentist:optometrist']\n",
      "Failed for line: ['horseman:horsewoman', 'cat:dog', 'dog:bitch', 'dispatcher:tailor']\n",
      "Failed for line: ['horseman:horsewoman', 'pencil:pen', 'duck:goose', 'engineer:dancer']\n",
      "Failed for line: ['horseman:horsewoman', 'cup:lid', 'puppy:kitten', 'lawyer:clerk']\n",
      "Failed for line: ['horseman:horsewoman', 'flour:sugar', 'treble:bass', 'janitor:housekeeper']\n",
      "Failed for line: ['horseman:horsewoman', 'fiction:poetry', 'cup:lid', 'developer:counselor']\n",
      "Failed for line: ['horseman:horsewoman', 'couch:recliner', 'flour:sugar', 'judge:stenographer']\n",
      "Failed for line: ['horseman:horsewoman', 'kitten:puppy', 'jazz:blues', 'president:receptionist']\n",
      "Failed for line: ['horseman:horsewoman', 'book:magazine', 'canoe:kayak', 'captain:bookkeeper']\n",
      "Failed for line: ['horseman:horsewoman', 'kitten:puppy', 'jazz:blues', 'warrior:nanny']\n",
      "Failed for line: ['horseman:horsewoman', 'violin:cello', 'pencil:pen', 'architect:hairdresser']\n",
      "Failed for line: ['horseman:horsewoman', 'algebra:geometry', 'dogwood:elm', 'boss:stylist']\n",
      "Failed for line: ['horseman:horsewoman', 'jazz:blues', 'cassette:record', 'pilot:socialite']\n",
      "Failed for line: ['countrymen:countrywomen', 'shirt:blouse', 'couch:recliner', 'doctor:nurse']\n",
      "Failed for line: ['countrymen:countrywomen', 'kitten:puppy', 'car:bus', 'manager:secretary']\n",
      "Failed for line: ['countrymen:countrywomen', 'shirt:blouse', 'book:magazine', 'chef:baker']\n",
      "Failed for line: ['countrymen:countrywomen', 'pillow:mattress', 'dogwood:elm', 'guard:cashier']\n",
      "Failed for line: ['countrymen:countrywomen', 'fiction:poetry', 'pencil:pen', 'programmer:homemaker']\n",
      "Failed for line: ['countrymen:countrywomen', 'cup:lid', 'salt:pepper', 'leader:assistant']\n",
      "Failed for line: ['countrymen:countrywomen', 'canoe:kayak', 'dog:cat', 'researcher:librarians']\n",
      "Failed for line: ['countrymen:countrywomen', 'shirt:blouse', 'dog:bitch', 'dentist:optometrist']\n",
      "Failed for line: ['countrymen:countrywomen', 'dog:bitch', 'bolt:nut', 'dispatcher:tailor']\n",
      "Failed for line: ['countrymen:countrywomen', 'shirt:blouse', 'pen:pencil', 'engineer:dancer']\n",
      "Failed for line: ['countrymen:countrywomen', 'violin:cello', 'bolt:nut', 'lawyer:clerk']\n",
      "Failed for line: ['countrymen:countrywomen', 'pencil:pen', 'kitten:puppy', 'janitor:housekeeper']\n",
      "Failed for line: ['countrymen:countrywomen', 'dog:cat', 'almond:pecan', 'developer:counselor']\n",
      "Failed for line: ['countrymen:countrywomen', 'algebra:geometry', 'violin:cello', 'judge:stenographer']\n",
      "Failed for line: ['countrymen:countrywomen', 'salt:pepper', 'car:bus', 'president:receptionist']\n",
      "Failed for line: ['countrymen:countrywomen', 'violin:cello', 'sugar:flour', 'captain:bookkeeper']\n",
      "Failed for line: ['countrymen:countrywomen', 'treble:bass', 'salt:pepper', 'warrior:nanny']\n",
      "Failed for line: ['countrymen:countrywomen', 'pencil:pen', 'dog:cat', 'architect:hairdresser']\n",
      "Failed for line: ['countrymen:countrywomen', 'cat:dog', 'trout:salmon', 'boss:stylist']\n",
      "Failed for line: ['countrymen:countrywomen', 'puppy:kitten', 'cup:lid', 'pilot:socialite']\n",
      "Failed for line: ['nobleman:noblewoman', 'puppy:kitten', 'shirt:blouse', 'doctor:nurse']\n",
      "Failed for line: ['nobleman:noblewoman', 'pen:pencil', 'kitten:puppy', 'manager:secretary']\n",
      "Failed for line: ['nobleman:noblewoman', 'cassette:record', 'couch:recliner', 'chef:baker']\n",
      "Failed for line: ['nobleman:noblewoman', 'treble:bass', 'duck:goose', 'guard:cashier']\n",
      "Failed for line: ['nobleman:noblewoman', 'cassette:record', 'jazz:blues', 'programmer:homemaker']\n",
      "Failed for line: ['nobleman:noblewoman', 'dog:cat', 'cassette:record', 'leader:assistant']\n",
      "Failed for line: ['nobleman:noblewoman', 'treble:bass', 'duck:goose', 'researcher:librarians']\n",
      "Failed for line: ['nobleman:noblewoman', 'canoe:kayak', 'puppy:kitten', 'dentist:optometrist']\n",
      "Failed for line: ['nobleman:noblewoman', 'couch:recliner', 'cat:dog', 'dispatcher:tailor']\n",
      "Failed for line: ['nobleman:noblewoman', 'fiction:poetry', 'shirt:blouse', 'engineer:dancer']\n",
      "Failed for line: ['nobleman:noblewoman', 'sugar:flour', 'couch:recliner', 'lawyer:clerk']\n",
      "Failed for line: ['nobleman:noblewoman', 'canoe:kayak', 'book:magazine', 'janitor:housekeeper']\n",
      "Failed for line: ['nobleman:noblewoman', 'car:bus', 'jazz:blues', 'developer:counselor']\n",
      "Failed for line: ['nobleman:noblewoman', 'dogwood:elm', 'canoe:kayak', 'judge:stenographer']\n",
      "Failed for line: ['nobleman:noblewoman', 'duck:goose', 'treble:bass', 'president:receptionist']\n",
      "Failed for line: ['nobleman:noblewoman', 'fiction:poetry', 'pillow:mattress', 'captain:bookkeeper']\n",
      "Failed for line: ['nobleman:noblewoman', 'pencil:pen', 'canoe:kayak', 'warrior:nanny']\n",
      "Failed for line: ['nobleman:noblewoman', 'fiction:poetry', 'violin:cello', 'architect:hairdresser']\n",
      "Failed for line: ['nobleman:noblewoman', 'puppy:kitten', 'couch:recliner', 'boss:stylist']\n",
      "Failed for line: ['nobleman:noblewoman', 'car:bus', 'puppy:kitten', 'pilot:socialite']\n",
      "Stored 'sembias_g3' (tuple)\n"
     ]
    },
    {
     "data": {
      "text/plain": [
       "(0.5083333333333333, 0.3, 0.19166666666666668)"
      ]
     },
     "execution_count": 5,
     "metadata": {},
     "output_type": "execute_result"
    }
   ],
   "source": [
    "sembias_g3 = SemBias(glove_3_fee).compute()\n",
    "\n",
    "%store sembias_g3\n",
    "sembias_g3"
   ]
  },
  {
   "cell_type": "code",
   "execution_count": 6,
   "id": "ba6b26b0",
   "metadata": {},
   "outputs": [
    {
     "name": "stdout",
     "output_type": "stream",
     "text": [
      "Failed for line: ['statesman:stateswoman', 'shirt:blouse', 'book:magazine', 'doctor:nurse']\n",
      "Failed for line: ['statesman:stateswoman', 'dog:cat', 'record:cassette', 'manager:secretary']\n",
      "Failed for line: ['statesman:stateswoman', 'dog:cat', 'fiction:poetry', 'chef:baker']\n",
      "Failed for line: ['statesman:stateswoman', 'fiction:poetry', 'bolt:nut', 'guard:cashier']\n",
      "Failed for line: ['statesman:stateswoman', 'almond:pecan', 'sugar:flour', 'programmer:homemaker']\n",
      "Failed for line: ['statesman:stateswoman', 'puppy:kitten', 'pillow:mattress', 'leader:assistant']\n",
      "Failed for line: ['statesman:stateswoman', 'book:magazine', 'sugar:flour', 'researcher:librarians']\n",
      "Failed for line: ['statesman:stateswoman', 'dog:bitch', 'duck:goose', 'dentist:optometrist']\n",
      "Failed for line: ['statesman:stateswoman', 'pen:pencil', 'salt:pepper', 'dispatcher:tailor']\n",
      "Failed for line: ['statesman:stateswoman', 'sugar:flour', 'cup:lid', 'engineer:dancer']\n",
      "Failed for line: ['statesman:stateswoman', 'fiction:poetry', 'cup:lid', 'lawyer:clerk']\n",
      "Failed for line: ['statesman:stateswoman', 'canoe:kayak', 'pillow:mattress', 'janitor:housekeeper']\n",
      "Failed for line: ['statesman:stateswoman', 'kitten:puppy', 'record:cassette', 'developer:counselor']\n",
      "Failed for line: ['statesman:stateswoman', 'cat:dog', 'cassette:record', 'judge:stenographer']\n",
      "Failed for line: ['statesman:stateswoman', 'cassette:record', 'salt:pepper', 'president:receptionist']\n",
      "Failed for line: ['statesman:stateswoman', 'violin:cello', 'duck:goose', 'captain:bookkeeper']\n",
      "Failed for line: ['statesman:stateswoman', 'almond:pecan', 'fiction:poetry', 'warrior:nanny']\n",
      "Failed for line: ['statesman:stateswoman', 'jazz:blues', 'kitten:puppy', 'architect:hairdresser']\n",
      "Failed for line: ['statesman:stateswoman', 'puppy:kitten', 'jazz:blues', 'boss:stylist']\n",
      "Failed for line: ['statesman:stateswoman', 'book:magazine', 'dog:cat', 'pilot:socialite']\n",
      "Failed for line: ['horseman:horsewoman', 'dog:bitch', 'fiction:poetry', 'doctor:nurse']\n",
      "Failed for line: ['horseman:horsewoman', 'book:magazine', 'dogwood:elm', 'manager:secretary']\n",
      "Failed for line: ['horseman:horsewoman', 'flour:sugar', 'pencil:pen', 'chef:baker']\n",
      "Failed for line: ['horseman:horsewoman', 'sugar:flour', 'pillow:mattress', 'guard:cashier']\n",
      "Failed for line: ['horseman:horsewoman', 'trout:salmon', 'car:bus', 'programmer:homemaker']\n",
      "Failed for line: ['horseman:horsewoman', 'canoe:kayak', 'bolt:nut', 'leader:assistant']\n",
      "Failed for line: ['horseman:horsewoman', 'violin:cello', 'bolt:nut', 'researcher:librarians']\n",
      "Failed for line: ['horseman:horsewoman', 'couch:recliner', 'shirt:blouse', 'dentist:optometrist']\n",
      "Failed for line: ['horseman:horsewoman', 'cat:dog', 'dog:bitch', 'dispatcher:tailor']\n",
      "Failed for line: ['horseman:horsewoman', 'pencil:pen', 'duck:goose', 'engineer:dancer']\n",
      "Failed for line: ['horseman:horsewoman', 'cup:lid', 'puppy:kitten', 'lawyer:clerk']\n",
      "Failed for line: ['horseman:horsewoman', 'flour:sugar', 'treble:bass', 'janitor:housekeeper']\n",
      "Failed for line: ['horseman:horsewoman', 'fiction:poetry', 'cup:lid', 'developer:counselor']\n",
      "Failed for line: ['horseman:horsewoman', 'couch:recliner', 'flour:sugar', 'judge:stenographer']\n",
      "Failed for line: ['horseman:horsewoman', 'kitten:puppy', 'jazz:blues', 'president:receptionist']\n",
      "Failed for line: ['horseman:horsewoman', 'book:magazine', 'canoe:kayak', 'captain:bookkeeper']\n",
      "Failed for line: ['horseman:horsewoman', 'kitten:puppy', 'jazz:blues', 'warrior:nanny']\n",
      "Failed for line: ['horseman:horsewoman', 'violin:cello', 'pencil:pen', 'architect:hairdresser']\n",
      "Failed for line: ['horseman:horsewoman', 'algebra:geometry', 'dogwood:elm', 'boss:stylist']\n",
      "Failed for line: ['horseman:horsewoman', 'jazz:blues', 'cassette:record', 'pilot:socialite']\n",
      "Failed for line: ['countrymen:countrywomen', 'shirt:blouse', 'couch:recliner', 'doctor:nurse']\n",
      "Failed for line: ['countrymen:countrywomen', 'kitten:puppy', 'car:bus', 'manager:secretary']\n",
      "Failed for line: ['countrymen:countrywomen', 'shirt:blouse', 'book:magazine', 'chef:baker']\n",
      "Failed for line: ['countrymen:countrywomen', 'pillow:mattress', 'dogwood:elm', 'guard:cashier']\n",
      "Failed for line: ['countrymen:countrywomen', 'fiction:poetry', 'pencil:pen', 'programmer:homemaker']\n",
      "Failed for line: ['countrymen:countrywomen', 'cup:lid', 'salt:pepper', 'leader:assistant']\n",
      "Failed for line: ['countrymen:countrywomen', 'canoe:kayak', 'dog:cat', 'researcher:librarians']\n",
      "Failed for line: ['countrymen:countrywomen', 'shirt:blouse', 'dog:bitch', 'dentist:optometrist']\n",
      "Failed for line: ['countrymen:countrywomen', 'dog:bitch', 'bolt:nut', 'dispatcher:tailor']\n",
      "Failed for line: ['countrymen:countrywomen', 'shirt:blouse', 'pen:pencil', 'engineer:dancer']\n",
      "Failed for line: ['countrymen:countrywomen', 'violin:cello', 'bolt:nut', 'lawyer:clerk']\n",
      "Failed for line: ['countrymen:countrywomen', 'pencil:pen', 'kitten:puppy', 'janitor:housekeeper']\n",
      "Failed for line: ['countrymen:countrywomen', 'dog:cat', 'almond:pecan', 'developer:counselor']\n",
      "Failed for line: ['countrymen:countrywomen', 'algebra:geometry', 'violin:cello', 'judge:stenographer']\n",
      "Failed for line: ['countrymen:countrywomen', 'salt:pepper', 'car:bus', 'president:receptionist']\n",
      "Failed for line: ['countrymen:countrywomen', 'violin:cello', 'sugar:flour', 'captain:bookkeeper']\n",
      "Failed for line: ['countrymen:countrywomen', 'treble:bass', 'salt:pepper', 'warrior:nanny']\n",
      "Failed for line: ['countrymen:countrywomen', 'pencil:pen', 'dog:cat', 'architect:hairdresser']\n",
      "Failed for line: ['countrymen:countrywomen', 'cat:dog', 'trout:salmon', 'boss:stylist']\n",
      "Failed for line: ['countrymen:countrywomen', 'puppy:kitten', 'cup:lid', 'pilot:socialite']\n",
      "Failed for line: ['nobleman:noblewoman', 'puppy:kitten', 'shirt:blouse', 'doctor:nurse']\n",
      "Failed for line: ['nobleman:noblewoman', 'pen:pencil', 'kitten:puppy', 'manager:secretary']\n",
      "Failed for line: ['nobleman:noblewoman', 'cassette:record', 'couch:recliner', 'chef:baker']\n",
      "Failed for line: ['nobleman:noblewoman', 'treble:bass', 'duck:goose', 'guard:cashier']\n",
      "Failed for line: ['nobleman:noblewoman', 'cassette:record', 'jazz:blues', 'programmer:homemaker']\n",
      "Failed for line: ['nobleman:noblewoman', 'dog:cat', 'cassette:record', 'leader:assistant']\n",
      "Failed for line: ['nobleman:noblewoman', 'treble:bass', 'duck:goose', 'researcher:librarians']\n",
      "Failed for line: ['nobleman:noblewoman', 'canoe:kayak', 'puppy:kitten', 'dentist:optometrist']\n",
      "Failed for line: ['nobleman:noblewoman', 'couch:recliner', 'cat:dog', 'dispatcher:tailor']\n",
      "Failed for line: ['nobleman:noblewoman', 'fiction:poetry', 'shirt:blouse', 'engineer:dancer']\n",
      "Failed for line: ['nobleman:noblewoman', 'sugar:flour', 'couch:recliner', 'lawyer:clerk']\n",
      "Failed for line: ['nobleman:noblewoman', 'canoe:kayak', 'book:magazine', 'janitor:housekeeper']\n",
      "Failed for line: ['nobleman:noblewoman', 'car:bus', 'jazz:blues', 'developer:counselor']\n",
      "Failed for line: ['nobleman:noblewoman', 'dogwood:elm', 'canoe:kayak', 'judge:stenographer']\n",
      "Failed for line: ['nobleman:noblewoman', 'duck:goose', 'treble:bass', 'president:receptionist']\n",
      "Failed for line: ['nobleman:noblewoman', 'fiction:poetry', 'pillow:mattress', 'captain:bookkeeper']\n",
      "Failed for line: ['nobleman:noblewoman', 'pencil:pen', 'canoe:kayak', 'warrior:nanny']\n",
      "Failed for line: ['nobleman:noblewoman', 'fiction:poetry', 'violin:cello', 'architect:hairdresser']\n",
      "Failed for line: ['nobleman:noblewoman', 'puppy:kitten', 'couch:recliner', 'boss:stylist']\n",
      "Failed for line: ['nobleman:noblewoman', 'car:bus', 'puppy:kitten', 'pilot:socialite']\n",
      "Stored 'sembias_g4' (tuple)\n"
     ]
    },
    {
     "data": {
      "text/plain": [
       "(0.5888888888888889, 0.2777777777777778, 0.13333333333333333)"
      ]
     },
     "execution_count": 6,
     "metadata": {},
     "output_type": "execute_result"
    }
   ],
   "source": [
    "sembias_g4 = SemBias(glove_4_fee).compute()\n",
    "\n",
    "%store sembias_g4\n",
    "sembias_g4"
   ]
  },
  {
   "cell_type": "markdown",
   "id": "a2189af6",
   "metadata": {},
   "source": [
    "## GloVe Wiki Gigaword"
   ]
  },
  {
   "cell_type": "code",
   "execution_count": 8,
   "id": "84e78d2d",
   "metadata": {},
   "outputs": [],
   "source": [
    "glove_5_fee = loader.WE().load(ename = 'glove-wiki-gigaword-50', normalize=True)\n",
    "glove_6_fee = loader.WE().load(ename = 'glove-wiki-gigaword-100', normalize=True)\n",
    "glove_7_fee = loader.WE().load(ename = 'glove-wiki-gigaword-200', normalize=True)\n",
    "glove_8_fee = loader.WE().load(ename = 'glove-wiki-gigaword-300', normalize=True)"
   ]
  },
  {
   "cell_type": "code",
   "execution_count": 9,
   "id": "c950dcef",
   "metadata": {},
   "outputs": [
    {
     "name": "stdout",
     "output_type": "stream",
     "text": [
      "Stored 'sembias_g5' (tuple)\n"
     ]
    },
    {
     "data": {
      "text/plain": [
       "(0.6977272727272728, 0.2159090909090909, 0.08636363636363636)"
      ]
     },
     "execution_count": 9,
     "metadata": {},
     "output_type": "execute_result"
    }
   ],
   "source": [
    "sembias_g5 = SemBias(glove_5_fee).compute()\n",
    "\n",
    "%store sembias_g5\n",
    "sembias_g5"
   ]
  },
  {
   "cell_type": "code",
   "execution_count": 10,
   "id": "3a84fae4",
   "metadata": {},
   "outputs": [
    {
     "name": "stdout",
     "output_type": "stream",
     "text": [
      "Stored 'sembias_g6' (tuple)\n"
     ]
    },
    {
     "data": {
      "text/plain": [
       "(0.75, 0.18181818181818182, 0.06818181818181818)"
      ]
     },
     "execution_count": 10,
     "metadata": {},
     "output_type": "execute_result"
    }
   ],
   "source": [
    "sembias_g6 = SemBias(glove_6_fee).compute()\n",
    "\n",
    "%store sembias_g6\n",
    "sembias_g6"
   ]
  },
  {
   "cell_type": "code",
   "execution_count": 11,
   "id": "ab712dbb",
   "metadata": {},
   "outputs": [
    {
     "name": "stdout",
     "output_type": "stream",
     "text": [
      "Stored 'sembias_g7' (tuple)\n"
     ]
    },
    {
     "data": {
      "text/plain": [
       "(0.7795454545454545, 0.16818181818181818, 0.05227272727272727)"
      ]
     },
     "execution_count": 11,
     "metadata": {},
     "output_type": "execute_result"
    }
   ],
   "source": [
    "sembias_g7 = SemBias(glove_7_fee).compute()\n",
    "\n",
    "%store sembias_g7\n",
    "sembias_g7"
   ]
  },
  {
   "cell_type": "code",
   "execution_count": 12,
   "id": "bdf9693f",
   "metadata": {},
   "outputs": [
    {
     "name": "stdout",
     "output_type": "stream",
     "text": [
      "Stored 'sembias_g8' (tuple)\n"
     ]
    },
    {
     "data": {
      "text/plain": [
       "(0.7863636363636364, 0.15, 0.06363636363636363)"
      ]
     },
     "execution_count": 12,
     "metadata": {},
     "output_type": "execute_result"
    }
   ],
   "source": [
    "sembias_g8 = SemBias(glove_8_fee).compute()\n",
    "\n",
    "%store sembias_g8\n",
    "sembias_g8"
   ]
  },
  {
   "cell_type": "markdown",
   "id": "3a719ef3",
   "metadata": {},
   "source": [
    "## GloVe Common Crawl"
   ]
  },
  {
   "cell_type": "code",
   "execution_count": 7,
   "id": "424a873b",
   "metadata": {},
   "outputs": [],
   "source": [
    "from gensim.models import KeyedVectors\n",
    "from wefe.word_embedding_model import WordEmbeddingModel"
   ]
  },
  {
   "cell_type": "code",
   "execution_count": 9,
   "id": "f5e104f8",
   "metadata": {
    "scrolled": false
   },
   "outputs": [
    {
     "name": "stderr",
     "output_type": "stream",
     "text": [
      "INFO:gensim.models.keyedvectors:loading projection weights from glove.42B.300d.txt\n",
      "DEBUG:smart_open.smart_open_lib:{'uri': 'glove.42B.300d.txt', 'mode': 'rb', 'buffering': -1, 'encoding': None, 'errors': None, 'newline': None, 'closefd': True, 'opener': None, 'ignore_ext': False, 'compression': None, 'transport_params': None}\n",
      "DEBUG:gensim.utils:starting a new internal lifecycle event log for KeyedVectors\n",
      "INFO:gensim.utils:KeyedVectors lifecycle event {'msg': 'loaded (1917494, 300) matrix of type float32 from glove.42B.300d.txt', 'binary': False, 'encoding': 'utf8', 'datetime': '2021-08-25T15:45:05.900572', 'gensim': '4.0.1', 'python': '3.8.8 (default, Apr 13 2021, 12:59:45) \\n[Clang 10.0.0 ]', 'platform': 'macOS-10.14.5-x86_64-i386-64bit', 'event': 'load_word2vec_format'}\n",
      "INFO:gensim.models.keyedvectors:loading projection weights from glove.840B.300d.txt\n",
      "DEBUG:smart_open.smart_open_lib:{'uri': 'glove.840B.300d.txt', 'mode': 'rb', 'buffering': -1, 'encoding': None, 'errors': None, 'newline': None, 'closefd': True, 'opener': None, 'ignore_ext': False, 'compression': None, 'transport_params': None}\n",
      "WARNING:gensim.models.keyedvectors:duplicate word '����������������������������������������������������������������������������������������������������������������������������������������������������������������������������������������������������������������������������������������������������������������������������������������������������������������������������������������������' in word2vec file, ignoring all but first\n",
      "DEBUG:gensim.utils:starting a new internal lifecycle event log for KeyedVectors\n",
      "INFO:gensim.utils:KeyedVectors lifecycle event {'msg': 'loaded (2196017, 300) matrix of type float32 from glove.840B.300d.txt', 'binary': False, 'encoding': 'utf8', 'datetime': '2021-08-25T15:50:51.024936', 'gensim': '4.0.1', 'python': '3.8.8 (default, Apr 13 2021, 12:59:45) \\n[Clang 10.0.0 ]', 'platform': 'macOS-10.14.5-x86_64-i386-64bit', 'event': 'load_word2vec_format'}\n"
     ]
    }
   ],
   "source": [
    "glove_embeddings_9 = KeyedVectors.load_word2vec_format('glove.42B.300d.txt')\n",
    "glove_embeddings_10 = KeyedVectors.load_word2vec_format('glove.840B.300d.txt')"
   ]
  },
  {
   "cell_type": "code",
   "execution_count": 18,
   "id": "a568a901",
   "metadata": {},
   "outputs": [],
   "source": [
    "def eval_bias_analogy(w2v):\n",
    "    print('SemBias')\n",
    "    bias_analogy_f = open('./SemBias/SemBias')\n",
    "    definition_num = 0\n",
    "    none_num = 0\n",
    "    stereotype_num = 0\n",
    "    total_num = 0\n",
    "\n",
    "    sub_definition_num = 0\n",
    "    sub_none_num = 0\n",
    "    sub_stereotype_num = 0\n",
    "    sub_size = 40\n",
    "    sub_start = -(sub_size - sum(1 for line in open('./SemBias/SemBias')))\n",
    "\n",
    "    gender_v = w2v['he'] - w2v['she']\n",
    "    for sub_idx, l in enumerate(bias_analogy_f):\n",
    "        l = l.strip().split()\n",
    "        max_score = -100\n",
    "        for i, word_pair in enumerate(l):\n",
    "            word_pair = word_pair.split(':')\n",
    "            pre_v = w2v[word_pair[0]] - w2v[word_pair[1]]\n",
    "            score = dot(gender_v, pre_v)/(norm(gender_v)*norm(pre_v))\n",
    "            if score > max_score:\n",
    "                max_idx = i\n",
    "                max_score = score\n",
    "        if max_idx == 0:\n",
    "            definition_num += 1\n",
    "            if sub_idx >= sub_start:\n",
    "                sub_definition_num += 1\n",
    "        elif max_idx == 1 or max_idx == 2:\n",
    "            none_num += 1\n",
    "            if sub_idx >= sub_start:\n",
    "                sub_none_num += 1\n",
    "        elif max_idx == 3:\n",
    "            stereotype_num += 1\n",
    "            if sub_idx >= sub_start:\n",
    "                sub_stereotype_num += 1\n",
    "        total_num += 1\n",
    "    print('definition: {}'.format(definition_num / total_num))\n",
    "    print('stereotype: {}'.format(stereotype_num / total_num))\n",
    "    print('none: {}'.format(none_num / total_num))\n",
    "\n",
    "    if sub_definition_num == 0:\n",
    "        print('sub definition: 0')\n",
    "    else:\n",
    "        print('sub definition: {}'.format(sub_definition_num / sub_size))\n",
    "    if sub_stereotype_num == 0:\n",
    "        print('sub stereotype: 0')\n",
    "    else:\n",
    "        print('sub stereotype: {}'.format(sub_stereotype_num / sub_size))\n",
    "    if sub_none_num == 0:\n",
    "        print('sub none: 0')\n",
    "    else:\n",
    "        print('sub none: {}'.format(sub_none_num / sub_size))"
   ]
  },
  {
   "cell_type": "code",
   "execution_count": 19,
   "id": "9ba931d9",
   "metadata": {
    "scrolled": true
   },
   "outputs": [
    {
     "name": "stdout",
     "output_type": "stream",
     "text": [
      "SemBias\n",
      "definition: 0.8045454545454546\n",
      "stereotype: 0.125\n",
      "none: 0.07045454545454545\n",
      "sub definition: 0.7\n",
      "sub stereotype: 0.2\n",
      "sub none: 0.1\n"
     ]
    }
   ],
   "source": [
    "eval_bias_analogy(glove_embeddings_9)"
   ]
  },
  {
   "cell_type": "code",
   "execution_count": 20,
   "id": "13a49a81",
   "metadata": {},
   "outputs": [
    {
     "name": "stdout",
     "output_type": "stream",
     "text": [
      "SemBias\n",
      "definition: 0.8295454545454546\n",
      "stereotype: 0.12045454545454545\n",
      "none: 0.05\n",
      "sub definition: 0.675\n",
      "sub stereotype: 0.275\n",
      "sub none: 0.05\n"
     ]
    }
   ],
   "source": [
    "eval_bias_analogy(glove_embeddings_10)"
   ]
  },
  {
   "cell_type": "markdown",
   "id": "f0de7b2d",
   "metadata": {},
   "source": [
    "# word2vec\n",
    "Pre-trained vectors trained on part of Google News dataset (about 100 billion words). The model contains 300-dimensional vectors for 3 million words and phrases."
   ]
  },
  {
   "cell_type": "code",
   "execution_count": 11,
   "id": "720b1b0f",
   "metadata": {},
   "outputs": [],
   "source": [
    "w2v_fee = loader.WE().load(ename = 'word2vec-google-news-300', normalize=True)"
   ]
  },
  {
   "cell_type": "code",
   "execution_count": 12,
   "id": "238aca0a",
   "metadata": {},
   "outputs": [
    {
     "name": "stdout",
     "output_type": "stream",
     "text": [
      "Stored 'sembias_w1' (tuple)\n"
     ]
    },
    {
     "data": {
      "text/plain": [
       "(0.8272727272727273, 0.1340909090909091, 0.038636363636363635)"
      ]
     },
     "execution_count": 12,
     "metadata": {},
     "output_type": "execute_result"
    }
   ],
   "source": [
    "sembias_w1 = SemBias(w2v_fee).compute()\n",
    "\n",
    "%store sembias_w1\n",
    "sembias_w1"
   ]
  },
  {
   "cell_type": "markdown",
   "id": "ccc2a5d0",
   "metadata": {},
   "source": [
    "# fastText crawl\n",
    "1. fasttext crawl dim=300: 2 million word vectors trained on Common Crawl (600B tokens).\n",
    "2. fasttext crawl subwords dim=300: 2 million word vectors trained with subword information on Common Crawl (600B tokens).\n",
    "\n",
    "A subword is the internal structure of words. Classic word representation cannot handle unseen word or rare word well. Character embeddings is one of the solution to overcome out-of-vocabulary (OOV). However, it may too fine-grained any missing some important information. Subword is in between word and character. It is not too fine-grained while able to handle unseen word and rare word. For example, we can split “subword” to “sub” and “word”. In other word we use two vector (i.e. “sub” and “word”) to represent “subword”."
   ]
  },
  {
   "cell_type": "code",
   "execution_count": 21,
   "id": "931af66d",
   "metadata": {},
   "outputs": [
    {
     "name": "stderr",
     "output_type": "stream",
     "text": [
      "INFO:gensim.models.keyedvectors:loading projection weights from crawl-300d-2M.vec\n",
      "DEBUG:smart_open.smart_open_lib:{'uri': 'crawl-300d-2M.vec', 'mode': 'rb', 'buffering': -1, 'encoding': None, 'errors': None, 'newline': None, 'closefd': True, 'opener': None, 'ignore_ext': False, 'compression': None, 'transport_params': None}\n",
      "DEBUG:gensim.utils:starting a new internal lifecycle event log for KeyedVectors\n",
      "INFO:gensim.utils:KeyedVectors lifecycle event {'msg': 'loaded (1999995, 300) matrix of type float32 from crawl-300d-2M.vec', 'binary': False, 'encoding': 'utf8', 'datetime': '2021-08-26T12:56:36.534358', 'gensim': '4.0.1', 'python': '3.8.8 (default, Apr 13 2021, 12:59:45) \\n[Clang 10.0.0 ]', 'platform': 'macOS-10.14.5-x86_64-i386-64bit', 'event': 'load_word2vec_format'}\n",
      "INFO:gensim.models.keyedvectors:loading projection weights from crawl-300d-2M-subword.vec\n",
      "DEBUG:smart_open.smart_open_lib:{'uri': 'crawl-300d-2M-subword.vec', 'mode': 'rb', 'buffering': -1, 'encoding': None, 'errors': None, 'newline': None, 'closefd': True, 'opener': None, 'ignore_ext': False, 'compression': None, 'transport_params': None}\n",
      "DEBUG:gensim.utils:starting a new internal lifecycle event log for KeyedVectors\n",
      "INFO:gensim.utils:KeyedVectors lifecycle event {'msg': 'loaded (2000000, 300) matrix of type float32 from crawl-300d-2M-subword.vec', 'binary': False, 'encoding': 'utf8', 'datetime': '2021-08-26T13:01:44.715318', 'gensim': '4.0.1', 'python': '3.8.8 (default, Apr 13 2021, 12:59:45) \\n[Clang 10.0.0 ]', 'platform': 'macOS-10.14.5-x86_64-i386-64bit', 'event': 'load_word2vec_format'}\n"
     ]
    }
   ],
   "source": [
    "fasttext_3_fee = KeyedVectors.load_word2vec_format('crawl-300d-2M.vec')\n",
    "fasttext_4_fee = KeyedVectors.load_word2vec_format('crawl-300d-2M-subword.vec')"
   ]
  },
  {
   "cell_type": "code",
   "execution_count": 22,
   "id": "ebb3bc51",
   "metadata": {
    "scrolled": true
   },
   "outputs": [
    {
     "name": "stdout",
     "output_type": "stream",
     "text": [
      "SemBias\n",
      "definition: 0.925\n",
      "stereotype: 0.05\n",
      "none: 0.025\n",
      "sub definition: 0.8\n",
      "sub stereotype: 0.15\n",
      "sub none: 0.05\n"
     ]
    }
   ],
   "source": [
    "eval_bias_analogy(fasttext_3_fee)"
   ]
  },
  {
   "cell_type": "code",
   "execution_count": 23,
   "id": "adf728d3",
   "metadata": {},
   "outputs": [
    {
     "name": "stdout",
     "output_type": "stream",
     "text": [
      "SemBias\n",
      "definition: 0.8681818181818182\n",
      "stereotype: 0.10227272727272728\n",
      "none: 0.029545454545454545\n",
      "sub definition: 0.725\n",
      "sub stereotype: 0.225\n",
      "sub none: 0.05\n"
     ]
    }
   ],
   "source": [
    "eval_bias_analogy(fasttext_4_fee)"
   ]
  },
  {
   "cell_type": "markdown",
   "id": "61d8cde5",
   "metadata": {},
   "source": [
    "# fastText wiki news\n",
    "1. fasttext wiki dim=300: 1 million word vectors trained on Wikipedia 2017, UMBC webbase corpus and statmt.org news dataset (16B tokens).\n",
    "2. fasttext wiki subwords dim=300: 1 million word vectors trained with subword infomation on Wikipedia 2017, UMBC webbase corpus and statmt.org news dataset (16B tokens)."
   ]
  },
  {
   "cell_type": "code",
   "execution_count": 4,
   "id": "42057e5f",
   "metadata": {},
   "outputs": [],
   "source": [
    "fasttext_1_fee = loader.WE().load(ename = 'fasttext-wiki-news-subwords-300', normalize=True)"
   ]
  },
  {
   "cell_type": "code",
   "execution_count": 5,
   "id": "c225fa75",
   "metadata": {
    "scrolled": false
   },
   "outputs": [
    {
     "name": "stdout",
     "output_type": "stream",
     "text": [
      "Stored 'sembias_f1' (tuple)\n"
     ]
    },
    {
     "data": {
      "text/plain": [
       "(0.925, 0.05454545454545454, 0.020454545454545454)"
      ]
     },
     "execution_count": 5,
     "metadata": {},
     "output_type": "execute_result"
    }
   ],
   "source": [
    "sembias_f1 = SemBias(fasttext_1_fee).compute()\n",
    "\n",
    "%store sembias_f1\n",
    "sembias_f1"
   ]
  },
  {
   "cell_type": "code",
   "execution_count": 24,
   "id": "e2a38a0c",
   "metadata": {},
   "outputs": [
    {
     "name": "stderr",
     "output_type": "stream",
     "text": [
      "INFO:gensim.models.keyedvectors:loading projection weights from wiki-news-300d-1M.vec\n",
      "DEBUG:smart_open.smart_open_lib:{'uri': 'wiki-news-300d-1M.vec', 'mode': 'rb', 'buffering': -1, 'encoding': None, 'errors': None, 'newline': None, 'closefd': True, 'opener': None, 'ignore_ext': False, 'compression': None, 'transport_params': None}\n",
      "DEBUG:gensim.utils:starting a new internal lifecycle event log for KeyedVectors\n",
      "INFO:gensim.utils:KeyedVectors lifecycle event {'msg': 'loaded (999994, 300) matrix of type float32 from wiki-news-300d-1M.vec', 'binary': False, 'encoding': 'utf8', 'datetime': '2021-08-26T13:04:20.771028', 'gensim': '4.0.1', 'python': '3.8.8 (default, Apr 13 2021, 12:59:45) \\n[Clang 10.0.0 ]', 'platform': 'macOS-10.14.5-x86_64-i386-64bit', 'event': 'load_word2vec_format'}\n"
     ]
    }
   ],
   "source": [
    "fasttext_2_fee = KeyedVectors.load_word2vec_format('wiki-news-300d-1M.vec')"
   ]
  },
  {
   "cell_type": "code",
   "execution_count": 25,
   "id": "b94b1b00",
   "metadata": {},
   "outputs": [
    {
     "name": "stdout",
     "output_type": "stream",
     "text": [
      "SemBias\n",
      "definition: 0.9204545454545454\n",
      "stereotype: 0.05454545454545454\n",
      "none: 0.025\n",
      "sub definition: 0.825\n",
      "sub stereotype: 0.125\n",
      "sub none: 0.05\n"
     ]
    }
   ],
   "source": [
    "eval_bias_analogy(fasttext_2_fee)"
   ]
  },
  {
   "cell_type": "code",
   "execution_count": null,
   "id": "2de2c38e",
   "metadata": {},
   "outputs": [],
   "source": []
  }
 ],
 "metadata": {
  "kernelspec": {
   "display_name": "p38workshop",
   "language": "python",
   "name": "p38workshop"
  },
  "language_info": {
   "codemirror_mode": {
    "name": "ipython",
    "version": 3
   },
   "file_extension": ".py",
   "mimetype": "text/x-python",
   "name": "python",
   "nbconvert_exporter": "python",
   "pygments_lexer": "ipython3",
   "version": "3.8.8"
  }
 },
 "nbformat": 4,
 "nbformat_minor": 5
}
