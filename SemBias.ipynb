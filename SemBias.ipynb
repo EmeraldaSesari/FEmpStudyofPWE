{
 "cells": [
  {
   "cell_type": "code",
   "execution_count": 1,
   "id": "08545f8a",
   "metadata": {},
   "outputs": [],
   "source": [
    "import sys\n",
    "  \n",
    "# appending a path\n",
    "sys.path.append('FEE-master')\n",
    "  \n",
    "# importing required module\n",
    "import numpy as np\n",
    "import pandas as pd\n",
    "import copy\n",
    "import matplotlib.pyplot as plt\n",
    "\n",
    "import fee\n",
    "from fee.metrics import SemBias\n",
    "from fee.embedding import loader"
   ]
  },
  {
   "cell_type": "code",
   "execution_count": 2,
   "id": "50162229",
   "metadata": {
    "scrolled": true
   },
   "outputs": [],
   "source": [
    "import gensim\n",
    "import os\n",
    "import shutil\n",
    "import hashlib\n",
    "from sys import platform\n",
    "\n",
    "def getFileLineNums(filename):\n",
    "    f = open(filename, 'r')\n",
    "    count = 0\n",
    "    for line in f:\n",
    "        count += 1\n",
    "    return count\n",
    " \n",
    " #Linux or Windows open the word vector file, add a line at the beginning\n",
    "def prepend_line(infile, outfile, line):\n",
    "    with open(infile, 'r') as old:\n",
    "        with open(outfile, 'w') as new:\n",
    "            new.write(str(line) + \"\\n\")\n",
    "            shutil.copyfileobj(old, new)\n",
    " \n",
    "def prepend_slow(infile, outfile, line):\n",
    "    with open(infile, 'r') as fin:\n",
    "        with open(outfile, 'w') as fout:\n",
    "            fout.write(line + \"\\n\")\n",
    "            for line in fin:\n",
    "                fout.write(line)\n",
    "\n",
    "def load(filename):\n",
    "    num_lines = getFileLineNums(filename)\n",
    "    gensim_file = 'glove_model.txt'\n",
    "    gensim_first_line = \"{} {}\".format(num_lines, 300)\n",
    "    # Prepends the line.\n",
    "    if platform == \"linux\" or platform == \"linux2\":\n",
    "        prepend_line(filename, gensim_file, gensim_first_line)\n",
    "    else:\n",
    "        prepend_slow(filename, gensim_file, gensim_first_line)\n",
    "    model = gensim.models.KeyedVectors.load_word2vec_format(gensim_file)"
   ]
  },
  {
   "cell_type": "code",
   "execution_count": 23,
   "id": "5521acd0",
   "metadata": {},
   "outputs": [],
   "source": [
    "load('glove.42B.300d.txt')"
   ]
  },
  {
   "cell_type": "code",
   "execution_count": null,
   "id": "4899fb52",
   "metadata": {},
   "outputs": [],
   "source": [
    "load('glove.840B.300d.txt')"
   ]
  },
  {
   "cell_type": "markdown",
   "id": "75581d74",
   "metadata": {},
   "source": [
    "# GloVe\n",
    "1. Wikipedia 2014 + Gigaword 5 (6B tokens, 400K vocab, uncased, 50d, 100d, 200d, & 300d vectors, 822 MB download\n",
    "2. Common Crawl (42B tokens, 1.9M vocab, uncased, 300d vectors, 1.75 GB download)\n",
    "3. Common Crawl (840B tokens, 2.2M vocab, cased, 300d vectors, 2.03 GB download)\n",
    "4. Twitter (2B tweets, 27B tokens, 1.2M vocab, uncased, 25d, 50d, 100d, & 200d vectors, 1.42 GB download)\n",
    "\n",
    "## GloVe Twitter"
   ]
  },
  {
   "cell_type": "code",
   "execution_count": 2,
   "id": "a9ededb3",
   "metadata": {
    "scrolled": true
   },
   "outputs": [
    {
     "name": "stdout",
     "output_type": "stream",
     "text": [
      "[==================================================] 100.0% 199.5/199.5MB downloaded\n",
      "[==================================================] 100.0% 387.1/387.1MB downloaded\n",
      "[==================================================] 100.0% 758.5/758.5MB downloaded\n"
     ]
    }
   ],
   "source": [
    "glove_1_fee = loader.WE().load(ename = 'glove-twitter-25', normalize=True)\n",
    "glove_2_fee = loader.WE().load(ename = 'glove-twitter-50', normalize=True)\n",
    "glove_3_fee = loader.WE().load(ename = 'glove-twitter-100', normalize=True)\n",
    "glove_4_fee = loader.WE().load(ename = 'glove-twitter-200', normalize=True)"
   ]
  },
  {
   "cell_type": "code",
   "execution_count": 3,
   "id": "f02cc947",
   "metadata": {},
   "outputs": [
    {
     "name": "stdout",
     "output_type": "stream",
     "text": [
      "Failed for line: ['statesman:stateswoman', 'shirt:blouse', 'book:magazine', 'doctor:nurse']\n",
      "Failed for line: ['statesman:stateswoman', 'dog:cat', 'record:cassette', 'manager:secretary']\n",
      "Failed for line: ['statesman:stateswoman', 'dog:cat', 'fiction:poetry', 'chef:baker']\n",
      "Failed for line: ['statesman:stateswoman', 'fiction:poetry', 'bolt:nut', 'guard:cashier']\n",
      "Failed for line: ['statesman:stateswoman', 'almond:pecan', 'sugar:flour', 'programmer:homemaker']\n",
      "Failed for line: ['statesman:stateswoman', 'puppy:kitten', 'pillow:mattress', 'leader:assistant']\n",
      "Failed for line: ['statesman:stateswoman', 'book:magazine', 'sugar:flour', 'researcher:librarians']\n",
      "Failed for line: ['statesman:stateswoman', 'dog:bitch', 'duck:goose', 'dentist:optometrist']\n",
      "Failed for line: ['statesman:stateswoman', 'pen:pencil', 'salt:pepper', 'dispatcher:tailor']\n",
      "Failed for line: ['statesman:stateswoman', 'sugar:flour', 'cup:lid', 'engineer:dancer']\n",
      "Failed for line: ['statesman:stateswoman', 'fiction:poetry', 'cup:lid', 'lawyer:clerk']\n",
      "Failed for line: ['statesman:stateswoman', 'canoe:kayak', 'pillow:mattress', 'janitor:housekeeper']\n",
      "Failed for line: ['statesman:stateswoman', 'kitten:puppy', 'record:cassette', 'developer:counselor']\n",
      "Failed for line: ['statesman:stateswoman', 'cat:dog', 'cassette:record', 'judge:stenographer']\n",
      "Failed for line: ['statesman:stateswoman', 'cassette:record', 'salt:pepper', 'president:receptionist']\n",
      "Failed for line: ['statesman:stateswoman', 'violin:cello', 'duck:goose', 'captain:bookkeeper']\n",
      "Failed for line: ['statesman:stateswoman', 'almond:pecan', 'fiction:poetry', 'warrior:nanny']\n",
      "Failed for line: ['statesman:stateswoman', 'jazz:blues', 'kitten:puppy', 'architect:hairdresser']\n",
      "Failed for line: ['statesman:stateswoman', 'puppy:kitten', 'jazz:blues', 'boss:stylist']\n",
      "Failed for line: ['statesman:stateswoman', 'book:magazine', 'dog:cat', 'pilot:socialite']\n",
      "Failed for line: ['horseman:horsewoman', 'dog:bitch', 'fiction:poetry', 'doctor:nurse']\n",
      "Failed for line: ['horseman:horsewoman', 'book:magazine', 'dogwood:elm', 'manager:secretary']\n",
      "Failed for line: ['horseman:horsewoman', 'flour:sugar', 'pencil:pen', 'chef:baker']\n",
      "Failed for line: ['horseman:horsewoman', 'sugar:flour', 'pillow:mattress', 'guard:cashier']\n",
      "Failed for line: ['horseman:horsewoman', 'trout:salmon', 'car:bus', 'programmer:homemaker']\n",
      "Failed for line: ['horseman:horsewoman', 'canoe:kayak', 'bolt:nut', 'leader:assistant']\n",
      "Failed for line: ['horseman:horsewoman', 'violin:cello', 'bolt:nut', 'researcher:librarians']\n",
      "Failed for line: ['horseman:horsewoman', 'couch:recliner', 'shirt:blouse', 'dentist:optometrist']\n",
      "Failed for line: ['horseman:horsewoman', 'cat:dog', 'dog:bitch', 'dispatcher:tailor']\n",
      "Failed for line: ['horseman:horsewoman', 'pencil:pen', 'duck:goose', 'engineer:dancer']\n",
      "Failed for line: ['horseman:horsewoman', 'cup:lid', 'puppy:kitten', 'lawyer:clerk']\n",
      "Failed for line: ['horseman:horsewoman', 'flour:sugar', 'treble:bass', 'janitor:housekeeper']\n",
      "Failed for line: ['horseman:horsewoman', 'fiction:poetry', 'cup:lid', 'developer:counselor']\n",
      "Failed for line: ['horseman:horsewoman', 'couch:recliner', 'flour:sugar', 'judge:stenographer']\n",
      "Failed for line: ['horseman:horsewoman', 'kitten:puppy', 'jazz:blues', 'president:receptionist']\n",
      "Failed for line: ['horseman:horsewoman', 'book:magazine', 'canoe:kayak', 'captain:bookkeeper']\n",
      "Failed for line: ['horseman:horsewoman', 'kitten:puppy', 'jazz:blues', 'warrior:nanny']\n",
      "Failed for line: ['horseman:horsewoman', 'violin:cello', 'pencil:pen', 'architect:hairdresser']\n",
      "Failed for line: ['horseman:horsewoman', 'algebra:geometry', 'dogwood:elm', 'boss:stylist']\n",
      "Failed for line: ['horseman:horsewoman', 'jazz:blues', 'cassette:record', 'pilot:socialite']\n",
      "Failed for line: ['countrymen:countrywomen', 'shirt:blouse', 'couch:recliner', 'doctor:nurse']\n",
      "Failed for line: ['countrymen:countrywomen', 'kitten:puppy', 'car:bus', 'manager:secretary']\n",
      "Failed for line: ['countrymen:countrywomen', 'shirt:blouse', 'book:magazine', 'chef:baker']\n",
      "Failed for line: ['countrymen:countrywomen', 'pillow:mattress', 'dogwood:elm', 'guard:cashier']\n",
      "Failed for line: ['countrymen:countrywomen', 'fiction:poetry', 'pencil:pen', 'programmer:homemaker']\n",
      "Failed for line: ['countrymen:countrywomen', 'cup:lid', 'salt:pepper', 'leader:assistant']\n",
      "Failed for line: ['countrymen:countrywomen', 'canoe:kayak', 'dog:cat', 'researcher:librarians']\n",
      "Failed for line: ['countrymen:countrywomen', 'shirt:blouse', 'dog:bitch', 'dentist:optometrist']\n",
      "Failed for line: ['countrymen:countrywomen', 'dog:bitch', 'bolt:nut', 'dispatcher:tailor']\n",
      "Failed for line: ['countrymen:countrywomen', 'shirt:blouse', 'pen:pencil', 'engineer:dancer']\n",
      "Failed for line: ['countrymen:countrywomen', 'violin:cello', 'bolt:nut', 'lawyer:clerk']\n",
      "Failed for line: ['countrymen:countrywomen', 'pencil:pen', 'kitten:puppy', 'janitor:housekeeper']\n",
      "Failed for line: ['countrymen:countrywomen', 'dog:cat', 'almond:pecan', 'developer:counselor']\n",
      "Failed for line: ['countrymen:countrywomen', 'algebra:geometry', 'violin:cello', 'judge:stenographer']\n",
      "Failed for line: ['countrymen:countrywomen', 'salt:pepper', 'car:bus', 'president:receptionist']\n",
      "Failed for line: ['countrymen:countrywomen', 'violin:cello', 'sugar:flour', 'captain:bookkeeper']\n",
      "Failed for line: ['countrymen:countrywomen', 'treble:bass', 'salt:pepper', 'warrior:nanny']\n",
      "Failed for line: ['countrymen:countrywomen', 'pencil:pen', 'dog:cat', 'architect:hairdresser']\n",
      "Failed for line: ['countrymen:countrywomen', 'cat:dog', 'trout:salmon', 'boss:stylist']\n",
      "Failed for line: ['countrymen:countrywomen', 'puppy:kitten', 'cup:lid', 'pilot:socialite']\n",
      "Failed for line: ['nobleman:noblewoman', 'puppy:kitten', 'shirt:blouse', 'doctor:nurse']\n",
      "Failed for line: ['nobleman:noblewoman', 'pen:pencil', 'kitten:puppy', 'manager:secretary']\n",
      "Failed for line: ['nobleman:noblewoman', 'cassette:record', 'couch:recliner', 'chef:baker']\n",
      "Failed for line: ['nobleman:noblewoman', 'treble:bass', 'duck:goose', 'guard:cashier']\n",
      "Failed for line: ['nobleman:noblewoman', 'cassette:record', 'jazz:blues', 'programmer:homemaker']\n",
      "Failed for line: ['nobleman:noblewoman', 'dog:cat', 'cassette:record', 'leader:assistant']\n",
      "Failed for line: ['nobleman:noblewoman', 'treble:bass', 'duck:goose', 'researcher:librarians']\n",
      "Failed for line: ['nobleman:noblewoman', 'canoe:kayak', 'puppy:kitten', 'dentist:optometrist']\n",
      "Failed for line: ['nobleman:noblewoman', 'couch:recliner', 'cat:dog', 'dispatcher:tailor']\n",
      "Failed for line: ['nobleman:noblewoman', 'fiction:poetry', 'shirt:blouse', 'engineer:dancer']\n",
      "Failed for line: ['nobleman:noblewoman', 'sugar:flour', 'couch:recliner', 'lawyer:clerk']\n",
      "Failed for line: ['nobleman:noblewoman', 'canoe:kayak', 'book:magazine', 'janitor:housekeeper']\n",
      "Failed for line: ['nobleman:noblewoman', 'car:bus', 'jazz:blues', 'developer:counselor']\n",
      "Failed for line: ['nobleman:noblewoman', 'dogwood:elm', 'canoe:kayak', 'judge:stenographer']\n",
      "Failed for line: ['nobleman:noblewoman', 'duck:goose', 'treble:bass', 'president:receptionist']\n",
      "Failed for line: ['nobleman:noblewoman', 'fiction:poetry', 'pillow:mattress', 'captain:bookkeeper']\n",
      "Failed for line: ['nobleman:noblewoman', 'pencil:pen', 'canoe:kayak', 'warrior:nanny']\n",
      "Failed for line: ['nobleman:noblewoman', 'fiction:poetry', 'violin:cello', 'architect:hairdresser']\n",
      "Failed for line: ['nobleman:noblewoman', 'puppy:kitten', 'couch:recliner', 'boss:stylist']\n",
      "Failed for line: ['nobleman:noblewoman', 'car:bus', 'puppy:kitten', 'pilot:socialite']\n",
      "Stored 'sembias_g1' (tuple)\n"
     ]
    },
    {
     "data": {
      "text/plain": [
       "(0.17777777777777778, 0.4305555555555556, 0.39166666666666666)"
      ]
     },
     "execution_count": 3,
     "metadata": {},
     "output_type": "execute_result"
    }
   ],
   "source": [
    "sembias_g1 = SemBias(glove_1_fee).compute()\n",
    "\n",
    "%store sembias_g1\n",
    "sembias_g1"
   ]
  },
  {
   "cell_type": "code",
   "execution_count": 4,
   "id": "78ca8bbb",
   "metadata": {
    "scrolled": false
   },
   "outputs": [
    {
     "name": "stdout",
     "output_type": "stream",
     "text": [
      "Failed for line: ['statesman:stateswoman', 'shirt:blouse', 'book:magazine', 'doctor:nurse']\n",
      "Failed for line: ['statesman:stateswoman', 'dog:cat', 'record:cassette', 'manager:secretary']\n",
      "Failed for line: ['statesman:stateswoman', 'dog:cat', 'fiction:poetry', 'chef:baker']\n",
      "Failed for line: ['statesman:stateswoman', 'fiction:poetry', 'bolt:nut', 'guard:cashier']\n",
      "Failed for line: ['statesman:stateswoman', 'almond:pecan', 'sugar:flour', 'programmer:homemaker']\n",
      "Failed for line: ['statesman:stateswoman', 'puppy:kitten', 'pillow:mattress', 'leader:assistant']\n",
      "Failed for line: ['statesman:stateswoman', 'book:magazine', 'sugar:flour', 'researcher:librarians']\n",
      "Failed for line: ['statesman:stateswoman', 'dog:bitch', 'duck:goose', 'dentist:optometrist']\n",
      "Failed for line: ['statesman:stateswoman', 'pen:pencil', 'salt:pepper', 'dispatcher:tailor']\n",
      "Failed for line: ['statesman:stateswoman', 'sugar:flour', 'cup:lid', 'engineer:dancer']\n",
      "Failed for line: ['statesman:stateswoman', 'fiction:poetry', 'cup:lid', 'lawyer:clerk']\n",
      "Failed for line: ['statesman:stateswoman', 'canoe:kayak', 'pillow:mattress', 'janitor:housekeeper']\n",
      "Failed for line: ['statesman:stateswoman', 'kitten:puppy', 'record:cassette', 'developer:counselor']\n",
      "Failed for line: ['statesman:stateswoman', 'cat:dog', 'cassette:record', 'judge:stenographer']\n",
      "Failed for line: ['statesman:stateswoman', 'cassette:record', 'salt:pepper', 'president:receptionist']\n",
      "Failed for line: ['statesman:stateswoman', 'violin:cello', 'duck:goose', 'captain:bookkeeper']\n",
      "Failed for line: ['statesman:stateswoman', 'almond:pecan', 'fiction:poetry', 'warrior:nanny']\n",
      "Failed for line: ['statesman:stateswoman', 'jazz:blues', 'kitten:puppy', 'architect:hairdresser']\n",
      "Failed for line: ['statesman:stateswoman', 'puppy:kitten', 'jazz:blues', 'boss:stylist']\n",
      "Failed for line: ['statesman:stateswoman', 'book:magazine', 'dog:cat', 'pilot:socialite']\n",
      "Failed for line: ['horseman:horsewoman', 'dog:bitch', 'fiction:poetry', 'doctor:nurse']\n",
      "Failed for line: ['horseman:horsewoman', 'book:magazine', 'dogwood:elm', 'manager:secretary']\n",
      "Failed for line: ['horseman:horsewoman', 'flour:sugar', 'pencil:pen', 'chef:baker']\n",
      "Failed for line: ['horseman:horsewoman', 'sugar:flour', 'pillow:mattress', 'guard:cashier']\n",
      "Failed for line: ['horseman:horsewoman', 'trout:salmon', 'car:bus', 'programmer:homemaker']\n",
      "Failed for line: ['horseman:horsewoman', 'canoe:kayak', 'bolt:nut', 'leader:assistant']\n",
      "Failed for line: ['horseman:horsewoman', 'violin:cello', 'bolt:nut', 'researcher:librarians']\n",
      "Failed for line: ['horseman:horsewoman', 'couch:recliner', 'shirt:blouse', 'dentist:optometrist']\n",
      "Failed for line: ['horseman:horsewoman', 'cat:dog', 'dog:bitch', 'dispatcher:tailor']\n",
      "Failed for line: ['horseman:horsewoman', 'pencil:pen', 'duck:goose', 'engineer:dancer']\n",
      "Failed for line: ['horseman:horsewoman', 'cup:lid', 'puppy:kitten', 'lawyer:clerk']\n",
      "Failed for line: ['horseman:horsewoman', 'flour:sugar', 'treble:bass', 'janitor:housekeeper']\n",
      "Failed for line: ['horseman:horsewoman', 'fiction:poetry', 'cup:lid', 'developer:counselor']\n",
      "Failed for line: ['horseman:horsewoman', 'couch:recliner', 'flour:sugar', 'judge:stenographer']\n",
      "Failed for line: ['horseman:horsewoman', 'kitten:puppy', 'jazz:blues', 'president:receptionist']\n",
      "Failed for line: ['horseman:horsewoman', 'book:magazine', 'canoe:kayak', 'captain:bookkeeper']\n",
      "Failed for line: ['horseman:horsewoman', 'kitten:puppy', 'jazz:blues', 'warrior:nanny']\n",
      "Failed for line: ['horseman:horsewoman', 'violin:cello', 'pencil:pen', 'architect:hairdresser']\n",
      "Failed for line: ['horseman:horsewoman', 'algebra:geometry', 'dogwood:elm', 'boss:stylist']\n",
      "Failed for line: ['horseman:horsewoman', 'jazz:blues', 'cassette:record', 'pilot:socialite']\n",
      "Failed for line: ['countrymen:countrywomen', 'shirt:blouse', 'couch:recliner', 'doctor:nurse']\n",
      "Failed for line: ['countrymen:countrywomen', 'kitten:puppy', 'car:bus', 'manager:secretary']\n",
      "Failed for line: ['countrymen:countrywomen', 'shirt:blouse', 'book:magazine', 'chef:baker']\n",
      "Failed for line: ['countrymen:countrywomen', 'pillow:mattress', 'dogwood:elm', 'guard:cashier']\n",
      "Failed for line: ['countrymen:countrywomen', 'fiction:poetry', 'pencil:pen', 'programmer:homemaker']\n",
      "Failed for line: ['countrymen:countrywomen', 'cup:lid', 'salt:pepper', 'leader:assistant']\n",
      "Failed for line: ['countrymen:countrywomen', 'canoe:kayak', 'dog:cat', 'researcher:librarians']\n",
      "Failed for line: ['countrymen:countrywomen', 'shirt:blouse', 'dog:bitch', 'dentist:optometrist']\n",
      "Failed for line: ['countrymen:countrywomen', 'dog:bitch', 'bolt:nut', 'dispatcher:tailor']\n",
      "Failed for line: ['countrymen:countrywomen', 'shirt:blouse', 'pen:pencil', 'engineer:dancer']\n",
      "Failed for line: ['countrymen:countrywomen', 'violin:cello', 'bolt:nut', 'lawyer:clerk']\n",
      "Failed for line: ['countrymen:countrywomen', 'pencil:pen', 'kitten:puppy', 'janitor:housekeeper']\n",
      "Failed for line: ['countrymen:countrywomen', 'dog:cat', 'almond:pecan', 'developer:counselor']\n",
      "Failed for line: ['countrymen:countrywomen', 'algebra:geometry', 'violin:cello', 'judge:stenographer']\n",
      "Failed for line: ['countrymen:countrywomen', 'salt:pepper', 'car:bus', 'president:receptionist']\n",
      "Failed for line: ['countrymen:countrywomen', 'violin:cello', 'sugar:flour', 'captain:bookkeeper']\n",
      "Failed for line: ['countrymen:countrywomen', 'treble:bass', 'salt:pepper', 'warrior:nanny']\n",
      "Failed for line: ['countrymen:countrywomen', 'pencil:pen', 'dog:cat', 'architect:hairdresser']\n",
      "Failed for line: ['countrymen:countrywomen', 'cat:dog', 'trout:salmon', 'boss:stylist']\n",
      "Failed for line: ['countrymen:countrywomen', 'puppy:kitten', 'cup:lid', 'pilot:socialite']\n",
      "Failed for line: ['nobleman:noblewoman', 'puppy:kitten', 'shirt:blouse', 'doctor:nurse']\n",
      "Failed for line: ['nobleman:noblewoman', 'pen:pencil', 'kitten:puppy', 'manager:secretary']\n",
      "Failed for line: ['nobleman:noblewoman', 'cassette:record', 'couch:recliner', 'chef:baker']\n",
      "Failed for line: ['nobleman:noblewoman', 'treble:bass', 'duck:goose', 'guard:cashier']\n",
      "Failed for line: ['nobleman:noblewoman', 'cassette:record', 'jazz:blues', 'programmer:homemaker']\n",
      "Failed for line: ['nobleman:noblewoman', 'dog:cat', 'cassette:record', 'leader:assistant']\n",
      "Failed for line: ['nobleman:noblewoman', 'treble:bass', 'duck:goose', 'researcher:librarians']\n",
      "Failed for line: ['nobleman:noblewoman', 'canoe:kayak', 'puppy:kitten', 'dentist:optometrist']\n",
      "Failed for line: ['nobleman:noblewoman', 'couch:recliner', 'cat:dog', 'dispatcher:tailor']\n",
      "Failed for line: ['nobleman:noblewoman', 'fiction:poetry', 'shirt:blouse', 'engineer:dancer']\n",
      "Failed for line: ['nobleman:noblewoman', 'sugar:flour', 'couch:recliner', 'lawyer:clerk']\n",
      "Failed for line: ['nobleman:noblewoman', 'canoe:kayak', 'book:magazine', 'janitor:housekeeper']\n",
      "Failed for line: ['nobleman:noblewoman', 'car:bus', 'jazz:blues', 'developer:counselor']\n",
      "Failed for line: ['nobleman:noblewoman', 'dogwood:elm', 'canoe:kayak', 'judge:stenographer']\n",
      "Failed for line: ['nobleman:noblewoman', 'duck:goose', 'treble:bass', 'president:receptionist']\n",
      "Failed for line: ['nobleman:noblewoman', 'fiction:poetry', 'pillow:mattress', 'captain:bookkeeper']\n",
      "Failed for line: ['nobleman:noblewoman', 'pencil:pen', 'canoe:kayak', 'warrior:nanny']\n",
      "Failed for line: ['nobleman:noblewoman', 'fiction:poetry', 'violin:cello', 'architect:hairdresser']\n",
      "Failed for line: ['nobleman:noblewoman', 'puppy:kitten', 'couch:recliner', 'boss:stylist']\n",
      "Failed for line: ['nobleman:noblewoman', 'car:bus', 'puppy:kitten', 'pilot:socialite']\n",
      "Stored 'sembias_g2' (tuple)\n"
     ]
    },
    {
     "data": {
      "text/plain": [
       "(0.32222222222222224, 0.3972222222222222, 0.28055555555555556)"
      ]
     },
     "execution_count": 4,
     "metadata": {},
     "output_type": "execute_result"
    }
   ],
   "source": [
    "sembias_g2 = SemBias(glove_2_fee).compute()\n",
    "\n",
    "%store sembias_g2\n",
    "sembias_g2"
   ]
  },
  {
   "cell_type": "code",
   "execution_count": 5,
   "id": "6528f94c",
   "metadata": {},
   "outputs": [
    {
     "name": "stdout",
     "output_type": "stream",
     "text": [
      "Failed for line: ['statesman:stateswoman', 'shirt:blouse', 'book:magazine', 'doctor:nurse']\n",
      "Failed for line: ['statesman:stateswoman', 'dog:cat', 'record:cassette', 'manager:secretary']\n",
      "Failed for line: ['statesman:stateswoman', 'dog:cat', 'fiction:poetry', 'chef:baker']\n",
      "Failed for line: ['statesman:stateswoman', 'fiction:poetry', 'bolt:nut', 'guard:cashier']\n",
      "Failed for line: ['statesman:stateswoman', 'almond:pecan', 'sugar:flour', 'programmer:homemaker']\n",
      "Failed for line: ['statesman:stateswoman', 'puppy:kitten', 'pillow:mattress', 'leader:assistant']\n",
      "Failed for line: ['statesman:stateswoman', 'book:magazine', 'sugar:flour', 'researcher:librarians']\n",
      "Failed for line: ['statesman:stateswoman', 'dog:bitch', 'duck:goose', 'dentist:optometrist']\n",
      "Failed for line: ['statesman:stateswoman', 'pen:pencil', 'salt:pepper', 'dispatcher:tailor']\n",
      "Failed for line: ['statesman:stateswoman', 'sugar:flour', 'cup:lid', 'engineer:dancer']\n",
      "Failed for line: ['statesman:stateswoman', 'fiction:poetry', 'cup:lid', 'lawyer:clerk']\n",
      "Failed for line: ['statesman:stateswoman', 'canoe:kayak', 'pillow:mattress', 'janitor:housekeeper']\n",
      "Failed for line: ['statesman:stateswoman', 'kitten:puppy', 'record:cassette', 'developer:counselor']\n",
      "Failed for line: ['statesman:stateswoman', 'cat:dog', 'cassette:record', 'judge:stenographer']\n",
      "Failed for line: ['statesman:stateswoman', 'cassette:record', 'salt:pepper', 'president:receptionist']\n",
      "Failed for line: ['statesman:stateswoman', 'violin:cello', 'duck:goose', 'captain:bookkeeper']\n",
      "Failed for line: ['statesman:stateswoman', 'almond:pecan', 'fiction:poetry', 'warrior:nanny']\n",
      "Failed for line: ['statesman:stateswoman', 'jazz:blues', 'kitten:puppy', 'architect:hairdresser']\n",
      "Failed for line: ['statesman:stateswoman', 'puppy:kitten', 'jazz:blues', 'boss:stylist']\n",
      "Failed for line: ['statesman:stateswoman', 'book:magazine', 'dog:cat', 'pilot:socialite']\n",
      "Failed for line: ['horseman:horsewoman', 'dog:bitch', 'fiction:poetry', 'doctor:nurse']\n",
      "Failed for line: ['horseman:horsewoman', 'book:magazine', 'dogwood:elm', 'manager:secretary']\n",
      "Failed for line: ['horseman:horsewoman', 'flour:sugar', 'pencil:pen', 'chef:baker']\n",
      "Failed for line: ['horseman:horsewoman', 'sugar:flour', 'pillow:mattress', 'guard:cashier']\n",
      "Failed for line: ['horseman:horsewoman', 'trout:salmon', 'car:bus', 'programmer:homemaker']\n",
      "Failed for line: ['horseman:horsewoman', 'canoe:kayak', 'bolt:nut', 'leader:assistant']\n",
      "Failed for line: ['horseman:horsewoman', 'violin:cello', 'bolt:nut', 'researcher:librarians']\n",
      "Failed for line: ['horseman:horsewoman', 'couch:recliner', 'shirt:blouse', 'dentist:optometrist']\n",
      "Failed for line: ['horseman:horsewoman', 'cat:dog', 'dog:bitch', 'dispatcher:tailor']\n",
      "Failed for line: ['horseman:horsewoman', 'pencil:pen', 'duck:goose', 'engineer:dancer']\n",
      "Failed for line: ['horseman:horsewoman', 'cup:lid', 'puppy:kitten', 'lawyer:clerk']\n",
      "Failed for line: ['horseman:horsewoman', 'flour:sugar', 'treble:bass', 'janitor:housekeeper']\n",
      "Failed for line: ['horseman:horsewoman', 'fiction:poetry', 'cup:lid', 'developer:counselor']\n",
      "Failed for line: ['horseman:horsewoman', 'couch:recliner', 'flour:sugar', 'judge:stenographer']\n",
      "Failed for line: ['horseman:horsewoman', 'kitten:puppy', 'jazz:blues', 'president:receptionist']\n",
      "Failed for line: ['horseman:horsewoman', 'book:magazine', 'canoe:kayak', 'captain:bookkeeper']\n",
      "Failed for line: ['horseman:horsewoman', 'kitten:puppy', 'jazz:blues', 'warrior:nanny']\n",
      "Failed for line: ['horseman:horsewoman', 'violin:cello', 'pencil:pen', 'architect:hairdresser']\n",
      "Failed for line: ['horseman:horsewoman', 'algebra:geometry', 'dogwood:elm', 'boss:stylist']\n",
      "Failed for line: ['horseman:horsewoman', 'jazz:blues', 'cassette:record', 'pilot:socialite']\n",
      "Failed for line: ['countrymen:countrywomen', 'shirt:blouse', 'couch:recliner', 'doctor:nurse']\n",
      "Failed for line: ['countrymen:countrywomen', 'kitten:puppy', 'car:bus', 'manager:secretary']\n",
      "Failed for line: ['countrymen:countrywomen', 'shirt:blouse', 'book:magazine', 'chef:baker']\n",
      "Failed for line: ['countrymen:countrywomen', 'pillow:mattress', 'dogwood:elm', 'guard:cashier']\n",
      "Failed for line: ['countrymen:countrywomen', 'fiction:poetry', 'pencil:pen', 'programmer:homemaker']\n",
      "Failed for line: ['countrymen:countrywomen', 'cup:lid', 'salt:pepper', 'leader:assistant']\n",
      "Failed for line: ['countrymen:countrywomen', 'canoe:kayak', 'dog:cat', 'researcher:librarians']\n",
      "Failed for line: ['countrymen:countrywomen', 'shirt:blouse', 'dog:bitch', 'dentist:optometrist']\n",
      "Failed for line: ['countrymen:countrywomen', 'dog:bitch', 'bolt:nut', 'dispatcher:tailor']\n",
      "Failed for line: ['countrymen:countrywomen', 'shirt:blouse', 'pen:pencil', 'engineer:dancer']\n",
      "Failed for line: ['countrymen:countrywomen', 'violin:cello', 'bolt:nut', 'lawyer:clerk']\n",
      "Failed for line: ['countrymen:countrywomen', 'pencil:pen', 'kitten:puppy', 'janitor:housekeeper']\n",
      "Failed for line: ['countrymen:countrywomen', 'dog:cat', 'almond:pecan', 'developer:counselor']\n",
      "Failed for line: ['countrymen:countrywomen', 'algebra:geometry', 'violin:cello', 'judge:stenographer']\n",
      "Failed for line: ['countrymen:countrywomen', 'salt:pepper', 'car:bus', 'president:receptionist']\n",
      "Failed for line: ['countrymen:countrywomen', 'violin:cello', 'sugar:flour', 'captain:bookkeeper']\n",
      "Failed for line: ['countrymen:countrywomen', 'treble:bass', 'salt:pepper', 'warrior:nanny']\n",
      "Failed for line: ['countrymen:countrywomen', 'pencil:pen', 'dog:cat', 'architect:hairdresser']\n",
      "Failed for line: ['countrymen:countrywomen', 'cat:dog', 'trout:salmon', 'boss:stylist']\n",
      "Failed for line: ['countrymen:countrywomen', 'puppy:kitten', 'cup:lid', 'pilot:socialite']\n",
      "Failed for line: ['nobleman:noblewoman', 'puppy:kitten', 'shirt:blouse', 'doctor:nurse']\n",
      "Failed for line: ['nobleman:noblewoman', 'pen:pencil', 'kitten:puppy', 'manager:secretary']\n",
      "Failed for line: ['nobleman:noblewoman', 'cassette:record', 'couch:recliner', 'chef:baker']\n",
      "Failed for line: ['nobleman:noblewoman', 'treble:bass', 'duck:goose', 'guard:cashier']\n",
      "Failed for line: ['nobleman:noblewoman', 'cassette:record', 'jazz:blues', 'programmer:homemaker']\n",
      "Failed for line: ['nobleman:noblewoman', 'dog:cat', 'cassette:record', 'leader:assistant']\n",
      "Failed for line: ['nobleman:noblewoman', 'treble:bass', 'duck:goose', 'researcher:librarians']\n",
      "Failed for line: ['nobleman:noblewoman', 'canoe:kayak', 'puppy:kitten', 'dentist:optometrist']\n",
      "Failed for line: ['nobleman:noblewoman', 'couch:recliner', 'cat:dog', 'dispatcher:tailor']\n",
      "Failed for line: ['nobleman:noblewoman', 'fiction:poetry', 'shirt:blouse', 'engineer:dancer']\n",
      "Failed for line: ['nobleman:noblewoman', 'sugar:flour', 'couch:recliner', 'lawyer:clerk']\n",
      "Failed for line: ['nobleman:noblewoman', 'canoe:kayak', 'book:magazine', 'janitor:housekeeper']\n",
      "Failed for line: ['nobleman:noblewoman', 'car:bus', 'jazz:blues', 'developer:counselor']\n",
      "Failed for line: ['nobleman:noblewoman', 'dogwood:elm', 'canoe:kayak', 'judge:stenographer']\n",
      "Failed for line: ['nobleman:noblewoman', 'duck:goose', 'treble:bass', 'president:receptionist']\n",
      "Failed for line: ['nobleman:noblewoman', 'fiction:poetry', 'pillow:mattress', 'captain:bookkeeper']\n",
      "Failed for line: ['nobleman:noblewoman', 'pencil:pen', 'canoe:kayak', 'warrior:nanny']\n",
      "Failed for line: ['nobleman:noblewoman', 'fiction:poetry', 'violin:cello', 'architect:hairdresser']\n",
      "Failed for line: ['nobleman:noblewoman', 'puppy:kitten', 'couch:recliner', 'boss:stylist']\n",
      "Failed for line: ['nobleman:noblewoman', 'car:bus', 'puppy:kitten', 'pilot:socialite']\n",
      "Stored 'sembias_g3' (tuple)\n"
     ]
    },
    {
     "data": {
      "text/plain": [
       "(0.5083333333333333, 0.3, 0.19166666666666668)"
      ]
     },
     "execution_count": 5,
     "metadata": {},
     "output_type": "execute_result"
    }
   ],
   "source": [
    "sembias_g3 = SemBias(glove_3_fee).compute()\n",
    "\n",
    "%store sembias_g3\n",
    "sembias_g3"
   ]
  },
  {
   "cell_type": "code",
   "execution_count": 6,
   "id": "ba6b26b0",
   "metadata": {},
   "outputs": [
    {
     "name": "stdout",
     "output_type": "stream",
     "text": [
      "Failed for line: ['statesman:stateswoman', 'shirt:blouse', 'book:magazine', 'doctor:nurse']\n",
      "Failed for line: ['statesman:stateswoman', 'dog:cat', 'record:cassette', 'manager:secretary']\n",
      "Failed for line: ['statesman:stateswoman', 'dog:cat', 'fiction:poetry', 'chef:baker']\n",
      "Failed for line: ['statesman:stateswoman', 'fiction:poetry', 'bolt:nut', 'guard:cashier']\n",
      "Failed for line: ['statesman:stateswoman', 'almond:pecan', 'sugar:flour', 'programmer:homemaker']\n",
      "Failed for line: ['statesman:stateswoman', 'puppy:kitten', 'pillow:mattress', 'leader:assistant']\n",
      "Failed for line: ['statesman:stateswoman', 'book:magazine', 'sugar:flour', 'researcher:librarians']\n",
      "Failed for line: ['statesman:stateswoman', 'dog:bitch', 'duck:goose', 'dentist:optometrist']\n",
      "Failed for line: ['statesman:stateswoman', 'pen:pencil', 'salt:pepper', 'dispatcher:tailor']\n",
      "Failed for line: ['statesman:stateswoman', 'sugar:flour', 'cup:lid', 'engineer:dancer']\n",
      "Failed for line: ['statesman:stateswoman', 'fiction:poetry', 'cup:lid', 'lawyer:clerk']\n",
      "Failed for line: ['statesman:stateswoman', 'canoe:kayak', 'pillow:mattress', 'janitor:housekeeper']\n",
      "Failed for line: ['statesman:stateswoman', 'kitten:puppy', 'record:cassette', 'developer:counselor']\n",
      "Failed for line: ['statesman:stateswoman', 'cat:dog', 'cassette:record', 'judge:stenographer']\n",
      "Failed for line: ['statesman:stateswoman', 'cassette:record', 'salt:pepper', 'president:receptionist']\n",
      "Failed for line: ['statesman:stateswoman', 'violin:cello', 'duck:goose', 'captain:bookkeeper']\n",
      "Failed for line: ['statesman:stateswoman', 'almond:pecan', 'fiction:poetry', 'warrior:nanny']\n",
      "Failed for line: ['statesman:stateswoman', 'jazz:blues', 'kitten:puppy', 'architect:hairdresser']\n",
      "Failed for line: ['statesman:stateswoman', 'puppy:kitten', 'jazz:blues', 'boss:stylist']\n",
      "Failed for line: ['statesman:stateswoman', 'book:magazine', 'dog:cat', 'pilot:socialite']\n",
      "Failed for line: ['horseman:horsewoman', 'dog:bitch', 'fiction:poetry', 'doctor:nurse']\n",
      "Failed for line: ['horseman:horsewoman', 'book:magazine', 'dogwood:elm', 'manager:secretary']\n",
      "Failed for line: ['horseman:horsewoman', 'flour:sugar', 'pencil:pen', 'chef:baker']\n",
      "Failed for line: ['horseman:horsewoman', 'sugar:flour', 'pillow:mattress', 'guard:cashier']\n",
      "Failed for line: ['horseman:horsewoman', 'trout:salmon', 'car:bus', 'programmer:homemaker']\n",
      "Failed for line: ['horseman:horsewoman', 'canoe:kayak', 'bolt:nut', 'leader:assistant']\n",
      "Failed for line: ['horseman:horsewoman', 'violin:cello', 'bolt:nut', 'researcher:librarians']\n",
      "Failed for line: ['horseman:horsewoman', 'couch:recliner', 'shirt:blouse', 'dentist:optometrist']\n",
      "Failed for line: ['horseman:horsewoman', 'cat:dog', 'dog:bitch', 'dispatcher:tailor']\n",
      "Failed for line: ['horseman:horsewoman', 'pencil:pen', 'duck:goose', 'engineer:dancer']\n",
      "Failed for line: ['horseman:horsewoman', 'cup:lid', 'puppy:kitten', 'lawyer:clerk']\n",
      "Failed for line: ['horseman:horsewoman', 'flour:sugar', 'treble:bass', 'janitor:housekeeper']\n",
      "Failed for line: ['horseman:horsewoman', 'fiction:poetry', 'cup:lid', 'developer:counselor']\n",
      "Failed for line: ['horseman:horsewoman', 'couch:recliner', 'flour:sugar', 'judge:stenographer']\n",
      "Failed for line: ['horseman:horsewoman', 'kitten:puppy', 'jazz:blues', 'president:receptionist']\n",
      "Failed for line: ['horseman:horsewoman', 'book:magazine', 'canoe:kayak', 'captain:bookkeeper']\n",
      "Failed for line: ['horseman:horsewoman', 'kitten:puppy', 'jazz:blues', 'warrior:nanny']\n",
      "Failed for line: ['horseman:horsewoman', 'violin:cello', 'pencil:pen', 'architect:hairdresser']\n",
      "Failed for line: ['horseman:horsewoman', 'algebra:geometry', 'dogwood:elm', 'boss:stylist']\n",
      "Failed for line: ['horseman:horsewoman', 'jazz:blues', 'cassette:record', 'pilot:socialite']\n",
      "Failed for line: ['countrymen:countrywomen', 'shirt:blouse', 'couch:recliner', 'doctor:nurse']\n",
      "Failed for line: ['countrymen:countrywomen', 'kitten:puppy', 'car:bus', 'manager:secretary']\n",
      "Failed for line: ['countrymen:countrywomen', 'shirt:blouse', 'book:magazine', 'chef:baker']\n",
      "Failed for line: ['countrymen:countrywomen', 'pillow:mattress', 'dogwood:elm', 'guard:cashier']\n",
      "Failed for line: ['countrymen:countrywomen', 'fiction:poetry', 'pencil:pen', 'programmer:homemaker']\n",
      "Failed for line: ['countrymen:countrywomen', 'cup:lid', 'salt:pepper', 'leader:assistant']\n",
      "Failed for line: ['countrymen:countrywomen', 'canoe:kayak', 'dog:cat', 'researcher:librarians']\n",
      "Failed for line: ['countrymen:countrywomen', 'shirt:blouse', 'dog:bitch', 'dentist:optometrist']\n",
      "Failed for line: ['countrymen:countrywomen', 'dog:bitch', 'bolt:nut', 'dispatcher:tailor']\n",
      "Failed for line: ['countrymen:countrywomen', 'shirt:blouse', 'pen:pencil', 'engineer:dancer']\n",
      "Failed for line: ['countrymen:countrywomen', 'violin:cello', 'bolt:nut', 'lawyer:clerk']\n",
      "Failed for line: ['countrymen:countrywomen', 'pencil:pen', 'kitten:puppy', 'janitor:housekeeper']\n",
      "Failed for line: ['countrymen:countrywomen', 'dog:cat', 'almond:pecan', 'developer:counselor']\n",
      "Failed for line: ['countrymen:countrywomen', 'algebra:geometry', 'violin:cello', 'judge:stenographer']\n",
      "Failed for line: ['countrymen:countrywomen', 'salt:pepper', 'car:bus', 'president:receptionist']\n",
      "Failed for line: ['countrymen:countrywomen', 'violin:cello', 'sugar:flour', 'captain:bookkeeper']\n",
      "Failed for line: ['countrymen:countrywomen', 'treble:bass', 'salt:pepper', 'warrior:nanny']\n",
      "Failed for line: ['countrymen:countrywomen', 'pencil:pen', 'dog:cat', 'architect:hairdresser']\n",
      "Failed for line: ['countrymen:countrywomen', 'cat:dog', 'trout:salmon', 'boss:stylist']\n",
      "Failed for line: ['countrymen:countrywomen', 'puppy:kitten', 'cup:lid', 'pilot:socialite']\n",
      "Failed for line: ['nobleman:noblewoman', 'puppy:kitten', 'shirt:blouse', 'doctor:nurse']\n",
      "Failed for line: ['nobleman:noblewoman', 'pen:pencil', 'kitten:puppy', 'manager:secretary']\n",
      "Failed for line: ['nobleman:noblewoman', 'cassette:record', 'couch:recliner', 'chef:baker']\n",
      "Failed for line: ['nobleman:noblewoman', 'treble:bass', 'duck:goose', 'guard:cashier']\n",
      "Failed for line: ['nobleman:noblewoman', 'cassette:record', 'jazz:blues', 'programmer:homemaker']\n",
      "Failed for line: ['nobleman:noblewoman', 'dog:cat', 'cassette:record', 'leader:assistant']\n",
      "Failed for line: ['nobleman:noblewoman', 'treble:bass', 'duck:goose', 'researcher:librarians']\n",
      "Failed for line: ['nobleman:noblewoman', 'canoe:kayak', 'puppy:kitten', 'dentist:optometrist']\n",
      "Failed for line: ['nobleman:noblewoman', 'couch:recliner', 'cat:dog', 'dispatcher:tailor']\n",
      "Failed for line: ['nobleman:noblewoman', 'fiction:poetry', 'shirt:blouse', 'engineer:dancer']\n",
      "Failed for line: ['nobleman:noblewoman', 'sugar:flour', 'couch:recliner', 'lawyer:clerk']\n",
      "Failed for line: ['nobleman:noblewoman', 'canoe:kayak', 'book:magazine', 'janitor:housekeeper']\n",
      "Failed for line: ['nobleman:noblewoman', 'car:bus', 'jazz:blues', 'developer:counselor']\n",
      "Failed for line: ['nobleman:noblewoman', 'dogwood:elm', 'canoe:kayak', 'judge:stenographer']\n",
      "Failed for line: ['nobleman:noblewoman', 'duck:goose', 'treble:bass', 'president:receptionist']\n",
      "Failed for line: ['nobleman:noblewoman', 'fiction:poetry', 'pillow:mattress', 'captain:bookkeeper']\n",
      "Failed for line: ['nobleman:noblewoman', 'pencil:pen', 'canoe:kayak', 'warrior:nanny']\n",
      "Failed for line: ['nobleman:noblewoman', 'fiction:poetry', 'violin:cello', 'architect:hairdresser']\n",
      "Failed for line: ['nobleman:noblewoman', 'puppy:kitten', 'couch:recliner', 'boss:stylist']\n",
      "Failed for line: ['nobleman:noblewoman', 'car:bus', 'puppy:kitten', 'pilot:socialite']\n",
      "Stored 'sembias_g4' (tuple)\n"
     ]
    },
    {
     "data": {
      "text/plain": [
       "(0.5888888888888889, 0.2777777777777778, 0.13333333333333333)"
      ]
     },
     "execution_count": 6,
     "metadata": {},
     "output_type": "execute_result"
    }
   ],
   "source": [
    "sembias_g4 = SemBias(glove_4_fee).compute()\n",
    "\n",
    "%store sembias_g4\n",
    "sembias_g4"
   ]
  },
  {
   "cell_type": "markdown",
   "id": "a2189af6",
   "metadata": {},
   "source": [
    "## GloVe Wiki Gigaword"
   ]
  },
  {
   "cell_type": "code",
   "execution_count": 8,
   "id": "84e78d2d",
   "metadata": {},
   "outputs": [],
   "source": [
    "glove_5_fee = loader.WE().load(ename = 'glove-wiki-gigaword-50', normalize=True)\n",
    "glove_6_fee = loader.WE().load(ename = 'glove-wiki-gigaword-100', normalize=True)\n",
    "glove_7_fee = loader.WE().load(ename = 'glove-wiki-gigaword-200', normalize=True)\n",
    "glove_8_fee = loader.WE().load(ename = 'glove-wiki-gigaword-300', normalize=True)"
   ]
  },
  {
   "cell_type": "code",
   "execution_count": 9,
   "id": "c950dcef",
   "metadata": {},
   "outputs": [
    {
     "name": "stdout",
     "output_type": "stream",
     "text": [
      "Stored 'sembias_g5' (tuple)\n"
     ]
    },
    {
     "data": {
      "text/plain": [
       "(0.6977272727272728, 0.2159090909090909, 0.08636363636363636)"
      ]
     },
     "execution_count": 9,
     "metadata": {},
     "output_type": "execute_result"
    }
   ],
   "source": [
    "sembias_g5 = SemBias(glove_5_fee).compute()\n",
    "\n",
    "%store sembias_g5\n",
    "sembias_g5"
   ]
  },
  {
   "cell_type": "code",
   "execution_count": 10,
   "id": "3a84fae4",
   "metadata": {},
   "outputs": [
    {
     "name": "stdout",
     "output_type": "stream",
     "text": [
      "Stored 'sembias_g6' (tuple)\n"
     ]
    },
    {
     "data": {
      "text/plain": [
       "(0.75, 0.18181818181818182, 0.06818181818181818)"
      ]
     },
     "execution_count": 10,
     "metadata": {},
     "output_type": "execute_result"
    }
   ],
   "source": [
    "sembias_g6 = SemBias(glove_6_fee).compute()\n",
    "\n",
    "%store sembias_g6\n",
    "sembias_g6"
   ]
  },
  {
   "cell_type": "code",
   "execution_count": 11,
   "id": "ab712dbb",
   "metadata": {},
   "outputs": [
    {
     "name": "stdout",
     "output_type": "stream",
     "text": [
      "Stored 'sembias_g7' (tuple)\n"
     ]
    },
    {
     "data": {
      "text/plain": [
       "(0.7795454545454545, 0.16818181818181818, 0.05227272727272727)"
      ]
     },
     "execution_count": 11,
     "metadata": {},
     "output_type": "execute_result"
    }
   ],
   "source": [
    "sembias_g7 = SemBias(glove_7_fee).compute()\n",
    "\n",
    "%store sembias_g7\n",
    "sembias_g7"
   ]
  },
  {
   "cell_type": "code",
   "execution_count": 12,
   "id": "bdf9693f",
   "metadata": {},
   "outputs": [
    {
     "name": "stdout",
     "output_type": "stream",
     "text": [
      "Stored 'sembias_g8' (tuple)\n"
     ]
    },
    {
     "data": {
      "text/plain": [
       "(0.7863636363636364, 0.15, 0.06363636363636363)"
      ]
     },
     "execution_count": 12,
     "metadata": {},
     "output_type": "execute_result"
    }
   ],
   "source": [
    "sembias_g8 = SemBias(glove_8_fee).compute()\n",
    "\n",
    "%store sembias_g8\n",
    "sembias_g8"
   ]
  },
  {
   "cell_type": "markdown",
   "id": "3a719ef3",
   "metadata": {},
   "source": [
    "## GloVe Common Crawl"
   ]
  },
  {
   "cell_type": "code",
   "execution_count": null,
   "id": "4ccb6f68",
   "metadata": {},
   "outputs": [],
   "source": [
    "glove_9_fee = loader.WE().load(fname='glove.42B.300d duplicate.txt')"
   ]
  },
  {
   "cell_type": "code",
   "execution_count": null,
   "id": "a6a0f0cd",
   "metadata": {},
   "outputs": [],
   "source": [
    "glove_10_fee = loader.WE().load(fname='/Macintosh HD⁩ ⁨Users⁩/EmpiricalSE⁩/⁨Desktop⁩/⁨Emeralda/glove.840B.300d.txt', normalize=True)"
   ]
  },
  {
   "cell_type": "markdown",
   "id": "f0de7b2d",
   "metadata": {},
   "source": [
    "# word2vec\n",
    "Pre-trained vectors trained on part of Google News dataset (about 100 billion words). The model contains 300-dimensional vectors for 3 million words and phrases."
   ]
  },
  {
   "cell_type": "code",
   "execution_count": 11,
   "id": "720b1b0f",
   "metadata": {},
   "outputs": [],
   "source": [
    "w2v_fee = loader.WE().load(ename = 'word2vec-google-news-300', normalize=True)"
   ]
  },
  {
   "cell_type": "code",
   "execution_count": 12,
   "id": "238aca0a",
   "metadata": {},
   "outputs": [
    {
     "name": "stdout",
     "output_type": "stream",
     "text": [
      "Stored 'sembias_w1' (tuple)\n"
     ]
    },
    {
     "data": {
      "text/plain": [
       "(0.8272727272727273, 0.1340909090909091, 0.038636363636363635)"
      ]
     },
     "execution_count": 12,
     "metadata": {},
     "output_type": "execute_result"
    }
   ],
   "source": [
    "sembias_w1 = SemBias(w2v_fee).compute()\n",
    "\n",
    "%store sembias_w1\n",
    "sembias_w1"
   ]
  },
  {
   "cell_type": "markdown",
   "id": "ccc2a5d0",
   "metadata": {},
   "source": [
    "# fastText crawl\n",
    "1. fasttext crawl dim=300: 2 million word vectors trained on Common Crawl (600B tokens).\n",
    "2. fasttext crawl subwords dim=300: 2 million word vectors trained with subword information on Common Crawl (600B tokens).\n",
    "\n",
    "A subword is the internal structure of words. Classic word representation cannot handle unseen word or rare word well. Character embeddings is one of the solution to overcome out-of-vocabulary (OOV). However, it may too fine-grained any missing some important information. Subword is in between word and character. It is not too fine-grained while able to handle unseen word and rare word. For example, we can split “subword” to “sub” and “word”. In other word we use two vector (i.e. “sub” and “word”) to represent “subword”."
   ]
  },
  {
   "cell_type": "code",
   "execution_count": 31,
   "id": "931af66d",
   "metadata": {
    "scrolled": true
   },
   "outputs": [
    {
     "name": "stderr",
     "output_type": "stream",
     "text": [
      "INFO:gensim.models.utils_any2vec:loading projection weights from crawl-300d-2M-subword.bin\n",
      "DEBUG:smart_open.smart_open_lib:{'uri': 'crawl-300d-2M-subword.bin', 'mode': 'rb', 'buffering': -1, 'encoding': None, 'errors': None, 'newline': None, 'closefd': True, 'opener': None, 'ignore_ext': False, 'transport_params': None}\n"
     ]
    },
    {
     "ename": "FileNotFoundError",
     "evalue": "[Errno 2] No such file or directory: 'crawl-300d-2M-subword.bin'",
     "output_type": "error",
     "traceback": [
      "\u001b[0;31m---------------------------------------------------------------------------\u001b[0m",
      "\u001b[0;31mFileNotFoundError\u001b[0m                         Traceback (most recent call last)",
      "\u001b[0;32m<ipython-input-31-e3bb0d4fc011>\u001b[0m in \u001b[0;36m<module>\u001b[0;34m\u001b[0m\n\u001b[0;32m----> 1\u001b[0;31m \u001b[0mfasttext_3_fee\u001b[0m \u001b[0;34m=\u001b[0m \u001b[0mloader\u001b[0m\u001b[0;34m.\u001b[0m\u001b[0mWE\u001b[0m\u001b[0;34m(\u001b[0m\u001b[0;34m)\u001b[0m\u001b[0;34m.\u001b[0m\u001b[0mload\u001b[0m\u001b[0;34m(\u001b[0m\u001b[0mfname\u001b[0m\u001b[0;34m=\u001b[0m\u001b[0;34m'crawl-300d-2M-subword.bin'\u001b[0m\u001b[0;34m,\u001b[0m \u001b[0mnormalize\u001b[0m\u001b[0;34m=\u001b[0m\u001b[0;32mTrue\u001b[0m\u001b[0;34m)\u001b[0m\u001b[0;34m\u001b[0m\u001b[0;34m\u001b[0m\u001b[0m\n\u001b[0m",
      "\u001b[0;32m~/Desktop/postgraduate/dissertation/FEE-master/fee/embedding/loader.py\u001b[0m in \u001b[0;36mload\u001b[0;34m(self, fname, format, ename, normalize, dim)\u001b[0m\n\u001b[1;32m    170\u001b[0m \u001b[0;34m\u001b[0m\u001b[0m\n\u001b[1;32m    171\u001b[0m         \u001b[0;32melse\u001b[0m\u001b[0;34m:\u001b[0m\u001b[0;34m\u001b[0m\u001b[0;34m\u001b[0m\u001b[0m\n\u001b[0;32m--> 172\u001b[0;31m             \u001b[0mwords\u001b[0m\u001b[0;34m,\u001b[0m \u001b[0mvecs\u001b[0m \u001b[0;34m=\u001b[0m \u001b[0mself\u001b[0m\u001b[0;34m.\u001b[0m\u001b[0m_load\u001b[0m\u001b[0;34m(\u001b[0m\u001b[0mfname\u001b[0m\u001b[0;34m,\u001b[0m \u001b[0mformat\u001b[0m\u001b[0;34m,\u001b[0m \u001b[0mdim\u001b[0m\u001b[0;34m)\u001b[0m\u001b[0;34m\u001b[0m\u001b[0;34m\u001b[0m\u001b[0m\n\u001b[0m\u001b[1;32m    173\u001b[0m \u001b[0;34m\u001b[0m\u001b[0m\n\u001b[1;32m    174\u001b[0m         \u001b[0mself\u001b[0m\u001b[0;34m.\u001b[0m\u001b[0mwords\u001b[0m \u001b[0;34m=\u001b[0m \u001b[0mwords\u001b[0m\u001b[0;34m\u001b[0m\u001b[0;34m\u001b[0m\u001b[0m\n",
      "\u001b[0;32m~/Desktop/postgraduate/dissertation/FEE-master/fee/embedding/loader.py\u001b[0m in \u001b[0;36m_load\u001b[0;34m(self, fname, format, dim)\u001b[0m\n\u001b[1;32m     96\u001b[0m         \u001b[0;32mif\u001b[0m \u001b[0mformat\u001b[0m \u001b[0;34m==\u001b[0m \u001b[0;34m'bin'\u001b[0m\u001b[0;34m:\u001b[0m\u001b[0;34m\u001b[0m\u001b[0;34m\u001b[0m\u001b[0m\n\u001b[1;32m     97\u001b[0m             \u001b[0;32mimport\u001b[0m \u001b[0mgensim\u001b[0m\u001b[0;34m.\u001b[0m\u001b[0mmodels\u001b[0m\u001b[0;34m\u001b[0m\u001b[0;34m\u001b[0m\u001b[0m\n\u001b[0;32m---> 98\u001b[0;31m             \u001b[0mmodel\u001b[0m \u001b[0;34m=\u001b[0m \u001b[0mgensim\u001b[0m\u001b[0;34m.\u001b[0m\u001b[0mmodels\u001b[0m\u001b[0;34m.\u001b[0m\u001b[0mKeyedVectors\u001b[0m\u001b[0;34m.\u001b[0m\u001b[0mload_word2vec_format\u001b[0m\u001b[0;34m(\u001b[0m\u001b[0mfname\u001b[0m\u001b[0;34m,\u001b[0m \u001b[0mbinary\u001b[0m\u001b[0;34m=\u001b[0m\u001b[0;32mTrue\u001b[0m\u001b[0;34m)\u001b[0m\u001b[0;34m\u001b[0m\u001b[0;34m\u001b[0m\u001b[0m\n\u001b[0m\u001b[1;32m     99\u001b[0m             \u001b[0mwords\u001b[0m\u001b[0;34m,\u001b[0m \u001b[0mvecs\u001b[0m \u001b[0;34m=\u001b[0m \u001b[0mself\u001b[0m\u001b[0;34m.\u001b[0m\u001b[0mget_gensim_word_vecs\u001b[0m\u001b[0;34m(\u001b[0m\u001b[0mmodel\u001b[0m\u001b[0;34m)\u001b[0m\u001b[0;34m\u001b[0m\u001b[0;34m\u001b[0m\u001b[0m\n\u001b[1;32m    100\u001b[0m \u001b[0;34m\u001b[0m\u001b[0m\n",
      "\u001b[0;32m~/.local/lib/python3.8/site-packages/gensim/models/keyedvectors.py\u001b[0m in \u001b[0;36mload_word2vec_format\u001b[0;34m(cls, fname, fvocab, binary, encoding, unicode_errors, limit, datatype)\u001b[0m\n\u001b[1;32m   1494\u001b[0m         \"\"\"\n\u001b[1;32m   1495\u001b[0m         \u001b[0;31m# from gensim.models.word2vec import load_word2vec_format\u001b[0m\u001b[0;34m\u001b[0m\u001b[0;34m\u001b[0m\u001b[0;34m\u001b[0m\u001b[0m\n\u001b[0;32m-> 1496\u001b[0;31m         return _load_word2vec_format(\n\u001b[0m\u001b[1;32m   1497\u001b[0m             \u001b[0mcls\u001b[0m\u001b[0;34m,\u001b[0m \u001b[0mfname\u001b[0m\u001b[0;34m,\u001b[0m \u001b[0mfvocab\u001b[0m\u001b[0;34m=\u001b[0m\u001b[0mfvocab\u001b[0m\u001b[0;34m,\u001b[0m \u001b[0mbinary\u001b[0m\u001b[0;34m=\u001b[0m\u001b[0mbinary\u001b[0m\u001b[0;34m,\u001b[0m \u001b[0mencoding\u001b[0m\u001b[0;34m=\u001b[0m\u001b[0mencoding\u001b[0m\u001b[0;34m,\u001b[0m \u001b[0municode_errors\u001b[0m\u001b[0;34m=\u001b[0m\u001b[0municode_errors\u001b[0m\u001b[0;34m,\u001b[0m\u001b[0;34m\u001b[0m\u001b[0;34m\u001b[0m\u001b[0m\n\u001b[1;32m   1498\u001b[0m             limit=limit, datatype=datatype)\n",
      "\u001b[0;32m~/.local/lib/python3.8/site-packages/gensim/models/utils_any2vec.py\u001b[0m in \u001b[0;36m_load_word2vec_format\u001b[0;34m(cls, fname, fvocab, binary, encoding, unicode_errors, limit, datatype)\u001b[0m\n\u001b[1;32m    340\u001b[0m \u001b[0;34m\u001b[0m\u001b[0m\n\u001b[1;32m    341\u001b[0m     \u001b[0mlogger\u001b[0m\u001b[0;34m.\u001b[0m\u001b[0minfo\u001b[0m\u001b[0;34m(\u001b[0m\u001b[0;34m\"loading projection weights from %s\"\u001b[0m\u001b[0;34m,\u001b[0m \u001b[0mfname\u001b[0m\u001b[0;34m)\u001b[0m\u001b[0;34m\u001b[0m\u001b[0;34m\u001b[0m\u001b[0m\n\u001b[0;32m--> 342\u001b[0;31m     \u001b[0;32mwith\u001b[0m \u001b[0mutils\u001b[0m\u001b[0;34m.\u001b[0m\u001b[0mopen\u001b[0m\u001b[0;34m(\u001b[0m\u001b[0mfname\u001b[0m\u001b[0;34m,\u001b[0m \u001b[0;34m'rb'\u001b[0m\u001b[0;34m)\u001b[0m \u001b[0;32mas\u001b[0m \u001b[0mfin\u001b[0m\u001b[0;34m:\u001b[0m\u001b[0;34m\u001b[0m\u001b[0;34m\u001b[0m\u001b[0m\n\u001b[0m\u001b[1;32m    343\u001b[0m         \u001b[0mheader\u001b[0m \u001b[0;34m=\u001b[0m \u001b[0mutils\u001b[0m\u001b[0;34m.\u001b[0m\u001b[0mto_unicode\u001b[0m\u001b[0;34m(\u001b[0m\u001b[0mfin\u001b[0m\u001b[0;34m.\u001b[0m\u001b[0mreadline\u001b[0m\u001b[0;34m(\u001b[0m\u001b[0;34m)\u001b[0m\u001b[0;34m,\u001b[0m \u001b[0mencoding\u001b[0m\u001b[0;34m=\u001b[0m\u001b[0mencoding\u001b[0m\u001b[0;34m)\u001b[0m\u001b[0;34m\u001b[0m\u001b[0;34m\u001b[0m\u001b[0m\n\u001b[1;32m    344\u001b[0m         \u001b[0mvocab_size\u001b[0m\u001b[0;34m,\u001b[0m \u001b[0mvector_size\u001b[0m \u001b[0;34m=\u001b[0m \u001b[0;34m(\u001b[0m\u001b[0mint\u001b[0m\u001b[0;34m(\u001b[0m\u001b[0mx\u001b[0m\u001b[0;34m)\u001b[0m \u001b[0;32mfor\u001b[0m \u001b[0mx\u001b[0m \u001b[0;32min\u001b[0m \u001b[0mheader\u001b[0m\u001b[0;34m.\u001b[0m\u001b[0msplit\u001b[0m\u001b[0;34m(\u001b[0m\u001b[0;34m)\u001b[0m\u001b[0;34m)\u001b[0m  \u001b[0;31m# throws for invalid file format\u001b[0m\u001b[0;34m\u001b[0m\u001b[0;34m\u001b[0m\u001b[0m\n",
      "\u001b[0;32m/opt/anaconda3/lib/python3.8/site-packages/smart_open/smart_open_lib.py\u001b[0m in \u001b[0;36mopen\u001b[0;34m(uri, mode, buffering, encoding, errors, newline, closefd, opener, ignore_ext, transport_params)\u001b[0m\n\u001b[1;32m    178\u001b[0m         \u001b[0mtransport_params\u001b[0m \u001b[0;34m=\u001b[0m \u001b[0;34m{\u001b[0m\u001b[0;34m}\u001b[0m\u001b[0;34m\u001b[0m\u001b[0;34m\u001b[0m\u001b[0m\n\u001b[1;32m    179\u001b[0m \u001b[0;34m\u001b[0m\u001b[0m\n\u001b[0;32m--> 180\u001b[0;31m     fobj = _shortcut_open(\n\u001b[0m\u001b[1;32m    181\u001b[0m         \u001b[0muri\u001b[0m\u001b[0;34m,\u001b[0m\u001b[0;34m\u001b[0m\u001b[0;34m\u001b[0m\u001b[0m\n\u001b[1;32m    182\u001b[0m         \u001b[0mmode\u001b[0m\u001b[0;34m,\u001b[0m\u001b[0;34m\u001b[0m\u001b[0;34m\u001b[0m\u001b[0m\n",
      "\u001b[0;32m/opt/anaconda3/lib/python3.8/site-packages/smart_open/smart_open_lib.py\u001b[0m in \u001b[0;36m_shortcut_open\u001b[0;34m(uri, mode, ignore_ext, buffering, encoding, errors, newline)\u001b[0m\n\u001b[1;32m    285\u001b[0m         \u001b[0mopen_kwargs\u001b[0m\u001b[0;34m[\u001b[0m\u001b[0;34m'errors'\u001b[0m\u001b[0;34m]\u001b[0m \u001b[0;34m=\u001b[0m \u001b[0merrors\u001b[0m\u001b[0;34m\u001b[0m\u001b[0;34m\u001b[0m\u001b[0m\n\u001b[1;32m    286\u001b[0m \u001b[0;34m\u001b[0m\u001b[0m\n\u001b[0;32m--> 287\u001b[0;31m     \u001b[0;32mreturn\u001b[0m \u001b[0m_builtin_open\u001b[0m\u001b[0;34m(\u001b[0m\u001b[0mlocal_path\u001b[0m\u001b[0;34m,\u001b[0m \u001b[0mmode\u001b[0m\u001b[0;34m,\u001b[0m \u001b[0mbuffering\u001b[0m\u001b[0;34m=\u001b[0m\u001b[0mbuffering\u001b[0m\u001b[0;34m,\u001b[0m \u001b[0;34m**\u001b[0m\u001b[0mopen_kwargs\u001b[0m\u001b[0;34m)\u001b[0m\u001b[0;34m\u001b[0m\u001b[0;34m\u001b[0m\u001b[0m\n\u001b[0m\u001b[1;32m    288\u001b[0m \u001b[0;34m\u001b[0m\u001b[0m\n\u001b[1;32m    289\u001b[0m \u001b[0;34m\u001b[0m\u001b[0m\n",
      "\u001b[0;31mFileNotFoundError\u001b[0m: [Errno 2] No such file or directory: 'crawl-300d-2M-subword.bin'"
     ]
    }
   ],
   "source": [
    "fasttext_3_fee = loader.WE().load(fname='crawl-300d-2M-subword.bin', normalize=True)"
   ]
  },
  {
   "cell_type": "markdown",
   "id": "61d8cde5",
   "metadata": {},
   "source": [
    "# fastText wiki news\n",
    "1. fasttext wiki dim=300: 1 million word vectors trained on Wikipedia 2017, UMBC webbase corpus and statmt.org news dataset (16B tokens).\n",
    "2. fasttext wiki subwords dim=300: 1 million word vectors trained with subword infomation on Wikipedia 2017, UMBC webbase corpus and statmt.org news dataset (16B tokens)."
   ]
  },
  {
   "cell_type": "code",
   "execution_count": 4,
   "id": "42057e5f",
   "metadata": {},
   "outputs": [],
   "source": [
    "fasttext_1_fee = loader.WE().load(ename = 'fasttext-wiki-news-subwords-300', normalize=True)"
   ]
  },
  {
   "cell_type": "code",
   "execution_count": 5,
   "id": "c225fa75",
   "metadata": {
    "scrolled": false
   },
   "outputs": [
    {
     "name": "stdout",
     "output_type": "stream",
     "text": [
      "Stored 'sembias_f1' (tuple)\n"
     ]
    },
    {
     "data": {
      "text/plain": [
       "(0.925, 0.05454545454545454, 0.020454545454545454)"
      ]
     },
     "execution_count": 5,
     "metadata": {},
     "output_type": "execute_result"
    }
   ],
   "source": [
    "sembias_f1 = SemBias(fasttext_1_fee).compute()\n",
    "\n",
    "%store sembias_f1\n",
    "sembias_f1"
   ]
  },
  {
   "cell_type": "code",
   "execution_count": 30,
   "id": "e2a38a0c",
   "metadata": {
    "collapsed": true
   },
   "outputs": [
    {
     "ename": "FileNotFoundError",
     "evalue": "[Errno 2] No such file or directory: 'wiki-news-300d-1M.vec.vocab'",
     "output_type": "error",
     "traceback": [
      "\u001b[0;31m---------------------------------------------------------------------------\u001b[0m",
      "\u001b[0;31mFileNotFoundError\u001b[0m                         Traceback (most recent call last)",
      "\u001b[0;32m<ipython-input-30-4be9dbe2137e>\u001b[0m in \u001b[0;36m<module>\u001b[0;34m\u001b[0m\n\u001b[0;32m----> 1\u001b[0;31m \u001b[0mfasttext_2_fee\u001b[0m \u001b[0;34m=\u001b[0m \u001b[0mloader\u001b[0m\u001b[0;34m.\u001b[0m\u001b[0mWE\u001b[0m\u001b[0;34m(\u001b[0m\u001b[0;34m)\u001b[0m\u001b[0;34m.\u001b[0m\u001b[0mload\u001b[0m\u001b[0;34m(\u001b[0m\u001b[0mfname\u001b[0m\u001b[0;34m=\u001b[0m\u001b[0;34m'wiki-news-300d-1M.vec'\u001b[0m\u001b[0;34m,\u001b[0m \u001b[0mnormalize\u001b[0m\u001b[0;34m=\u001b[0m\u001b[0;32mTrue\u001b[0m\u001b[0;34m)\u001b[0m\u001b[0;34m\u001b[0m\u001b[0;34m\u001b[0m\u001b[0m\n\u001b[0m",
      "\u001b[0;32m~/Desktop/postgraduate/dissertation/FEE-master/fee/embedding/loader.py\u001b[0m in \u001b[0;36mload\u001b[0;34m(self, fname, format, ename, normalize, dim)\u001b[0m\n\u001b[1;32m    170\u001b[0m \u001b[0;34m\u001b[0m\u001b[0m\n\u001b[1;32m    171\u001b[0m         \u001b[0;32melse\u001b[0m\u001b[0;34m:\u001b[0m\u001b[0;34m\u001b[0m\u001b[0;34m\u001b[0m\u001b[0m\n\u001b[0;32m--> 172\u001b[0;31m             \u001b[0mwords\u001b[0m\u001b[0;34m,\u001b[0m \u001b[0mvecs\u001b[0m \u001b[0;34m=\u001b[0m \u001b[0mself\u001b[0m\u001b[0;34m.\u001b[0m\u001b[0m_load\u001b[0m\u001b[0;34m(\u001b[0m\u001b[0mfname\u001b[0m\u001b[0;34m,\u001b[0m \u001b[0mformat\u001b[0m\u001b[0;34m,\u001b[0m \u001b[0mdim\u001b[0m\u001b[0;34m)\u001b[0m\u001b[0;34m\u001b[0m\u001b[0;34m\u001b[0m\u001b[0m\n\u001b[0m\u001b[1;32m    173\u001b[0m \u001b[0;34m\u001b[0m\u001b[0m\n\u001b[1;32m    174\u001b[0m         \u001b[0mself\u001b[0m\u001b[0;34m.\u001b[0m\u001b[0mwords\u001b[0m \u001b[0;34m=\u001b[0m \u001b[0mwords\u001b[0m\u001b[0;34m\u001b[0m\u001b[0;34m\u001b[0m\u001b[0m\n",
      "\u001b[0;32m~/Desktop/postgraduate/dissertation/FEE-master/fee/embedding/loader.py\u001b[0m in \u001b[0;36m_load\u001b[0;34m(self, fname, format, dim)\u001b[0m\n\u001b[1;32m    112\u001b[0m                     \u001b[0mvecs\u001b[0m\u001b[0;34m.\u001b[0m\u001b[0mappend\u001b[0m\u001b[0;34m(\u001b[0m\u001b[0mv\u001b[0m\u001b[0;34m)\u001b[0m\u001b[0;34m\u001b[0m\u001b[0;34m\u001b[0m\u001b[0m\n\u001b[1;32m    113\u001b[0m         \u001b[0;32melse\u001b[0m\u001b[0;34m:\u001b[0m\u001b[0;34m\u001b[0m\u001b[0;34m\u001b[0m\u001b[0m\n\u001b[0;32m--> 114\u001b[0;31m             with codecs.open(fname + '.vocab', 'r', \n\u001b[0m\u001b[1;32m    115\u001b[0m                             'utf-8') as f_embed:\n\u001b[1;32m    116\u001b[0m                 \u001b[0mwords\u001b[0m \u001b[0;34m=\u001b[0m \u001b[0;34m[\u001b[0m\u001b[0mline\u001b[0m\u001b[0;34m.\u001b[0m\u001b[0mstrip\u001b[0m\u001b[0;34m(\u001b[0m\u001b[0;34m)\u001b[0m \u001b[0;32mfor\u001b[0m \u001b[0mline\u001b[0m \u001b[0;32min\u001b[0m \u001b[0mf_embed\u001b[0m\u001b[0;34m]\u001b[0m\u001b[0;34m\u001b[0m\u001b[0;34m\u001b[0m\u001b[0m\n",
      "\u001b[0;32m/opt/anaconda3/lib/python3.8/codecs.py\u001b[0m in \u001b[0;36mopen\u001b[0;34m(filename, mode, encoding, errors, buffering)\u001b[0m\n\u001b[1;32m    903\u001b[0m         \u001b[0;31m# Force opening of the file in binary mode\u001b[0m\u001b[0;34m\u001b[0m\u001b[0;34m\u001b[0m\u001b[0;34m\u001b[0m\u001b[0m\n\u001b[1;32m    904\u001b[0m         \u001b[0mmode\u001b[0m \u001b[0;34m=\u001b[0m \u001b[0mmode\u001b[0m \u001b[0;34m+\u001b[0m \u001b[0;34m'b'\u001b[0m\u001b[0;34m\u001b[0m\u001b[0;34m\u001b[0m\u001b[0m\n\u001b[0;32m--> 905\u001b[0;31m     \u001b[0mfile\u001b[0m \u001b[0;34m=\u001b[0m \u001b[0mbuiltins\u001b[0m\u001b[0;34m.\u001b[0m\u001b[0mopen\u001b[0m\u001b[0;34m(\u001b[0m\u001b[0mfilename\u001b[0m\u001b[0;34m,\u001b[0m \u001b[0mmode\u001b[0m\u001b[0;34m,\u001b[0m \u001b[0mbuffering\u001b[0m\u001b[0;34m)\u001b[0m\u001b[0;34m\u001b[0m\u001b[0;34m\u001b[0m\u001b[0m\n\u001b[0m\u001b[1;32m    906\u001b[0m     \u001b[0;32mif\u001b[0m \u001b[0mencoding\u001b[0m \u001b[0;32mis\u001b[0m \u001b[0;32mNone\u001b[0m\u001b[0;34m:\u001b[0m\u001b[0;34m\u001b[0m\u001b[0;34m\u001b[0m\u001b[0m\n\u001b[1;32m    907\u001b[0m         \u001b[0;32mreturn\u001b[0m \u001b[0mfile\u001b[0m\u001b[0;34m\u001b[0m\u001b[0;34m\u001b[0m\u001b[0m\n",
      "\u001b[0;31mFileNotFoundError\u001b[0m: [Errno 2] No such file or directory: 'wiki-news-300d-1M.vec.vocab'"
     ]
    }
   ],
   "source": [
    "fasttext_2_fee = loader.WE().load(fname='wiki-news-300d-1M.vec', normalize=True)"
   ]
  },
  {
   "cell_type": "code",
   "execution_count": null,
   "id": "b94b1b00",
   "metadata": {},
   "outputs": [],
   "source": []
  }
 ],
 "metadata": {
  "kernelspec": {
   "display_name": "p38workshop",
   "language": "python",
   "name": "p38workshop"
  },
  "language_info": {
   "codemirror_mode": {
    "name": "ipython",
    "version": 3
   },
   "file_extension": ".py",
   "mimetype": "text/x-python",
   "name": "python",
   "nbconvert_exporter": "python",
   "pygments_lexer": "ipython3",
   "version": "3.8.8"
  }
 },
 "nbformat": 4,
 "nbformat_minor": 5
}
